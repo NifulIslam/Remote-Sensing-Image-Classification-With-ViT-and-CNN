{
 "cells": [
  {
   "cell_type": "code",
   "execution_count": 1,
   "id": "e7e70885",
   "metadata": {
    "_cell_guid": "b1076dfc-b9ad-4769-8c92-a6c4dae69d19",
    "_uuid": "8f2839f25d086af736a60e9eeb907d3b93b6e0e5",
    "execution": {
     "iopub.execute_input": "2025-03-21T14:07:27.629247Z",
     "iopub.status.busy": "2025-03-21T14:07:27.628828Z",
     "iopub.status.idle": "2025-03-21T14:07:44.846468Z",
     "shell.execute_reply": "2025-03-21T14:07:44.845250Z"
    },
    "papermill": {
     "duration": 17.22614,
     "end_time": "2025-03-21T14:07:44.848926",
     "exception": false,
     "start_time": "2025-03-21T14:07:27.622786",
     "status": "completed"
    },
    "tags": []
   },
   "outputs": [
    {
     "name": "stdout",
     "output_type": "stream",
     "text": [
      "\u001b[33mWARNING: Running pip as the 'root' user can result in broken permissions and conflicting behaviour with the system package manager. It is recommended to use a virtual environment instead: https://pip.pypa.io/warnings/venv\u001b[0m\u001b[33m\r\n",
      "\u001b[0m"
     ]
    }
   ],
   "source": [
    "import numpy as np \n",
    "import pandas as pd\n",
    "import os\n",
    "import cv2\n",
    "import tensorflow\n",
    "import glob\n",
    "from matplotlib import pyplot as plt\n",
    "from tensorflow.keras.layers import Input, Lambda, Dense, Flatten,Dropout\n",
    "from tensorflow.keras.models import Model\n",
    "from tensorflow.keras.applications.inception_v3 import InceptionV3\n",
    "from tensorflow.keras.preprocessing import image\n",
    "from tensorflow.keras.preprocessing.image import ImageDataGenerator\n",
    "from tensorflow.keras.models import Sequential\n",
    "from tensorflow.keras.applications.vgg16 import VGG16\n",
    "from tensorflow.keras.applications.vgg19 import VGG19\n",
    "from tensorflow.keras.applications import EfficientNetB0\n",
    "import tensorflow as tf \n",
    "from tensorflow.keras import layers\n",
    "!pip install --quiet vit-keras\n",
    "from vit_keras import vit\n",
    "from tensorflow.keras.applications.resnet50 import ResNet50\n"
   ]
  },
  {
   "cell_type": "code",
   "execution_count": 2,
   "id": "d6c5a3dd",
   "metadata": {
    "execution": {
     "iopub.execute_input": "2025-03-21T14:07:44.858401Z",
     "iopub.status.busy": "2025-03-21T14:07:44.857544Z",
     "iopub.status.idle": "2025-03-21T14:07:45.331398Z",
     "shell.execute_reply": "2025-03-21T14:07:45.330701Z"
    },
    "papermill": {
     "duration": 0.480631,
     "end_time": "2025-03-21T14:07:45.333483",
     "exception": false,
     "start_time": "2025-03-21T14:07:44.852852",
     "status": "completed"
    },
    "tags": []
   },
   "outputs": [],
   "source": [
    "import tensorflow_hub as hub"
   ]
  },
  {
   "cell_type": "code",
   "execution_count": 3,
   "id": "80245d26",
   "metadata": {
    "execution": {
     "iopub.execute_input": "2025-03-21T14:07:45.342219Z",
     "iopub.status.busy": "2025-03-21T14:07:45.341571Z",
     "iopub.status.idle": "2025-03-21T14:07:45.345329Z",
     "shell.execute_reply": "2025-03-21T14:07:45.344526Z"
    },
    "papermill": {
     "duration": 0.00985,
     "end_time": "2025-03-21T14:07:45.346978",
     "exception": false,
     "start_time": "2025-03-21T14:07:45.337128",
     "status": "completed"
    },
    "tags": []
   },
   "outputs": [],
   "source": [
    "# ucm\n",
    "# test_data=pd.read_csv(\"/kaggle/input/satelite-images/Images/test.csv\")\n",
    "# test_data['File']=test_data['File'].apply(lambda x : '/kaggle/input/satelite-images/Images/'+x)\n",
    "# links=[\n",
    "#     \"/kaggle/input/ucm-1-vit-1-cnn-models/1vit1cnn.h5\",\n",
    "#     \"/kaggle/input/ucm-1-vit-1-cnn-models/1vit1cnndensenet.h5\",\n",
    "#     \"/kaggle/input/ucm-1-vit-1-cnn-models/1vit1cnniresnet.h5\",\n",
    "#     \"/kaggle/input/ucm-1-vit-1-cnn-models/1vit1cnnxception.h5\"\n",
    "# ]"
   ]
  },
  {
   "cell_type": "code",
   "execution_count": 4,
   "id": "032c48e5",
   "metadata": {
    "execution": {
     "iopub.execute_input": "2025-03-21T14:07:45.355001Z",
     "iopub.status.busy": "2025-03-21T14:07:45.354440Z",
     "iopub.status.idle": "2025-03-21T14:07:45.358028Z",
     "shell.execute_reply": "2025-03-21T14:07:45.357277Z"
    },
    "papermill": {
     "duration": 0.00936,
     "end_time": "2025-03-21T14:07:45.359737",
     "exception": false,
     "start_time": "2025-03-21T14:07:45.350377",
     "status": "completed"
    },
    "tags": []
   },
   "outputs": [],
   "source": [
    "# rsscn7\n",
    "# test_data=pd.read_csv(\"/kaggle/input/rsscn7-dataset/gamma-correct/test.csv\")\n",
    "# test_data['File']=test_data['File'].apply(lambda x : '/kaggle/input/rsscn7-dataset/gamma-correct/'+x)\n",
    "# links=[\n",
    "#     \"/kaggle/input/rsscn7-models-1-vit-1-cnn/1vit1cnn.h5\",\n",
    "#     \"/kaggle/input/rsscn7-models-1-vit-1-cnn/1vit1cnndensenet.h5\",\n",
    "#     \"/kaggle/input/rsscn7-models-1-vit-1-cnn/1vit1cnniresnet.h5\",\n",
    "#     \"/kaggle/input/rsscn7-models-1-vit-1-cnn/1vit1cnnxception.h5\"\n",
    "# ]"
   ]
  },
  {
   "cell_type": "code",
   "execution_count": 5,
   "id": "250977ee",
   "metadata": {
    "execution": {
     "iopub.execute_input": "2025-03-21T14:07:45.367393Z",
     "iopub.status.busy": "2025-03-21T14:07:45.367166Z",
     "iopub.status.idle": "2025-03-21T14:07:45.402327Z",
     "shell.execute_reply": "2025-03-21T14:07:45.401680Z"
    },
    "papermill": {
     "duration": 0.041031,
     "end_time": "2025-03-21T14:07:45.404145",
     "exception": false,
     "start_time": "2025-03-21T14:07:45.363114",
     "status": "completed"
    },
    "tags": []
   },
   "outputs": [],
   "source": [
    "test_data=pd.read_csv(\"/kaggle/input/msrsi-dataset/MSRSI/test_df.csv\")\n",
    "test_data['File']=test_data['File'].apply(lambda x : '/kaggle/input/msrsi-dataset/MSRSI/'+x)\n",
    "links=[\n",
    "    \"/kaggle/input/msris-dataset-models/1vit1cnndensenet.h5\",\n",
    "    \"/kaggle/input/msris-dataset-models/1vit1cnniresnet.h5\",\n",
    "    \"/kaggle/input/msris-dataset-models/1vit1cnnresnet152v2.h5\",\n",
    "    \"/kaggle/input/msris-dataset-models/1vit1cnnxception.h5\"\n",
    "]"
   ]
  },
  {
   "cell_type": "code",
   "execution_count": 6,
   "id": "debb276b",
   "metadata": {
    "execution": {
     "iopub.execute_input": "2025-03-21T14:07:45.413215Z",
     "iopub.status.busy": "2025-03-21T14:07:45.412635Z",
     "iopub.status.idle": "2025-03-21T14:07:45.416329Z",
     "shell.execute_reply": "2025-03-21T14:07:45.415505Z"
    },
    "papermill": {
     "duration": 0.010334,
     "end_time": "2025-03-21T14:07:45.417996",
     "exception": false,
     "start_time": "2025-03-21T14:07:45.407662",
     "status": "completed"
    },
    "tags": []
   },
   "outputs": [],
   "source": [
    "SIZE=448\n",
    "size = [SIZE, SIZE ,3]"
   ]
  },
  {
   "cell_type": "code",
   "execution_count": 7,
   "id": "2bd10bcd",
   "metadata": {
    "execution": {
     "iopub.execute_input": "2025-03-21T14:07:45.426262Z",
     "iopub.status.busy": "2025-03-21T14:07:45.425620Z",
     "iopub.status.idle": "2025-03-21T14:08:07.029714Z",
     "shell.execute_reply": "2025-03-21T14:08:07.028690Z"
    },
    "papermill": {
     "duration": 21.61028,
     "end_time": "2025-03-21T14:08:07.031728",
     "exception": false,
     "start_time": "2025-03-21T14:07:45.421448",
     "status": "completed"
    },
    "tags": []
   },
   "outputs": [
    {
     "name": "stdout",
     "output_type": "stream",
     "text": [
      "Found 6000 validated image filenames belonging to 15 classes.\n"
     ]
    }
   ],
   "source": [
    "test_generator = tf.keras.preprocessing.image.ImageDataGenerator(\n",
    "    rescale=1./255,\n",
    ")\n",
    "batch_size=16\n",
    "test_images = test_generator.flow_from_dataframe(\n",
    "    dataframe=test_data,\n",
    "    x_col='File',\n",
    "    y_col='class_',\n",
    "    target_size=(SIZE, SIZE),\n",
    "    color_mode='rgb',\n",
    "    class_mode='categorical',\n",
    "    batch_size=batch_size,\n",
    "    shuffle=False\n",
    ")"
   ]
  },
  {
   "cell_type": "code",
   "execution_count": 8,
   "id": "f401d75c",
   "metadata": {
    "execution": {
     "iopub.execute_input": "2025-03-21T14:08:07.040478Z",
     "iopub.status.busy": "2025-03-21T14:08:07.040184Z",
     "iopub.status.idle": "2025-03-21T14:08:07.044924Z",
     "shell.execute_reply": "2025-03-21T14:08:07.044213Z"
    },
    "papermill": {
     "duration": 0.011364,
     "end_time": "2025-03-21T14:08:07.046758",
     "exception": false,
     "start_time": "2025-03-21T14:08:07.035394",
     "status": "completed"
    },
    "tags": []
   },
   "outputs": [],
   "source": [
    "def prediction_generator(test_images):\n",
    "    k=0\n",
    "    for x in test_images:\n",
    "        k+=len(x[1])\n",
    "        yield [x[0],x[0]], x[1]\n",
    "        if(k>=test_images.n):\n",
    "            break\n"
   ]
  },
  {
   "cell_type": "code",
   "execution_count": 9,
   "id": "4193d006",
   "metadata": {
    "execution": {
     "iopub.execute_input": "2025-03-21T14:08:07.054829Z",
     "iopub.status.busy": "2025-03-21T14:08:07.054571Z",
     "iopub.status.idle": "2025-03-21T14:08:07.058323Z",
     "shell.execute_reply": "2025-03-21T14:08:07.057600Z"
    },
    "papermill": {
     "duration": 0.009627,
     "end_time": "2025-03-21T14:08:07.059993",
     "exception": false,
     "start_time": "2025-03-21T14:08:07.050366",
     "status": "completed"
    },
    "tags": []
   },
   "outputs": [],
   "source": [
    "models=[]\n",
    "predictions = []"
   ]
  },
  {
   "cell_type": "code",
   "execution_count": 10,
   "id": "e49288a6",
   "metadata": {
    "execution": {
     "iopub.execute_input": "2025-03-21T14:08:07.070264Z",
     "iopub.status.busy": "2025-03-21T14:08:07.069894Z",
     "iopub.status.idle": "2025-03-21T14:08:07.077771Z",
     "shell.execute_reply": "2025-03-21T14:08:07.076712Z"
    },
    "papermill": {
     "duration": 0.015326,
     "end_time": "2025-03-21T14:08:07.079569",
     "exception": false,
     "start_time": "2025-03-21T14:08:07.064243",
     "status": "completed"
    },
    "tags": []
   },
   "outputs": [],
   "source": [
    "def soft_vote(links):\n",
    "    global models\n",
    "    global predictions\n",
    "    global test_images\n",
    "    if(len(models)==0):\n",
    "        for i in links:\n",
    "            models.append(tf.keras.models.load_model(i,custom_objects={'KerasLayer':hub.KerasLayer}, compile=False))\n",
    "    \n",
    "    if(len(predictions)==0):\n",
    "        for model in models:\n",
    "            predictions.append(model.predict(prediction_generator(test_images)))\n",
    "\n",
    "    # Calculate average probability across all models for each class\n",
    "    ensemble_predictions = np.mean(predictions, axis=0)\n",
    "\n",
    "    # Convert to class labels\n",
    "    class_labels = np.argmax(ensemble_predictions, axis=1)\n",
    "    return class_labels, ensemble_predictions"
   ]
  },
  {
   "cell_type": "code",
   "execution_count": 11,
   "id": "2627b86b",
   "metadata": {
    "execution": {
     "iopub.execute_input": "2025-03-21T14:08:07.088076Z",
     "iopub.status.busy": "2025-03-21T14:08:07.087488Z",
     "iopub.status.idle": "2025-03-21T14:18:16.268433Z",
     "shell.execute_reply": "2025-03-21T14:18:16.267427Z"
    },
    "papermill": {
     "duration": 609.190985,
     "end_time": "2025-03-21T14:18:16.274157",
     "exception": false,
     "start_time": "2025-03-21T14:08:07.083172",
     "status": "completed"
    },
    "tags": []
   },
   "outputs": [
    {
     "data": {
      "text/plain": [
       "0.9545"
      ]
     },
     "execution_count": 11,
     "metadata": {},
     "output_type": "execute_result"
    }
   ],
   "source": [
    "y_pred,proba=soft_vote(links)\n",
    "from sklearn.metrics import accuracy_score\n",
    "y_test=test_images.labels\n",
    "accuracy_score(y_test,y_pred)"
   ]
  },
  {
   "cell_type": "code",
   "execution_count": 12,
   "id": "659bd361",
   "metadata": {
    "execution": {
     "iopub.execute_input": "2025-03-21T14:18:16.282294Z",
     "iopub.status.busy": "2025-03-21T14:18:16.281973Z",
     "iopub.status.idle": "2025-03-21T14:18:16.311864Z",
     "shell.execute_reply": "2025-03-21T14:18:16.311115Z"
    },
    "papermill": {
     "duration": 0.036008,
     "end_time": "2025-03-21T14:18:16.313649",
     "exception": false,
     "start_time": "2025-03-21T14:18:16.277641",
     "status": "completed"
    },
    "tags": []
   },
   "outputs": [
    {
     "name": "stdout",
     "output_type": "stream",
     "text": [
      "acc:  0.9545\n",
      "preci:  0.9548633333333334\n",
      "recall:  0.9545\n",
      "f1:  0.9544574142171272\n",
      "mcc:  0.9512822195684261\n"
     ]
    }
   ],
   "source": [
    "from sklearn.metrics import accuracy_score,precision_score,recall_score,f1_score,matthews_corrcoef\n",
    "# proba=model.predict(prediction_generator(test_images))\n",
    "predicted =  y_pred #np.argmax(proba,axis=1)\n",
    "true=y_test # test_images.labels\n",
    "print(\"acc: \", accuracy_score(predicted, true))\n",
    "print(\"preci: \", precision_score(predicted, true,average='weighted'))\n",
    "print(\"recall: \", recall_score(predicted, true,average='weighted'))\n",
    "print(\"f1: \", f1_score(predicted, true,average='weighted'))\n",
    "print(\"mcc: \", matthews_corrcoef(predicted, true))\n"
   ]
  },
  {
   "cell_type": "code",
   "execution_count": 13,
   "id": "98c4ee58",
   "metadata": {
    "execution": {
     "iopub.execute_input": "2025-03-21T14:18:16.322152Z",
     "iopub.status.busy": "2025-03-21T14:18:16.321542Z",
     "iopub.status.idle": "2025-03-21T14:18:17.729237Z",
     "shell.execute_reply": "2025-03-21T14:18:17.728347Z"
    },
    "papermill": {
     "duration": 1.414762,
     "end_time": "2025-03-21T14:18:17.731947",
     "exception": false,
     "start_time": "2025-03-21T14:18:16.317185",
     "status": "completed"
    },
    "tags": []
   },
   "outputs": [
    {
     "data": {
      "image/png": "[encoded data removed]",
      "text/plain": [
       "<Figure size 432x360 with 2 Axes>"
      ]
     },
     "metadata": {
      "needs_background": "light"
     },
     "output_type": "display_data"
    }
   ],
   "source": [
    "from sklearn.metrics import confusion_matrix\n",
    "import seaborn as sns\n",
    "import matplotlib.pyplot as plt\n",
    "import numpy as np\n",
    "\n",
    "class_ = test_images.class_indices.keys()\n",
    "cm = confusion_matrix(true, predicted)\n",
    "\n",
    "fig = plt.figure(figsize=(6, 5))\n",
    "ax = plt.subplot()\n",
    "\n",
    "sns.heatmap(cm, annot=True, fmt='d', ax=ax, cmap=\"Blues\")  # Correct format to integers\n",
    "ax.set_xlabel('Predicted', fontsize=20)\n",
    "ax.xaxis.set_label_position('bottom')\n",
    "plt.xticks(rotation=90)\n",
    "ax.xaxis.set_ticklabels(class_, fontsize=10)\n",
    "ax.xaxis.tick_bottom()\n",
    "\n",
    "ax.set_ylabel('True', fontsize=20)\n",
    "ax.yaxis.set_ticklabels(class_, fontsize=10)\n",
    "plt.yticks(rotation=0)\n",
    "\n",
    "plt.title('', fontsize=60)\n",
    "\n",
    "plt.savefig('ConMat24.png')\n",
    "plt.show()"
   ]
  },
  {
   "cell_type": "code",
   "execution_count": 14,
   "id": "e137a616",
   "metadata": {
    "execution": {
     "iopub.execute_input": "2025-03-21T14:18:17.742048Z",
     "iopub.status.busy": "2025-03-21T14:18:17.741734Z",
     "iopub.status.idle": "2025-03-21T14:18:18.065137Z",
     "shell.execute_reply": "2025-03-21T14:18:18.064160Z"
    },
    "papermill": {
     "duration": 0.33067,
     "end_time": "2025-03-21T14:18:18.067293",
     "exception": false,
     "start_time": "2025-03-21T14:18:17.736623",
     "status": "completed"
    },
    "tags": []
   },
   "outputs": [
    {
     "data": {
      "image/png": "[encoded data removed]",
      "text/plain": [
       "<Figure size 504x504 with 1 Axes>"
      ]
     },
     "metadata": {
      "needs_background": "light"
     },
     "output_type": "display_data"
    }
   ],
   "source": [
    "from sklearn.metrics import roc_curve, roc_auc_score\n",
    "from matplotlib import cm\n",
    "n=len(true)\n",
    "dim=max(true)+1\n",
    "result=[]\n",
    "for i in true:\n",
    "    result.append([0 for i in range(dim)])\n",
    "    result[len(result)-1][i]=1\n",
    "    \n",
    "    \n",
    "fpr = dict()\n",
    "tpr = dict()\n",
    "roc_auc = dict()\n",
    "n_classes =len(test_images.class_indices.keys())\n",
    "y_test=np.array(result)\n",
    "y_pred=np.array(proba)\n",
    "fpr = dict()\n",
    "tpr = dict()\n",
    "roc_auc = dict()\n",
    "\n",
    "rev={}\n",
    "for i in class_:\n",
    "    rev[test_images.class_indices[i]]=i\n",
    "\n",
    "\n",
    "for i in range(n_classes):\n",
    "    fpr[i], tpr[i], _ = roc_curve(y_test[:, i], y_pred[:, i])\n",
    "    roc_auc[i] = roc_auc_score(y_test[:, i], y_pred[:, i])\n",
    "\n",
    "\n",
    "fpr[\"micro\"], tpr[\"micro\"], _ = roc_curve(y_test.ravel(), y_pred.ravel())\n",
    "roc_auc[\"micro\"] = roc_auc_score(y_test, y_pred, multi_class='ovr')\n",
    "\n",
    "\n",
    "cmap = cm.get_cmap('tab10')\n",
    "\n",
    "# Plot the ROC curve for each class and micro-average with automatic color selection\n",
    "plt.figure(figsize=(7,7))\n",
    "lw = 2\n",
    "for i in range(n_classes):\n",
    "    color = cmap(i)\n",
    "    plt.plot(fpr[i], tpr[i], color=color, lw=lw,\n",
    "             label='{0} (area = {1:0.2f})'\n",
    "             ''.format(rev[i], roc_auc[i]))\n",
    "\n",
    "plt.plot(fpr[\"micro\"], tpr[\"micro\"],\n",
    "         label='micro-average ROC curve (area = {0:0.2f})'\n",
    "         ''.format(roc_auc[\"micro\"]),\n",
    "         color=cmap(n_classes), linestyle=':', linewidth=3)\n",
    "\n",
    "plt.plot([0, 1], [0, 1], 'k--', lw=lw)\n",
    "plt.xlim([0.0, 1.0])\n",
    "plt.ylim([0.0, 1.05])\n",
    "plt.xlabel('False Positive Rate')\n",
    "plt.ylabel('True Positive Rate')\n",
    "plt.title('ROC Curve')\n",
    "plt.legend(loc=\"lower right\")\n",
    "plt.show()\n"
   ]
  },
  {
   "cell_type": "code",
   "execution_count": 15,
   "id": "124c980f",
   "metadata": {
    "execution": {
     "iopub.execute_input": "2025-03-21T14:18:18.078861Z",
     "iopub.status.busy": "2025-03-21T14:18:18.078575Z",
     "iopub.status.idle": "2025-03-21T14:18:18.084323Z",
     "shell.execute_reply": "2025-03-21T14:18:18.083539Z"
    },
    "papermill": {
     "duration": 0.013667,
     "end_time": "2025-03-21T14:18:18.086194",
     "exception": false,
     "start_time": "2025-03-21T14:18:18.072527",
     "status": "completed"
    },
    "tags": []
   },
   "outputs": [],
   "source": [
    "def perf_measure(y_actual, y_hat):\n",
    "    TP = 0\n",
    "    FP = 0\n",
    "    TN = 0\n",
    "    FN = 0\n",
    "\n",
    "    for i in range(len(y_hat)): \n",
    "        if y_actual[i]==y_hat[i]==1:\n",
    "           TP += 1\n",
    "        if y_hat[i]==1 and y_actual[i]!=y_hat[i]:\n",
    "           FP += 1\n",
    "        if y_actual[i]==y_hat[i]==0:\n",
    "           TN += 1\n",
    "        if y_hat[i]==0 and y_actual[i]!=y_hat[i]:\n",
    "           FN += 1\n",
    "\n",
    "    return(TP, FP, TN, FN)\n"
   ]
  },
  {
   "cell_type": "code",
   "execution_count": 16,
   "id": "7f785303",
   "metadata": {
    "execution": {
     "iopub.execute_input": "2025-03-21T14:18:18.097255Z",
     "iopub.status.busy": "2025-03-21T14:18:18.096961Z",
     "iopub.status.idle": "2025-03-21T14:18:18.109608Z",
     "shell.execute_reply": "2025-03-21T14:18:18.108904Z"
    },
    "papermill": {
     "duration": 0.020143,
     "end_time": "2025-03-21T14:18:18.111332",
     "exception": false,
     "start_time": "2025-03-21T14:18:18.091189",
     "status": "completed"
    },
    "tags": []
   },
   "outputs": [],
   "source": [
    "TP,FP,TN,FN=perf_measure(true,predicted)\n",
    "# Sensitivity, hit rate, recall, or true positive rate\n",
    "TPR = TP/(TP+FN)\n",
    "# Specificity or true negative rate\n",
    "TNR = TN/(TN+FP) \n",
    "# Precision or positive predictive value\n",
    "PPV = TP/(TP+FP)\n",
    "# Negative predictive value\n",
    "NPV = TN/(TN+FN)\n",
    "# Fall out or false positive rate\n",
    "FPR = FP/(FP+TN)\n",
    "# False negative rate\n",
    "FNR = FN/(TP+FN)\n",
    "# False discovery rate\n",
    "FDR = FP/(TP+FP)"
   ]
  },
  {
   "cell_type": "code",
   "execution_count": 17,
   "id": "a8d7705c",
   "metadata": {
    "execution": {
     "iopub.execute_input": "2025-03-21T14:18:18.122491Z",
     "iopub.status.busy": "2025-03-21T14:18:18.122253Z",
     "iopub.status.idle": "2025-03-21T14:18:18.126615Z",
     "shell.execute_reply": "2025-03-21T14:18:18.125918Z"
    },
    "papermill": {
     "duration": 0.012414,
     "end_time": "2025-03-21T14:18:18.128763",
     "exception": false,
     "start_time": "2025-03-21T14:18:18.116349",
     "status": "completed"
    },
    "tags": []
   },
   "outputs": [
    {
     "name": "stdout",
     "output_type": "stream",
     "text": [
      "true positive rate 0.979746835443038\n",
      "true negative rate 0.95822454308094\n",
      "Positive predictive value 0.9602977667493796\n",
      "negative predictive value 0.9786666666666667\n",
      "false positive rate 0.04177545691906005\n",
      "false negative rate 0.020253164556962026\n",
      "false discovery rate 0.03970223325062035\n"
     ]
    }
   ],
   "source": [
    "print('true positive rate',TPR)\n",
    "print('true negative rate',TNR)\n",
    "print('Positive predictive value',PPV)\n",
    "print('negative predictive value',NPV)\n",
    "print('false positive rate',FPR)\n",
    "print('false negative rate',FNR)\n",
    "print('false discovery rate',FDR)"
   ]
  }
 ],
 "metadata": {
  "kaggle": {
   "accelerator": "gpu",
   "dataSources": [
    {
     "datasetId": 2841105,
     "sourceId": 4899227,
     "sourceType": "datasetVersion"
    },
    {
     "datasetId": 2841304,
     "sourceId": 4899600,
     "sourceType": "datasetVersion"
    },
    {
     "datasetId": 2844591,
     "sourceId": 4904915,
     "sourceType": "datasetVersion"
    },
    {
     "datasetId": 2848220,
     "sourceId": 4911058,
     "sourceType": "datasetVersion"
    },
    {
     "datasetId": 2877334,
     "sourceId": 4961222,
     "sourceType": "datasetVersion"
    },
    {
     "datasetId": 2882046,
     "sourceId": 4969159,
     "sourceType": "datasetVersion"
    },
    {
     "datasetId": 2925875,
     "sourceId": 5040545,
     "sourceType": "datasetVersion"
    },
    {
     "datasetId": 2841086,
     "sourceId": 5146843,
     "sourceType": "datasetVersion"
    },
    {
     "datasetId": 6920708,
     "sourceId": 11101777,
     "sourceType": "datasetVersion"
    },
    {
     "datasetId": 6931328,
     "sourceId": 11116395,
     "sourceType": "datasetVersion"
    }
   ],
   "dockerImageVersionId": 30369,
   "isGpuEnabled": true,
   "isInternetEnabled": true,
   "language": "python",
   "sourceType": "notebook"
  },
  "kernelspec": {
   "display_name": "Python 3",
   "language": "python",
   "name": "python3"
  },
  "language_info": {
   "codemirror_mode": {
    "name": "ipython",
    "version": 3
   },
   "file_extension": ".py",
   "mimetype": "text/x-python",
   "name": "python",
   "nbconvert_exporter": "python",
   "pygments_lexer": "ipython3",
   "version": "3.7.12"
  },
  "papermill": {
   "default_parameters": {},
   "duration": 661.587386,
   "end_time": "2025-03-21T14:18:21.778841",
   "environment_variables": {},
   "exception": null,
   "input_path": "__notebook__.ipynb",
   "output_path": "__notebook__.ipynb",
   "parameters": {},
   "start_time": "2025-03-21T14:07:20.191455",
   "version": "2.3.4"
  }
 },
 "nbformat": 4,
 "nbformat_minor": 5
}
