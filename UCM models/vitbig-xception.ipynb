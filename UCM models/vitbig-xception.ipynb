{
 "cells": [
  {
   "cell_type": "markdown",
   "id": "b11666c1",
   "metadata": {
    "papermill": {
     "duration": 0.009621,
     "end_time": "2023-04-09T13:16:06.374124",
     "exception": false,
     "start_time": "2023-04-09T13:16:06.364503",
     "status": "completed"
    },
    "tags": []
   },
   "source": [
    "# basic imports"
   ]
  },
  {
   "cell_type": "code",
   "execution_count": 1,
   "id": "fd5123c2",
   "metadata": {
    "_cell_guid": "b1076dfc-b9ad-4769-8c92-a6c4dae69d19",
    "_uuid": "8f2839f25d086af736a60e9eeb907d3b93b6e0e5",
    "execution": {
     "iopub.execute_input": "2023-04-09T13:16:06.393230Z",
     "iopub.status.busy": "2023-04-09T13:16:06.392737Z",
     "iopub.status.idle": "2023-04-09T13:16:23.848835Z",
     "shell.execute_reply": "2023-04-09T13:16:23.847637Z"
    },
    "papermill": {
     "duration": 17.46886,
     "end_time": "2023-04-09T13:16:23.851811",
     "exception": false,
     "start_time": "2023-04-09T13:16:06.382951",
     "status": "completed"
    },
    "tags": []
   },
   "outputs": [
    {
     "name": "stdout",
     "output_type": "stream",
     "text": [
      "\u001b[33mWARNING: Running pip as the 'root' user can result in broken permissions and conflicting behaviour with the system package manager. It is recommended to use a virtual environment instead: https://pip.pypa.io/warnings/venv\u001b[0m\u001b[33m\r\n",
      "\u001b[0m"
     ]
    }
   ],
   "source": [
    "import numpy as np \n",
    "import pandas as pd\n",
    "import os\n",
    "import cv2\n",
    "import tensorflow\n",
    "import glob\n",
    "from matplotlib import pyplot as plt\n",
    "from tensorflow.keras.layers import Input, Lambda, Dense, Flatten,Dropout\n",
    "from tensorflow.keras.models import Model\n",
    "from tensorflow.keras.applications.inception_v3 import InceptionV3\n",
    "from tensorflow.keras.preprocessing import image\n",
    "from tensorflow.keras.preprocessing.image import ImageDataGenerator\n",
    "from tensorflow.keras.models import Sequential\n",
    "from tensorflow.keras.applications.vgg16 import VGG16\n",
    "from tensorflow.keras.applications.vgg19 import VGG19\n",
    "from tensorflow.keras.applications import EfficientNetB0\n",
    "import tensorflow as tf \n",
    "from tensorflow.keras import layers\n",
    "!pip install --quiet vit-keras\n",
    "from vit_keras import vit\n",
    "from tensorflow.keras.applications.resnet50 import ResNet50"
   ]
  },
  {
   "cell_type": "markdown",
   "id": "c730ce4a",
   "metadata": {
    "papermill": {
     "duration": 0.008317,
     "end_time": "2023-04-09T13:16:23.868980",
     "exception": false,
     "start_time": "2023-04-09T13:16:23.860663",
     "status": "completed"
    },
    "tags": []
   },
   "source": [
    "# Reading Data"
   ]
  },
  {
   "cell_type": "code",
   "execution_count": 2,
   "id": "a71f3b93",
   "metadata": {
    "execution": {
     "iopub.execute_input": "2023-04-09T13:16:23.889255Z",
     "iopub.status.busy": "2023-04-09T13:16:23.888372Z",
     "iopub.status.idle": "2023-04-09T13:16:23.921021Z",
     "shell.execute_reply": "2023-04-09T13:16:23.920154Z"
    },
    "papermill": {
     "duration": 0.044317,
     "end_time": "2023-04-09T13:16:23.922961",
     "exception": false,
     "start_time": "2023-04-09T13:16:23.878644",
     "status": "completed"
    },
    "tags": []
   },
   "outputs": [],
   "source": [
    "#ucm\n",
    "train_data=pd.read_csv(\"/kaggle/input/satelite-csv/train.csv\")\n",
    "train_data['File']=train_data['File'].apply(lambda x : '/kaggle/input/satelite-images/Images/'+x)\n",
    "test_data=pd.read_csv(\"/kaggle/input/satelite-csv/test.csv\")\n",
    "test_data['File']=test_data['File'].apply(lambda x : '/kaggle/input/satelite-images/Images/'+x)"
   ]
  },
  {
   "cell_type": "code",
   "execution_count": 3,
   "id": "ad05c157",
   "metadata": {
    "execution": {
     "iopub.execute_input": "2023-04-09T13:16:23.941971Z",
     "iopub.status.busy": "2023-04-09T13:16:23.941186Z",
     "iopub.status.idle": "2023-04-09T13:16:23.945262Z",
     "shell.execute_reply": "2023-04-09T13:16:23.944334Z"
    },
    "papermill": {
     "duration": 0.015941,
     "end_time": "2023-04-09T13:16:23.947494",
     "exception": false,
     "start_time": "2023-04-09T13:16:23.931553",
     "status": "completed"
    },
    "tags": []
   },
   "outputs": [],
   "source": [
    "# rsscn7\n",
    "# train_data=pd.read_csv(\"/kaggle/input/rsscn7-dataset/gamma-correct/train.csv\")\n",
    "# train_data['File']=train_data['File'].apply(lambda x : '/kaggle/input/rsscn7-dataset/gamma-correct/'+x)\n",
    "# test_data=pd.read_csv(\"/kaggle/input/rsscn7-dataset/gamma-correct/test.csv\")\n",
    "# test_data['File']=test_data['File'].apply(lambda x : '/kaggle/input/rsscn7-dataset/gamma-correct/'+x)"
   ]
  },
  {
   "cell_type": "code",
   "execution_count": 4,
   "id": "65776265",
   "metadata": {
    "execution": {
     "iopub.execute_input": "2023-04-09T13:16:23.965910Z",
     "iopub.status.busy": "2023-04-09T13:16:23.965080Z",
     "iopub.status.idle": "2023-04-09T13:16:23.983783Z",
     "shell.execute_reply": "2023-04-09T13:16:23.982893Z"
    },
    "papermill": {
     "duration": 0.029858,
     "end_time": "2023-04-09T13:16:23.985806",
     "exception": false,
     "start_time": "2023-04-09T13:16:23.955948",
     "status": "completed"
    },
    "tags": []
   },
   "outputs": [
    {
     "data": {
      "text/html": [
       "<div>\n",
       "<style scoped>\n",
       "    .dataframe tbody tr th:only-of-type {\n",
       "        vertical-align: middle;\n",
       "    }\n",
       "\n",
       "    .dataframe tbody tr th {\n",
       "        vertical-align: top;\n",
       "    }\n",
       "\n",
       "    .dataframe thead th {\n",
       "        text-align: right;\n",
       "    }\n",
       "</style>\n",
       "<table border=\"1\" class=\"dataframe\">\n",
       "  <thead>\n",
       "    <tr style=\"text-align: right;\">\n",
       "      <th></th>\n",
       "      <th>File</th>\n",
       "      <th>class_</th>\n",
       "    </tr>\n",
       "  </thead>\n",
       "  <tbody>\n",
       "    <tr>\n",
       "      <th>1259</th>\n",
       "      <td>/kaggle/input/satelite-images/Images/freeway/f...</td>\n",
       "      <td>freeway</td>\n",
       "    </tr>\n",
       "    <tr>\n",
       "      <th>1399</th>\n",
       "      <td>/kaggle/input/satelite-images/Images/runway/ru...</td>\n",
       "      <td>runway</td>\n",
       "    </tr>\n",
       "    <tr>\n",
       "      <th>1252</th>\n",
       "      <td>/kaggle/input/satelite-images/Images/mediumres...</td>\n",
       "      <td>mediumresidential</td>\n",
       "    </tr>\n",
       "    <tr>\n",
       "      <th>489</th>\n",
       "      <td>/kaggle/input/satelite-images/Images/forest/fo...</td>\n",
       "      <td>forest</td>\n",
       "    </tr>\n",
       "    <tr>\n",
       "      <th>1005</th>\n",
       "      <td>/kaggle/input/satelite-images/Images/river/riv...</td>\n",
       "      <td>river</td>\n",
       "    </tr>\n",
       "    <tr>\n",
       "      <th>...</th>\n",
       "      <td>...</td>\n",
       "      <td>...</td>\n",
       "    </tr>\n",
       "    <tr>\n",
       "      <th>618</th>\n",
       "      <td>/kaggle/input/satelite-images/Images/mediumres...</td>\n",
       "      <td>mediumresidential</td>\n",
       "    </tr>\n",
       "    <tr>\n",
       "      <th>269</th>\n",
       "      <td>/kaggle/input/satelite-images/Images/baseballd...</td>\n",
       "      <td>baseballdiamond</td>\n",
       "    </tr>\n",
       "    <tr>\n",
       "      <th>1340</th>\n",
       "      <td>/kaggle/input/satelite-images/Images/intersect...</td>\n",
       "      <td>intersection</td>\n",
       "    </tr>\n",
       "    <tr>\n",
       "      <th>382</th>\n",
       "      <td>/kaggle/input/satelite-images/Images/agricultu...</td>\n",
       "      <td>agricultural</td>\n",
       "    </tr>\n",
       "    <tr>\n",
       "      <th>1639</th>\n",
       "      <td>/kaggle/input/satelite-images/Images/chaparral...</td>\n",
       "      <td>chaparral</td>\n",
       "    </tr>\n",
       "  </tbody>\n",
       "</table>\n",
       "<p>1680 rows × 2 columns</p>\n",
       "</div>"
      ],
      "text/plain": [
       "                                                   File             class_\n",
       "1259  /kaggle/input/satelite-images/Images/freeway/f...            freeway\n",
       "1399  /kaggle/input/satelite-images/Images/runway/ru...             runway\n",
       "1252  /kaggle/input/satelite-images/Images/mediumres...  mediumresidential\n",
       "489   /kaggle/input/satelite-images/Images/forest/fo...             forest\n",
       "1005  /kaggle/input/satelite-images/Images/river/riv...              river\n",
       "...                                                 ...                ...\n",
       "618   /kaggle/input/satelite-images/Images/mediumres...  mediumresidential\n",
       "269   /kaggle/input/satelite-images/Images/baseballd...    baseballdiamond\n",
       "1340  /kaggle/input/satelite-images/Images/intersect...       intersection\n",
       "382   /kaggle/input/satelite-images/Images/agricultu...       agricultural\n",
       "1639  /kaggle/input/satelite-images/Images/chaparral...          chaparral\n",
       "\n",
       "[1680 rows x 2 columns]"
      ]
     },
     "execution_count": 4,
     "metadata": {},
     "output_type": "execute_result"
    }
   ],
   "source": [
    "train_data=train_data.sample(frac=1)\n",
    "train_data"
   ]
  },
  {
   "cell_type": "code",
   "execution_count": 5,
   "id": "c9c9f011",
   "metadata": {
    "execution": {
     "iopub.execute_input": "2023-04-09T13:16:24.004746Z",
     "iopub.status.busy": "2023-04-09T13:16:24.003979Z",
     "iopub.status.idle": "2023-04-09T13:16:24.008570Z",
     "shell.execute_reply": "2023-04-09T13:16:24.007716Z"
    },
    "papermill": {
     "duration": 0.01617,
     "end_time": "2023-04-09T13:16:24.010712",
     "exception": false,
     "start_time": "2023-04-09T13:16:23.994542",
     "status": "completed"
    },
    "tags": []
   },
   "outputs": [],
   "source": [
    "SIZE=448\n",
    "size = [SIZE, SIZE ,3]"
   ]
  },
  {
   "cell_type": "code",
   "execution_count": 6,
   "id": "2519ea32",
   "metadata": {
    "execution": {
     "iopub.execute_input": "2023-04-09T13:16:24.028946Z",
     "iopub.status.busy": "2023-04-09T13:16:24.028652Z",
     "iopub.status.idle": "2023-04-09T13:16:24.033579Z",
     "shell.execute_reply": "2023-04-09T13:16:24.032459Z"
    },
    "papermill": {
     "duration": 0.016473,
     "end_time": "2023-04-09T13:16:24.035642",
     "exception": false,
     "start_time": "2023-04-09T13:16:24.019169",
     "status": "completed"
    },
    "tags": []
   },
   "outputs": [],
   "source": [
    "train_datagen = ImageDataGenerator(\n",
    "    rescale=1.0 / 255,\n",
    "    rotation_range=40,\n",
    "    width_shift_range=0.2,\n",
    "    height_shift_range=0.2,\n",
    "    shear_range=0.2,\n",
    "    zoom_range=0.2,\n",
    "    horizontal_flip=True,\n",
    "    validation_split=.1,\n",
    "    fill_mode=\"nearest\",\n",
    ")\n",
    "batch_size=64"
   ]
  },
  {
   "cell_type": "code",
   "execution_count": 7,
   "id": "03b9d22a",
   "metadata": {
    "execution": {
     "iopub.execute_input": "2023-04-09T13:16:24.054274Z",
     "iopub.status.busy": "2023-04-09T13:16:24.053525Z",
     "iopub.status.idle": "2023-04-09T13:16:26.723603Z",
     "shell.execute_reply": "2023-04-09T13:16:26.722080Z"
    },
    "papermill": {
     "duration": 2.682095,
     "end_time": "2023-04-09T13:16:26.726081",
     "exception": false,
     "start_time": "2023-04-09T13:16:24.043986",
     "status": "completed"
    },
    "tags": []
   },
   "outputs": [
    {
     "name": "stdout",
     "output_type": "stream",
     "text": [
      "Found 1512 validated image filenames belonging to 21 classes.\n",
      "Found 168 validated image filenames belonging to 21 classes.\n"
     ]
    }
   ],
   "source": [
    "train_images = train_datagen.flow_from_dataframe(\n",
    "    dataframe=train_data,\n",
    "    x_col='File',\n",
    "    y_col='class_',\n",
    "    target_size=(SIZE, SIZE),\n",
    "    color_mode='rgb',\n",
    "    class_mode='categorical',\n",
    "    batch_size=batch_size,\n",
    "    shuffle=True,\n",
    "    seed=42,\n",
    "    subset='training'\n",
    ")\n",
    "valid_images = train_datagen.flow_from_dataframe(\n",
    "    dataframe=train_data,\n",
    "    x_col='File',\n",
    "    y_col='class_',\n",
    "    target_size=(SIZE, SIZE),\n",
    "    color_mode='rgb',\n",
    "    class_mode='categorical',\n",
    "    batch_size=batch_size,\n",
    "    shuffle=True,\n",
    "    seed=42,\n",
    "    subset='validation'\n",
    ")\n"
   ]
  },
  {
   "cell_type": "markdown",
   "id": "a662ea4d",
   "metadata": {
    "papermill": {
     "duration": 0.008592,
     "end_time": "2023-04-09T13:16:26.743654",
     "exception": false,
     "start_time": "2023-04-09T13:16:26.735062",
     "status": "completed"
    },
    "tags": []
   },
   "source": [
    "# freezing nescessary pararametres"
   ]
  },
  {
   "cell_type": "code",
   "execution_count": 8,
   "id": "e51ac1a1",
   "metadata": {
    "execution": {
     "iopub.execute_input": "2023-04-09T13:16:26.763534Z",
     "iopub.status.busy": "2023-04-09T13:16:26.762568Z",
     "iopub.status.idle": "2023-04-09T13:16:27.219574Z",
     "shell.execute_reply": "2023-04-09T13:16:27.218637Z"
    },
    "papermill": {
     "duration": 0.469741,
     "end_time": "2023-04-09T13:16:27.222091",
     "exception": false,
     "start_time": "2023-04-09T13:16:26.752350",
     "status": "completed"
    },
    "tags": []
   },
   "outputs": [],
   "source": [
    "import tensorflow_hub as hub"
   ]
  },
  {
   "cell_type": "code",
   "execution_count": 9,
   "id": "b1685fa3",
   "metadata": {
    "execution": {
     "iopub.execute_input": "2023-04-09T13:16:27.241265Z",
     "iopub.status.busy": "2023-04-09T13:16:27.240972Z",
     "iopub.status.idle": "2023-04-09T13:16:27.245772Z",
     "shell.execute_reply": "2023-04-09T13:16:27.244870Z"
    },
    "papermill": {
     "duration": 0.016719,
     "end_time": "2023-04-09T13:16:27.247817",
     "exception": false,
     "start_time": "2023-04-09T13:16:27.231098",
     "status": "completed"
    },
    "tags": []
   },
   "outputs": [],
   "source": [
    "def get_from_hub(model_url):\n",
    "    inputs = tf.keras.Input((batch_size,SIZE, SIZE, 3))\n",
    "    hub_module = hub.KerasLayer(model_url,trainable=False)\n",
    "    outputs = hub_module(inputs)\n",
    "    return tf.keras.Model(inputs, outputs)"
   ]
  },
  {
   "cell_type": "code",
   "execution_count": 10,
   "id": "32642174",
   "metadata": {
    "execution": {
     "iopub.execute_input": "2023-04-09T13:16:27.266360Z",
     "iopub.status.busy": "2023-04-09T13:16:27.266090Z",
     "iopub.status.idle": "2023-04-09T13:16:27.270657Z",
     "shell.execute_reply": "2023-04-09T13:16:27.269756Z"
    },
    "papermill": {
     "duration": 0.015832,
     "end_time": "2023-04-09T13:16:27.272601",
     "exception": false,
     "start_time": "2023-04-09T13:16:27.256769",
     "status": "completed"
    },
    "tags": []
   },
   "outputs": [],
   "source": [
    "def name_and_freeze(model,name=\"\"):\n",
    "    for layer in model.layers[:]:\n",
    "      layer.trainable = False\n",
    "    for layer in model.layers:\n",
    "        layer._name = layer.name + str(name)\n",
    "    "
   ]
  },
  {
   "cell_type": "code",
   "execution_count": 11,
   "id": "72012f77",
   "metadata": {
    "execution": {
     "iopub.execute_input": "2023-04-09T13:16:27.291172Z",
     "iopub.status.busy": "2023-04-09T13:16:27.290431Z",
     "iopub.status.idle": "2023-04-09T13:16:27.296389Z",
     "shell.execute_reply": "2023-04-09T13:16:27.295585Z"
    },
    "papermill": {
     "duration": 0.017192,
     "end_time": "2023-04-09T13:16:27.298357",
     "exception": false,
     "start_time": "2023-04-09T13:16:27.281165",
     "status": "completed"
    },
    "tags": []
   },
   "outputs": [],
   "source": [
    "def se_block(inputs):\n",
    "    input_channels = inputs.shape[-1]\n",
    "    x = tf.keras.layers.GlobalAveragePooling2D()(inputs)\n",
    "    x = tf.keras.layers.Dense(units=len(train_images.class_indices.keys()), activation=\"relu\")(x)    \n",
    "    x = tf.keras.layers.Dense(units=input_channels, activation=\"sigmoid\")(x)    \n",
    "    x = tf.reshape(x, [-1, 1, 1, input_channels])\n",
    "    x = inputs * x\n",
    "    return x"
   ]
  },
  {
   "cell_type": "code",
   "execution_count": 12,
   "id": "ff2f5133",
   "metadata": {
    "execution": {
     "iopub.execute_input": "2023-04-09T13:16:27.317162Z",
     "iopub.status.busy": "2023-04-09T13:16:27.316556Z",
     "iopub.status.idle": "2023-04-09T13:16:27.322099Z",
     "shell.execute_reply": "2023-04-09T13:16:27.321225Z"
    },
    "papermill": {
     "duration": 0.017247,
     "end_time": "2023-04-09T13:16:27.324127",
     "exception": false,
     "start_time": "2023-04-09T13:16:27.306880",
     "status": "completed"
    },
    "tags": []
   },
   "outputs": [],
   "source": [
    "def dilation_block(inputs,dilation_rates):\n",
    "    outputs = []\n",
    "    for dilation_rate in dilation_rates:\n",
    "        x = tf.keras.layers.Conv2D(filters=len(train_images.class_indices.keys()), kernel_size=3, strides=1, padding=\"same\", dilation_rate=dilation_rate)(inputs)\n",
    "        x = tf.keras.layers.BatchNormalization()(x)\n",
    "        x = tf.keras.layers.ReLU()(x)\n",
    "        outputs.append(x)\n",
    "    x = tf.keras.layers.Concatenate(axis=-1)(outputs)\n",
    "    return x"
   ]
  },
  {
   "cell_type": "markdown",
   "id": "2e054af2",
   "metadata": {
    "papermill": {
     "duration": 0.008403,
     "end_time": "2023-04-09T13:16:27.341086",
     "exception": false,
     "start_time": "2023-04-09T13:16:27.332683",
     "status": "completed"
    },
    "tags": []
   },
   "source": [
    "# Importing Vit"
   ]
  },
  {
   "cell_type": "code",
   "execution_count": 13,
   "id": "8319facd",
   "metadata": {
    "execution": {
     "iopub.execute_input": "2023-04-09T13:16:27.359741Z",
     "iopub.status.busy": "2023-04-09T13:16:27.358985Z",
     "iopub.status.idle": "2023-04-09T13:16:34.668926Z",
     "shell.execute_reply": "2023-04-09T13:16:34.667845Z"
    },
    "papermill": {
     "duration": 7.321673,
     "end_time": "2023-04-09T13:16:34.671338",
     "exception": false,
     "start_time": "2023-04-09T13:16:27.349665",
     "status": "completed"
    },
    "tags": []
   },
   "outputs": [
    {
     "name": "stdout",
     "output_type": "stream",
     "text": [
      "Downloading data from https://github.com/faustomorales/vit-keras/releases/download/dl/ViT-B_32_imagenet21k+imagenet2012.npz\n",
      "353255424/353253686 [==============================] - 2s 0us/step\n",
      "353263616/353253686 [==============================] - 2s 0us/step\n"
     ]
    },
    {
     "name": "stderr",
     "output_type": "stream",
     "text": [
      "/opt/conda/lib/python3.7/site-packages/vit_keras/utils.py:83: UserWarning: Resizing position embeddings from 12, 12 to 14, 14\n",
      "  UserWarning,\n"
     ]
    }
   ],
   "source": [
    "vit_big = vit.vit_b32(\n",
    "        image_size = SIZE,\n",
    "        activation = 'softmax',\n",
    "        pretrained = True,\n",
    "        include_top = False,\n",
    "        pretrained_top = False,\n",
    "        )"
   ]
  },
  {
   "cell_type": "code",
   "execution_count": 14,
   "id": "8f7ffeb0",
   "metadata": {
    "execution": {
     "iopub.execute_input": "2023-04-09T13:16:34.695167Z",
     "iopub.status.busy": "2023-04-09T13:16:34.694866Z",
     "iopub.status.idle": "2023-04-09T13:16:34.698890Z",
     "shell.execute_reply": "2023-04-09T13:16:34.697934Z"
    },
    "papermill": {
     "duration": 0.018018,
     "end_time": "2023-04-09T13:16:34.700892",
     "exception": false,
     "start_time": "2023-04-09T13:16:34.682874",
     "status": "completed"
    },
    "tags": []
   },
   "outputs": [],
   "source": [
    "# vit_large = vit.vit_l32(\n",
    "#         image_size = SIZE,\n",
    "#         activation = 'softmax',\n",
    "#         pretrained = True,\n",
    "#         include_top = False,\n",
    "#         pretrained_top = False,\n",
    "#         )"
   ]
  },
  {
   "cell_type": "markdown",
   "id": "bba8c5b5",
   "metadata": {
    "papermill": {
     "duration": 0.010849,
     "end_time": "2023-04-09T13:16:34.722533",
     "exception": false,
     "start_time": "2023-04-09T13:16:34.711684",
     "status": "completed"
    },
    "tags": []
   },
   "source": [
    "#  Fine-tuning vit"
   ]
  },
  {
   "cell_type": "code",
   "execution_count": 15,
   "id": "f74d42f7",
   "metadata": {
    "execution": {
     "iopub.execute_input": "2023-04-09T13:16:34.745600Z",
     "iopub.status.busy": "2023-04-09T13:16:34.745336Z",
     "iopub.status.idle": "2023-04-09T13:16:34.755563Z",
     "shell.execute_reply": "2023-04-09T13:16:34.754692Z"
    },
    "papermill": {
     "duration": 0.024023,
     "end_time": "2023-04-09T13:16:34.757522",
     "exception": false,
     "start_time": "2023-04-09T13:16:34.733499",
     "status": "completed"
    },
    "tags": []
   },
   "outputs": [],
   "source": [
    "# name_and_freeze(vit_large,'vit_large_')\n",
    "name_and_freeze(vit_big,'vit_big_')"
   ]
  },
  {
   "cell_type": "code",
   "execution_count": 16,
   "id": "67440eff",
   "metadata": {
    "execution": {
     "iopub.execute_input": "2023-04-09T13:16:34.780375Z",
     "iopub.status.busy": "2023-04-09T13:16:34.780102Z",
     "iopub.status.idle": "2023-04-09T13:16:34.822546Z",
     "shell.execute_reply": "2023-04-09T13:16:34.821709Z"
    },
    "papermill": {
     "duration": 0.056086,
     "end_time": "2023-04-09T13:16:34.824467",
     "exception": false,
     "start_time": "2023-04-09T13:16:34.768381",
     "status": "completed"
    },
    "tags": []
   },
   "outputs": [],
   "source": [
    "from tensorflow.keras import regularizers\n",
    "x =vit_big.output\n",
    "x=tf.keras.layers.BatchNormalization(axis=-1, momentum=0.99, epsilon=0.001 )(x)\n",
    "x = Dense(512, kernel_regularizer = regularizers.l2(l = 0.016),activity_regularizer=regularizers.l1(0.006),\n",
    "                bias_regularizer=regularizers.l1(0.006) ,activation='relu')(x)\n",
    "x=Dense(256,activation='relu')(x)\n",
    "x_vit_big = Dense(128, activation='relu')(x)\n",
    "\n",
    "# x =vit_large.output\n",
    "# x=tf.keras.layers.BatchNormalization(axis=-1, momentum=0.99, epsilon=0.001 )(x)\n",
    "# x = Dense(32, kernel_regularizer = regularizers.l2(l = 0.016),activity_regularizer=regularizers.l1(0.006),\n",
    "#                 bias_regularizer=regularizers.l1(0.006) ,activation='relu')(x)\n",
    "# x=Dense(256,activation='relu')(x)\n",
    "# x_vit_large = Dense(128, activation='relu')(x)"
   ]
  },
  {
   "cell_type": "markdown",
   "id": "1dc1b0d6",
   "metadata": {
    "papermill": {
     "duration": 0.010845,
     "end_time": "2023-04-09T13:16:34.846690",
     "exception": false,
     "start_time": "2023-04-09T13:16:34.835845",
     "status": "completed"
    },
    "tags": []
   },
   "source": [
    "# importing cnn models"
   ]
  },
  {
   "cell_type": "code",
   "execution_count": 17,
   "id": "ff93747c",
   "metadata": {
    "execution": {
     "iopub.execute_input": "2023-04-09T13:16:34.870323Z",
     "iopub.status.busy": "2023-04-09T13:16:34.869532Z",
     "iopub.status.idle": "2023-04-09T13:16:36.298574Z",
     "shell.execute_reply": "2023-04-09T13:16:36.297593Z"
    },
    "papermill": {
     "duration": 1.44366,
     "end_time": "2023-04-09T13:16:36.301472",
     "exception": false,
     "start_time": "2023-04-09T13:16:34.857812",
     "status": "completed"
    },
    "tags": []
   },
   "outputs": [
    {
     "name": "stdout",
     "output_type": "stream",
     "text": [
      "Downloading data from https://storage.googleapis.com/tensorflow/keras-applications/xception/xception_weights_tf_dim_ordering_tf_kernels_notop.h5\n",
      "83689472/83683744 [==============================] - 0s 0us/step\n",
      "83697664/83683744 [==============================] - 0s 0us/step\n"
     ]
    }
   ],
   "source": [
    "# resnet152= tf.keras.applications.ResNet152V2(input_shape=size,include_top=False, weights='imagenet',)\n",
    "# mobilenet= tf.keras.applications.MobileNetV3Large(input_shape=size,include_top=False, weights='imagenet')\n",
    "xception= tf.keras.applications.Xception(input_shape=size,include_top=False, weights='imagenet')\n",
    "# effecientnet= tf.keras.applications.EfficientNetB7(input_shape=size,include_top=False, weights='imagenet')\n",
    "# densenet=tf.keras.applications.DenseNet121(input_shape=size,include_top=False, weights='imagenet')\n",
    "# incepresnet=tf.keras.applications.InceptionResNetV2(input_shape=size,include_top=False, weights='imagenet')"
   ]
  },
  {
   "cell_type": "code",
   "execution_count": 18,
   "id": "e8e51939",
   "metadata": {
    "execution": {
     "iopub.execute_input": "2023-04-09T13:16:36.326031Z",
     "iopub.status.busy": "2023-04-09T13:16:36.325727Z",
     "iopub.status.idle": "2023-04-09T13:16:36.331247Z",
     "shell.execute_reply": "2023-04-09T13:16:36.330313Z"
    },
    "papermill": {
     "duration": 0.020274,
     "end_time": "2023-04-09T13:16:36.333454",
     "exception": false,
     "start_time": "2023-04-09T13:16:36.313180",
     "status": "completed"
    },
    "tags": []
   },
   "outputs": [
    {
     "name": "stdout",
     "output_type": "stream",
     "text": [
      "KerasTensor(type_spec=TensorSpec(shape=(None, 14, 14, 2048), dtype=tf.float32, name=None), name='block14_sepconv2_act/Relu:0', description=\"created by layer 'block14_sepconv2_act'\")\n"
     ]
    }
   ],
   "source": [
    "print(xception.output)\n",
    "# print(resnet152.output)\n",
    "# print(mobilenet.output)\n",
    "# print(effecientnet.output)\n",
    "# print(densenet.output)\n",
    "# print(incepresnet.output)"
   ]
  },
  {
   "cell_type": "code",
   "execution_count": 19,
   "id": "78879632",
   "metadata": {
    "execution": {
     "iopub.execute_input": "2023-04-09T13:16:36.357386Z",
     "iopub.status.busy": "2023-04-09T13:16:36.357113Z",
     "iopub.status.idle": "2023-04-09T13:16:36.368099Z",
     "shell.execute_reply": "2023-04-09T13:16:36.367172Z"
    },
    "papermill": {
     "duration": 0.025261,
     "end_time": "2023-04-09T13:16:36.370159",
     "exception": false,
     "start_time": "2023-04-09T13:16:36.344898",
     "status": "completed"
    },
    "tags": []
   },
   "outputs": [],
   "source": [
    "# name_and_freeze(resnet152,'resnet152_')\n",
    "# name_and_freeze(mobilenet,'mobilenet_')\n",
    "name_and_freeze(xception,'xception_')\n",
    "# name_and_freeze(effecientnet,'effecientnet_')\n",
    "# name_and_freeze(densenet,'densenet_')\n",
    "# name_and_freeze(incepresnet,'incepResnet_')"
   ]
  },
  {
   "cell_type": "code",
   "execution_count": 20,
   "id": "c7c24295",
   "metadata": {
    "execution": {
     "iopub.execute_input": "2023-04-09T13:16:36.394329Z",
     "iopub.status.busy": "2023-04-09T13:16:36.394060Z",
     "iopub.status.idle": "2023-04-09T13:16:36.401242Z",
     "shell.execute_reply": "2023-04-09T13:16:36.400375Z"
    },
    "papermill": {
     "duration": 0.021344,
     "end_time": "2023-04-09T13:16:36.403173",
     "exception": false,
     "start_time": "2023-04-09T13:16:36.381829",
     "status": "completed"
    },
    "tags": []
   },
   "outputs": [],
   "source": [
    "def get_model(base_model):\n",
    "    x = tf.keras.layers.GlobalAveragePooling2D()(se_block(dilation_block(base_model.output,[2,3,5,7])))\n",
    "    x=tf.keras.layers.BatchNormalization(axis=-1, momentum=0.99, epsilon=0.001 )(x)\n",
    "    x = Dense(512, kernel_regularizer = regularizers.l2(l = 0.016),activity_regularizer=regularizers.l1(0.006),\n",
    "                    bias_regularizer=regularizers.l1(0.006) ,activation='relu')(x)\n",
    "    x=Dense(256,activation='relu')(x)\n",
    "    return Dense(128,activation='relu')(x)"
   ]
  },
  {
   "cell_type": "markdown",
   "id": "c7512729",
   "metadata": {
    "papermill": {
     "duration": 0.011271,
     "end_time": "2023-04-09T13:16:36.425804",
     "exception": false,
     "start_time": "2023-04-09T13:16:36.414533",
     "status": "completed"
    },
    "tags": []
   },
   "source": [
    "# fine tuning CNN models"
   ]
  },
  {
   "cell_type": "code",
   "execution_count": 21,
   "id": "5c3ab7bb",
   "metadata": {
    "execution": {
     "iopub.execute_input": "2023-04-09T13:16:36.451954Z",
     "iopub.status.busy": "2023-04-09T13:16:36.451607Z",
     "iopub.status.idle": "2023-04-09T13:16:36.623890Z",
     "shell.execute_reply": "2023-04-09T13:16:36.622821Z"
    },
    "papermill": {
     "duration": 0.188636,
     "end_time": "2023-04-09T13:16:36.626739",
     "exception": false,
     "start_time": "2023-04-09T13:16:36.438103",
     "status": "completed"
    },
    "tags": []
   },
   "outputs": [],
   "source": [
    "# x_resnet152v2=get_model(resnet152)\n",
    "x_xception=get_model(xception)\n",
    "# x_mobilenet=get_model(mobilenet)\n",
    "# x_incepresnet=get_model(incepresnet)\n",
    "# x_effecientnet=get_model(effecientnet)\n",
    "# x_densenet=get_model(densenet)"
   ]
  },
  {
   "cell_type": "markdown",
   "id": "4c6d9a31",
   "metadata": {
    "papermill": {
     "duration": 0.013369,
     "end_time": "2023-04-09T13:16:36.654413",
     "exception": false,
     "start_time": "2023-04-09T13:16:36.641044",
     "status": "completed"
    },
    "tags": []
   },
   "source": [
    "# constructing full model"
   ]
  },
  {
   "cell_type": "code",
   "execution_count": 22,
   "id": "a80f9b10",
   "metadata": {
    "execution": {
     "iopub.execute_input": "2023-04-09T13:16:36.682997Z",
     "iopub.status.busy": "2023-04-09T13:16:36.682593Z",
     "iopub.status.idle": "2023-04-09T13:16:36.712371Z",
     "shell.execute_reply": "2023-04-09T13:16:36.711482Z"
    },
    "papermill": {
     "duration": 0.046803,
     "end_time": "2023-04-09T13:16:36.714483",
     "exception": false,
     "start_time": "2023-04-09T13:16:36.667680",
     "status": "completed"
    },
    "tags": []
   },
   "outputs": [],
   "source": [
    "from tensorflow.keras.layers import concatenate\n",
    "concatenated = concatenate([x_xception, x_vit_big])\n",
    "bigmodel_prediction = Dense(len(train_images.class_indices), activation='softmax')(concatenated)\n",
    "model = Model([xception.input, vit_big.input], bigmodel_prediction) \n",
    "from tensorflow.keras.utils import plot_model"
   ]
  },
  {
   "cell_type": "code",
   "execution_count": 23,
   "id": "c4c7cee8",
   "metadata": {
    "execution": {
     "iopub.execute_input": "2023-04-09T13:16:36.742269Z",
     "iopub.status.busy": "2023-04-09T13:16:36.740688Z",
     "iopub.status.idle": "2023-04-09T13:16:37.041996Z",
     "shell.execute_reply": "2023-04-09T13:16:37.040073Z"
    },
    "papermill": {
     "duration": 0.316965,
     "end_time": "2023-04-09T13:16:37.044278",
     "exception": false,
     "start_time": "2023-04-09T13:16:36.727313",
     "status": "completed"
    },
    "tags": []
   },
   "outputs": [
    {
     "name": "stdout",
     "output_type": "stream",
     "text": [
      "trainable parametres: 2324970 non trainable parametres: 108431480\n"
     ]
    }
   ],
   "source": [
    "trainable_params = sum([v.numpy().size for v in model.trainable_variables])\n",
    "non_trainable_params = sum([v.numpy().size for v in model.non_trainable_variables])\n",
    "print(\"trainable parametres: \"+ str(trainable_params) + \" non trainable parametres: \"+ str(non_trainable_params))"
   ]
  },
  {
   "cell_type": "markdown",
   "id": "87388da3",
   "metadata": {
    "papermill": {
     "duration": 0.011654,
     "end_time": "2023-04-09T13:16:37.068232",
     "exception": false,
     "start_time": "2023-04-09T13:16:37.056578",
     "status": "completed"
    },
    "tags": []
   },
   "source": [
    "# custom generator"
   ]
  },
  {
   "cell_type": "code",
   "execution_count": 24,
   "id": "393ba501",
   "metadata": {
    "execution": {
     "iopub.execute_input": "2023-04-09T13:16:37.092523Z",
     "iopub.status.busy": "2023-04-09T13:16:37.092226Z",
     "iopub.status.idle": "2023-04-09T13:16:37.097041Z",
     "shell.execute_reply": "2023-04-09T13:16:37.096001Z"
    },
    "papermill": {
     "duration": 0.019524,
     "end_time": "2023-04-09T13:16:37.099294",
     "exception": false,
     "start_time": "2023-04-09T13:16:37.079770",
     "status": "completed"
    },
    "tags": []
   },
   "outputs": [],
   "source": [
    "def generator_two_img(gen):\n",
    "    while True:\n",
    "        X1i = gen.next()\n",
    "        yield [X1i[0],X1i[0]], X1i[1]"
   ]
  },
  {
   "cell_type": "markdown",
   "id": "480a3dda",
   "metadata": {
    "papermill": {
     "duration": 0.011481,
     "end_time": "2023-04-09T13:16:37.122432",
     "exception": false,
     "start_time": "2023-04-09T13:16:37.110951",
     "status": "completed"
    },
    "tags": []
   },
   "source": [
    "# training model"
   ]
  },
  {
   "cell_type": "code",
   "execution_count": 25,
   "id": "05b1124a",
   "metadata": {
    "execution": {
     "iopub.execute_input": "2023-04-09T13:16:37.146590Z",
     "iopub.status.busy": "2023-04-09T13:16:37.146333Z",
     "iopub.status.idle": "2023-04-09T13:16:37.162537Z",
     "shell.execute_reply": "2023-04-09T13:16:37.161734Z"
    },
    "papermill": {
     "duration": 0.030632,
     "end_time": "2023-04-09T13:16:37.164634",
     "exception": false,
     "start_time": "2023-04-09T13:16:37.134002",
     "status": "completed"
    },
    "tags": []
   },
   "outputs": [],
   "source": [
    "model.compile(loss=\"categorical_crossentropy\",optimizer=tf.optimizers.Adam(),metrics=['accuracy'])"
   ]
  },
  {
   "cell_type": "code",
   "execution_count": 26,
   "id": "c4452da4",
   "metadata": {
    "execution": {
     "iopub.execute_input": "2023-04-09T13:16:37.192578Z",
     "iopub.status.busy": "2023-04-09T13:16:37.192323Z",
     "iopub.status.idle": "2023-04-09T13:45:56.798415Z",
     "shell.execute_reply": "2023-04-09T13:45:56.797355Z"
    },
    "papermill": {
     "duration": 1759.637797,
     "end_time": "2023-04-09T13:45:56.814450",
     "exception": false,
     "start_time": "2023-04-09T13:16:37.176653",
     "status": "completed"
    },
    "tags": []
   },
   "outputs": [
    {
     "name": "stdout",
     "output_type": "stream",
     "text": [
      "Epoch 1/20\n",
      "23/23 [==============================] - 116s 4s/step - loss: 12.6978 - accuracy: 0.6270 - val_loss: 9.3412 - val_accuracy: 0.6641\n",
      "Epoch 2/20\n",
      "23/23 [==============================] - 89s 4s/step - loss: 6.6713 - accuracy: 0.8992 - val_loss: 5.0952 - val_accuracy: 0.7891\n",
      "Epoch 3/20\n",
      "23/23 [==============================] - 86s 4s/step - loss: 3.5076 - accuracy: 0.9454 - val_loss: 2.9405 - val_accuracy: 0.8516\n",
      "Epoch 4/20\n",
      "23/23 [==============================] - 87s 4s/step - loss: 1.9064 - accuracy: 0.9627 - val_loss: 1.9157 - val_accuracy: 0.7891\n",
      "Epoch 5/20\n",
      "23/23 [==============================] - 86s 4s/step - loss: 1.1976 - accuracy: 0.9558 - val_loss: 1.3669 - val_accuracy: 0.8516\n",
      "Epoch 6/20\n",
      "23/23 [==============================] - 86s 4s/step - loss: 0.8853 - accuracy: 0.9510 - val_loss: 1.1843 - val_accuracy: 0.8281\n",
      "Epoch 7/20\n",
      "23/23 [==============================] - 86s 4s/step - loss: 0.6890 - accuracy: 0.9613 - val_loss: 0.9406 - val_accuracy: 0.8828\n",
      "Epoch 8/20\n",
      "23/23 [==============================] - 85s 4s/step - loss: 0.5812 - accuracy: 0.9675 - val_loss: 0.7849 - val_accuracy: 0.9141\n",
      "Epoch 9/20\n",
      "23/23 [==============================] - 86s 4s/step - loss: 0.5218 - accuracy: 0.9579 - val_loss: 0.7211 - val_accuracy: 0.8906\n",
      "Epoch 10/20\n",
      "23/23 [==============================] - 88s 4s/step - loss: 0.4574 - accuracy: 0.9662 - val_loss: 0.6401 - val_accuracy: 0.9297\n",
      "Epoch 11/20\n",
      "23/23 [==============================] - 87s 4s/step - loss: 0.4241 - accuracy: 0.9675 - val_loss: 0.5185 - val_accuracy: 0.9531\n",
      "Epoch 12/20\n",
      "23/23 [==============================] - 88s 4s/step - loss: 0.3979 - accuracy: 0.9703 - val_loss: 0.6397 - val_accuracy: 0.8906\n",
      "Epoch 13/20\n",
      "23/23 [==============================] - 89s 4s/step - loss: 0.4014 - accuracy: 0.9606 - val_loss: 0.5432 - val_accuracy: 0.9062\n",
      "Epoch 14/20\n",
      "23/23 [==============================] - 85s 4s/step - loss: 0.3676 - accuracy: 0.9689 - val_loss: 0.5097 - val_accuracy: 0.9062\n",
      "Epoch 15/20\n",
      "23/23 [==============================] - 86s 4s/step - loss: 0.3533 - accuracy: 0.9703 - val_loss: 0.4430 - val_accuracy: 0.9531\n",
      "Epoch 16/20\n",
      "23/23 [==============================] - 86s 4s/step - loss: 0.3943 - accuracy: 0.9544 - val_loss: 0.6503 - val_accuracy: 0.8594\n",
      "Epoch 17/20\n",
      "23/23 [==============================] - 85s 4s/step - loss: 0.4261 - accuracy: 0.9634 - val_loss: 0.4411 - val_accuracy: 0.9375\n",
      "Epoch 18/20\n",
      "23/23 [==============================] - 85s 4s/step - loss: 0.3883 - accuracy: 0.9696 - val_loss: 0.4936 - val_accuracy: 0.9375\n",
      "Epoch 19/20\n",
      "23/23 [==============================] - 85s 4s/step - loss: 0.3206 - accuracy: 0.9834 - val_loss: 0.5009 - val_accuracy: 0.9219\n",
      "Epoch 20/20\n",
      "23/23 [==============================] - 85s 4s/step - loss: 0.2705 - accuracy: 0.9855 - val_loss: 0.3567 - val_accuracy: 0.9375\n"
     ]
    }
   ],
   "source": [
    "batch_size=64\n",
    "history = model.fit(\n",
    "    generator_two_img(train_images),\n",
    "    validation_data=generator_two_img(valid_images),\n",
    "    validation_steps=valid_images.n//batch_size,\n",
    "    validation_batch_size=batch_size,\n",
    "    steps_per_epoch=train_images.n//batch_size,\n",
    "    batch_size=batch_size,\n",
    "    epochs=20,\n",
    ")\n"
   ]
  },
  {
   "cell_type": "code",
   "execution_count": 27,
   "id": "79bb3a09",
   "metadata": {
    "execution": {
     "iopub.execute_input": "2023-04-09T13:45:56.888966Z",
     "iopub.status.busy": "2023-04-09T13:45:56.888182Z",
     "iopub.status.idle": "2023-04-09T13:45:57.962655Z",
     "shell.execute_reply": "2023-04-09T13:45:57.961543Z"
    },
    "papermill": {
     "duration": 1.114485,
     "end_time": "2023-04-09T13:45:57.965121",
     "exception": false,
     "start_time": "2023-04-09T13:45:56.850636",
     "status": "completed"
    },
    "tags": []
   },
   "outputs": [
    {
     "name": "stderr",
     "output_type": "stream",
     "text": [
      "/opt/conda/lib/python3.7/site-packages/keras/utils/generic_utils.py:497: CustomMaskWarning: Custom mask layers require a config and must override get_config. When loading, the custom mask layer must be passed to the custom_objects argument.\n",
      "  category=CustomMaskWarning)\n"
     ]
    }
   ],
   "source": [
    "model.save('1vit1cnnxception.h5')"
   ]
  },
  {
   "cell_type": "markdown",
   "id": "7e06753f",
   "metadata": {
    "papermill": {
     "duration": 0.036568,
     "end_time": "2023-04-09T13:45:58.039109",
     "exception": false,
     "start_time": "2023-04-09T13:45:58.002541",
     "status": "completed"
    },
    "tags": []
   },
   "source": [
    "# performance evaluation"
   ]
  },
  {
   "cell_type": "code",
   "execution_count": 28,
   "id": "fbbe7432",
   "metadata": {
    "execution": {
     "iopub.execute_input": "2023-04-09T13:45:58.113465Z",
     "iopub.status.busy": "2023-04-09T13:45:58.113112Z",
     "iopub.status.idle": "2023-04-09T13:45:58.521478Z",
     "shell.execute_reply": "2023-04-09T13:45:58.520605Z"
    },
    "papermill": {
     "duration": 0.448397,
     "end_time": "2023-04-09T13:45:58.523745",
     "exception": false,
     "start_time": "2023-04-09T13:45:58.075348",
     "status": "completed"
    },
    "tags": []
   },
   "outputs": [
    {
     "name": "stderr",
     "output_type": "stream",
     "text": [
      "/opt/conda/lib/python3.7/site-packages/ipykernel_launcher.py:10: UserWarning: color is redundantly defined by the 'color' keyword argument and the fmt string \"go-\" (-> color='g'). The keyword argument will take precedence.\n",
      "  # Remove the CWD from sys.path while we load stuff.\n",
      "/opt/conda/lib/python3.7/site-packages/ipykernel_launcher.py:18: UserWarning: color is redundantly defined by the 'color' keyword argument and the fmt string \"g-o\" (-> color='g'). The keyword argument will take precedence.\n"
     ]
    },
    {
     "data": {
      "image/png": "[encoded data removed]",
      "text/plain": [
       "<Figure size 1440x720 with 2 Axes>"
      ]
     },
     "metadata": {
      "needs_background": "light"
     },
     "output_type": "display_data"
    }
   ],
   "source": [
    "epochs = list(range(len(history.history['accuracy'])))\n",
    "fig , ax = plt.subplots(1,2)\n",
    "train_acc = history.history['accuracy']\n",
    "train_loss = history.history['loss']\n",
    "val_acc = history.history['val_accuracy']\n",
    "val_loss = history.history['val_loss']\n",
    "\n",
    "fig.set_size_inches(20,10)\n",
    "\n",
    "ax[0].plot(epochs , train_acc , 'go-' ,color='r', label = 'Training Accuracy')\n",
    "ax[0].plot(epochs , val_acc , 'go-' , label = 'Validation Accuracy')\n",
    "ax[0].set_title('Training Accuracy')\n",
    "ax[0].legend()\n",
    "ax[0].set_xlabel(\"Epochs\")\n",
    "ax[0].set_ylabel(\"Accuracy\")\n",
    "\n",
    "\n",
    "ax[1].plot(epochs , train_loss , 'g-o' ,color='r', label = 'Training Loss')\n",
    "ax[1].plot(epochs , val_loss , 'go-' , label = 'Validation Loss')\n",
    "ax[1].set_title('Training Loss')\n",
    "ax[1].legend()\n",
    "ax[1].set_xlabel(\"Epochs\")\n",
    "ax[1].set_ylabel(\"Training Loss\")\n",
    "plt.show()"
   ]
  },
  {
   "cell_type": "code",
   "execution_count": 29,
   "id": "ead51aba",
   "metadata": {
    "execution": {
     "iopub.execute_input": "2023-04-09T13:45:58.599886Z",
     "iopub.status.busy": "2023-04-09T13:45:58.599559Z",
     "iopub.status.idle": "2023-04-09T13:45:59.125026Z",
     "shell.execute_reply": "2023-04-09T13:45:59.124114Z"
    },
    "papermill": {
     "duration": 0.565842,
     "end_time": "2023-04-09T13:45:59.127282",
     "exception": false,
     "start_time": "2023-04-09T13:45:58.561440",
     "status": "completed"
    },
    "tags": []
   },
   "outputs": [
    {
     "name": "stdout",
     "output_type": "stream",
     "text": [
      "Found 420 validated image filenames belonging to 21 classes.\n"
     ]
    }
   ],
   "source": [
    "test_generator = tf.keras.preprocessing.image.ImageDataGenerator(\n",
    "    rescale=1./255,\n",
    ")\n",
    "test_images = test_generator.flow_from_dataframe(\n",
    "    dataframe=test_data,\n",
    "    x_col='File',\n",
    "    y_col='class_',\n",
    "    target_size=(SIZE, SIZE),\n",
    "    color_mode='rgb',\n",
    "    class_mode='categorical',\n",
    "    batch_size=batch_size,\n",
    "    shuffle=False\n",
    ")"
   ]
  },
  {
   "cell_type": "code",
   "execution_count": 30,
   "id": "e7ee9343",
   "metadata": {
    "execution": {
     "iopub.execute_input": "2023-04-09T13:45:59.205201Z",
     "iopub.status.busy": "2023-04-09T13:45:59.204500Z",
     "iopub.status.idle": "2023-04-09T13:45:59.209362Z",
     "shell.execute_reply": "2023-04-09T13:45:59.208463Z"
    },
    "papermill": {
     "duration": 0.046687,
     "end_time": "2023-04-09T13:45:59.211499",
     "exception": false,
     "start_time": "2023-04-09T13:45:59.164812",
     "status": "completed"
    },
    "tags": []
   },
   "outputs": [],
   "source": [
    "class_=train_images.class_indices.keys()"
   ]
  },
  {
   "cell_type": "code",
   "execution_count": 31,
   "id": "ac50561b",
   "metadata": {
    "execution": {
     "iopub.execute_input": "2023-04-09T13:45:59.286745Z",
     "iopub.status.busy": "2023-04-09T13:45:59.286409Z",
     "iopub.status.idle": "2023-04-09T13:45:59.291676Z",
     "shell.execute_reply": "2023-04-09T13:45:59.290729Z"
    },
    "papermill": {
     "duration": 0.045336,
     "end_time": "2023-04-09T13:45:59.293806",
     "exception": false,
     "start_time": "2023-04-09T13:45:59.248470",
     "status": "completed"
    },
    "tags": []
   },
   "outputs": [],
   "source": [
    "def prediction_generator(test_images):\n",
    "    k=0\n",
    "    for x in test_images:\n",
    "        k+=len(x[1])\n",
    "        yield [x[0],x[0]], x[1]\n",
    "        if(k>=test_images.n):\n",
    "            break"
   ]
  },
  {
   "cell_type": "code",
   "execution_count": 32,
   "id": "f34a0488",
   "metadata": {
    "execution": {
     "iopub.execute_input": "2023-04-09T13:45:59.369000Z",
     "iopub.status.busy": "2023-04-09T13:45:59.368132Z",
     "iopub.status.idle": "2023-04-09T13:46:13.023648Z",
     "shell.execute_reply": "2023-04-09T13:46:13.022720Z"
    },
    "papermill": {
     "duration": 13.695363,
     "end_time": "2023-04-09T13:46:13.025795",
     "exception": false,
     "start_time": "2023-04-09T13:45:59.330432",
     "status": "completed"
    },
    "tags": []
   },
   "outputs": [
    {
     "data": {
      "text/plain": [
       "0.919047619047619"
      ]
     },
     "execution_count": 32,
     "metadata": {},
     "output_type": "execute_result"
    }
   ],
   "source": [
    "from sklearn.metrics import accuracy_score\n",
    "proba=model.predict(prediction_generator(test_images))\n",
    "predicted = np.argmax(proba,axis=1)\n",
    "true=test_images.labels\n",
    "accuracy_score(predicted, true)"
   ]
  },
  {
   "cell_type": "code",
   "execution_count": 33,
   "id": "f6666dd3",
   "metadata": {
    "execution": {
     "iopub.execute_input": "2023-04-09T13:46:13.102890Z",
     "iopub.status.busy": "2023-04-09T13:46:13.101847Z",
     "iopub.status.idle": "2023-04-09T13:46:15.615236Z",
     "shell.execute_reply": "2023-04-09T13:46:15.614230Z"
    },
    "papermill": {
     "duration": 2.556692,
     "end_time": "2023-04-09T13:46:15.620103",
     "exception": false,
     "start_time": "2023-04-09T13:46:13.063411",
     "status": "completed"
    },
    "tags": []
   },
   "outputs": [
    {
     "data": {
      "image/png": "[encoded data removed]",
      "text/plain": [
       "<Figure size 1152x1008 with 2 Axes>"
      ]
     },
     "metadata": {
      "needs_background": "light"
     },
     "output_type": "display_data"
    }
   ],
   "source": [
    "from sklearn.metrics import confusion_matrix\n",
    "import seaborn as sns\n",
    "class_=test_images.class_indices.keys()\n",
    "cm = confusion_matrix(true, predicted)\n",
    "fig = plt.figure(figsize=(16, 14))\n",
    "ax= plt.subplot()\n",
    "sns.heatmap(cm, annot=True, ax = ax,cmap=\"BuPu\"); \n",
    "ax.set_xlabel('Predicted', fontsize=20)\n",
    "ax.xaxis.set_label_position('bottom')\n",
    "plt.xticks(rotation=90)\n",
    "ax.xaxis.set_ticklabels(class_, fontsize = 10)\n",
    "ax.xaxis.tick_bottom()\n",
    "\n",
    "ax.set_ylabel('True', fontsize=20)\n",
    "ax.yaxis.set_ticklabels(class_, fontsize = 10)\n",
    "plt.yticks(rotation=0)\n",
    "\n",
    "plt.title('', fontsize=60)\n",
    "\n",
    "plt.savefig('ConMat24.png')\n",
    "plt.show()"
   ]
  },
  {
   "cell_type": "markdown",
   "id": "05d5d10a",
   "metadata": {
    "papermill": {
     "duration": 0.038244,
     "end_time": "2023-04-09T13:46:15.697202",
     "exception": false,
     "start_time": "2023-04-09T13:46:15.658958",
     "status": "completed"
    },
    "tags": []
   },
   "source": [
    "# ROC"
   ]
  },
  {
   "cell_type": "code",
   "execution_count": 34,
   "id": "cf10850c",
   "metadata": {
    "execution": {
     "iopub.execute_input": "2023-04-09T13:46:15.835319Z",
     "iopub.status.busy": "2023-04-09T13:46:15.834942Z",
     "iopub.status.idle": "2023-04-09T13:46:16.293549Z",
     "shell.execute_reply": "2023-04-09T13:46:16.292628Z"
    },
    "papermill": {
     "duration": 0.49998,
     "end_time": "2023-04-09T13:46:16.295727",
     "exception": false,
     "start_time": "2023-04-09T13:46:15.795747",
     "status": "completed"
    },
    "tags": []
   },
   "outputs": [
    {
     "data": {
      "image/png": "[encoded data removed]",
      "text/plain": [
       "<Figure size 720x1152 with 1 Axes>"
      ]
     },
     "metadata": {
      "needs_background": "light"
     },
     "output_type": "display_data"
    }
   ],
   "source": [
    "from sklearn.metrics import roc_curve, roc_auc_score\n",
    "from matplotlib import cm\n",
    "n=len(true)\n",
    "dim=max(true)+1\n",
    "result=[]\n",
    "for i in true:\n",
    "    result.append([0 for i in range(dim)])\n",
    "    result[len(result)-1][i]=1\n",
    "    \n",
    "    \n",
    "fpr = dict()\n",
    "tpr = dict()\n",
    "roc_auc = dict()\n",
    "n_classes =len(test_images.class_indices.keys())\n",
    "y_test=np.array(result)\n",
    "y_pred=np.array(proba)\n",
    "fpr = dict()\n",
    "tpr = dict()\n",
    "roc_auc = dict()\n",
    "\n",
    "rev={}\n",
    "for i in class_:\n",
    "    rev[train_images.class_indices[i]]=i\n",
    "\n",
    "\n",
    "for i in range(n_classes):\n",
    "    fpr[i], tpr[i], _ = roc_curve(y_test[:, i], y_pred[:, i])\n",
    "    roc_auc[i] = roc_auc_score(y_test[:, i], y_pred[:, i])\n",
    "\n",
    "\n",
    "fpr[\"micro\"], tpr[\"micro\"], _ = roc_curve(y_test.ravel(), y_pred.ravel())\n",
    "roc_auc[\"micro\"] = roc_auc_score(y_test, y_pred, multi_class='ovr')\n",
    "\n",
    "\n",
    "cmap = cm.get_cmap('tab10')\n",
    "\n",
    "# Plot the ROC curve for each class and micro-average with automatic color selection\n",
    "plt.figure(figsize=(10,16))\n",
    "lw = 2\n",
    "for i in range(n_classes):\n",
    "    color = cmap(i)\n",
    "    plt.plot(fpr[i], tpr[i], color=color, lw=lw,\n",
    "             label='ROC curve of class {0} (area = {1:0.2f})'\n",
    "             ''.format(rev[i], roc_auc[i]))\n",
    "\n",
    "plt.plot(fpr[\"micro\"], tpr[\"micro\"],\n",
    "         label='micro-average ROC curve (area = {0:0.2f})'\n",
    "         ''.format(roc_auc[\"micro\"]),\n",
    "         color=cmap(n_classes), linestyle=':', linewidth=4)\n",
    "\n",
    "plt.plot([0, 1], [0, 1], 'k--', lw=lw)\n",
    "plt.xlim([0.0, 1.0])\n",
    "plt.ylim([0.0, 1.05])\n",
    "plt.xlabel('False Positive Rate')\n",
    "plt.ylabel('True Positive Rate')\n",
    "plt.title('ROC Curve')\n",
    "plt.legend(loc=\"lower right\")\n",
    "plt.show()\n"
   ]
  },
  {
   "cell_type": "markdown",
   "id": "da1cff28",
   "metadata": {
    "papermill": {
     "duration": 0.040057,
     "end_time": "2023-04-09T13:46:16.376608",
     "exception": false,
     "start_time": "2023-04-09T13:46:16.336551",
     "status": "completed"
    },
    "tags": []
   },
   "source": [
    "# AUC"
   ]
  },
  {
   "cell_type": "code",
   "execution_count": 35,
   "id": "62db9882",
   "metadata": {
    "execution": {
     "iopub.execute_input": "2023-04-09T13:46:16.456554Z",
     "iopub.status.busy": "2023-04-09T13:46:16.456200Z",
     "iopub.status.idle": "2023-04-09T13:46:16.651230Z",
     "shell.execute_reply": "2023-04-09T13:46:16.650332Z"
    },
    "papermill": {
     "duration": 0.237563,
     "end_time": "2023-04-09T13:46:16.653381",
     "exception": false,
     "start_time": "2023-04-09T13:46:16.415818",
     "status": "completed"
    },
    "tags": []
   },
   "outputs": [
    {
     "data": {
      "image/png": "[encoded data removed]",
      "text/plain": [
       "<Figure size 432x288 with 1 Axes>"
      ]
     },
     "metadata": {
      "needs_background": "light"
     },
     "output_type": "display_data"
    }
   ],
   "source": [
    "from sklearn.metrics import roc_curve, auc\n",
    "import matplotlib.pyplot as plt\n",
    "\n",
    "y_true=y_test\n",
    "y_score=y_pred\n",
    "fpr, tpr, thresholds = roc_curve(y_test.ravel(), y_pred.ravel())\n",
    "roc_auc = auc(fpr, tpr)\n",
    "\n",
    "plt.figure()\n",
    "lw = 2\n",
    "plt.plot(fpr, tpr, color='darkorange',\n",
    "         lw=lw, label='ROC curve (area = %0.2f)' % roc_auc)\n",
    "plt.plot([0, 1], [0, 1], color='navy', lw=lw, linestyle='--')\n",
    "plt.xlim([0.0, 1.0])\n",
    "plt.ylim([0.0, 1.05])\n",
    "plt.xlabel('False Positive Rate')\n",
    "plt.ylabel('True Positive Rate')\n",
    "plt.title('AUC Curve')\n",
    "plt.legend(loc=\"lower right\")\n",
    "plt.show()"
   ]
  }
 ],
 "metadata": {
  "kernelspec": {
   "display_name": "Python 3",
   "language": "python",
   "name": "python3"
  },
  "language_info": {
   "codemirror_mode": {
    "name": "ipython",
    "version": 3
   },
   "file_extension": ".py",
   "mimetype": "text/x-python",
   "name": "python",
   "nbconvert_exporter": "python",
   "pygments_lexer": "ipython3",
   "version": "3.7.12"
  },
  "papermill": {
   "default_parameters": {},
   "duration": 1822.09994,
   "end_time": "2023-04-09T13:46:20.484268",
   "environment_variables": {},
   "exception": null,
   "input_path": "__notebook__.ipynb",
   "output_path": "__notebook__.ipynb",
   "parameters": {},
   "start_time": "2023-04-09T13:15:58.384328",
   "version": "2.3.4"
  }
 },
 "nbformat": 4,
 "nbformat_minor": 5
}
