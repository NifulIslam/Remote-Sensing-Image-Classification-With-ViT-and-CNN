{
 "cells": [
  {
   "cell_type": "markdown",
   "id": "c8179529",
   "metadata": {
    "papermill": {
     "duration": 0.013182,
     "end_time": "2023-04-09T13:53:12.780370",
     "exception": false,
     "start_time": "2023-04-09T13:53:12.767188",
     "status": "completed"
    },
    "tags": []
   },
   "source": [
    "# basic imports"
   ]
  },
  {
   "cell_type": "code",
   "execution_count": 1,
   "id": "82276139",
   "metadata": {
    "_cell_guid": "b1076dfc-b9ad-4769-8c92-a6c4dae69d19",
    "_uuid": "8f2839f25d086af736a60e9eeb907d3b93b6e0e5",
    "execution": {
     "iopub.execute_input": "2023-04-09T13:53:12.801262Z",
     "iopub.status.busy": "2023-04-09T13:53:12.800013Z",
     "iopub.status.idle": "2023-04-09T13:53:31.355034Z",
     "shell.execute_reply": "2023-04-09T13:53:31.353915Z"
    },
    "papermill": {
     "duration": 18.568572,
     "end_time": "2023-04-09T13:53:31.357712",
     "exception": false,
     "start_time": "2023-04-09T13:53:12.789140",
     "status": "completed"
    },
    "tags": []
   },
   "outputs": [
    {
     "name": "stdout",
     "output_type": "stream",
     "text": [
      "\u001b[33mWARNING: Running pip as the 'root' user can result in broken permissions and conflicting behaviour with the system package manager. It is recommended to use a virtual environment instead: https://pip.pypa.io/warnings/venv\u001b[0m\u001b[33m\r\n",
      "\u001b[0m"
     ]
    }
   ],
   "source": [
    "import numpy as np \n",
    "import pandas as pd\n",
    "import os\n",
    "import cv2\n",
    "import tensorflow\n",
    "import glob\n",
    "from matplotlib import pyplot as plt\n",
    "from tensorflow.keras.layers import Input, Lambda, Dense, Flatten,Dropout\n",
    "from tensorflow.keras.models import Model\n",
    "from tensorflow.keras.applications.inception_v3 import InceptionV3\n",
    "from tensorflow.keras.preprocessing import image\n",
    "from tensorflow.keras.preprocessing.image import ImageDataGenerator\n",
    "from tensorflow.keras.models import Sequential\n",
    "from tensorflow.keras.applications.vgg16 import VGG16\n",
    "from tensorflow.keras.applications.vgg19 import VGG19\n",
    "from tensorflow.keras.applications import EfficientNetB0\n",
    "import tensorflow as tf \n",
    "from tensorflow.keras import layers\n",
    "!pip install --quiet vit-keras\n",
    "from vit_keras import vit\n",
    "from tensorflow.keras.applications.resnet50 import ResNet50"
   ]
  },
  {
   "cell_type": "markdown",
   "id": "c9bc9a7e",
   "metadata": {
    "papermill": {
     "duration": 0.009955,
     "end_time": "2023-04-09T13:53:31.376734",
     "exception": false,
     "start_time": "2023-04-09T13:53:31.366779",
     "status": "completed"
    },
    "tags": []
   },
   "source": [
    "# Reading Data"
   ]
  },
  {
   "cell_type": "code",
   "execution_count": 2,
   "id": "7178dd3a",
   "metadata": {
    "execution": {
     "iopub.execute_input": "2023-04-09T13:53:31.400525Z",
     "iopub.status.busy": "2023-04-09T13:53:31.399665Z",
     "iopub.status.idle": "2023-04-09T13:53:31.439890Z",
     "shell.execute_reply": "2023-04-09T13:53:31.439107Z"
    },
    "papermill": {
     "duration": 0.052199,
     "end_time": "2023-04-09T13:53:31.442075",
     "exception": false,
     "start_time": "2023-04-09T13:53:31.389876",
     "status": "completed"
    },
    "tags": []
   },
   "outputs": [],
   "source": [
    "#ucm\n",
    "train_data=pd.read_csv(\"/kaggle/input/satelite-csv/train.csv\")\n",
    "train_data['File']=train_data['File'].apply(lambda x : '/kaggle/input/satelite-images/Images/'+x)\n",
    "test_data=pd.read_csv(\"/kaggle/input/satelite-csv/test.csv\")\n",
    "test_data['File']=test_data['File'].apply(lambda x : '/kaggle/input/satelite-images/Images/'+x)"
   ]
  },
  {
   "cell_type": "code",
   "execution_count": 3,
   "id": "4090c5a4",
   "metadata": {
    "execution": {
     "iopub.execute_input": "2023-04-09T13:53:31.460348Z",
     "iopub.status.busy": "2023-04-09T13:53:31.460059Z",
     "iopub.status.idle": "2023-04-09T13:53:31.464282Z",
     "shell.execute_reply": "2023-04-09T13:53:31.463331Z"
    },
    "papermill": {
     "duration": 0.015686,
     "end_time": "2023-04-09T13:53:31.466309",
     "exception": false,
     "start_time": "2023-04-09T13:53:31.450623",
     "status": "completed"
    },
    "tags": []
   },
   "outputs": [],
   "source": [
    "# rsscn7\n",
    "# train_data=pd.read_csv(\"/kaggle/input/rsscn7-dataset/gamma-correct/train.csv\")\n",
    "# train_data['File']=train_data['File'].apply(lambda x : '/kaggle/input/rsscn7-dataset/gamma-correct/'+x)\n",
    "# test_data=pd.read_csv(\"/kaggle/input/rsscn7-dataset/gamma-correct/test.csv\")\n",
    "# test_data['File']=test_data['File'].apply(lambda x : '/kaggle/input/rsscn7-dataset/gamma-correct/'+x)"
   ]
  },
  {
   "cell_type": "code",
   "execution_count": 4,
   "id": "4f0859cf",
   "metadata": {
    "execution": {
     "iopub.execute_input": "2023-04-09T13:53:31.484506Z",
     "iopub.status.busy": "2023-04-09T13:53:31.484229Z",
     "iopub.status.idle": "2023-04-09T13:53:31.503738Z",
     "shell.execute_reply": "2023-04-09T13:53:31.502840Z"
    },
    "papermill": {
     "duration": 0.030773,
     "end_time": "2023-04-09T13:53:31.505649",
     "exception": false,
     "start_time": "2023-04-09T13:53:31.474876",
     "status": "completed"
    },
    "tags": []
   },
   "outputs": [
    {
     "data": {
      "text/html": [
       "<div>\n",
       "<style scoped>\n",
       "    .dataframe tbody tr th:only-of-type {\n",
       "        vertical-align: middle;\n",
       "    }\n",
       "\n",
       "    .dataframe tbody tr th {\n",
       "        vertical-align: top;\n",
       "    }\n",
       "\n",
       "    .dataframe thead th {\n",
       "        text-align: right;\n",
       "    }\n",
       "</style>\n",
       "<table border=\"1\" class=\"dataframe\">\n",
       "  <thead>\n",
       "    <tr style=\"text-align: right;\">\n",
       "      <th></th>\n",
       "      <th>File</th>\n",
       "      <th>class_</th>\n",
       "    </tr>\n",
       "  </thead>\n",
       "  <tbody>\n",
       "    <tr>\n",
       "      <th>5</th>\n",
       "      <td>/kaggle/input/satelite-images/Images/mediumres...</td>\n",
       "      <td>mediumresidential</td>\n",
       "    </tr>\n",
       "    <tr>\n",
       "      <th>695</th>\n",
       "      <td>/kaggle/input/satelite-images/Images/parkinglo...</td>\n",
       "      <td>parkinglot</td>\n",
       "    </tr>\n",
       "    <tr>\n",
       "      <th>1401</th>\n",
       "      <td>/kaggle/input/satelite-images/Images/tenniscou...</td>\n",
       "      <td>tenniscourt</td>\n",
       "    </tr>\n",
       "    <tr>\n",
       "      <th>905</th>\n",
       "      <td>/kaggle/input/satelite-images/Images/storageta...</td>\n",
       "      <td>storagetanks</td>\n",
       "    </tr>\n",
       "    <tr>\n",
       "      <th>264</th>\n",
       "      <td>/kaggle/input/satelite-images/Images/storageta...</td>\n",
       "      <td>storagetanks</td>\n",
       "    </tr>\n",
       "    <tr>\n",
       "      <th>...</th>\n",
       "      <td>...</td>\n",
       "      <td>...</td>\n",
       "    </tr>\n",
       "    <tr>\n",
       "      <th>1302</th>\n",
       "      <td>/kaggle/input/satelite-images/Images/forest/fo...</td>\n",
       "      <td>forest</td>\n",
       "    </tr>\n",
       "    <tr>\n",
       "      <th>453</th>\n",
       "      <td>/kaggle/input/satelite-images/Images/overpass/...</td>\n",
       "      <td>overpass</td>\n",
       "    </tr>\n",
       "    <tr>\n",
       "      <th>865</th>\n",
       "      <td>/kaggle/input/satelite-images/Images/overpass/...</td>\n",
       "      <td>overpass</td>\n",
       "    </tr>\n",
       "    <tr>\n",
       "      <th>547</th>\n",
       "      <td>/kaggle/input/satelite-images/Images/river/riv...</td>\n",
       "      <td>river</td>\n",
       "    </tr>\n",
       "    <tr>\n",
       "      <th>20</th>\n",
       "      <td>/kaggle/input/satelite-images/Images/tenniscou...</td>\n",
       "      <td>tenniscourt</td>\n",
       "    </tr>\n",
       "  </tbody>\n",
       "</table>\n",
       "<p>1680 rows × 2 columns</p>\n",
       "</div>"
      ],
      "text/plain": [
       "                                                   File             class_\n",
       "5     /kaggle/input/satelite-images/Images/mediumres...  mediumresidential\n",
       "695   /kaggle/input/satelite-images/Images/parkinglo...         parkinglot\n",
       "1401  /kaggle/input/satelite-images/Images/tenniscou...        tenniscourt\n",
       "905   /kaggle/input/satelite-images/Images/storageta...       storagetanks\n",
       "264   /kaggle/input/satelite-images/Images/storageta...       storagetanks\n",
       "...                                                 ...                ...\n",
       "1302  /kaggle/input/satelite-images/Images/forest/fo...             forest\n",
       "453   /kaggle/input/satelite-images/Images/overpass/...           overpass\n",
       "865   /kaggle/input/satelite-images/Images/overpass/...           overpass\n",
       "547   /kaggle/input/satelite-images/Images/river/riv...              river\n",
       "20    /kaggle/input/satelite-images/Images/tenniscou...        tenniscourt\n",
       "\n",
       "[1680 rows x 2 columns]"
      ]
     },
     "execution_count": 4,
     "metadata": {},
     "output_type": "execute_result"
    }
   ],
   "source": [
    "train_data=train_data.sample(frac=1)\n",
    "train_data"
   ]
  },
  {
   "cell_type": "code",
   "execution_count": 5,
   "id": "b15173b1",
   "metadata": {
    "execution": {
     "iopub.execute_input": "2023-04-09T13:53:31.525626Z",
     "iopub.status.busy": "2023-04-09T13:53:31.524196Z",
     "iopub.status.idle": "2023-04-09T13:53:31.528880Z",
     "shell.execute_reply": "2023-04-09T13:53:31.528046Z"
    },
    "papermill": {
     "duration": 0.016347,
     "end_time": "2023-04-09T13:53:31.530804",
     "exception": false,
     "start_time": "2023-04-09T13:53:31.514457",
     "status": "completed"
    },
    "tags": []
   },
   "outputs": [],
   "source": [
    "SIZE=448\n",
    "size = [SIZE, SIZE ,3]"
   ]
  },
  {
   "cell_type": "code",
   "execution_count": 6,
   "id": "d9c7dfbc",
   "metadata": {
    "execution": {
     "iopub.execute_input": "2023-04-09T13:53:31.550896Z",
     "iopub.status.busy": "2023-04-09T13:53:31.549411Z",
     "iopub.status.idle": "2023-04-09T13:53:31.555936Z",
     "shell.execute_reply": "2023-04-09T13:53:31.554995Z"
    },
    "papermill": {
     "duration": 0.018243,
     "end_time": "2023-04-09T13:53:31.557919",
     "exception": false,
     "start_time": "2023-04-09T13:53:31.539676",
     "status": "completed"
    },
    "tags": []
   },
   "outputs": [],
   "source": [
    "train_datagen = ImageDataGenerator(\n",
    "    rescale=1.0 / 255,\n",
    "    rotation_range=40,\n",
    "    width_shift_range=0.2,\n",
    "    height_shift_range=0.2,\n",
    "    shear_range=0.2,\n",
    "    zoom_range=0.2,\n",
    "    horizontal_flip=True,\n",
    "    validation_split=.1,\n",
    "    fill_mode=\"nearest\",\n",
    ")\n",
    "batch_size=64"
   ]
  },
  {
   "cell_type": "code",
   "execution_count": 7,
   "id": "b09dc7b6",
   "metadata": {
    "execution": {
     "iopub.execute_input": "2023-04-09T13:53:31.577665Z",
     "iopub.status.busy": "2023-04-09T13:53:31.576272Z",
     "iopub.status.idle": "2023-04-09T13:53:36.834173Z",
     "shell.execute_reply": "2023-04-09T13:53:36.832230Z"
    },
    "papermill": {
     "duration": 5.269593,
     "end_time": "2023-04-09T13:53:36.836256",
     "exception": false,
     "start_time": "2023-04-09T13:53:31.566663",
     "status": "completed"
    },
    "tags": []
   },
   "outputs": [
    {
     "name": "stdout",
     "output_type": "stream",
     "text": [
      "Found 1512 validated image filenames belonging to 21 classes.\n",
      "Found 168 validated image filenames belonging to 21 classes.\n"
     ]
    }
   ],
   "source": [
    "train_images = train_datagen.flow_from_dataframe(\n",
    "    dataframe=train_data,\n",
    "    x_col='File',\n",
    "    y_col='class_',\n",
    "    target_size=(SIZE, SIZE),\n",
    "    color_mode='rgb',\n",
    "    class_mode='categorical',\n",
    "    batch_size=batch_size,\n",
    "    shuffle=True,\n",
    "    seed=42,\n",
    "    subset='training'\n",
    ")\n",
    "valid_images = train_datagen.flow_from_dataframe(\n",
    "    dataframe=train_data,\n",
    "    x_col='File',\n",
    "    y_col='class_',\n",
    "    target_size=(SIZE, SIZE),\n",
    "    color_mode='rgb',\n",
    "    class_mode='categorical',\n",
    "    batch_size=batch_size,\n",
    "    shuffle=True,\n",
    "    seed=42,\n",
    "    subset='validation'\n",
    ")\n"
   ]
  },
  {
   "cell_type": "markdown",
   "id": "3458c0f8",
   "metadata": {
    "papermill": {
     "duration": 0.009277,
     "end_time": "2023-04-09T13:53:36.855185",
     "exception": false,
     "start_time": "2023-04-09T13:53:36.845908",
     "status": "completed"
    },
    "tags": []
   },
   "source": [
    "# freezing nescessary pararametres"
   ]
  },
  {
   "cell_type": "code",
   "execution_count": 8,
   "id": "dffbc358",
   "metadata": {
    "execution": {
     "iopub.execute_input": "2023-04-09T13:53:36.874292Z",
     "iopub.status.busy": "2023-04-09T13:53:36.874002Z",
     "iopub.status.idle": "2023-04-09T13:53:37.340834Z",
     "shell.execute_reply": "2023-04-09T13:53:37.339908Z"
    },
    "papermill": {
     "duration": 0.479906,
     "end_time": "2023-04-09T13:53:37.343982",
     "exception": false,
     "start_time": "2023-04-09T13:53:36.864076",
     "status": "completed"
    },
    "tags": []
   },
   "outputs": [],
   "source": [
    "import tensorflow_hub as hub"
   ]
  },
  {
   "cell_type": "code",
   "execution_count": 9,
   "id": "e302dfb5",
   "metadata": {
    "execution": {
     "iopub.execute_input": "2023-04-09T13:53:37.363340Z",
     "iopub.status.busy": "2023-04-09T13:53:37.362990Z",
     "iopub.status.idle": "2023-04-09T13:53:37.368095Z",
     "shell.execute_reply": "2023-04-09T13:53:37.366934Z"
    },
    "papermill": {
     "duration": 0.017285,
     "end_time": "2023-04-09T13:53:37.370451",
     "exception": false,
     "start_time": "2023-04-09T13:53:37.353166",
     "status": "completed"
    },
    "tags": []
   },
   "outputs": [],
   "source": [
    "def get_from_hub(model_url):\n",
    "    inputs = tf.keras.Input((batch_size,SIZE, SIZE, 3))\n",
    "    hub_module = hub.KerasLayer(model_url,trainable=False)\n",
    "    outputs = hub_module(inputs)\n",
    "    return tf.keras.Model(inputs, outputs)"
   ]
  },
  {
   "cell_type": "code",
   "execution_count": 10,
   "id": "e8d861c3",
   "metadata": {
    "execution": {
     "iopub.execute_input": "2023-04-09T13:53:37.389254Z",
     "iopub.status.busy": "2023-04-09T13:53:37.388981Z",
     "iopub.status.idle": "2023-04-09T13:53:37.393602Z",
     "shell.execute_reply": "2023-04-09T13:53:37.392613Z"
    },
    "papermill": {
     "duration": 0.016349,
     "end_time": "2023-04-09T13:53:37.395689",
     "exception": false,
     "start_time": "2023-04-09T13:53:37.379340",
     "status": "completed"
    },
    "tags": []
   },
   "outputs": [],
   "source": [
    "def name_and_freeze(model,name=\"\"):\n",
    "    for layer in model.layers[:]:\n",
    "      layer.trainable = False\n",
    "    for layer in model.layers:\n",
    "        layer._name = layer.name + str(name)\n",
    "    "
   ]
  },
  {
   "cell_type": "code",
   "execution_count": 11,
   "id": "0fe07857",
   "metadata": {
    "execution": {
     "iopub.execute_input": "2023-04-09T13:53:37.415106Z",
     "iopub.status.busy": "2023-04-09T13:53:37.414814Z",
     "iopub.status.idle": "2023-04-09T13:53:37.420682Z",
     "shell.execute_reply": "2023-04-09T13:53:37.419825Z"
    },
    "papermill": {
     "duration": 0.018049,
     "end_time": "2023-04-09T13:53:37.422880",
     "exception": false,
     "start_time": "2023-04-09T13:53:37.404831",
     "status": "completed"
    },
    "tags": []
   },
   "outputs": [],
   "source": [
    "def se_block(inputs):\n",
    "    input_channels = inputs.shape[-1]\n",
    "    x = tf.keras.layers.GlobalAveragePooling2D()(inputs)\n",
    "    x = tf.keras.layers.Dense(units=len(train_images.class_indices.keys()), activation=\"relu\")(x)    \n",
    "    x = tf.keras.layers.Dense(units=input_channels, activation=\"sigmoid\")(x)    \n",
    "    x = tf.reshape(x, [-1, 1, 1, input_channels])\n",
    "    x = inputs * x\n",
    "    return x"
   ]
  },
  {
   "cell_type": "code",
   "execution_count": 12,
   "id": "018a5d63",
   "metadata": {
    "execution": {
     "iopub.execute_input": "2023-04-09T13:53:37.441459Z",
     "iopub.status.busy": "2023-04-09T13:53:37.441199Z",
     "iopub.status.idle": "2023-04-09T13:53:37.448159Z",
     "shell.execute_reply": "2023-04-09T13:53:37.446864Z"
    },
    "papermill": {
     "duration": 0.018571,
     "end_time": "2023-04-09T13:53:37.450161",
     "exception": false,
     "start_time": "2023-04-09T13:53:37.431590",
     "status": "completed"
    },
    "tags": []
   },
   "outputs": [],
   "source": [
    "def dilation_block(inputs,dilation_rates):\n",
    "    outputs = []\n",
    "    for dilation_rate in dilation_rates:\n",
    "        x = tf.keras.layers.Conv2D(filters=len(train_images.class_indices.keys()), kernel_size=3, strides=1, padding=\"same\", dilation_rate=dilation_rate)(inputs)\n",
    "        x = tf.keras.layers.BatchNormalization()(x)\n",
    "        x = tf.keras.layers.ReLU()(x)\n",
    "        outputs.append(x)\n",
    "    x = tf.keras.layers.Concatenate(axis=-1)(outputs)\n",
    "    return x"
   ]
  },
  {
   "cell_type": "markdown",
   "id": "9bbd490b",
   "metadata": {
    "papermill": {
     "duration": 0.00859,
     "end_time": "2023-04-09T13:53:37.467763",
     "exception": false,
     "start_time": "2023-04-09T13:53:37.459173",
     "status": "completed"
    },
    "tags": []
   },
   "source": [
    "# Importing Vit"
   ]
  },
  {
   "cell_type": "code",
   "execution_count": 13,
   "id": "39234fe5",
   "metadata": {
    "execution": {
     "iopub.execute_input": "2023-04-09T13:53:37.486350Z",
     "iopub.status.busy": "2023-04-09T13:53:37.486086Z",
     "iopub.status.idle": "2023-04-09T13:53:45.769404Z",
     "shell.execute_reply": "2023-04-09T13:53:45.768394Z"
    },
    "papermill": {
     "duration": 8.295339,
     "end_time": "2023-04-09T13:53:45.771895",
     "exception": false,
     "start_time": "2023-04-09T13:53:37.476556",
     "status": "completed"
    },
    "tags": []
   },
   "outputs": [
    {
     "name": "stdout",
     "output_type": "stream",
     "text": [
      "Downloading data from https://github.com/faustomorales/vit-keras/releases/download/dl/ViT-B_32_imagenet21k+imagenet2012.npz\n",
      "353255424/353253686 [==============================] - 2s 0us/step\n",
      "353263616/353253686 [==============================] - 2s 0us/step\n"
     ]
    },
    {
     "name": "stderr",
     "output_type": "stream",
     "text": [
      "/opt/conda/lib/python3.7/site-packages/vit_keras/utils.py:83: UserWarning: Resizing position embeddings from 12, 12 to 14, 14\n",
      "  UserWarning,\n"
     ]
    }
   ],
   "source": [
    "vit_big = vit.vit_b32(\n",
    "        image_size = SIZE,\n",
    "        activation = 'softmax',\n",
    "        pretrained = True,\n",
    "        include_top = False,\n",
    "        pretrained_top = False,\n",
    "        )"
   ]
  },
  {
   "cell_type": "code",
   "execution_count": 14,
   "id": "26dde403",
   "metadata": {
    "execution": {
     "iopub.execute_input": "2023-04-09T13:53:45.796630Z",
     "iopub.status.busy": "2023-04-09T13:53:45.796324Z",
     "iopub.status.idle": "2023-04-09T13:53:45.800610Z",
     "shell.execute_reply": "2023-04-09T13:53:45.799579Z"
    },
    "papermill": {
     "duration": 0.019168,
     "end_time": "2023-04-09T13:53:45.802841",
     "exception": false,
     "start_time": "2023-04-09T13:53:45.783673",
     "status": "completed"
    },
    "tags": []
   },
   "outputs": [],
   "source": [
    "# vit_large = vit.vit_l32(\n",
    "#         image_size = SIZE,\n",
    "#         activation = 'softmax',\n",
    "#         pretrained = True,\n",
    "#         include_top = False,\n",
    "#         pretrained_top = False,\n",
    "#         )"
   ]
  },
  {
   "cell_type": "markdown",
   "id": "f1c5188d",
   "metadata": {
    "papermill": {
     "duration": 0.010985,
     "end_time": "2023-04-09T13:53:45.825181",
     "exception": false,
     "start_time": "2023-04-09T13:53:45.814196",
     "status": "completed"
    },
    "tags": []
   },
   "source": [
    "#  Fine-tuning vit"
   ]
  },
  {
   "cell_type": "code",
   "execution_count": 15,
   "id": "dc2f64f5",
   "metadata": {
    "execution": {
     "iopub.execute_input": "2023-04-09T13:53:45.848901Z",
     "iopub.status.busy": "2023-04-09T13:53:45.848608Z",
     "iopub.status.idle": "2023-04-09T13:53:45.858436Z",
     "shell.execute_reply": "2023-04-09T13:53:45.857525Z"
    },
    "papermill": {
     "duration": 0.024057,
     "end_time": "2023-04-09T13:53:45.860493",
     "exception": false,
     "start_time": "2023-04-09T13:53:45.836436",
     "status": "completed"
    },
    "tags": []
   },
   "outputs": [],
   "source": [
    "# name_and_freeze(vit_large,'vit_large_')\n",
    "name_and_freeze(vit_big,'vit_big_')"
   ]
  },
  {
   "cell_type": "code",
   "execution_count": 16,
   "id": "37407379",
   "metadata": {
    "execution": {
     "iopub.execute_input": "2023-04-09T13:53:45.884680Z",
     "iopub.status.busy": "2023-04-09T13:53:45.883943Z",
     "iopub.status.idle": "2023-04-09T13:53:45.926225Z",
     "shell.execute_reply": "2023-04-09T13:53:45.925338Z"
    },
    "papermill": {
     "duration": 0.056769,
     "end_time": "2023-04-09T13:53:45.928471",
     "exception": false,
     "start_time": "2023-04-09T13:53:45.871702",
     "status": "completed"
    },
    "tags": []
   },
   "outputs": [],
   "source": [
    "from tensorflow.keras import regularizers\n",
    "x =vit_big.output\n",
    "x=tf.keras.layers.BatchNormalization(axis=-1, momentum=0.99, epsilon=0.001 )(x)\n",
    "x = Dense(512, kernel_regularizer = regularizers.l2(l = 0.016),activity_regularizer=regularizers.l1(0.006),\n",
    "                bias_regularizer=regularizers.l1(0.006) ,activation='relu')(x)\n",
    "x=Dense(256,activation='relu')(x)\n",
    "x_vit_big = Dense(128, activation='relu')(x)\n",
    "\n",
    "# x =vit_large.output\n",
    "# x=tf.keras.layers.BatchNormalization(axis=-1, momentum=0.99, epsilon=0.001 )(x)\n",
    "# x = Dense(32, kernel_regularizer = regularizers.l2(l = 0.016),activity_regularizer=regularizers.l1(0.006),\n",
    "#                 bias_regularizer=regularizers.l1(0.006) ,activation='relu')(x)\n",
    "# x=Dense(256,activation='relu')(x)\n",
    "# x_vit_large = Dense(128, activation='relu')(x)"
   ]
  },
  {
   "cell_type": "markdown",
   "id": "a132096f",
   "metadata": {
    "papermill": {
     "duration": 0.010957,
     "end_time": "2023-04-09T13:53:45.950860",
     "exception": false,
     "start_time": "2023-04-09T13:53:45.939903",
     "status": "completed"
    },
    "tags": []
   },
   "source": [
    "# importing cnn models"
   ]
  },
  {
   "cell_type": "code",
   "execution_count": 17,
   "id": "8a761afc",
   "metadata": {
    "execution": {
     "iopub.execute_input": "2023-04-09T13:53:45.974784Z",
     "iopub.status.busy": "2023-04-09T13:53:45.974521Z",
     "iopub.status.idle": "2023-04-09T13:53:48.785236Z",
     "shell.execute_reply": "2023-04-09T13:53:48.783505Z"
    },
    "papermill": {
     "duration": 2.827385,
     "end_time": "2023-04-09T13:53:48.789743",
     "exception": false,
     "start_time": "2023-04-09T13:53:45.962358",
     "status": "completed"
    },
    "tags": []
   },
   "outputs": [
    {
     "name": "stdout",
     "output_type": "stream",
     "text": [
      "Downloading data from https://storage.googleapis.com/tensorflow/keras-applications/densenet/densenet121_weights_tf_dim_ordering_tf_kernels_notop.h5\n",
      "29089792/29084464 [==============================] - 0s 0us/step\n",
      "29097984/29084464 [==============================] - 0s 0us/step\n"
     ]
    }
   ],
   "source": [
    "# resnet152= tf.keras.applications.ResNet152V2(input_shape=size,include_top=False, weights='imagenet',)\n",
    "# mobilenet= tf.keras.applications.MobileNetV3Large(input_shape=size,include_top=False, weights='imagenet')\n",
    "# xception= tf.keras.applications.Xception(input_shape=size,include_top=False, weights='imagenet')\n",
    "# effecientnet= tf.keras.applications.EfficientNetB7(input_shape=size,include_top=False, weights='imagenet')\n",
    "densenet=tf.keras.applications.DenseNet121(input_shape=size,include_top=False, weights='imagenet')\n",
    "# incepresnet=tf.keras.applications.InceptionResNetV2(input_shape=size,include_top=False, weights='imagenet')"
   ]
  },
  {
   "cell_type": "code",
   "execution_count": 18,
   "id": "27b7fdda",
   "metadata": {
    "execution": {
     "iopub.execute_input": "2023-04-09T13:53:48.826626Z",
     "iopub.status.busy": "2023-04-09T13:53:48.826313Z",
     "iopub.status.idle": "2023-04-09T13:53:48.831243Z",
     "shell.execute_reply": "2023-04-09T13:53:48.830318Z"
    },
    "papermill": {
     "duration": 0.020187,
     "end_time": "2023-04-09T13:53:48.833692",
     "exception": false,
     "start_time": "2023-04-09T13:53:48.813505",
     "status": "completed"
    },
    "tags": []
   },
   "outputs": [
    {
     "name": "stdout",
     "output_type": "stream",
     "text": [
      "KerasTensor(type_spec=TensorSpec(shape=(None, 14, 14, 1024), dtype=tf.float32, name=None), name='relu/Relu:0', description=\"created by layer 'relu'\")\n"
     ]
    }
   ],
   "source": [
    "# print(xception.output)\n",
    "# print(resnet152.output)\n",
    "# print(mobilenet.output)\n",
    "# print(effecientnet.output)\n",
    "print(densenet.output)\n",
    "# print(incepresnet.output)"
   ]
  },
  {
   "cell_type": "code",
   "execution_count": 19,
   "id": "e1d1d65a",
   "metadata": {
    "execution": {
     "iopub.execute_input": "2023-04-09T13:53:48.858610Z",
     "iopub.status.busy": "2023-04-09T13:53:48.857837Z",
     "iopub.status.idle": "2023-04-09T13:53:48.881689Z",
     "shell.execute_reply": "2023-04-09T13:53:48.880804Z"
    },
    "papermill": {
     "duration": 0.038569,
     "end_time": "2023-04-09T13:53:48.884022",
     "exception": false,
     "start_time": "2023-04-09T13:53:48.845453",
     "status": "completed"
    },
    "tags": []
   },
   "outputs": [],
   "source": [
    "# name_and_freeze(resnet152,'resnet152_')\n",
    "# name_and_freeze(mobilenet,'mobilenet_')\n",
    "# name_and_freeze(xception,'xception_')\n",
    "# name_and_freeze(effecientnet,'effecientnet_')\n",
    "name_and_freeze(densenet,'densenet_')\n",
    "# name_and_freeze(incepresnet,'incepResnet_')"
   ]
  },
  {
   "cell_type": "code",
   "execution_count": 20,
   "id": "dad7ea3d",
   "metadata": {
    "execution": {
     "iopub.execute_input": "2023-04-09T13:53:48.908264Z",
     "iopub.status.busy": "2023-04-09T13:53:48.908004Z",
     "iopub.status.idle": "2023-04-09T13:53:48.914793Z",
     "shell.execute_reply": "2023-04-09T13:53:48.913895Z"
    },
    "papermill": {
     "duration": 0.021028,
     "end_time": "2023-04-09T13:53:48.916734",
     "exception": false,
     "start_time": "2023-04-09T13:53:48.895706",
     "status": "completed"
    },
    "tags": []
   },
   "outputs": [],
   "source": [
    "def get_model(base_model):\n",
    "    x = tf.keras.layers.GlobalAveragePooling2D()(se_block(dilation_block(base_model.output,[2,3,5,7])))\n",
    "    x=tf.keras.layers.BatchNormalization(axis=-1, momentum=0.99, epsilon=0.001 )(x)\n",
    "    x = Dense(512, kernel_regularizer = regularizers.l2(l = 0.016),activity_regularizer=regularizers.l1(0.006),\n",
    "                    bias_regularizer=regularizers.l1(0.006) ,activation='relu')(x)\n",
    "    x=Dense(256,activation='relu')(x)\n",
    "    return Dense(128,activation='relu')(x)"
   ]
  },
  {
   "cell_type": "markdown",
   "id": "5f137929",
   "metadata": {
    "papermill": {
     "duration": 0.011443,
     "end_time": "2023-04-09T13:53:48.939722",
     "exception": false,
     "start_time": "2023-04-09T13:53:48.928279",
     "status": "completed"
    },
    "tags": []
   },
   "source": [
    "# fine tuning CNN models"
   ]
  },
  {
   "cell_type": "code",
   "execution_count": 21,
   "id": "0f2542eb",
   "metadata": {
    "execution": {
     "iopub.execute_input": "2023-04-09T13:53:48.964709Z",
     "iopub.status.busy": "2023-04-09T13:53:48.964452Z",
     "iopub.status.idle": "2023-04-09T13:53:49.114985Z",
     "shell.execute_reply": "2023-04-09T13:53:49.114038Z"
    },
    "papermill": {
     "duration": 0.165719,
     "end_time": "2023-04-09T13:53:49.117134",
     "exception": false,
     "start_time": "2023-04-09T13:53:48.951415",
     "status": "completed"
    },
    "tags": []
   },
   "outputs": [],
   "source": [
    "# x_resnet152v2=get_model(resnet152)\n",
    "# x_xception=get_model(xception)\n",
    "# x_mobilenet=get_model(mobilenet)\n",
    "# x_incepresnet=get_model(incepresnet)\n",
    "# x_effecientnet=get_model(effecientnet)\n",
    "x_densenet=get_model(densenet)"
   ]
  },
  {
   "cell_type": "markdown",
   "id": "7fc0281c",
   "metadata": {
    "papermill": {
     "duration": 0.012965,
     "end_time": "2023-04-09T13:53:49.141950",
     "exception": false,
     "start_time": "2023-04-09T13:53:49.128985",
     "status": "completed"
    },
    "tags": []
   },
   "source": [
    "# constructing full model"
   ]
  },
  {
   "cell_type": "code",
   "execution_count": 22,
   "id": "02ae4cfa",
   "metadata": {
    "execution": {
     "iopub.execute_input": "2023-04-09T13:53:49.167298Z",
     "iopub.status.busy": "2023-04-09T13:53:49.166999Z",
     "iopub.status.idle": "2023-04-09T13:53:49.204758Z",
     "shell.execute_reply": "2023-04-09T13:53:49.203889Z"
    },
    "papermill": {
     "duration": 0.052311,
     "end_time": "2023-04-09T13:53:49.206702",
     "exception": false,
     "start_time": "2023-04-09T13:53:49.154391",
     "status": "completed"
    },
    "tags": []
   },
   "outputs": [],
   "source": [
    "from tensorflow.keras.layers import concatenate\n",
    "concatenated = concatenate([x_densenet, x_vit_big])\n",
    "bigmodel_prediction = Dense(len(train_images.class_indices), activation='softmax')(concatenated)\n",
    "model = Model([densenet.input, vit_big.input], bigmodel_prediction) \n",
    "from tensorflow.keras.utils import plot_model"
   ]
  },
  {
   "cell_type": "code",
   "execution_count": 23,
   "id": "952fcb57",
   "metadata": {
    "execution": {
     "iopub.execute_input": "2023-04-09T13:53:49.230917Z",
     "iopub.status.busy": "2023-04-09T13:53:49.230626Z",
     "iopub.status.idle": "2023-04-09T13:53:49.735672Z",
     "shell.execute_reply": "2023-04-09T13:53:49.734512Z"
    },
    "papermill": {
     "duration": 0.51965,
     "end_time": "2023-04-09T13:53:49.737892",
     "exception": false,
     "start_time": "2023-04-09T13:53:49.218242",
     "status": "completed"
    },
    "tags": []
   },
   "outputs": [
    {
     "name": "stdout",
     "output_type": "stream",
     "text": [
      "trainable parametres: 1550826 non trainable parametres: 94607504\n"
     ]
    }
   ],
   "source": [
    "trainable_params = sum([v.numpy().size for v in model.trainable_variables])\n",
    "non_trainable_params = sum([v.numpy().size for v in model.non_trainable_variables])\n",
    "print(\"trainable parametres: \"+ str(trainable_params) + \" non trainable parametres: \"+ str(non_trainable_params))"
   ]
  },
  {
   "cell_type": "markdown",
   "id": "ae1b3c8a",
   "metadata": {
    "papermill": {
     "duration": 0.011784,
     "end_time": "2023-04-09T13:53:49.761834",
     "exception": false,
     "start_time": "2023-04-09T13:53:49.750050",
     "status": "completed"
    },
    "tags": []
   },
   "source": [
    "# custom generator"
   ]
  },
  {
   "cell_type": "code",
   "execution_count": 24,
   "id": "0ea2a76c",
   "metadata": {
    "execution": {
     "iopub.execute_input": "2023-04-09T13:53:49.786907Z",
     "iopub.status.busy": "2023-04-09T13:53:49.786578Z",
     "iopub.status.idle": "2023-04-09T13:53:49.791512Z",
     "shell.execute_reply": "2023-04-09T13:53:49.790503Z"
    },
    "papermill": {
     "duration": 0.01975,
     "end_time": "2023-04-09T13:53:49.793591",
     "exception": false,
     "start_time": "2023-04-09T13:53:49.773841",
     "status": "completed"
    },
    "tags": []
   },
   "outputs": [],
   "source": [
    "def generator_two_img(gen):\n",
    "    while True:\n",
    "        X1i = gen.next()\n",
    "        yield [X1i[0],X1i[0]], X1i[1]"
   ]
  },
  {
   "cell_type": "markdown",
   "id": "ecf676be",
   "metadata": {
    "papermill": {
     "duration": 0.011571,
     "end_time": "2023-04-09T13:53:49.817058",
     "exception": false,
     "start_time": "2023-04-09T13:53:49.805487",
     "status": "completed"
    },
    "tags": []
   },
   "source": [
    "# training model"
   ]
  },
  {
   "cell_type": "code",
   "execution_count": 25,
   "id": "af80ece6",
   "metadata": {
    "execution": {
     "iopub.execute_input": "2023-04-09T13:53:49.841680Z",
     "iopub.status.busy": "2023-04-09T13:53:49.841414Z",
     "iopub.status.idle": "2023-04-09T13:53:50.055828Z",
     "shell.execute_reply": "2023-04-09T13:53:50.054878Z"
    },
    "papermill": {
     "duration": 0.229589,
     "end_time": "2023-04-09T13:53:50.058270",
     "exception": false,
     "start_time": "2023-04-09T13:53:49.828681",
     "status": "completed"
    },
    "tags": []
   },
   "outputs": [],
   "source": [
    "model.compile(loss=\"categorical_crossentropy\",optimizer=tf.optimizers.Adam(),metrics=['accuracy'])"
   ]
  },
  {
   "cell_type": "code",
   "execution_count": 26,
   "id": "e8b7bbe7",
   "metadata": {
    "execution": {
     "iopub.execute_input": "2023-04-09T13:53:50.086982Z",
     "iopub.status.busy": "2023-04-09T13:53:50.086650Z",
     "iopub.status.idle": "2023-04-09T14:23:08.060378Z",
     "shell.execute_reply": "2023-04-09T14:23:08.059217Z"
    },
    "papermill": {
     "duration": 1758.015366,
     "end_time": "2023-04-09T14:23:08.088834",
     "exception": false,
     "start_time": "2023-04-09T13:53:50.073468",
     "status": "completed"
    },
    "tags": []
   },
   "outputs": [
    {
     "name": "stdout",
     "output_type": "stream",
     "text": [
      "Epoch 1/20\n",
      "23/23 [==============================] - 122s 4s/step - loss: 12.6302 - accuracy: 0.6474 - val_loss: 9.2975 - val_accuracy: 0.5781\n",
      "Epoch 2/20\n",
      "23/23 [==============================] - 87s 4s/step - loss: 6.5660 - accuracy: 0.9068 - val_loss: 5.2092 - val_accuracy: 0.7188\n",
      "Epoch 3/20\n",
      "23/23 [==============================] - 86s 4s/step - loss: 3.4301 - accuracy: 0.9441 - val_loss: 2.8753 - val_accuracy: 0.9062\n",
      "Epoch 4/20\n",
      "23/23 [==============================] - 86s 4s/step - loss: 1.8441 - accuracy: 0.9572 - val_loss: 1.8572 - val_accuracy: 0.8906\n",
      "Epoch 5/20\n",
      "23/23 [==============================] - 85s 4s/step - loss: 1.0839 - accuracy: 0.9772 - val_loss: 1.4028 - val_accuracy: 0.8906\n",
      "Epoch 6/20\n",
      "23/23 [==============================] - 86s 4s/step - loss: 0.7361 - accuracy: 0.9675 - val_loss: 1.0363 - val_accuracy: 0.9062\n",
      "Epoch 7/20\n",
      "23/23 [==============================] - 86s 4s/step - loss: 0.5917 - accuracy: 0.9634 - val_loss: 0.9540 - val_accuracy: 0.9062\n",
      "Epoch 8/20\n",
      "23/23 [==============================] - 85s 4s/step - loss: 0.5494 - accuracy: 0.9606 - val_loss: 0.8439 - val_accuracy: 0.9062\n",
      "Epoch 9/20\n",
      "23/23 [==============================] - 85s 4s/step - loss: 0.4780 - accuracy: 0.9731 - val_loss: 0.7271 - val_accuracy: 0.9219\n",
      "Epoch 10/20\n",
      "23/23 [==============================] - 88s 4s/step - loss: 0.4149 - accuracy: 0.9772 - val_loss: 0.7679 - val_accuracy: 0.8750\n",
      "Epoch 11/20\n",
      "23/23 [==============================] - 86s 4s/step - loss: 0.3531 - accuracy: 0.9827 - val_loss: 0.5174 - val_accuracy: 0.9375\n",
      "Epoch 12/20\n",
      "23/23 [==============================] - 85s 4s/step - loss: 0.2891 - accuracy: 0.9869 - val_loss: 0.4110 - val_accuracy: 0.9375\n",
      "Epoch 13/20\n",
      "23/23 [==============================] - 85s 4s/step - loss: 0.2605 - accuracy: 0.9814 - val_loss: 0.4048 - val_accuracy: 0.9531\n",
      "Epoch 14/20\n",
      "23/23 [==============================] - 85s 4s/step - loss: 0.2991 - accuracy: 0.9724 - val_loss: 0.4931 - val_accuracy: 0.9141\n",
      "Epoch 15/20\n",
      "23/23 [==============================] - 86s 4s/step - loss: 0.3437 - accuracy: 0.9675 - val_loss: 0.6085 - val_accuracy: 0.8828\n",
      "Epoch 16/20\n",
      "23/23 [==============================] - 85s 4s/step - loss: 0.3465 - accuracy: 0.9675 - val_loss: 0.4748 - val_accuracy: 0.9219\n",
      "Epoch 17/20\n",
      "23/23 [==============================] - 87s 4s/step - loss: 0.3309 - accuracy: 0.9724 - val_loss: 0.5207 - val_accuracy: 0.9297\n",
      "Epoch 18/20\n",
      "23/23 [==============================] - 89s 4s/step - loss: 0.2637 - accuracy: 0.9890 - val_loss: 0.4345 - val_accuracy: 0.9219\n",
      "Epoch 19/20\n",
      "23/23 [==============================] - 86s 4s/step - loss: 0.2376 - accuracy: 0.9786 - val_loss: 0.2502 - val_accuracy: 0.9766\n",
      "Epoch 20/20\n",
      "23/23 [==============================] - 84s 4s/step - loss: 0.2115 - accuracy: 0.9827 - val_loss: 0.4022 - val_accuracy: 0.9453\n"
     ]
    }
   ],
   "source": [
    "batch_size=64\n",
    "history = model.fit(\n",
    "    generator_two_img(train_images),\n",
    "    validation_data=generator_two_img(valid_images),\n",
    "    validation_steps=valid_images.n//batch_size,\n",
    "    validation_batch_size=batch_size,\n",
    "    steps_per_epoch=train_images.n//batch_size,\n",
    "    batch_size=batch_size,\n",
    "    epochs=20,\n",
    ")\n"
   ]
  },
  {
   "cell_type": "code",
   "execution_count": 27,
   "id": "18485a71",
   "metadata": {
    "execution": {
     "iopub.execute_input": "2023-04-09T14:23:08.163963Z",
     "iopub.status.busy": "2023-04-09T14:23:08.163566Z",
     "iopub.status.idle": "2023-04-09T14:23:09.553030Z",
     "shell.execute_reply": "2023-04-09T14:23:09.551908Z"
    },
    "papermill": {
     "duration": 1.430035,
     "end_time": "2023-04-09T14:23:09.555831",
     "exception": false,
     "start_time": "2023-04-09T14:23:08.125796",
     "status": "completed"
    },
    "tags": []
   },
   "outputs": [],
   "source": [
    "model.save('1vit1cnndensenet.h5')"
   ]
  },
  {
   "cell_type": "markdown",
   "id": "fa0223c8",
   "metadata": {
    "papermill": {
     "duration": 0.036842,
     "end_time": "2023-04-09T14:23:09.629828",
     "exception": false,
     "start_time": "2023-04-09T14:23:09.592986",
     "status": "completed"
    },
    "tags": []
   },
   "source": [
    "# performance evaluation"
   ]
  },
  {
   "cell_type": "code",
   "execution_count": 28,
   "id": "78f41a97",
   "metadata": {
    "execution": {
     "iopub.execute_input": "2023-04-09T14:23:09.704912Z",
     "iopub.status.busy": "2023-04-09T14:23:09.703805Z",
     "iopub.status.idle": "2023-04-09T14:23:10.095345Z",
     "shell.execute_reply": "2023-04-09T14:23:10.094395Z"
    },
    "papermill": {
     "duration": 0.431087,
     "end_time": "2023-04-09T14:23:10.097415",
     "exception": false,
     "start_time": "2023-04-09T14:23:09.666328",
     "status": "completed"
    },
    "tags": []
   },
   "outputs": [
    {
     "name": "stderr",
     "output_type": "stream",
     "text": [
      "/opt/conda/lib/python3.7/site-packages/ipykernel_launcher.py:10: UserWarning: color is redundantly defined by the 'color' keyword argument and the fmt string \"go-\" (-> color='g'). The keyword argument will take precedence.\n",
      "  # Remove the CWD from sys.path while we load stuff.\n",
      "/opt/conda/lib/python3.7/site-packages/ipykernel_launcher.py:18: UserWarning: color is redundantly defined by the 'color' keyword argument and the fmt string \"g-o\" (-> color='g'). The keyword argument will take precedence.\n"
     ]
    },
    {
     "data": {
      "image/png": "[encoded data removed]",
      "text/plain": [
       "<Figure size 1440x720 with 2 Axes>"
      ]
     },
     "metadata": {
      "needs_background": "light"
     },
     "output_type": "display_data"
    }
   ],
   "source": [
    "epochs = list(range(len(history.history['accuracy'])))\n",
    "fig , ax = plt.subplots(1,2)\n",
    "train_acc = history.history['accuracy']\n",
    "train_loss = history.history['loss']\n",
    "val_acc = history.history['val_accuracy']\n",
    "val_loss = history.history['val_loss']\n",
    "\n",
    "fig.set_size_inches(20,10)\n",
    "\n",
    "ax[0].plot(epochs , train_acc , 'go-' ,color='r', label = 'Training Accuracy')\n",
    "ax[0].plot(epochs , val_acc , 'go-' , label = 'Validation Accuracy')\n",
    "ax[0].set_title('Training Accuracy')\n",
    "ax[0].legend()\n",
    "ax[0].set_xlabel(\"Epochs\")\n",
    "ax[0].set_ylabel(\"Accuracy\")\n",
    "\n",
    "\n",
    "ax[1].plot(epochs , train_loss , 'g-o' ,color='r', label = 'Training Loss')\n",
    "ax[1].plot(epochs , val_loss , 'go-' , label = 'Validation Loss')\n",
    "ax[1].set_title('Training Loss')\n",
    "ax[1].legend()\n",
    "ax[1].set_xlabel(\"Epochs\")\n",
    "ax[1].set_ylabel(\"Training Loss\")\n",
    "plt.show()"
   ]
  },
  {
   "cell_type": "code",
   "execution_count": 29,
   "id": "89ab4694",
   "metadata": {
    "execution": {
     "iopub.execute_input": "2023-04-09T14:23:10.175383Z",
     "iopub.status.busy": "2023-04-09T14:23:10.175085Z",
     "iopub.status.idle": "2023-04-09T14:23:11.623798Z",
     "shell.execute_reply": "2023-04-09T14:23:11.622863Z"
    },
    "papermill": {
     "duration": 1.490562,
     "end_time": "2023-04-09T14:23:11.626280",
     "exception": false,
     "start_time": "2023-04-09T14:23:10.135718",
     "status": "completed"
    },
    "tags": []
   },
   "outputs": [
    {
     "name": "stdout",
     "output_type": "stream",
     "text": [
      "Found 420 validated image filenames belonging to 21 classes.\n"
     ]
    }
   ],
   "source": [
    "test_generator = tf.keras.preprocessing.image.ImageDataGenerator(\n",
    "    rescale=1./255,\n",
    ")\n",
    "test_images = test_generator.flow_from_dataframe(\n",
    "    dataframe=test_data,\n",
    "    x_col='File',\n",
    "    y_col='class_',\n",
    "    target_size=(SIZE, SIZE),\n",
    "    color_mode='rgb',\n",
    "    class_mode='categorical',\n",
    "    batch_size=batch_size,\n",
    "    shuffle=False\n",
    ")"
   ]
  },
  {
   "cell_type": "code",
   "execution_count": 30,
   "id": "efd4965c",
   "metadata": {
    "execution": {
     "iopub.execute_input": "2023-04-09T14:23:11.703939Z",
     "iopub.status.busy": "2023-04-09T14:23:11.703554Z",
     "iopub.status.idle": "2023-04-09T14:23:11.708539Z",
     "shell.execute_reply": "2023-04-09T14:23:11.707394Z"
    },
    "papermill": {
     "duration": 0.046551,
     "end_time": "2023-04-09T14:23:11.710958",
     "exception": false,
     "start_time": "2023-04-09T14:23:11.664407",
     "status": "completed"
    },
    "tags": []
   },
   "outputs": [],
   "source": [
    "class_=train_images.class_indices.keys()"
   ]
  },
  {
   "cell_type": "code",
   "execution_count": 31,
   "id": "ff63e668",
   "metadata": {
    "execution": {
     "iopub.execute_input": "2023-04-09T14:23:11.787314Z",
     "iopub.status.busy": "2023-04-09T14:23:11.787039Z",
     "iopub.status.idle": "2023-04-09T14:23:11.792514Z",
     "shell.execute_reply": "2023-04-09T14:23:11.791523Z"
    },
    "papermill": {
     "duration": 0.046335,
     "end_time": "2023-04-09T14:23:11.794759",
     "exception": false,
     "start_time": "2023-04-09T14:23:11.748424",
     "status": "completed"
    },
    "tags": []
   },
   "outputs": [],
   "source": [
    "def prediction_generator(test_images):\n",
    "    k=0\n",
    "    for x in test_images:\n",
    "        k+=len(x[1])\n",
    "        yield [x[0],x[0]], x[1]\n",
    "        if(k>=test_images.n):\n",
    "            break"
   ]
  },
  {
   "cell_type": "code",
   "execution_count": 32,
   "id": "9fcadcd1",
   "metadata": {
    "execution": {
     "iopub.execute_input": "2023-04-09T14:23:11.871368Z",
     "iopub.status.busy": "2023-04-09T14:23:11.870577Z",
     "iopub.status.idle": "2023-04-09T14:23:27.050823Z",
     "shell.execute_reply": "2023-04-09T14:23:27.049888Z"
    },
    "papermill": {
     "duration": 15.221015,
     "end_time": "2023-04-09T14:23:27.052953",
     "exception": false,
     "start_time": "2023-04-09T14:23:11.831938",
     "status": "completed"
    },
    "tags": []
   },
   "outputs": [
    {
     "data": {
      "text/plain": [
       "0.9547619047619048"
      ]
     },
     "execution_count": 32,
     "metadata": {},
     "output_type": "execute_result"
    }
   ],
   "source": [
    "from sklearn.metrics import accuracy_score\n",
    "proba=model.predict(prediction_generator(test_images))\n",
    "predicted = np.argmax(proba,axis=1)\n",
    "true=test_images.labels\n",
    "accuracy_score(predicted, true)"
   ]
  },
  {
   "cell_type": "code",
   "execution_count": 33,
   "id": "a21daaf0",
   "metadata": {
    "execution": {
     "iopub.execute_input": "2023-04-09T14:23:27.130424Z",
     "iopub.status.busy": "2023-04-09T14:23:27.130099Z",
     "iopub.status.idle": "2023-04-09T14:23:29.646212Z",
     "shell.execute_reply": "2023-04-09T14:23:29.645129Z"
    },
    "papermill": {
     "duration": 2.557725,
     "end_time": "2023-04-09T14:23:29.648636",
     "exception": false,
     "start_time": "2023-04-09T14:23:27.090911",
     "status": "completed"
    },
    "tags": []
   },
   "outputs": [
    {
     "data": {
      "image/png": "[encoded data removed]",
      "text/plain": [
       "<Figure size 1152x1008 with 2 Axes>"
      ]
     },
     "metadata": {
      "needs_background": "light"
     },
     "output_type": "display_data"
    }
   ],
   "source": [
    "from sklearn.metrics import confusion_matrix\n",
    "import seaborn as sns\n",
    "class_=test_images.class_indices.keys()\n",
    "cm = confusion_matrix(true, predicted)\n",
    "fig = plt.figure(figsize=(16, 14))\n",
    "ax= plt.subplot()\n",
    "sns.heatmap(cm, annot=True, ax = ax,cmap=\"BuPu\"); \n",
    "ax.set_xlabel('Predicted', fontsize=20)\n",
    "ax.xaxis.set_label_position('bottom')\n",
    "plt.xticks(rotation=90)\n",
    "ax.xaxis.set_ticklabels(class_, fontsize = 10)\n",
    "ax.xaxis.tick_bottom()\n",
    "\n",
    "ax.set_ylabel('True', fontsize=20)\n",
    "ax.yaxis.set_ticklabels(class_, fontsize = 10)\n",
    "plt.yticks(rotation=0)\n",
    "\n",
    "plt.title('', fontsize=60)\n",
    "\n",
    "plt.savefig('ConMat24.png')\n",
    "plt.show()"
   ]
  },
  {
   "cell_type": "markdown",
   "id": "00eb07c1",
   "metadata": {
    "papermill": {
     "duration": 0.045508,
     "end_time": "2023-04-09T14:23:29.733751",
     "exception": false,
     "start_time": "2023-04-09T14:23:29.688243",
     "status": "completed"
    },
    "tags": []
   },
   "source": [
    "# ROC"
   ]
  },
  {
   "cell_type": "code",
   "execution_count": 34,
   "id": "54d28a6e",
   "metadata": {
    "execution": {
     "iopub.execute_input": "2023-04-09T14:23:29.816880Z",
     "iopub.status.busy": "2023-04-09T14:23:29.816496Z",
     "iopub.status.idle": "2023-04-09T14:23:30.286424Z",
     "shell.execute_reply": "2023-04-09T14:23:30.285354Z"
    },
    "papermill": {
     "duration": 0.514363,
     "end_time": "2023-04-09T14:23:30.289407",
     "exception": false,
     "start_time": "2023-04-09T14:23:29.775044",
     "status": "completed"
    },
    "tags": []
   },
   "outputs": [
    {
     "data": {
      "image/png": "[encoded data removed]",
      "text/plain": [
       "<Figure size 720x1152 with 1 Axes>"
      ]
     },
     "metadata": {
      "needs_background": "light"
     },
     "output_type": "display_data"
    }
   ],
   "source": [
    "from sklearn.metrics import roc_curve, roc_auc_score\n",
    "from matplotlib import cm\n",
    "n=len(true)\n",
    "dim=max(true)+1\n",
    "result=[]\n",
    "for i in true:\n",
    "    result.append([0 for i in range(dim)])\n",
    "    result[len(result)-1][i]=1\n",
    "    \n",
    "    \n",
    "fpr = dict()\n",
    "tpr = dict()\n",
    "roc_auc = dict()\n",
    "n_classes =len(test_images.class_indices.keys())\n",
    "y_test=np.array(result)\n",
    "y_pred=np.array(proba)\n",
    "fpr = dict()\n",
    "tpr = dict()\n",
    "roc_auc = dict()\n",
    "\n",
    "rev={}\n",
    "for i in class_:\n",
    "    rev[train_images.class_indices[i]]=i\n",
    "\n",
    "\n",
    "for i in range(n_classes):\n",
    "    fpr[i], tpr[i], _ = roc_curve(y_test[:, i], y_pred[:, i])\n",
    "    roc_auc[i] = roc_auc_score(y_test[:, i], y_pred[:, i])\n",
    "\n",
    "\n",
    "fpr[\"micro\"], tpr[\"micro\"], _ = roc_curve(y_test.ravel(), y_pred.ravel())\n",
    "roc_auc[\"micro\"] = roc_auc_score(y_test, y_pred, multi_class='ovr')\n",
    "\n",
    "\n",
    "cmap = cm.get_cmap('tab10')\n",
    "\n",
    "# Plot the ROC curve for each class and micro-average with automatic color selection\n",
    "plt.figure(figsize=(10,16))\n",
    "lw = 2\n",
    "for i in range(n_classes):\n",
    "    color = cmap(i)\n",
    "    plt.plot(fpr[i], tpr[i], color=color, lw=lw,\n",
    "             label='ROC curve of class {0} (area = {1:0.2f})'\n",
    "             ''.format(rev[i], roc_auc[i]))\n",
    "\n",
    "plt.plot(fpr[\"micro\"], tpr[\"micro\"],\n",
    "         label='micro-average ROC curve (area = {0:0.2f})'\n",
    "         ''.format(roc_auc[\"micro\"]),\n",
    "         color=cmap(n_classes), linestyle=':', linewidth=4)\n",
    "\n",
    "plt.plot([0, 1], [0, 1], 'k--', lw=lw)\n",
    "plt.xlim([0.0, 1.0])\n",
    "plt.ylim([0.0, 1.05])\n",
    "plt.xlabel('False Positive Rate')\n",
    "plt.ylabel('True Positive Rate')\n",
    "plt.title('ROC Curve')\n",
    "plt.legend(loc=\"lower right\")\n",
    "plt.show()\n"
   ]
  },
  {
   "cell_type": "markdown",
   "id": "aa186bd6",
   "metadata": {
    "papermill": {
     "duration": 0.041535,
     "end_time": "2023-04-09T14:23:30.377292",
     "exception": false,
     "start_time": "2023-04-09T14:23:30.335757",
     "status": "completed"
    },
    "tags": []
   },
   "source": [
    "# AUC"
   ]
  },
  {
   "cell_type": "code",
   "execution_count": 35,
   "id": "5e67cd53",
   "metadata": {
    "execution": {
     "iopub.execute_input": "2023-04-09T14:23:30.460303Z",
     "iopub.status.busy": "2023-04-09T14:23:30.459958Z",
     "iopub.status.idle": "2023-04-09T14:23:30.663758Z",
     "shell.execute_reply": "2023-04-09T14:23:30.662748Z"
    },
    "papermill": {
     "duration": 0.248042,
     "end_time": "2023-04-09T14:23:30.666141",
     "exception": false,
     "start_time": "2023-04-09T14:23:30.418099",
     "status": "completed"
    },
    "tags": []
   },
   "outputs": [
    {
     "data": {
      "image/png": "[encoded data removed]",
      "text/plain": [
       "<Figure size 432x288 with 1 Axes>"
      ]
     },
     "metadata": {
      "needs_background": "light"
     },
     "output_type": "display_data"
    }
   ],
   "source": [
    "from sklearn.metrics import roc_curve, auc\n",
    "import matplotlib.pyplot as plt\n",
    "\n",
    "y_true=y_test\n",
    "y_score=y_pred\n",
    "fpr, tpr, thresholds = roc_curve(y_test.ravel(), y_pred.ravel())\n",
    "roc_auc = auc(fpr, tpr)\n",
    "\n",
    "plt.figure()\n",
    "lw = 2\n",
    "plt.plot(fpr, tpr, color='darkorange',\n",
    "         lw=lw, label='ROC curve (area = %0.2f)' % roc_auc)\n",
    "plt.plot([0, 1], [0, 1], color='navy', lw=lw, linestyle='--')\n",
    "plt.xlim([0.0, 1.0])\n",
    "plt.ylim([0.0, 1.05])\n",
    "plt.xlabel('False Positive Rate')\n",
    "plt.ylabel('True Positive Rate')\n",
    "plt.title('AUC Curve')\n",
    "plt.legend(loc=\"lower right\")\n",
    "plt.show()"
   ]
  }
 ],
 "metadata": {
  "kernelspec": {
   "display_name": "Python 3",
   "language": "python",
   "name": "python3"
  },
  "language_info": {
   "codemirror_mode": {
    "name": "ipython",
    "version": 3
   },
   "file_extension": ".py",
   "mimetype": "text/x-python",
   "name": "python",
   "nbconvert_exporter": "python",
   "pygments_lexer": "ipython3",
   "version": "3.7.12"
  },
  "papermill": {
   "default_parameters": {},
   "duration": 1829.146029,
   "end_time": "2023-04-09T14:23:34.115841",
   "environment_variables": {},
   "exception": null,
   "input_path": "__notebook__.ipynb",
   "output_path": "__notebook__.ipynb",
   "parameters": {},
   "start_time": "2023-04-09T13:53:04.969812",
   "version": "2.3.4"
  }
 },
 "nbformat": 4,
 "nbformat_minor": 5
}
