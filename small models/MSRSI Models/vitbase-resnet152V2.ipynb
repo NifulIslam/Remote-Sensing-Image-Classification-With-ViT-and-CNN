{
 "cells": [
  {
   "cell_type": "markdown",
   "id": "5467ef68",
   "metadata": {
    "papermill": {
     "duration": 0.008898,
     "end_time": "2025-03-20T22:28:23.317556",
     "exception": false,
     "start_time": "2025-03-20T22:28:23.308658",
     "status": "completed"
    },
    "tags": []
   },
   "source": [
    "# basic imports"
   ]
  },
  {
   "cell_type": "code",
   "execution_count": 1,
   "id": "e67db0e6",
   "metadata": {
    "_cell_guid": "b1076dfc-b9ad-4769-8c92-a6c4dae69d19",
    "_uuid": "8f2839f25d086af736a60e9eeb907d3b93b6e0e5",
    "execution": {
     "iopub.execute_input": "2025-03-20T22:28:23.334564Z",
     "iopub.status.busy": "2025-03-20T22:28:23.334283Z",
     "iopub.status.idle": "2025-03-20T22:28:40.057547Z",
     "shell.execute_reply": "2025-03-20T22:28:40.056430Z"
    },
    "papermill": {
     "duration": 16.735399,
     "end_time": "2025-03-20T22:28:40.060215",
     "exception": false,
     "start_time": "2025-03-20T22:28:23.324816",
     "status": "completed"
    },
    "tags": []
   },
   "outputs": [
    {
     "name": "stdout",
     "output_type": "stream",
     "text": [
      "\u001b[33mWARNING: Running pip as the 'root' user can result in broken permissions and conflicting behaviour with the system package manager. It is recommended to use a virtual environment instead: https://pip.pypa.io/warnings/venv\u001b[0m\u001b[33m\r\n",
      "\u001b[0m"
     ]
    }
   ],
   "source": [
    "import numpy as np \n",
    "import pandas as pd\n",
    "import os\n",
    "import cv2\n",
    "import tensorflow\n",
    "import glob\n",
    "from matplotlib import pyplot as plt\n",
    "from tensorflow.keras.layers import Input, Lambda, Dense, Flatten,Dropout\n",
    "from tensorflow.keras.models import Model\n",
    "from tensorflow.keras.applications.inception_v3 import InceptionV3\n",
    "from tensorflow.keras.preprocessing import image\n",
    "from tensorflow.keras.preprocessing.image import ImageDataGenerator\n",
    "from tensorflow.keras.models import Sequential\n",
    "from tensorflow.keras.applications.vgg16 import VGG16\n",
    "from tensorflow.keras.applications.vgg19 import VGG19\n",
    "from tensorflow.keras.applications import EfficientNetB0\n",
    "import tensorflow as tf \n",
    "from tensorflow.keras import layers\n",
    "!pip install --quiet vit-keras\n",
    "from vit_keras import vit\n",
    "from tensorflow.keras.applications.resnet50 import ResNet50"
   ]
  },
  {
   "cell_type": "markdown",
   "id": "2a571a38",
   "metadata": {
    "papermill": {
     "duration": 0.006963,
     "end_time": "2025-03-20T22:28:40.074885",
     "exception": false,
     "start_time": "2025-03-20T22:28:40.067922",
     "status": "completed"
    },
    "tags": []
   },
   "source": [
    "# Reading Data"
   ]
  },
  {
   "cell_type": "code",
   "execution_count": 2,
   "id": "0c7d6d90",
   "metadata": {
    "execution": {
     "iopub.execute_input": "2025-03-20T22:28:40.091030Z",
     "iopub.status.busy": "2025-03-20T22:28:40.090185Z",
     "iopub.status.idle": "2025-03-20T22:28:40.094488Z",
     "shell.execute_reply": "2025-03-20T22:28:40.093740Z"
    },
    "papermill": {
     "duration": 0.014207,
     "end_time": "2025-03-20T22:28:40.096234",
     "exception": false,
     "start_time": "2025-03-20T22:28:40.082027",
     "status": "completed"
    },
    "tags": []
   },
   "outputs": [],
   "source": [
    "#ucm\n",
    "# train_data=pd.read_csv(\"/kaggle/input/satelite-csv/train.csv\")\n",
    "# train_data['File']=train_data['File'].apply(lambda x : '/kaggle/input/satelite-images/Images/'+x)\n",
    "# test_data=pd.read_csv(\"/kaggle/input/satelite-csv/test.csv\")\n",
    "# test_data['File']=test_data['File'].apply(lambda x : '/kaggle/input/satelite-images/Images/'+x)"
   ]
  },
  {
   "cell_type": "code",
   "execution_count": 3,
   "id": "b3d2bab4",
   "metadata": {
    "execution": {
     "iopub.execute_input": "2025-03-20T22:28:40.111202Z",
     "iopub.status.busy": "2025-03-20T22:28:40.110917Z",
     "iopub.status.idle": "2025-03-20T22:28:40.114366Z",
     "shell.execute_reply": "2025-03-20T22:28:40.113627Z"
    },
    "papermill": {
     "duration": 0.012774,
     "end_time": "2025-03-20T22:28:40.115934",
     "exception": false,
     "start_time": "2025-03-20T22:28:40.103160",
     "status": "completed"
    },
    "tags": []
   },
   "outputs": [],
   "source": [
    "# rsscn7\n",
    "# train_data=pd.read_csv(\"/kaggle/input/rsscn7-dataset/gamma-correct/train.csv\")\n",
    "# train_data['File']=train_data['File'].apply(lambda x : '/kaggle/input/rsscn7-dataset/gamma-correct/'+x)\n",
    "# test_data=pd.read_csv(\"/kaggle/input/rsscn7-dataset/gamma-correct/test.csv\")\n",
    "# test_data['File']=test_data['File'].apply(lambda x : '/kaggle/input/rsscn7-dataset/gamma-correct/'+x)"
   ]
  },
  {
   "cell_type": "code",
   "execution_count": 4,
   "id": "01eb7187",
   "metadata": {
    "execution": {
     "iopub.execute_input": "2025-03-20T22:28:40.131024Z",
     "iopub.status.busy": "2025-03-20T22:28:40.130760Z",
     "iopub.status.idle": "2025-03-20T22:28:40.207564Z",
     "shell.execute_reply": "2025-03-20T22:28:40.206886Z"
    },
    "papermill": {
     "duration": 0.08685,
     "end_time": "2025-03-20T22:28:40.209810",
     "exception": false,
     "start_time": "2025-03-20T22:28:40.122960",
     "status": "completed"
    },
    "tags": []
   },
   "outputs": [],
   "source": [
    "#msrsi\n",
    "train_data=pd.read_csv(\"/kaggle/input/msrsi-dataset/MSRSI/train_df.csv\")\n",
    "train_data['File']=train_data['File'].apply(lambda x : '/kaggle/input/msrsi-dataset/MSRSI/'+x)\n",
    "test_data=pd.read_csv(\"/kaggle/input/msrsi-dataset/MSRSI/test_df.csv\")\n",
    "test_data['File']=test_data['File'].apply(lambda x : '/kaggle/input/msrsi-dataset/MSRSI/'+x)"
   ]
  },
  {
   "cell_type": "code",
   "execution_count": 5,
   "id": "620475fe",
   "metadata": {
    "execution": {
     "iopub.execute_input": "2025-03-20T22:28:40.225206Z",
     "iopub.status.busy": "2025-03-20T22:28:40.224911Z",
     "iopub.status.idle": "2025-03-20T22:28:40.244324Z",
     "shell.execute_reply": "2025-03-20T22:28:40.243510Z"
    },
    "papermill": {
     "duration": 0.029,
     "end_time": "2025-03-20T22:28:40.246093",
     "exception": false,
     "start_time": "2025-03-20T22:28:40.217093",
     "status": "completed"
    },
    "tags": []
   },
   "outputs": [
    {
     "data": {
      "text/html": [
       "<div>\n",
       "<style scoped>\n",
       "    .dataframe tbody tr th:only-of-type {\n",
       "        vertical-align: middle;\n",
       "    }\n",
       "\n",
       "    .dataframe tbody tr th {\n",
       "        vertical-align: top;\n",
       "    }\n",
       "\n",
       "    .dataframe thead th {\n",
       "        text-align: right;\n",
       "    }\n",
       "</style>\n",
       "<table border=\"1\" class=\"dataframe\">\n",
       "  <thead>\n",
       "    <tr style=\"text-align: right;\">\n",
       "      <th></th>\n",
       "      <th>File</th>\n",
       "      <th>class_</th>\n",
       "    </tr>\n",
       "  </thead>\n",
       "  <tbody>\n",
       "    <tr>\n",
       "      <th>3884</th>\n",
       "      <td>/kaggle/input/msrsi-dataset/MSRSI/WastewaterPl...</td>\n",
       "      <td>WastewaterPlant</td>\n",
       "    </tr>\n",
       "    <tr>\n",
       "      <th>11281</th>\n",
       "      <td>/kaggle/input/msrsi-dataset/MSRSI/DenseResiden...</td>\n",
       "      <td>DenseResidential</td>\n",
       "    </tr>\n",
       "    <tr>\n",
       "      <th>12302</th>\n",
       "      <td>/kaggle/input/msrsi-dataset/MSRSI/WastewaterPl...</td>\n",
       "      <td>WastewaterPlant</td>\n",
       "    </tr>\n",
       "    <tr>\n",
       "      <th>11869</th>\n",
       "      <td>/kaggle/input/msrsi-dataset/MSRSI/Grassland/Gr...</td>\n",
       "      <td>Grassland</td>\n",
       "    </tr>\n",
       "    <tr>\n",
       "      <th>11420</th>\n",
       "      <td>/kaggle/input/msrsi-dataset/MSRSI/Grassland/Gr...</td>\n",
       "      <td>Grassland</td>\n",
       "    </tr>\n",
       "    <tr>\n",
       "      <th>...</th>\n",
       "      <td>...</td>\n",
       "      <td>...</td>\n",
       "    </tr>\n",
       "    <tr>\n",
       "      <th>4072</th>\n",
       "      <td>/kaggle/input/msrsi-dataset/MSRSI/Grassland/Gr...</td>\n",
       "      <td>Grassland</td>\n",
       "    </tr>\n",
       "    <tr>\n",
       "      <th>1767</th>\n",
       "      <td>/kaggle/input/msrsi-dataset/MSRSI/Grassland/Gr...</td>\n",
       "      <td>Grassland</td>\n",
       "    </tr>\n",
       "    <tr>\n",
       "      <th>15894</th>\n",
       "      <td>/kaggle/input/msrsi-dataset/MSRSI/Bridge/Bridg...</td>\n",
       "      <td>Bridge</td>\n",
       "    </tr>\n",
       "    <tr>\n",
       "      <th>7088</th>\n",
       "      <td>/kaggle/input/msrsi-dataset/MSRSI/Desert/Deser...</td>\n",
       "      <td>Desert</td>\n",
       "    </tr>\n",
       "    <tr>\n",
       "      <th>6430</th>\n",
       "      <td>/kaggle/input/msrsi-dataset/MSRSI/Airport/Airp...</td>\n",
       "      <td>Airport</td>\n",
       "    </tr>\n",
       "  </tbody>\n",
       "</table>\n",
       "<p>24000 rows × 2 columns</p>\n",
       "</div>"
      ],
      "text/plain": [
       "                                                    File            class_\n",
       "3884   /kaggle/input/msrsi-dataset/MSRSI/WastewaterPl...   WastewaterPlant\n",
       "11281  /kaggle/input/msrsi-dataset/MSRSI/DenseResiden...  DenseResidential\n",
       "12302  /kaggle/input/msrsi-dataset/MSRSI/WastewaterPl...   WastewaterPlant\n",
       "11869  /kaggle/input/msrsi-dataset/MSRSI/Grassland/Gr...         Grassland\n",
       "11420  /kaggle/input/msrsi-dataset/MSRSI/Grassland/Gr...         Grassland\n",
       "...                                                  ...               ...\n",
       "4072   /kaggle/input/msrsi-dataset/MSRSI/Grassland/Gr...         Grassland\n",
       "1767   /kaggle/input/msrsi-dataset/MSRSI/Grassland/Gr...         Grassland\n",
       "15894  /kaggle/input/msrsi-dataset/MSRSI/Bridge/Bridg...            Bridge\n",
       "7088   /kaggle/input/msrsi-dataset/MSRSI/Desert/Deser...            Desert\n",
       "6430   /kaggle/input/msrsi-dataset/MSRSI/Airport/Airp...           Airport\n",
       "\n",
       "[24000 rows x 2 columns]"
      ]
     },
     "execution_count": 5,
     "metadata": {},
     "output_type": "execute_result"
    }
   ],
   "source": [
    "train_data=train_data.sample(frac=1)\n",
    "train_data"
   ]
  },
  {
   "cell_type": "code",
   "execution_count": 6,
   "id": "ca27dfff",
   "metadata": {
    "execution": {
     "iopub.execute_input": "2025-03-20T22:28:40.261869Z",
     "iopub.status.busy": "2025-03-20T22:28:40.261619Z",
     "iopub.status.idle": "2025-03-20T22:28:40.265225Z",
     "shell.execute_reply": "2025-03-20T22:28:40.264396Z"
    },
    "papermill": {
     "duration": 0.013408,
     "end_time": "2025-03-20T22:28:40.266926",
     "exception": false,
     "start_time": "2025-03-20T22:28:40.253518",
     "status": "completed"
    },
    "tags": []
   },
   "outputs": [],
   "source": [
    "SIZE=448\n",
    "size = [SIZE, SIZE ,3]"
   ]
  },
  {
   "cell_type": "code",
   "execution_count": 7,
   "id": "04038435",
   "metadata": {
    "execution": {
     "iopub.execute_input": "2025-03-20T22:28:40.282430Z",
     "iopub.status.busy": "2025-03-20T22:28:40.282187Z",
     "iopub.status.idle": "2025-03-20T22:28:40.286539Z",
     "shell.execute_reply": "2025-03-20T22:28:40.285779Z"
    },
    "papermill": {
     "duration": 0.014091,
     "end_time": "2025-03-20T22:28:40.288232",
     "exception": false,
     "start_time": "2025-03-20T22:28:40.274141",
     "status": "completed"
    },
    "tags": []
   },
   "outputs": [],
   "source": [
    "train_datagen = ImageDataGenerator(\n",
    "    rescale=1.0 / 255,\n",
    "    rotation_range=40,\n",
    "    width_shift_range=0.2,\n",
    "    height_shift_range=0.2,\n",
    "    shear_range=0.2,\n",
    "    zoom_range=0.2,\n",
    "    horizontal_flip=True,\n",
    "    validation_split=.1,\n",
    "    fill_mode=\"nearest\",\n",
    ")\n",
    "batch_size=64"
   ]
  },
  {
   "cell_type": "code",
   "execution_count": 8,
   "id": "821fc090",
   "metadata": {
    "execution": {
     "iopub.execute_input": "2025-03-20T22:28:40.303669Z",
     "iopub.status.busy": "2025-03-20T22:28:40.303409Z",
     "iopub.status.idle": "2025-03-20T22:29:14.628342Z",
     "shell.execute_reply": "2025-03-20T22:29:14.627478Z"
    },
    "papermill": {
     "duration": 34.34221,
     "end_time": "2025-03-20T22:29:14.637660",
     "exception": false,
     "start_time": "2025-03-20T22:28:40.295450",
     "status": "completed"
    },
    "tags": []
   },
   "outputs": [
    {
     "name": "stdout",
     "output_type": "stream",
     "text": [
      "Found 21600 validated image filenames belonging to 15 classes.\n",
      "Found 2400 validated image filenames belonging to 15 classes.\n"
     ]
    }
   ],
   "source": [
    "train_images = train_datagen.flow_from_dataframe(\n",
    "    dataframe=train_data,\n",
    "    x_col='File',\n",
    "    y_col='class_',\n",
    "    target_size=(SIZE, SIZE),\n",
    "    color_mode='rgb',\n",
    "    class_mode='categorical',\n",
    "    batch_size=batch_size,\n",
    "    shuffle=True,\n",
    "    seed=42,\n",
    "    subset='training'\n",
    ")\n",
    "valid_images = train_datagen.flow_from_dataframe(\n",
    "    dataframe=train_data,\n",
    "    x_col='File',\n",
    "    y_col='class_',\n",
    "    target_size=(SIZE, SIZE),\n",
    "    color_mode='rgb',\n",
    "    class_mode='categorical',\n",
    "    batch_size=batch_size,\n",
    "    shuffle=True,\n",
    "    seed=42,\n",
    "    subset='validation'\n",
    ")\n"
   ]
  },
  {
   "cell_type": "markdown",
   "id": "02f5f6a3",
   "metadata": {
    "papermill": {
     "duration": 0.008126,
     "end_time": "2025-03-20T22:29:14.653359",
     "exception": false,
     "start_time": "2025-03-20T22:29:14.645233",
     "status": "completed"
    },
    "tags": []
   },
   "source": [
    "# freezing nescessary pararametres"
   ]
  },
  {
   "cell_type": "code",
   "execution_count": 9,
   "id": "30a38d82",
   "metadata": {
    "execution": {
     "iopub.execute_input": "2025-03-20T22:29:14.669625Z",
     "iopub.status.busy": "2025-03-20T22:29:14.669320Z",
     "iopub.status.idle": "2025-03-20T22:29:15.195139Z",
     "shell.execute_reply": "2025-03-20T22:29:15.194438Z"
    },
    "papermill": {
     "duration": 0.536413,
     "end_time": "2025-03-20T22:29:15.197218",
     "exception": false,
     "start_time": "2025-03-20T22:29:14.660805",
     "status": "completed"
    },
    "tags": []
   },
   "outputs": [],
   "source": [
    "import tensorflow_hub as hub"
   ]
  },
  {
   "cell_type": "code",
   "execution_count": 10,
   "id": "e2b0a85f",
   "metadata": {
    "execution": {
     "iopub.execute_input": "2025-03-20T22:29:15.213730Z",
     "iopub.status.busy": "2025-03-20T22:29:15.213431Z",
     "iopub.status.idle": "2025-03-20T22:29:15.217836Z",
     "shell.execute_reply": "2025-03-20T22:29:15.217044Z"
    },
    "papermill": {
     "duration": 0.014375,
     "end_time": "2025-03-20T22:29:15.219518",
     "exception": false,
     "start_time": "2025-03-20T22:29:15.205143",
     "status": "completed"
    },
    "tags": []
   },
   "outputs": [],
   "source": [
    "def get_from_hub(model_url):\n",
    "    inputs = tf.keras.Input((batch_size,SIZE, SIZE, 3))\n",
    "    hub_module = hub.KerasLayer(model_url,trainable=False)\n",
    "    outputs = hub_module(inputs)\n",
    "    return tf.keras.Model(inputs, outputs)"
   ]
  },
  {
   "cell_type": "code",
   "execution_count": 11,
   "id": "fc24ddf7",
   "metadata": {
    "execution": {
     "iopub.execute_input": "2025-03-20T22:29:15.235418Z",
     "iopub.status.busy": "2025-03-20T22:29:15.235162Z",
     "iopub.status.idle": "2025-03-20T22:29:15.239402Z",
     "shell.execute_reply": "2025-03-20T22:29:15.238723Z"
    },
    "papermill": {
     "duration": 0.014846,
     "end_time": "2025-03-20T22:29:15.241785",
     "exception": false,
     "start_time": "2025-03-20T22:29:15.226939",
     "status": "completed"
    },
    "tags": []
   },
   "outputs": [],
   "source": [
    "def name_and_freeze(model,name=\"\"):\n",
    "    for layer in model.layers[:]:\n",
    "      layer.trainable = False\n",
    "    for layer in model.layers:\n",
    "        layer._name = layer.name + str(name)\n",
    "    "
   ]
  },
  {
   "cell_type": "code",
   "execution_count": 12,
   "id": "3688ebb8",
   "metadata": {
    "execution": {
     "iopub.execute_input": "2025-03-20T22:29:15.259043Z",
     "iopub.status.busy": "2025-03-20T22:29:15.258761Z",
     "iopub.status.idle": "2025-03-20T22:29:15.263810Z",
     "shell.execute_reply": "2025-03-20T22:29:15.263120Z"
    },
    "papermill": {
     "duration": 0.015072,
     "end_time": "2025-03-20T22:29:15.265565",
     "exception": false,
     "start_time": "2025-03-20T22:29:15.250493",
     "status": "completed"
    },
    "tags": []
   },
   "outputs": [],
   "source": [
    "def se_block(inputs):\n",
    "    input_channels = inputs.shape[-1]\n",
    "    x = tf.keras.layers.GlobalAveragePooling2D()(inputs)\n",
    "    x = tf.keras.layers.Dense(units=len(train_images.class_indices.keys()), activation=\"relu\")(x)    \n",
    "    x = tf.keras.layers.Dense(units=input_channels, activation=\"sigmoid\")(x)    \n",
    "    x = tf.reshape(x, [-1, 1, 1, input_channels])\n",
    "    x = inputs * x\n",
    "    return x"
   ]
  },
  {
   "cell_type": "code",
   "execution_count": 13,
   "id": "f81da151",
   "metadata": {
    "execution": {
     "iopub.execute_input": "2025-03-20T22:29:15.281189Z",
     "iopub.status.busy": "2025-03-20T22:29:15.280914Z",
     "iopub.status.idle": "2025-03-20T22:29:15.285847Z",
     "shell.execute_reply": "2025-03-20T22:29:15.285112Z"
    },
    "papermill": {
     "duration": 0.014519,
     "end_time": "2025-03-20T22:29:15.287423",
     "exception": false,
     "start_time": "2025-03-20T22:29:15.272904",
     "status": "completed"
    },
    "tags": []
   },
   "outputs": [],
   "source": [
    "def dilation_block(inputs,dilation_rates):\n",
    "    outputs = []\n",
    "    for dilation_rate in dilation_rates:\n",
    "        x = tf.keras.layers.Conv2D(filters=len(train_images.class_indices.keys()), kernel_size=3, strides=1, padding=\"same\", dilation_rate=dilation_rate)(inputs)\n",
    "        x = tf.keras.layers.BatchNormalization()(x)\n",
    "        x = tf.keras.layers.ReLU()(x)\n",
    "        outputs.append(x)\n",
    "    x = tf.keras.layers.Concatenate(axis=-1)(outputs)\n",
    "    return x"
   ]
  },
  {
   "cell_type": "markdown",
   "id": "4d0f9dda",
   "metadata": {
    "papermill": {
     "duration": 0.007101,
     "end_time": "2025-03-20T22:29:15.301751",
     "exception": false,
     "start_time": "2025-03-20T22:29:15.294650",
     "status": "completed"
    },
    "tags": []
   },
   "source": [
    "# Importing Vit"
   ]
  },
  {
   "cell_type": "code",
   "execution_count": 14,
   "id": "06b377cf",
   "metadata": {
    "execution": {
     "iopub.execute_input": "2025-03-20T22:29:15.317258Z",
     "iopub.status.busy": "2025-03-20T22:29:15.317001Z",
     "iopub.status.idle": "2025-03-20T22:29:22.629290Z",
     "shell.execute_reply": "2025-03-20T22:29:22.628522Z"
    },
    "papermill": {
     "duration": 7.322397,
     "end_time": "2025-03-20T22:29:22.631429",
     "exception": false,
     "start_time": "2025-03-20T22:29:15.309032",
     "status": "completed"
    },
    "tags": []
   },
   "outputs": [
    {
     "name": "stdout",
     "output_type": "stream",
     "text": [
      "Downloading data from https://github.com/faustomorales/vit-keras/releases/download/dl/ViT-B_32_imagenet21k+imagenet2012.npz\n",
      "353255424/353253686 [==============================] - 1s 0us/step\n",
      "353263616/353253686 [==============================] - 1s 0us/step\n"
     ]
    },
    {
     "name": "stderr",
     "output_type": "stream",
     "text": [
      "/opt/conda/lib/python3.7/site-packages/vit_keras/utils.py:83: UserWarning: Resizing position embeddings from 12, 12 to 14, 14\n",
      "  UserWarning,\n"
     ]
    }
   ],
   "source": [
    "vit_big = vit.vit_b32(\n",
    "        image_size = SIZE,\n",
    "        activation = 'softmax',\n",
    "        pretrained = True,\n",
    "        include_top = False,\n",
    "        pretrained_top = False,\n",
    "        )"
   ]
  },
  {
   "cell_type": "code",
   "execution_count": 15,
   "id": "a50a0e57",
   "metadata": {
    "execution": {
     "iopub.execute_input": "2025-03-20T22:29:22.654692Z",
     "iopub.status.busy": "2025-03-20T22:29:22.654265Z",
     "iopub.status.idle": "2025-03-20T22:29:22.658997Z",
     "shell.execute_reply": "2025-03-20T22:29:22.657843Z"
    },
    "papermill": {
     "duration": 0.020484,
     "end_time": "2025-03-20T22:29:22.661194",
     "exception": false,
     "start_time": "2025-03-20T22:29:22.640710",
     "status": "completed"
    },
    "tags": []
   },
   "outputs": [],
   "source": [
    "# vit_large = vit.vit_l32(\n",
    "#         image_size = SIZE,\n",
    "#         activation = 'softmax',\n",
    "#         pretrained = True,\n",
    "#         include_top = False,\n",
    "#         pretrained_top = False,\n",
    "#         )"
   ]
  },
  {
   "cell_type": "markdown",
   "id": "ce9db7e6",
   "metadata": {
    "papermill": {
     "duration": 0.013684,
     "end_time": "2025-03-20T22:29:22.687812",
     "exception": false,
     "start_time": "2025-03-20T22:29:22.674128",
     "status": "completed"
    },
    "tags": []
   },
   "source": [
    "#  Fine-tuning vit"
   ]
  },
  {
   "cell_type": "code",
   "execution_count": 16,
   "id": "b8c0c3c8",
   "metadata": {
    "execution": {
     "iopub.execute_input": "2025-03-20T22:29:22.712074Z",
     "iopub.status.busy": "2025-03-20T22:29:22.711554Z",
     "iopub.status.idle": "2025-03-20T22:29:22.723290Z",
     "shell.execute_reply": "2025-03-20T22:29:22.722492Z"
    },
    "papermill": {
     "duration": 0.026583,
     "end_time": "2025-03-20T22:29:22.725048",
     "exception": false,
     "start_time": "2025-03-20T22:29:22.698465",
     "status": "completed"
    },
    "tags": []
   },
   "outputs": [],
   "source": [
    "# name_and_freeze(vit_large,'vit_large_')\n",
    "name_and_freeze(vit_big,'vit_big_')"
   ]
  },
  {
   "cell_type": "code",
   "execution_count": 17,
   "id": "89845bfa",
   "metadata": {
    "execution": {
     "iopub.execute_input": "2025-03-20T22:29:22.743895Z",
     "iopub.status.busy": "2025-03-20T22:29:22.743612Z",
     "iopub.status.idle": "2025-03-20T22:29:22.783527Z",
     "shell.execute_reply": "2025-03-20T22:29:22.782775Z"
    },
    "papermill": {
     "duration": 0.051417,
     "end_time": "2025-03-20T22:29:22.785488",
     "exception": false,
     "start_time": "2025-03-20T22:29:22.734071",
     "status": "completed"
    },
    "tags": []
   },
   "outputs": [],
   "source": [
    "from tensorflow.keras import regularizers\n",
    "x =vit_big.output\n",
    "x=tf.keras.layers.BatchNormalization(axis=-1, momentum=0.99, epsilon=0.001 )(x)\n",
    "x = Dense(512, kernel_regularizer = regularizers.l2(l = 0.016),activity_regularizer=regularizers.l1(0.006),\n",
    "                bias_regularizer=regularizers.l1(0.006) ,activation='relu')(x)\n",
    "x=Dense(256,activation='relu')(x)\n",
    "x_vit_big = Dense(128, activation='relu')(x)\n",
    "\n",
    "# x =vit_large.output\n",
    "# x=tf.keras.layers.BatchNormalization(axis=-1, momentum=0.99, epsilon=0.001 )(x)\n",
    "# x = Dense(32, kernel_regularizer = regularizers.l2(l = 0.016),activity_regularizer=regularizers.l1(0.006),\n",
    "#                 bias_regularizer=regularizers.l1(0.006) ,activation='relu')(x)\n",
    "# x=Dense(256,activation='relu')(x)\n",
    "# x_vit_large = Dense(128, activation='relu')(x)"
   ]
  },
  {
   "cell_type": "markdown",
   "id": "365c159c",
   "metadata": {
    "papermill": {
     "duration": 0.008386,
     "end_time": "2025-03-20T22:29:22.802806",
     "exception": false,
     "start_time": "2025-03-20T22:29:22.794420",
     "status": "completed"
    },
    "tags": []
   },
   "source": [
    "# importing cnn models"
   ]
  },
  {
   "cell_type": "code",
   "execution_count": 18,
   "id": "4d435281",
   "metadata": {
    "execution": {
     "iopub.execute_input": "2025-03-20T22:29:22.821877Z",
     "iopub.status.busy": "2025-03-20T22:29:22.821120Z",
     "iopub.status.idle": "2025-03-20T22:29:27.052350Z",
     "shell.execute_reply": "2025-03-20T22:29:27.051603Z"
    },
    "papermill": {
     "duration": 4.243122,
     "end_time": "2025-03-20T22:29:27.054482",
     "exception": false,
     "start_time": "2025-03-20T22:29:22.811360",
     "status": "completed"
    },
    "tags": []
   },
   "outputs": [
    {
     "name": "stdout",
     "output_type": "stream",
     "text": [
      "Downloading data from https://storage.googleapis.com/tensorflow/keras-applications/resnet/resnet152v2_weights_tf_dim_ordering_tf_kernels_notop.h5\n",
      "234553344/234545216 [==============================] - 1s 0us/step\n",
      "234561536/234545216 [==============================] - 1s 0us/step\n"
     ]
    }
   ],
   "source": [
    "resnet152= tf.keras.applications.ResNet152V2(input_shape=size,include_top=False, weights='imagenet',)\n",
    "# mobilenet= tf.keras.applications.MobileNetV3Large(input_shape=size,include_top=False, weights='imagenet')\n",
    "# xception= tf.keras.applications.Xception(input_shape=size,include_top=False, weights='imagenet')\n",
    "# effecientnet= tf.keras.applications.EfficientNetB7(input_shape=size,include_top=False, weights='imagenet')\n",
    "# densenet=tf.keras.applications.DenseNet121(input_shape=size,include_top=False, weights='imagenet')\n",
    "# incepresnet=tf.keras.applications.InceptionResNetV2(input_shape=size,include_top=False, weights='imagenet')"
   ]
  },
  {
   "cell_type": "code",
   "execution_count": 19,
   "id": "961419e7",
   "metadata": {
    "execution": {
     "iopub.execute_input": "2025-03-20T22:29:27.075507Z",
     "iopub.status.busy": "2025-03-20T22:29:27.075215Z",
     "iopub.status.idle": "2025-03-20T22:29:27.078848Z",
     "shell.execute_reply": "2025-03-20T22:29:27.078124Z"
    },
    "papermill": {
     "duration": 0.016055,
     "end_time": "2025-03-20T22:29:27.080686",
     "exception": false,
     "start_time": "2025-03-20T22:29:27.064631",
     "status": "completed"
    },
    "tags": []
   },
   "outputs": [],
   "source": [
    "# print(xception.output)\n",
    "# print(resnet152.output)\n",
    "# print(mobilenet.output)\n",
    "# print(effecientnet.output)\n",
    "# print(densenet.output)\n",
    "# print(incepresnet.output)"
   ]
  },
  {
   "cell_type": "code",
   "execution_count": 20,
   "id": "53c4f953",
   "metadata": {
    "execution": {
     "iopub.execute_input": "2025-03-20T22:29:27.101494Z",
     "iopub.status.busy": "2025-03-20T22:29:27.101231Z",
     "iopub.status.idle": "2025-03-20T22:29:27.125604Z",
     "shell.execute_reply": "2025-03-20T22:29:27.125018Z"
    },
    "papermill": {
     "duration": 0.036346,
     "end_time": "2025-03-20T22:29:27.127354",
     "exception": false,
     "start_time": "2025-03-20T22:29:27.091008",
     "status": "completed"
    },
    "tags": []
   },
   "outputs": [],
   "source": [
    "name_and_freeze(resnet152,'resnet152_')\n",
    "# name_and_freeze(mobilenet,'mobilenet_')\n",
    "# name_and_freeze(xception,'xception_')\n",
    "# name_and_freeze(effecientnet,'effecientnet_')\n",
    "# name_and_freeze(densenet,'densenet_')\n",
    "# name_and_freeze(incepresnet,'incepResnet_')"
   ]
  },
  {
   "cell_type": "code",
   "execution_count": 21,
   "id": "eb9fd0ba",
   "metadata": {
    "execution": {
     "iopub.execute_input": "2025-03-20T22:29:27.147283Z",
     "iopub.status.busy": "2025-03-20T22:29:27.147026Z",
     "iopub.status.idle": "2025-03-20T22:29:27.152448Z",
     "shell.execute_reply": "2025-03-20T22:29:27.151802Z"
    },
    "papermill": {
     "duration": 0.017382,
     "end_time": "2025-03-20T22:29:27.154168",
     "exception": false,
     "start_time": "2025-03-20T22:29:27.136786",
     "status": "completed"
    },
    "tags": []
   },
   "outputs": [],
   "source": [
    "def get_model(base_model):\n",
    "    x = tf.keras.layers.GlobalAveragePooling2D()(se_block(dilation_block(base_model.output,[2,3,5,7])))\n",
    "    x=tf.keras.layers.BatchNormalization(axis=-1, momentum=0.99, epsilon=0.001 )(x)\n",
    "    x = Dense(512, kernel_regularizer = regularizers.l2(l = 0.016),activity_regularizer=regularizers.l1(0.006),\n",
    "                    bias_regularizer=regularizers.l1(0.006) ,activation='relu')(x)\n",
    "    x=Dense(256,activation='relu')(x)\n",
    "    return Dense(128,activation='relu')(x)"
   ]
  },
  {
   "cell_type": "markdown",
   "id": "75ca4282",
   "metadata": {
    "papermill": {
     "duration": 0.009397,
     "end_time": "2025-03-20T22:29:27.172876",
     "exception": false,
     "start_time": "2025-03-20T22:29:27.163479",
     "status": "completed"
    },
    "tags": []
   },
   "source": [
    "# fine tuning CNN models"
   ]
  },
  {
   "cell_type": "code",
   "execution_count": 22,
   "id": "41f35cda",
   "metadata": {
    "execution": {
     "iopub.execute_input": "2025-03-20T22:29:27.193155Z",
     "iopub.status.busy": "2025-03-20T22:29:27.192609Z",
     "iopub.status.idle": "2025-03-20T22:29:27.335739Z",
     "shell.execute_reply": "2025-03-20T22:29:27.335090Z"
    },
    "papermill": {
     "duration": 0.155156,
     "end_time": "2025-03-20T22:29:27.337618",
     "exception": false,
     "start_time": "2025-03-20T22:29:27.182462",
     "status": "completed"
    },
    "tags": []
   },
   "outputs": [],
   "source": [
    "x_resnet152v2=get_model(resnet152)\n",
    "# x_xception=get_model(xception)\n",
    "# x_mobilenet=get_model(mobilenet)\n",
    "# x_incepresnet=get_model(incepresnet)\n",
    "# x_effecientnet=get_model(effecientnet)\n",
    "# x_densenet=get_model(densenet)"
   ]
  },
  {
   "cell_type": "markdown",
   "id": "884adf54",
   "metadata": {
    "papermill": {
     "duration": 0.00939,
     "end_time": "2025-03-20T22:29:27.357092",
     "exception": false,
     "start_time": "2025-03-20T22:29:27.347702",
     "status": "completed"
    },
    "tags": []
   },
   "source": [
    "# constructing full model"
   ]
  },
  {
   "cell_type": "code",
   "execution_count": 23,
   "id": "f174b9a3",
   "metadata": {
    "execution": {
     "iopub.execute_input": "2025-03-20T22:29:27.377039Z",
     "iopub.status.busy": "2025-03-20T22:29:27.376531Z",
     "iopub.status.idle": "2025-03-20T22:29:27.416761Z",
     "shell.execute_reply": "2025-03-20T22:29:27.416152Z"
    },
    "papermill": {
     "duration": 0.052175,
     "end_time": "2025-03-20T22:29:27.418590",
     "exception": false,
     "start_time": "2025-03-20T22:29:27.366415",
     "status": "completed"
    },
    "tags": []
   },
   "outputs": [],
   "source": [
    "from tensorflow.keras.layers import concatenate\n",
    "concatenated = concatenate([x_resnet152v2, x_vit_big])\n",
    "bigmodel_prediction = Dense(len(train_images.class_indices), activation='softmax')(concatenated)\n",
    "model = Model([resnet152.input, vit_big.input], bigmodel_prediction) \n",
    "from tensorflow.keras.utils import plot_model"
   ]
  },
  {
   "cell_type": "code",
   "execution_count": 24,
   "id": "39a01b89",
   "metadata": {
    "execution": {
     "iopub.execute_input": "2025-03-20T22:29:27.439271Z",
     "iopub.status.busy": "2025-03-20T22:29:27.438580Z",
     "iopub.status.idle": "2025-03-20T22:29:28.115056Z",
     "shell.execute_reply": "2025-03-20T22:29:28.114142Z"
    },
    "papermill": {
     "duration": 0.688707,
     "end_time": "2025-03-20T22:29:28.116882",
     "exception": false,
     "start_time": "2025-03-20T22:29:27.428175",
     "status": "completed"
    },
    "tags": []
   },
   "outputs": [
    {
     "name": "stdout",
     "output_type": "stream",
     "text": [
      "trainable parametres: 1866894 non trainable parametres: 145901552\n"
     ]
    }
   ],
   "source": [
    "trainable_params = sum([v.numpy().size for v in model.trainable_variables])\n",
    "non_trainable_params = sum([v.numpy().size for v in model.non_trainable_variables])\n",
    "print(\"trainable parametres: \"+ str(trainable_params) + \" non trainable parametres: \"+ str(non_trainable_params))"
   ]
  },
  {
   "cell_type": "markdown",
   "id": "9a110c17",
   "metadata": {
    "papermill": {
     "duration": 0.009434,
     "end_time": "2025-03-20T22:29:28.136147",
     "exception": false,
     "start_time": "2025-03-20T22:29:28.126713",
     "status": "completed"
    },
    "tags": []
   },
   "source": [
    "# custom generator"
   ]
  },
  {
   "cell_type": "code",
   "execution_count": 25,
   "id": "989f672d",
   "metadata": {
    "execution": {
     "iopub.execute_input": "2025-03-20T22:29:28.156271Z",
     "iopub.status.busy": "2025-03-20T22:29:28.155921Z",
     "iopub.status.idle": "2025-03-20T22:29:28.160270Z",
     "shell.execute_reply": "2025-03-20T22:29:28.159545Z"
    },
    "papermill": {
     "duration": 0.016374,
     "end_time": "2025-03-20T22:29:28.161917",
     "exception": false,
     "start_time": "2025-03-20T22:29:28.145543",
     "status": "completed"
    },
    "tags": []
   },
   "outputs": [],
   "source": [
    "def generator_two_img(gen):\n",
    "    while True:\n",
    "        X1i = gen.next()\n",
    "        yield [X1i[0],X1i[0]], X1i[1]"
   ]
  },
  {
   "cell_type": "markdown",
   "id": "5f231cc5",
   "metadata": {
    "papermill": {
     "duration": 0.009332,
     "end_time": "2025-03-20T22:29:28.180659",
     "exception": false,
     "start_time": "2025-03-20T22:29:28.171327",
     "status": "completed"
    },
    "tags": []
   },
   "source": [
    "# training model"
   ]
  },
  {
   "cell_type": "code",
   "execution_count": 26,
   "id": "35a88459",
   "metadata": {
    "execution": {
     "iopub.execute_input": "2025-03-20T22:29:28.200665Z",
     "iopub.status.busy": "2025-03-20T22:29:28.200376Z",
     "iopub.status.idle": "2025-03-20T22:29:28.220084Z",
     "shell.execute_reply": "2025-03-20T22:29:28.219419Z"
    },
    "papermill": {
     "duration": 0.031657,
     "end_time": "2025-03-20T22:29:28.221787",
     "exception": false,
     "start_time": "2025-03-20T22:29:28.190130",
     "status": "completed"
    },
    "tags": []
   },
   "outputs": [],
   "source": [
    "model.compile(loss=\"categorical_crossentropy\",optimizer=tf.optimizers.Adam(),metrics=['accuracy'])"
   ]
  },
  {
   "cell_type": "code",
   "execution_count": 27,
   "id": "1dd0805d",
   "metadata": {
    "execution": {
     "iopub.execute_input": "2025-03-20T22:29:28.241879Z",
     "iopub.status.busy": "2025-03-20T22:29:28.241597Z",
     "iopub.status.idle": "2025-03-21T06:06:38.141794Z",
     "shell.execute_reply": "2025-03-21T06:06:38.140743Z"
    },
    "papermill": {
     "duration": 27430.178441,
     "end_time": "2025-03-21T06:06:38.409735",
     "exception": false,
     "start_time": "2025-03-20T22:29:28.231294",
     "status": "completed"
    },
    "tags": []
   },
   "outputs": [
    {
     "name": "stdout",
     "output_type": "stream",
     "text": [
      "Epoch 1/20\n",
      "337/337 [==============================] - 1450s 4s/step - loss: 2.4216 - accuracy: 0.8476 - val_loss: 0.7404 - val_accuracy: 0.8649\n",
      "Epoch 2/20\n",
      "337/337 [==============================] - 1302s 4s/step - loss: 0.5466 - accuracy: 0.8990 - val_loss: 0.5492 - val_accuracy: 0.8856\n",
      "Epoch 3/20\n",
      "337/337 [==============================] - 1290s 4s/step - loss: 0.4538 - accuracy: 0.9109 - val_loss: 0.5188 - val_accuracy: 0.8851\n",
      "Epoch 4/20\n",
      "337/337 [==============================] - 1307s 4s/step - loss: 0.4076 - accuracy: 0.9165 - val_loss: 0.4875 - val_accuracy: 0.9020\n",
      "Epoch 5/20\n",
      "337/337 [==============================] - 1353s 4s/step - loss: 0.3732 - accuracy: 0.9254 - val_loss: 0.4705 - val_accuracy: 0.9029\n",
      "Epoch 6/20\n",
      "337/337 [==============================] - 1404s 4s/step - loss: 0.3446 - accuracy: 0.9290 - val_loss: 0.4083 - val_accuracy: 0.9134\n",
      "Epoch 7/20\n",
      "337/337 [==============================] - 1440s 4s/step - loss: 0.3248 - accuracy: 0.9353 - val_loss: 0.4353 - val_accuracy: 0.9041\n",
      "Epoch 8/20\n",
      "337/337 [==============================] - 1437s 4s/step - loss: 0.3102 - accuracy: 0.9353 - val_loss: 0.4315 - val_accuracy: 0.9041\n",
      "Epoch 9/20\n",
      "337/337 [==============================] - 1428s 4s/step - loss: 0.3029 - accuracy: 0.9353 - val_loss: 0.4362 - val_accuracy: 0.9071\n",
      "Epoch 10/20\n",
      "337/337 [==============================] - 1415s 4s/step - loss: 0.2976 - accuracy: 0.9377 - val_loss: 0.4029 - val_accuracy: 0.9054\n",
      "Epoch 11/20\n",
      "337/337 [==============================] - 1428s 4s/step - loss: 0.2868 - accuracy: 0.9416 - val_loss: 0.4085 - val_accuracy: 0.9105\n",
      "Epoch 12/20\n",
      "337/337 [==============================] - 1466s 4s/step - loss: 0.2794 - accuracy: 0.9424 - val_loss: 0.4178 - val_accuracy: 0.9062\n",
      "Epoch 13/20\n",
      "337/337 [==============================] - 1453s 4s/step - loss: 0.2683 - accuracy: 0.9459 - val_loss: 0.4105 - val_accuracy: 0.9101\n",
      "Epoch 14/20\n",
      "337/337 [==============================] - 1417s 4s/step - loss: 0.2642 - accuracy: 0.9437 - val_loss: 0.3926 - val_accuracy: 0.9096\n",
      "Epoch 15/20\n",
      "337/337 [==============================] - 1291s 4s/step - loss: 0.2442 - accuracy: 0.9482 - val_loss: 0.3852 - val_accuracy: 0.9143\n",
      "Epoch 16/20\n",
      "337/337 [==============================] - 1293s 4s/step - loss: 0.2422 - accuracy: 0.9491 - val_loss: 0.4076 - val_accuracy: 0.9109\n",
      "Epoch 17/20\n",
      "337/337 [==============================] - 1291s 4s/step - loss: 0.2343 - accuracy: 0.9497 - val_loss: 0.4016 - val_accuracy: 0.9122\n",
      "Epoch 18/20\n",
      "337/337 [==============================] - 1299s 4s/step - loss: 0.2382 - accuracy: 0.9500 - val_loss: 0.3693 - val_accuracy: 0.9164\n",
      "Epoch 19/20\n",
      "337/337 [==============================] - 1302s 4s/step - loss: 0.2256 - accuracy: 0.9540 - val_loss: 0.4145 - val_accuracy: 0.9113\n",
      "Epoch 20/20\n",
      "337/337 [==============================] - 1359s 4s/step - loss: 0.2190 - accuracy: 0.9540 - val_loss: 0.3838 - val_accuracy: 0.9117\n"
     ]
    }
   ],
   "source": [
    "batch_size=64\n",
    "history = model.fit(\n",
    "    generator_two_img(train_images),\n",
    "    validation_data=generator_two_img(valid_images),\n",
    "    validation_steps=valid_images.n//batch_size,\n",
    "    validation_batch_size=batch_size,\n",
    "    steps_per_epoch=train_images.n//batch_size,\n",
    "    batch_size=batch_size,\n",
    "    epochs=20,\n",
    ")\n"
   ]
  },
  {
   "cell_type": "code",
   "execution_count": 28,
   "id": "5f1ba36f",
   "metadata": {
    "execution": {
     "iopub.execute_input": "2025-03-21T06:06:38.996543Z",
     "iopub.status.busy": "2025-03-21T06:06:38.996186Z",
     "iopub.status.idle": "2025-03-21T06:06:40.837783Z",
     "shell.execute_reply": "2025-03-21T06:06:40.836817Z"
    },
    "papermill": {
     "duration": 2.139178,
     "end_time": "2025-03-21T06:06:40.840249",
     "exception": false,
     "start_time": "2025-03-21T06:06:38.701071",
     "status": "completed"
    },
    "tags": []
   },
   "outputs": [
    {
     "name": "stderr",
     "output_type": "stream",
     "text": [
      "/opt/conda/lib/python3.7/site-packages/keras/utils/generic_utils.py:497: CustomMaskWarning: Custom mask layers require a config and must override get_config. When loading, the custom mask layer must be passed to the custom_objects argument.\n",
      "  category=CustomMaskWarning)\n"
     ]
    }
   ],
   "source": [
    "model.save('1vit1cnnresnet152v2.h5')"
   ]
  },
  {
   "cell_type": "markdown",
   "id": "4435144f",
   "metadata": {
    "papermill": {
     "duration": 0.375609,
     "end_time": "2025-03-21T06:06:41.508184",
     "exception": false,
     "start_time": "2025-03-21T06:06:41.132575",
     "status": "completed"
    },
    "tags": []
   },
   "source": [
    "# performance evaluation"
   ]
  },
  {
   "cell_type": "code",
   "execution_count": 29,
   "id": "ade202d7",
   "metadata": {
    "execution": {
     "iopub.execute_input": "2025-03-21T06:06:42.098166Z",
     "iopub.status.busy": "2025-03-21T06:06:42.097271Z",
     "iopub.status.idle": "2025-03-21T06:06:42.446862Z",
     "shell.execute_reply": "2025-03-21T06:06:42.445944Z"
    },
    "papermill": {
     "duration": 0.647766,
     "end_time": "2025-03-21T06:06:42.448915",
     "exception": false,
     "start_time": "2025-03-21T06:06:41.801149",
     "status": "completed"
    },
    "tags": []
   },
   "outputs": [
    {
     "name": "stderr",
     "output_type": "stream",
     "text": [
      "/opt/conda/lib/python3.7/site-packages/ipykernel_launcher.py:10: UserWarning: color is redundantly defined by the 'color' keyword argument and the fmt string \"go-\" (-> color='g'). The keyword argument will take precedence.\n",
      "  # Remove the CWD from sys.path while we load stuff.\n",
      "/opt/conda/lib/python3.7/site-packages/ipykernel_launcher.py:18: UserWarning: color is redundantly defined by the 'color' keyword argument and the fmt string \"g-o\" (-> color='g'). The keyword argument will take precedence.\n"
     ]
    },
    {
     "data": {
      "image/png": "[encoded data removed]",
      "text/plain": [
       "<Figure size 1440x720 with 2 Axes>"
      ]
     },
     "metadata": {
      "needs_background": "light"
     },
     "output_type": "display_data"
    }
   ],
   "source": [
    "epochs = list(range(len(history.history['accuracy'])))\n",
    "fig , ax = plt.subplots(1,2)\n",
    "train_acc = history.history['accuracy']\n",
    "train_loss = history.history['loss']\n",
    "val_acc = history.history['val_accuracy']\n",
    "val_loss = history.history['val_loss']\n",
    "\n",
    "fig.set_size_inches(20,10)\n",
    "\n",
    "ax[0].plot(epochs , train_acc , 'go-' ,color='r', label = 'Training Accuracy')\n",
    "ax[0].plot(epochs , val_acc , 'go-' , label = 'Validation Accuracy')\n",
    "ax[0].set_title('Training Accuracy')\n",
    "ax[0].legend()\n",
    "ax[0].set_xlabel(\"Epochs\")\n",
    "ax[0].set_ylabel(\"Accuracy\")\n",
    "\n",
    "\n",
    "ax[1].plot(epochs , train_loss , 'g-o' ,color='r', label = 'Training Loss')\n",
    "ax[1].plot(epochs , val_loss , 'go-' , label = 'Validation Loss')\n",
    "ax[1].set_title('Training Loss')\n",
    "ax[1].legend()\n",
    "ax[1].set_xlabel(\"Epochs\")\n",
    "ax[1].set_ylabel(\"Training Loss\")\n",
    "plt.show()"
   ]
  },
  {
   "cell_type": "code",
   "execution_count": 30,
   "id": "b7d15006",
   "metadata": {
    "execution": {
     "iopub.execute_input": "2025-03-21T06:06:43.073604Z",
     "iopub.status.busy": "2025-03-21T06:06:43.073253Z",
     "iopub.status.idle": "2025-03-21T06:06:54.671243Z",
     "shell.execute_reply": "2025-03-21T06:06:54.670236Z"
    },
    "papermill": {
     "duration": 11.898935,
     "end_time": "2025-03-21T06:06:54.673084",
     "exception": false,
     "start_time": "2025-03-21T06:06:42.774149",
     "status": "completed"
    },
    "tags": []
   },
   "outputs": [
    {
     "name": "stdout",
     "output_type": "stream",
     "text": [
      "Found 6000 validated image filenames belonging to 15 classes.\n"
     ]
    }
   ],
   "source": [
    "test_generator = tf.keras.preprocessing.image.ImageDataGenerator(\n",
    "    rescale=1./255,\n",
    ")\n",
    "test_images = test_generator.flow_from_dataframe(\n",
    "    dataframe=test_data,\n",
    "    x_col='File',\n",
    "    y_col='class_',\n",
    "    target_size=(SIZE, SIZE),\n",
    "    color_mode='rgb',\n",
    "    class_mode='categorical',\n",
    "    batch_size=batch_size,\n",
    "    shuffle=False\n",
    ")"
   ]
  },
  {
   "cell_type": "code",
   "execution_count": 31,
   "id": "de5d9f2a",
   "metadata": {
    "execution": {
     "iopub.execute_input": "2025-03-21T06:06:55.262939Z",
     "iopub.status.busy": "2025-03-21T06:06:55.262589Z",
     "iopub.status.idle": "2025-03-21T06:06:55.266699Z",
     "shell.execute_reply": "2025-03-21T06:06:55.265859Z"
    },
    "papermill": {
     "duration": 0.300077,
     "end_time": "2025-03-21T06:06:55.268319",
     "exception": false,
     "start_time": "2025-03-21T06:06:54.968242",
     "status": "completed"
    },
    "tags": []
   },
   "outputs": [],
   "source": [
    "class_=train_images.class_indices.keys()"
   ]
  },
  {
   "cell_type": "code",
   "execution_count": 32,
   "id": "a2180e17",
   "metadata": {
    "execution": {
     "iopub.execute_input": "2025-03-21T06:06:55.940456Z",
     "iopub.status.busy": "2025-03-21T06:06:55.939464Z",
     "iopub.status.idle": "2025-03-21T06:06:55.944625Z",
     "shell.execute_reply": "2025-03-21T06:06:55.943822Z"
    },
    "papermill": {
     "duration": 0.384105,
     "end_time": "2025-03-21T06:06:55.946274",
     "exception": false,
     "start_time": "2025-03-21T06:06:55.562169",
     "status": "completed"
    },
    "tags": []
   },
   "outputs": [],
   "source": [
    "def prediction_generator(test_images):\n",
    "    k=0\n",
    "    for x in test_images:\n",
    "        k+=len(x[1])\n",
    "        yield [x[0],x[0]], x[1]\n",
    "        if(k>=test_images.n):\n",
    "            break"
   ]
  },
  {
   "cell_type": "code",
   "execution_count": 33,
   "id": "ab828d58",
   "metadata": {
    "execution": {
     "iopub.execute_input": "2025-03-21T06:06:56.532380Z",
     "iopub.status.busy": "2025-03-21T06:06:56.532036Z",
     "iopub.status.idle": "2025-03-21T06:09:20.848927Z",
     "shell.execute_reply": "2025-03-21T06:09:20.847919Z"
    },
    "papermill": {
     "duration": 144.906297,
     "end_time": "2025-03-21T06:09:21.145324",
     "exception": false,
     "start_time": "2025-03-21T06:06:56.239027",
     "status": "completed"
    },
    "tags": []
   },
   "outputs": [
    {
     "data": {
      "text/plain": [
       "0.9195"
      ]
     },
     "execution_count": 33,
     "metadata": {},
     "output_type": "execute_result"
    }
   ],
   "source": [
    "from sklearn.metrics import accuracy_score\n",
    "proba=model.predict(prediction_generator(test_images))\n",
    "predicted = np.argmax(proba,axis=1)\n",
    "true=test_images.labels\n",
    "accuracy_score(predicted, true)"
   ]
  },
  {
   "cell_type": "code",
   "execution_count": 34,
   "id": "3b83ace2",
   "metadata": {
    "execution": {
     "iopub.execute_input": "2025-03-21T06:09:21.736778Z",
     "iopub.status.busy": "2025-03-21T06:09:21.736430Z",
     "iopub.status.idle": "2025-03-21T06:09:23.275880Z",
     "shell.execute_reply": "2025-03-21T06:09:23.275004Z"
    },
    "papermill": {
     "duration": 1.838584,
     "end_time": "2025-03-21T06:09:23.277924",
     "exception": false,
     "start_time": "2025-03-21T06:09:21.439340",
     "status": "completed"
    },
    "tags": []
   },
   "outputs": [
    {
     "data": {
      "image/png": "[encoded data removed]",
      "text/plain": [
       "<Figure size 1152x1008 with 2 Axes>"
      ]
     },
     "metadata": {
      "needs_background": "light"
     },
     "output_type": "display_data"
    }
   ],
   "source": [
    "from sklearn.metrics import confusion_matrix\n",
    "import seaborn as sns\n",
    "class_=test_images.class_indices.keys()\n",
    "cm = confusion_matrix(true, predicted)\n",
    "fig = plt.figure(figsize=(16, 14))\n",
    "ax= plt.subplot()\n",
    "sns.heatmap(cm, annot=True, ax = ax,cmap=\"BuPu\"); \n",
    "ax.set_xlabel('Predicted', fontsize=20)\n",
    "ax.xaxis.set_label_position('bottom')\n",
    "plt.xticks(rotation=90)\n",
    "ax.xaxis.set_ticklabels(class_, fontsize = 10)\n",
    "ax.xaxis.tick_bottom()\n",
    "\n",
    "ax.set_ylabel('True', fontsize=20)\n",
    "ax.yaxis.set_ticklabels(class_, fontsize = 10)\n",
    "plt.yticks(rotation=0)\n",
    "\n",
    "plt.title('', fontsize=60)\n",
    "\n",
    "plt.savefig('ConMat24.png')\n",
    "plt.show()"
   ]
  },
  {
   "cell_type": "markdown",
   "id": "f9398337",
   "metadata": {
    "papermill": {
     "duration": 0.297702,
     "end_time": "2025-03-21T06:09:23.872466",
     "exception": false,
     "start_time": "2025-03-21T06:09:23.574764",
     "status": "completed"
    },
    "tags": []
   },
   "source": [
    "# ROC"
   ]
  },
  {
   "cell_type": "code",
   "execution_count": 35,
   "id": "1f8a19e9",
   "metadata": {
    "execution": {
     "iopub.execute_input": "2025-03-21T06:09:24.559771Z",
     "iopub.status.busy": "2025-03-21T06:09:24.558919Z",
     "iopub.status.idle": "2025-03-21T06:09:24.933100Z",
     "shell.execute_reply": "2025-03-21T06:09:24.932173Z"
    },
    "papermill": {
     "duration": 0.767291,
     "end_time": "2025-03-21T06:09:24.935207",
     "exception": false,
     "start_time": "2025-03-21T06:09:24.167916",
     "status": "completed"
    },
    "tags": []
   },
   "outputs": [
    {
     "data": {
      "image/png": "[encoded data removed]",
      "text/plain": [
       "<Figure size 720x1152 with 1 Axes>"
      ]
     },
     "metadata": {
      "needs_background": "light"
     },
     "output_type": "display_data"
    }
   ],
   "source": [
    "from sklearn.metrics import roc_curve, roc_auc_score\n",
    "from matplotlib import cm\n",
    "n=len(true)\n",
    "dim=max(true)+1\n",
    "result=[]\n",
    "for i in true:\n",
    "    result.append([0 for i in range(dim)])\n",
    "    result[len(result)-1][i]=1\n",
    "    \n",
    "    \n",
    "fpr = dict()\n",
    "tpr = dict()\n",
    "roc_auc = dict()\n",
    "n_classes =len(test_images.class_indices.keys())\n",
    "y_test=np.array(result)\n",
    "y_pred=np.array(proba)\n",
    "fpr = dict()\n",
    "tpr = dict()\n",
    "roc_auc = dict()\n",
    "\n",
    "rev={}\n",
    "for i in class_:\n",
    "    rev[train_images.class_indices[i]]=i\n",
    "\n",
    "\n",
    "for i in range(n_classes):\n",
    "    fpr[i], tpr[i], _ = roc_curve(y_test[:, i], y_pred[:, i])\n",
    "    roc_auc[i] = roc_auc_score(y_test[:, i], y_pred[:, i])\n",
    "\n",
    "\n",
    "fpr[\"micro\"], tpr[\"micro\"], _ = roc_curve(y_test.ravel(), y_pred.ravel())\n",
    "roc_auc[\"micro\"] = roc_auc_score(y_test, y_pred, multi_class='ovr')\n",
    "\n",
    "\n",
    "cmap = cm.get_cmap('tab10')\n",
    "\n",
    "# Plot the ROC curve for each class and micro-average with automatic color selection\n",
    "plt.figure(figsize=(10,16))\n",
    "lw = 2\n",
    "for i in range(n_classes):\n",
    "    color = cmap(i)\n",
    "    plt.plot(fpr[i], tpr[i], color=color, lw=lw,\n",
    "             label='ROC curve of class {0} (area = {1:0.2f})'\n",
    "             ''.format(rev[i], roc_auc[i]))\n",
    "\n",
    "plt.plot(fpr[\"micro\"], tpr[\"micro\"],\n",
    "         label='micro-average ROC curve (area = {0:0.2f})'\n",
    "         ''.format(roc_auc[\"micro\"]),\n",
    "         color=cmap(n_classes), linestyle=':', linewidth=4)\n",
    "\n",
    "plt.plot([0, 1], [0, 1], 'k--', lw=lw)\n",
    "plt.xlim([0.0, 1.0])\n",
    "plt.ylim([0.0, 1.05])\n",
    "plt.xlabel('False Positive Rate')\n",
    "plt.ylabel('True Positive Rate')\n",
    "plt.title('ROC Curve')\n",
    "plt.legend(loc=\"lower right\")\n",
    "plt.show()\n"
   ]
  },
  {
   "cell_type": "markdown",
   "id": "2438b880",
   "metadata": {
    "papermill": {
     "duration": 0.339333,
     "end_time": "2025-03-21T06:09:25.579029",
     "exception": false,
     "start_time": "2025-03-21T06:09:25.239696",
     "status": "completed"
    },
    "tags": []
   },
   "source": [
    "# AUC"
   ]
  },
  {
   "cell_type": "code",
   "execution_count": 36,
   "id": "ed38afbb",
   "metadata": {
    "execution": {
     "iopub.execute_input": "2025-03-21T06:09:26.171475Z",
     "iopub.status.busy": "2025-03-21T06:09:26.171129Z",
     "iopub.status.idle": "2025-03-21T06:09:26.296656Z",
     "shell.execute_reply": "2025-03-21T06:09:26.295464Z"
    },
    "papermill": {
     "duration": 0.425053,
     "end_time": "2025-03-21T06:09:26.300479",
     "exception": false,
     "start_time": "2025-03-21T06:09:25.875426",
     "status": "completed"
    },
    "tags": []
   },
   "outputs": [
    {
     "data": {
      "image/png": "[encoded data removed]",
      "text/plain": [
       "<Figure size 432x288 with 1 Axes>"
      ]
     },
     "metadata": {
      "needs_background": "light"
     },
     "output_type": "display_data"
    }
   ],
   "source": [
    "from sklearn.metrics import roc_curve, auc\n",
    "import matplotlib.pyplot as plt\n",
    "\n",
    "y_true=y_test\n",
    "y_score=y_pred\n",
    "fpr, tpr, thresholds = roc_curve(y_test.ravel(), y_pred.ravel())\n",
    "roc_auc = auc(fpr, tpr)\n",
    "\n",
    "plt.figure()\n",
    "lw = 2\n",
    "plt.plot(fpr, tpr, color='darkorange',\n",
    "         lw=lw, label='ROC curve (area = %0.2f)' % roc_auc)\n",
    "plt.plot([0, 1], [0, 1], color='navy', lw=lw, linestyle='--')\n",
    "plt.xlim([0.0, 1.0])\n",
    "plt.ylim([0.0, 1.05])\n",
    "plt.xlabel('False Positive Rate')\n",
    "plt.ylabel('True Positive Rate')\n",
    "plt.title('AUC Curve')\n",
    "plt.legend(loc=\"lower right\")\n",
    "plt.show()"
   ]
  }
 ],
 "metadata": {
  "kaggle": {
   "accelerator": "gpu",
   "dataSources": [
    {
     "datasetId": 2841105,
     "sourceId": 4899227,
     "sourceType": "datasetVersion"
    },
    {
     "datasetId": 2841086,
     "sourceId": 5146843,
     "sourceType": "datasetVersion"
    },
    {
     "datasetId": 2947560,
     "sourceId": 5149790,
     "sourceType": "datasetVersion"
    },
    {
     "datasetId": 6920708,
     "sourceId": 11101777,
     "sourceType": "datasetVersion"
    },
    {
     "isSourceIdPinned": false,
     "modelId": 40,
     "modelInstanceId": 488,
     "sourceId": 621,
     "sourceType": "modelInstanceVersion"
    },
    {
     "isSourceIdPinned": true,
     "modelId": 44,
     "modelInstanceId": 536,
     "sourceId": 669,
     "sourceType": "modelInstanceVersion"
    },
    {
     "isSourceIdPinned": false,
     "modelId": 316,
     "modelInstanceId": 2719,
     "sourceId": 3816,
     "sourceType": "modelInstanceVersion"
    }
   ],
   "dockerImageVersionId": 30370,
   "isGpuEnabled": true,
   "isInternetEnabled": true,
   "language": "python",
   "sourceType": "notebook"
  },
  "kernelspec": {
   "display_name": "Python 3",
   "language": "python",
   "name": "python3"
  },
  "language_info": {
   "codemirror_mode": {
    "name": "ipython",
    "version": 3
   },
   "file_extension": ".py",
   "mimetype": "text/x-python",
   "name": "python",
   "nbconvert_exporter": "python",
   "pygments_lexer": "ipython3",
   "version": "3.7.12"
  },
  "papermill": {
   "default_parameters": {},
   "duration": 27674.117269,
   "end_time": "2025-03-21T06:09:30.172175",
   "environment_variables": {},
   "exception": null,
   "input_path": "__notebook__.ipynb",
   "output_path": "__notebook__.ipynb",
   "parameters": {},
   "start_time": "2025-03-20T22:28:16.054906",
   "version": "2.3.4"
  }
 },
 "nbformat": 4,
 "nbformat_minor": 5
}
