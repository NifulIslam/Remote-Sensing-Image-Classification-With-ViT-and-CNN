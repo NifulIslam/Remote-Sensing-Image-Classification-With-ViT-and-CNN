{
 "cells": [
  {
   "cell_type": "markdown",
   "id": "f8349ebc",
   "metadata": {
    "papermill": {
     "duration": 0.00872,
     "end_time": "2025-03-20T21:45:25.884884",
     "exception": false,
     "start_time": "2025-03-20T21:45:25.876164",
     "status": "completed"
    },
    "tags": []
   },
   "source": [
    "# basic imports"
   ]
  },
  {
   "cell_type": "code",
   "execution_count": 1,
   "id": "94c98446",
   "metadata": {
    "_cell_guid": "b1076dfc-b9ad-4769-8c92-a6c4dae69d19",
    "_uuid": "8f2839f25d086af736a60e9eeb907d3b93b6e0e5",
    "execution": {
     "iopub.execute_input": "2025-03-20T21:45:25.901122Z",
     "iopub.status.busy": "2025-03-20T21:45:25.900711Z",
     "iopub.status.idle": "2025-03-20T21:45:42.725564Z",
     "shell.execute_reply": "2025-03-20T21:45:42.724278Z"
    },
    "papermill": {
     "duration": 16.835857,
     "end_time": "2025-03-20T21:45:42.728159",
     "exception": false,
     "start_time": "2025-03-20T21:45:25.892302",
     "status": "completed"
    },
    "tags": []
   },
   "outputs": [
    {
     "name": "stdout",
     "output_type": "stream",
     "text": [
      "\u001b[33mWARNING: Running pip as the 'root' user can result in broken permissions and conflicting behaviour with the system package manager. It is recommended to use a virtual environment instead: https://pip.pypa.io/warnings/venv\u001b[0m\u001b[33m\r\n",
      "\u001b[0m"
     ]
    }
   ],
   "source": [
    "import numpy as np \n",
    "import pandas as pd\n",
    "import os\n",
    "import cv2\n",
    "import tensorflow\n",
    "import glob\n",
    "from matplotlib import pyplot as plt\n",
    "from tensorflow.keras.layers import Input, Lambda, Dense, Flatten,Dropout\n",
    "from tensorflow.keras.models import Model\n",
    "from tensorflow.keras.applications.inception_v3 import InceptionV3\n",
    "from tensorflow.keras.preprocessing import image\n",
    "from tensorflow.keras.preprocessing.image import ImageDataGenerator\n",
    "from tensorflow.keras.models import Sequential\n",
    "from tensorflow.keras.applications.vgg16 import VGG16\n",
    "from tensorflow.keras.applications.vgg19 import VGG19\n",
    "from tensorflow.keras.applications import EfficientNetB0\n",
    "import tensorflow as tf \n",
    "from tensorflow.keras import layers\n",
    "!pip install --quiet vit-keras\n",
    "from vit_keras import vit\n",
    "from tensorflow.keras.applications.resnet50 import ResNet50"
   ]
  },
  {
   "cell_type": "markdown",
   "id": "164a56f9",
   "metadata": {
    "papermill": {
     "duration": 0.008609,
     "end_time": "2025-03-20T21:45:42.744349",
     "exception": false,
     "start_time": "2025-03-20T21:45:42.735740",
     "status": "completed"
    },
    "tags": []
   },
   "source": [
    "# Reading Data"
   ]
  },
  {
   "cell_type": "code",
   "execution_count": 2,
   "id": "fab80cb5",
   "metadata": {
    "execution": {
     "iopub.execute_input": "2025-03-20T21:45:42.760774Z",
     "iopub.status.busy": "2025-03-20T21:45:42.759824Z",
     "iopub.status.idle": "2025-03-20T21:45:42.764745Z",
     "shell.execute_reply": "2025-03-20T21:45:42.763866Z"
    },
    "papermill": {
     "duration": 0.014912,
     "end_time": "2025-03-20T21:45:42.766448",
     "exception": false,
     "start_time": "2025-03-20T21:45:42.751536",
     "status": "completed"
    },
    "tags": []
   },
   "outputs": [],
   "source": [
    "#ucm\n",
    "# train_data=pd.read_csv(\"/kaggle/input/satelite-csv/train.csv\")\n",
    "# train_data['File']=train_data['File'].apply(lambda x : '/kaggle/input/satelite-images/Images/'+x)\n",
    "# test_data=pd.read_csv(\"/kaggle/input/satelite-csv/test.csv\")\n",
    "# test_data['File']=test_data['File'].apply(lambda x : '/kaggle/input/satelite-images/Images/'+x)"
   ]
  },
  {
   "cell_type": "code",
   "execution_count": 3,
   "id": "ae79707f",
   "metadata": {
    "execution": {
     "iopub.execute_input": "2025-03-20T21:45:42.781771Z",
     "iopub.status.busy": "2025-03-20T21:45:42.781489Z",
     "iopub.status.idle": "2025-03-20T21:45:42.785462Z",
     "shell.execute_reply": "2025-03-20T21:45:42.784429Z"
    },
    "papermill": {
     "duration": 0.013661,
     "end_time": "2025-03-20T21:45:42.787217",
     "exception": false,
     "start_time": "2025-03-20T21:45:42.773556",
     "status": "completed"
    },
    "tags": []
   },
   "outputs": [],
   "source": [
    "# rsscn7\n",
    "# train_data=pd.read_csv(\"/kaggle/input/rsscn7-dataset/gamma-correct/train.csv\")\n",
    "# train_data['File']=train_data['File'].apply(lambda x : '/kaggle/input/rsscn7-dataset/gamma-correct/'+x)\n",
    "# test_data=pd.read_csv(\"/kaggle/input/rsscn7-dataset/gamma-correct/test.csv\")\n",
    "# test_data['File']=test_data['File'].apply(lambda x : '/kaggle/input/rsscn7-dataset/gamma-correct/'+x)"
   ]
  },
  {
   "cell_type": "code",
   "execution_count": 4,
   "id": "274af6e3",
   "metadata": {
    "execution": {
     "iopub.execute_input": "2025-03-20T21:45:42.803206Z",
     "iopub.status.busy": "2025-03-20T21:45:42.802503Z",
     "iopub.status.idle": "2025-03-20T21:45:42.886701Z",
     "shell.execute_reply": "2025-03-20T21:45:42.885672Z"
    },
    "papermill": {
     "duration": 0.09449,
     "end_time": "2025-03-20T21:45:42.888987",
     "exception": false,
     "start_time": "2025-03-20T21:45:42.794497",
     "status": "completed"
    },
    "tags": []
   },
   "outputs": [],
   "source": [
    "#msrsi\n",
    "train_data=pd.read_csv(\"/kaggle/input/msrsi-dataset/MSRSI/train_df.csv\")\n",
    "train_data['File']=train_data['File'].apply(lambda x : '/kaggle/input/msrsi-dataset/MSRSI/'+x)\n",
    "test_data=pd.read_csv(\"/kaggle/input/msrsi-dataset/MSRSI/test_df.csv\")\n",
    "test_data['File']=test_data['File'].apply(lambda x : '/kaggle/input/msrsi-dataset/MSRSI/'+x)"
   ]
  },
  {
   "cell_type": "code",
   "execution_count": 5,
   "id": "c9646e39",
   "metadata": {
    "execution": {
     "iopub.execute_input": "2025-03-20T21:45:42.905514Z",
     "iopub.status.busy": "2025-03-20T21:45:42.904916Z",
     "iopub.status.idle": "2025-03-20T21:45:42.926290Z",
     "shell.execute_reply": "2025-03-20T21:45:42.925472Z"
    },
    "papermill": {
     "duration": 0.031569,
     "end_time": "2025-03-20T21:45:42.928051",
     "exception": false,
     "start_time": "2025-03-20T21:45:42.896482",
     "status": "completed"
    },
    "tags": []
   },
   "outputs": [
    {
     "data": {
      "text/html": [
       "<div>\n",
       "<style scoped>\n",
       "    .dataframe tbody tr th:only-of-type {\n",
       "        vertical-align: middle;\n",
       "    }\n",
       "\n",
       "    .dataframe tbody tr th {\n",
       "        vertical-align: top;\n",
       "    }\n",
       "\n",
       "    .dataframe thead th {\n",
       "        text-align: right;\n",
       "    }\n",
       "</style>\n",
       "<table border=\"1\" class=\"dataframe\">\n",
       "  <thead>\n",
       "    <tr style=\"text-align: right;\">\n",
       "      <th></th>\n",
       "      <th>File</th>\n",
       "      <th>class_</th>\n",
       "    </tr>\n",
       "  </thead>\n",
       "  <tbody>\n",
       "    <tr>\n",
       "      <th>7022</th>\n",
       "      <td>/kaggle/input/msrsi-dataset/MSRSI/Airport/Airp...</td>\n",
       "      <td>Airport</td>\n",
       "    </tr>\n",
       "    <tr>\n",
       "      <th>13483</th>\n",
       "      <td>/kaggle/input/msrsi-dataset/MSRSI/River/River_...</td>\n",
       "      <td>River</td>\n",
       "    </tr>\n",
       "    <tr>\n",
       "      <th>22970</th>\n",
       "      <td>/kaggle/input/msrsi-dataset/MSRSI/WastewaterPl...</td>\n",
       "      <td>WastewaterPlant</td>\n",
       "    </tr>\n",
       "    <tr>\n",
       "      <th>4633</th>\n",
       "      <td>/kaggle/input/msrsi-dataset/MSRSI/Beach/Beach_...</td>\n",
       "      <td>Beach</td>\n",
       "    </tr>\n",
       "    <tr>\n",
       "      <th>20621</th>\n",
       "      <td>/kaggle/input/msrsi-dataset/MSRSI/Desert/Deser...</td>\n",
       "      <td>Desert</td>\n",
       "    </tr>\n",
       "    <tr>\n",
       "      <th>...</th>\n",
       "      <td>...</td>\n",
       "      <td>...</td>\n",
       "    </tr>\n",
       "    <tr>\n",
       "      <th>15686</th>\n",
       "      <td>/kaggle/input/msrsi-dataset/MSRSI/Desert/Deser...</td>\n",
       "      <td>Desert</td>\n",
       "    </tr>\n",
       "    <tr>\n",
       "      <th>19236</th>\n",
       "      <td>/kaggle/input/msrsi-dataset/MSRSI/SeaLake/SeaL...</td>\n",
       "      <td>SeaLake</td>\n",
       "    </tr>\n",
       "    <tr>\n",
       "      <th>23740</th>\n",
       "      <td>/kaggle/input/msrsi-dataset/MSRSI/Grassland/Gr...</td>\n",
       "      <td>Grassland</td>\n",
       "    </tr>\n",
       "    <tr>\n",
       "      <th>14895</th>\n",
       "      <td>/kaggle/input/msrsi-dataset/MSRSI/Grassland/Gr...</td>\n",
       "      <td>Grassland</td>\n",
       "    </tr>\n",
       "    <tr>\n",
       "      <th>9766</th>\n",
       "      <td>/kaggle/input/msrsi-dataset/MSRSI/RectangularF...</td>\n",
       "      <td>RectangularFarmland</td>\n",
       "    </tr>\n",
       "  </tbody>\n",
       "</table>\n",
       "<p>24000 rows × 2 columns</p>\n",
       "</div>"
      ],
      "text/plain": [
       "                                                    File               class_\n",
       "7022   /kaggle/input/msrsi-dataset/MSRSI/Airport/Airp...              Airport\n",
       "13483  /kaggle/input/msrsi-dataset/MSRSI/River/River_...                River\n",
       "22970  /kaggle/input/msrsi-dataset/MSRSI/WastewaterPl...      WastewaterPlant\n",
       "4633   /kaggle/input/msrsi-dataset/MSRSI/Beach/Beach_...                Beach\n",
       "20621  /kaggle/input/msrsi-dataset/MSRSI/Desert/Deser...               Desert\n",
       "...                                                  ...                  ...\n",
       "15686  /kaggle/input/msrsi-dataset/MSRSI/Desert/Deser...               Desert\n",
       "19236  /kaggle/input/msrsi-dataset/MSRSI/SeaLake/SeaL...              SeaLake\n",
       "23740  /kaggle/input/msrsi-dataset/MSRSI/Grassland/Gr...            Grassland\n",
       "14895  /kaggle/input/msrsi-dataset/MSRSI/Grassland/Gr...            Grassland\n",
       "9766   /kaggle/input/msrsi-dataset/MSRSI/RectangularF...  RectangularFarmland\n",
       "\n",
       "[24000 rows x 2 columns]"
      ]
     },
     "execution_count": 5,
     "metadata": {},
     "output_type": "execute_result"
    }
   ],
   "source": [
    "train_data=train_data.sample(frac=1)\n",
    "train_data"
   ]
  },
  {
   "cell_type": "code",
   "execution_count": 6,
   "id": "dbd5aff0",
   "metadata": {
    "execution": {
     "iopub.execute_input": "2025-03-20T21:45:42.943908Z",
     "iopub.status.busy": "2025-03-20T21:45:42.943631Z",
     "iopub.status.idle": "2025-03-20T21:45:42.947358Z",
     "shell.execute_reply": "2025-03-20T21:45:42.946576Z"
    },
    "papermill": {
     "duration": 0.01352,
     "end_time": "2025-03-20T21:45:42.949081",
     "exception": false,
     "start_time": "2025-03-20T21:45:42.935561",
     "status": "completed"
    },
    "tags": []
   },
   "outputs": [],
   "source": [
    "SIZE=448\n",
    "size = [SIZE, SIZE ,3]"
   ]
  },
  {
   "cell_type": "code",
   "execution_count": 7,
   "id": "767dfc13",
   "metadata": {
    "execution": {
     "iopub.execute_input": "2025-03-20T21:45:42.964795Z",
     "iopub.status.busy": "2025-03-20T21:45:42.964525Z",
     "iopub.status.idle": "2025-03-20T21:45:42.969089Z",
     "shell.execute_reply": "2025-03-20T21:45:42.968279Z"
    },
    "papermill": {
     "duration": 0.014389,
     "end_time": "2025-03-20T21:45:42.970864",
     "exception": false,
     "start_time": "2025-03-20T21:45:42.956475",
     "status": "completed"
    },
    "tags": []
   },
   "outputs": [],
   "source": [
    "train_datagen = ImageDataGenerator(\n",
    "    rescale=1.0 / 255,\n",
    "    rotation_range=40,\n",
    "    width_shift_range=0.2,\n",
    "    height_shift_range=0.2,\n",
    "    shear_range=0.2,\n",
    "    zoom_range=0.2,\n",
    "    horizontal_flip=True,\n",
    "    validation_split=.1,\n",
    "    fill_mode=\"nearest\",\n",
    ")\n",
    "batch_size=64"
   ]
  },
  {
   "cell_type": "code",
   "execution_count": 8,
   "id": "a2e02ce6",
   "metadata": {
    "execution": {
     "iopub.execute_input": "2025-03-20T21:45:42.988488Z",
     "iopub.status.busy": "2025-03-20T21:45:42.987800Z",
     "iopub.status.idle": "2025-03-20T21:47:16.238774Z",
     "shell.execute_reply": "2025-03-20T21:47:16.237645Z"
    },
    "papermill": {
     "duration": 93.261525,
     "end_time": "2025-03-20T21:47:16.240769",
     "exception": false,
     "start_time": "2025-03-20T21:45:42.979244",
     "status": "completed"
    },
    "tags": []
   },
   "outputs": [
    {
     "name": "stdout",
     "output_type": "stream",
     "text": [
      "Found 21600 validated image filenames belonging to 15 classes.\n",
      "Found 2400 validated image filenames belonging to 15 classes.\n"
     ]
    }
   ],
   "source": [
    "train_images = train_datagen.flow_from_dataframe(\n",
    "    dataframe=train_data,\n",
    "    x_col='File',\n",
    "    y_col='class_',\n",
    "    target_size=(SIZE, SIZE),\n",
    "    color_mode='rgb',\n",
    "    class_mode='categorical',\n",
    "    batch_size=batch_size,\n",
    "    shuffle=True,\n",
    "    seed=42,\n",
    "    subset='training'\n",
    ")\n",
    "valid_images = train_datagen.flow_from_dataframe(\n",
    "    dataframe=train_data,\n",
    "    x_col='File',\n",
    "    y_col='class_',\n",
    "    target_size=(SIZE, SIZE),\n",
    "    color_mode='rgb',\n",
    "    class_mode='categorical',\n",
    "    batch_size=batch_size,\n",
    "    shuffle=True,\n",
    "    seed=42,\n",
    "    subset='validation'\n",
    ")\n"
   ]
  },
  {
   "cell_type": "markdown",
   "id": "43122f99",
   "metadata": {
    "papermill": {
     "duration": 0.00712,
     "end_time": "2025-03-20T21:47:16.255731",
     "exception": false,
     "start_time": "2025-03-20T21:47:16.248611",
     "status": "completed"
    },
    "tags": []
   },
   "source": [
    "# freezing nescessary pararametres"
   ]
  },
  {
   "cell_type": "code",
   "execution_count": 9,
   "id": "9fe070f0",
   "metadata": {
    "execution": {
     "iopub.execute_input": "2025-03-20T21:47:16.271575Z",
     "iopub.status.busy": "2025-03-20T21:47:16.271209Z",
     "iopub.status.idle": "2025-03-20T21:47:16.809796Z",
     "shell.execute_reply": "2025-03-20T21:47:16.809039Z"
    },
    "papermill": {
     "duration": 0.548908,
     "end_time": "2025-03-20T21:47:16.811904",
     "exception": false,
     "start_time": "2025-03-20T21:47:16.262996",
     "status": "completed"
    },
    "tags": []
   },
   "outputs": [],
   "source": [
    "import tensorflow_hub as hub"
   ]
  },
  {
   "cell_type": "code",
   "execution_count": 10,
   "id": "0ce07658",
   "metadata": {
    "execution": {
     "iopub.execute_input": "2025-03-20T21:47:16.828565Z",
     "iopub.status.busy": "2025-03-20T21:47:16.828233Z",
     "iopub.status.idle": "2025-03-20T21:47:16.833132Z",
     "shell.execute_reply": "2025-03-20T21:47:16.832379Z"
    },
    "papermill": {
     "duration": 0.014929,
     "end_time": "2025-03-20T21:47:16.834823",
     "exception": false,
     "start_time": "2025-03-20T21:47:16.819894",
     "status": "completed"
    },
    "tags": []
   },
   "outputs": [],
   "source": [
    "def get_from_hub(model_url):\n",
    "    inputs = tf.keras.Input((batch_size,SIZE, SIZE, 3))\n",
    "    hub_module = hub.KerasLayer(model_url,trainable=False)\n",
    "    outputs = hub_module(inputs)\n",
    "    return tf.keras.Model(inputs, outputs)"
   ]
  },
  {
   "cell_type": "code",
   "execution_count": 11,
   "id": "0c31170c",
   "metadata": {
    "execution": {
     "iopub.execute_input": "2025-03-20T21:47:16.851295Z",
     "iopub.status.busy": "2025-03-20T21:47:16.850632Z",
     "iopub.status.idle": "2025-03-20T21:47:16.855110Z",
     "shell.execute_reply": "2025-03-20T21:47:16.854352Z"
    },
    "papermill": {
     "duration": 0.014157,
     "end_time": "2025-03-20T21:47:16.856671",
     "exception": false,
     "start_time": "2025-03-20T21:47:16.842514",
     "status": "completed"
    },
    "tags": []
   },
   "outputs": [],
   "source": [
    "def name_and_freeze(model,name=\"\"):\n",
    "    for layer in model.layers[:]:\n",
    "      layer.trainable = False\n",
    "    for layer in model.layers:\n",
    "        layer._name = layer.name + str(name)\n",
    "    "
   ]
  },
  {
   "cell_type": "code",
   "execution_count": 12,
   "id": "8709be5e",
   "metadata": {
    "execution": {
     "iopub.execute_input": "2025-03-20T21:47:16.872760Z",
     "iopub.status.busy": "2025-03-20T21:47:16.872500Z",
     "iopub.status.idle": "2025-03-20T21:47:16.877976Z",
     "shell.execute_reply": "2025-03-20T21:47:16.877156Z"
    },
    "papermill": {
     "duration": 0.015622,
     "end_time": "2025-03-20T21:47:16.879769",
     "exception": false,
     "start_time": "2025-03-20T21:47:16.864147",
     "status": "completed"
    },
    "tags": []
   },
   "outputs": [],
   "source": [
    "def se_block(inputs):\n",
    "    input_channels = inputs.shape[-1]\n",
    "    x = tf.keras.layers.GlobalAveragePooling2D()(inputs)\n",
    "    x = tf.keras.layers.Dense(units=len(train_images.class_indices.keys()), activation=\"relu\")(x)    \n",
    "    x = tf.keras.layers.Dense(units=input_channels, activation=\"sigmoid\")(x)    \n",
    "    x = tf.reshape(x, [-1, 1, 1, input_channels])\n",
    "    x = inputs * x\n",
    "    return x"
   ]
  },
  {
   "cell_type": "code",
   "execution_count": 13,
   "id": "adf837c0",
   "metadata": {
    "execution": {
     "iopub.execute_input": "2025-03-20T21:47:16.896823Z",
     "iopub.status.busy": "2025-03-20T21:47:16.895990Z",
     "iopub.status.idle": "2025-03-20T21:47:16.901706Z",
     "shell.execute_reply": "2025-03-20T21:47:16.900832Z"
    },
    "papermill": {
     "duration": 0.015748,
     "end_time": "2025-03-20T21:47:16.903363",
     "exception": false,
     "start_time": "2025-03-20T21:47:16.887615",
     "status": "completed"
    },
    "tags": []
   },
   "outputs": [],
   "source": [
    "def dilation_block(inputs,dilation_rates):\n",
    "    outputs = []\n",
    "    for dilation_rate in dilation_rates:\n",
    "        x = tf.keras.layers.Conv2D(filters=len(train_images.class_indices.keys()), kernel_size=3, strides=1, padding=\"same\", dilation_rate=dilation_rate)(inputs)\n",
    "        x = tf.keras.layers.BatchNormalization()(x)\n",
    "        x = tf.keras.layers.ReLU()(x)\n",
    "        outputs.append(x)\n",
    "    x = tf.keras.layers.Concatenate(axis=-1)(outputs)\n",
    "    return x"
   ]
  },
  {
   "cell_type": "markdown",
   "id": "8bbdeca0",
   "metadata": {
    "papermill": {
     "duration": 0.007148,
     "end_time": "2025-03-20T21:47:16.917923",
     "exception": false,
     "start_time": "2025-03-20T21:47:16.910775",
     "status": "completed"
    },
    "tags": []
   },
   "source": [
    "# Importing Vit"
   ]
  },
  {
   "cell_type": "code",
   "execution_count": 14,
   "id": "08c2f62b",
   "metadata": {
    "execution": {
     "iopub.execute_input": "2025-03-20T21:47:16.933519Z",
     "iopub.status.busy": "2025-03-20T21:47:16.933208Z",
     "iopub.status.idle": "2025-03-20T21:47:26.904956Z",
     "shell.execute_reply": "2025-03-20T21:47:26.904060Z"
    },
    "papermill": {
     "duration": 9.981988,
     "end_time": "2025-03-20T21:47:26.907132",
     "exception": false,
     "start_time": "2025-03-20T21:47:16.925144",
     "status": "completed"
    },
    "tags": []
   },
   "outputs": [
    {
     "name": "stdout",
     "output_type": "stream",
     "text": [
      "Downloading data from https://github.com/faustomorales/vit-keras/releases/download/dl/ViT-B_32_imagenet21k+imagenet2012.npz\n",
      "353255424/353253686 [==============================] - 4s 0us/step\n",
      "353263616/353253686 [==============================] - 4s 0us/step\n"
     ]
    },
    {
     "name": "stderr",
     "output_type": "stream",
     "text": [
      "/opt/conda/lib/python3.7/site-packages/vit_keras/utils.py:83: UserWarning: Resizing position embeddings from 12, 12 to 14, 14\n",
      "  UserWarning,\n"
     ]
    }
   ],
   "source": [
    "vit_big = vit.vit_b32(\n",
    "        image_size = SIZE,\n",
    "        activation = 'softmax',\n",
    "        pretrained = True,\n",
    "        include_top = False,\n",
    "        pretrained_top = False,\n",
    "        )"
   ]
  },
  {
   "cell_type": "code",
   "execution_count": 15,
   "id": "4a6d2f00",
   "metadata": {
    "execution": {
     "iopub.execute_input": "2025-03-20T21:47:26.928614Z",
     "iopub.status.busy": "2025-03-20T21:47:26.927949Z",
     "iopub.status.idle": "2025-03-20T21:47:26.931823Z",
     "shell.execute_reply": "2025-03-20T21:47:26.930955Z"
    },
    "papermill": {
     "duration": 0.016182,
     "end_time": "2025-03-20T21:47:26.933657",
     "exception": false,
     "start_time": "2025-03-20T21:47:26.917475",
     "status": "completed"
    },
    "tags": []
   },
   "outputs": [],
   "source": [
    "# vit_large = vit.vit_l32(\n",
    "#         image_size = SIZE,\n",
    "#         activation = 'softmax',\n",
    "#         pretrained = True,\n",
    "#         include_top = False,\n",
    "#         pretrained_top = False,\n",
    "#         )"
   ]
  },
  {
   "cell_type": "markdown",
   "id": "cfdcd114",
   "metadata": {
    "papermill": {
     "duration": 0.009212,
     "end_time": "2025-03-20T21:47:26.952421",
     "exception": false,
     "start_time": "2025-03-20T21:47:26.943209",
     "status": "completed"
    },
    "tags": []
   },
   "source": [
    "#  Fine-tuning vit"
   ]
  },
  {
   "cell_type": "code",
   "execution_count": 16,
   "id": "1b01264a",
   "metadata": {
    "execution": {
     "iopub.execute_input": "2025-03-20T21:47:26.972897Z",
     "iopub.status.busy": "2025-03-20T21:47:26.972574Z",
     "iopub.status.idle": "2025-03-20T21:47:26.981574Z",
     "shell.execute_reply": "2025-03-20T21:47:26.980691Z"
    },
    "papermill": {
     "duration": 0.021694,
     "end_time": "2025-03-20T21:47:26.983445",
     "exception": false,
     "start_time": "2025-03-20T21:47:26.961751",
     "status": "completed"
    },
    "tags": []
   },
   "outputs": [],
   "source": [
    "# name_and_freeze(vit_large,'vit_large_')\n",
    "name_and_freeze(vit_big,'vit_big_')"
   ]
  },
  {
   "cell_type": "code",
   "execution_count": 17,
   "id": "cf2b03ef",
   "metadata": {
    "execution": {
     "iopub.execute_input": "2025-03-20T21:47:27.003812Z",
     "iopub.status.busy": "2025-03-20T21:47:27.003054Z",
     "iopub.status.idle": "2025-03-20T21:47:27.044294Z",
     "shell.execute_reply": "2025-03-20T21:47:27.043367Z"
    },
    "papermill": {
     "duration": 0.053678,
     "end_time": "2025-03-20T21:47:27.046638",
     "exception": false,
     "start_time": "2025-03-20T21:47:26.992960",
     "status": "completed"
    },
    "tags": []
   },
   "outputs": [],
   "source": [
    "from tensorflow.keras import regularizers\n",
    "x =vit_big.output\n",
    "x=tf.keras.layers.BatchNormalization(axis=-1, momentum=0.99, epsilon=0.001 )(x)\n",
    "x = Dense(512, kernel_regularizer = regularizers.l2(l = 0.016),activity_regularizer=regularizers.l1(0.006),\n",
    "                bias_regularizer=regularizers.l1(0.006) ,activation='relu')(x)\n",
    "x=Dense(256,activation='relu')(x)\n",
    "x_vit_big = Dense(128, activation='relu')(x)\n",
    "\n",
    "# x =vit_large.output\n",
    "# x=tf.keras.layers.BatchNormalization(axis=-1, momentum=0.99, epsilon=0.001 )(x)\n",
    "# x = Dense(32, kernel_regularizer = regularizers.l2(l = 0.016),activity_regularizer=regularizers.l1(0.006),\n",
    "#                 bias_regularizer=regularizers.l1(0.006) ,activation='relu')(x)\n",
    "# x=Dense(256,activation='relu')(x)\n",
    "# x_vit_large = Dense(128, activation='relu')(x)"
   ]
  },
  {
   "cell_type": "markdown",
   "id": "f28fe7f0",
   "metadata": {
    "papermill": {
     "duration": 0.009609,
     "end_time": "2025-03-20T21:47:27.066300",
     "exception": false,
     "start_time": "2025-03-20T21:47:27.056691",
     "status": "completed"
    },
    "tags": []
   },
   "source": [
    "# importing cnn models"
   ]
  },
  {
   "cell_type": "code",
   "execution_count": 18,
   "id": "ea9fac6b",
   "metadata": {
    "execution": {
     "iopub.execute_input": "2025-03-20T21:47:27.087875Z",
     "iopub.status.busy": "2025-03-20T21:47:27.086698Z",
     "iopub.status.idle": "2025-03-20T21:47:32.267112Z",
     "shell.execute_reply": "2025-03-20T21:47:32.266362Z"
    },
    "papermill": {
     "duration": 5.193675,
     "end_time": "2025-03-20T21:47:32.269388",
     "exception": false,
     "start_time": "2025-03-20T21:47:27.075713",
     "status": "completed"
    },
    "tags": []
   },
   "outputs": [
    {
     "name": "stdout",
     "output_type": "stream",
     "text": [
      "Downloading data from https://storage.googleapis.com/tensorflow/keras-applications/inception_resnet_v2/inception_resnet_v2_weights_tf_dim_ordering_tf_kernels_notop.h5\n",
      "219062272/219055592 [==============================] - 1s 0us/step\n",
      "219070464/219055592 [==============================] - 1s 0us/step\n"
     ]
    }
   ],
   "source": [
    "# resnet152= tf.keras.applications.ResNet152V2(input_shape=size,include_top=False, weights='imagenet',)\n",
    "# mobilenet= tf.keras.applications.MobileNetV3Large(input_shape=size,include_top=False, weights='imagenet')\n",
    "# xception= tf.keras.applications.Xception(input_shape=size,include_top=False, weights='imagenet')\n",
    "# effecientnet= tf.keras.applications.EfficientNetB7(input_shape=size,include_top=False, weights='imagenet')\n",
    "# densenet=tf.keras.applications.DenseNet121(input_shape=size,include_top=False, weights='imagenet')\n",
    "incepresnet=tf.keras.applications.InceptionResNetV2(input_shape=size,include_top=False, weights='imagenet')"
   ]
  },
  {
   "cell_type": "code",
   "execution_count": 19,
   "id": "f90b5914",
   "metadata": {
    "execution": {
     "iopub.execute_input": "2025-03-20T21:47:32.293341Z",
     "iopub.status.busy": "2025-03-20T21:47:32.292532Z",
     "iopub.status.idle": "2025-03-20T21:47:32.297410Z",
     "shell.execute_reply": "2025-03-20T21:47:32.296509Z"
    },
    "papermill": {
     "duration": 0.018271,
     "end_time": "2025-03-20T21:47:32.299043",
     "exception": false,
     "start_time": "2025-03-20T21:47:32.280772",
     "status": "completed"
    },
    "tags": []
   },
   "outputs": [
    {
     "name": "stdout",
     "output_type": "stream",
     "text": [
      "KerasTensor(type_spec=TensorSpec(shape=(None, 12, 12, 1536), dtype=tf.float32, name=None), name='conv_7b_ac/Relu:0', description=\"created by layer 'conv_7b_ac'\")\n"
     ]
    }
   ],
   "source": [
    "# print(xception.output)\n",
    "# print(resnet152.output)\n",
    "# print(mobilenet.output)\n",
    "# print(effecientnet.output)\n",
    "# print(densenet.output)\n",
    "print(incepresnet.output)"
   ]
  },
  {
   "cell_type": "code",
   "execution_count": 20,
   "id": "d8cdf5c0",
   "metadata": {
    "execution": {
     "iopub.execute_input": "2025-03-20T21:47:32.321415Z",
     "iopub.status.busy": "2025-03-20T21:47:32.320681Z",
     "iopub.status.idle": "2025-03-20T21:47:32.354140Z",
     "shell.execute_reply": "2025-03-20T21:47:32.353358Z"
    },
    "papermill": {
     "duration": 0.04667,
     "end_time": "2025-03-20T21:47:32.356001",
     "exception": false,
     "start_time": "2025-03-20T21:47:32.309331",
     "status": "completed"
    },
    "tags": []
   },
   "outputs": [],
   "source": [
    "# name_and_freeze(resnet152,'resnet152_')\n",
    "# name_and_freeze(mobilenet,'mobilenet_')\n",
    "# name_and_freeze(xception,'xception_')\n",
    "# name_and_freeze(effecientnet,'effecientnet_')\n",
    "# name_and_freeze(densenet,'densenet_')\n",
    "name_and_freeze(incepresnet,'incepResnet_')"
   ]
  },
  {
   "cell_type": "code",
   "execution_count": 21,
   "id": "76ea16ee",
   "metadata": {
    "execution": {
     "iopub.execute_input": "2025-03-20T21:47:32.378102Z",
     "iopub.status.busy": "2025-03-20T21:47:32.377834Z",
     "iopub.status.idle": "2025-03-20T21:47:32.383540Z",
     "shell.execute_reply": "2025-03-20T21:47:32.382783Z"
    },
    "papermill": {
     "duration": 0.018597,
     "end_time": "2025-03-20T21:47:32.385287",
     "exception": false,
     "start_time": "2025-03-20T21:47:32.366690",
     "status": "completed"
    },
    "tags": []
   },
   "outputs": [],
   "source": [
    "def get_model(base_model):\n",
    "    x = tf.keras.layers.GlobalAveragePooling2D()(se_block(dilation_block(base_model.output,[2,3,5,7])))\n",
    "    x=tf.keras.layers.BatchNormalization(axis=-1, momentum=0.99, epsilon=0.001 )(x)\n",
    "    x = Dense(512, kernel_regularizer = regularizers.l2(l = 0.016),activity_regularizer=regularizers.l1(0.006),\n",
    "                    bias_regularizer=regularizers.l1(0.006) ,activation='relu')(x)\n",
    "    x=Dense(256,activation='relu')(x)\n",
    "    return Dense(128,activation='relu')(x)"
   ]
  },
  {
   "cell_type": "markdown",
   "id": "2a20093f",
   "metadata": {
    "papermill": {
     "duration": 0.010061,
     "end_time": "2025-03-20T21:47:32.405652",
     "exception": false,
     "start_time": "2025-03-20T21:47:32.395591",
     "status": "completed"
    },
    "tags": []
   },
   "source": [
    "# fine tuning CNN models"
   ]
  },
  {
   "cell_type": "code",
   "execution_count": 22,
   "id": "00f6f051",
   "metadata": {
    "execution": {
     "iopub.execute_input": "2025-03-20T21:47:32.427410Z",
     "iopub.status.busy": "2025-03-20T21:47:32.426872Z",
     "iopub.status.idle": "2025-03-20T21:47:32.571848Z",
     "shell.execute_reply": "2025-03-20T21:47:32.571132Z"
    },
    "papermill": {
     "duration": 0.15836,
     "end_time": "2025-03-20T21:47:32.574076",
     "exception": false,
     "start_time": "2025-03-20T21:47:32.415716",
     "status": "completed"
    },
    "tags": []
   },
   "outputs": [],
   "source": [
    "# x_resnet152v2=get_model(resnet152)\n",
    "# x_xception=get_model(xception)\n",
    "# x_mobilenet=get_model(mobilenet)\n",
    "x_incepresnet=get_model(incepresnet)\n",
    "# x_effecientnet=get_model(effecientnet)\n",
    "# x_densenet=get_model(densenet)"
   ]
  },
  {
   "cell_type": "markdown",
   "id": "52bce34e",
   "metadata": {
    "papermill": {
     "duration": 0.010203,
     "end_time": "2025-03-20T21:47:32.595183",
     "exception": false,
     "start_time": "2025-03-20T21:47:32.584980",
     "status": "completed"
    },
    "tags": []
   },
   "source": [
    "# constructing full model"
   ]
  },
  {
   "cell_type": "code",
   "execution_count": 23,
   "id": "e4832d4d",
   "metadata": {
    "execution": {
     "iopub.execute_input": "2025-03-20T21:47:32.617558Z",
     "iopub.status.busy": "2025-03-20T21:47:32.617187Z",
     "iopub.status.idle": "2025-03-20T21:47:32.670303Z",
     "shell.execute_reply": "2025-03-20T21:47:32.669544Z"
    },
    "papermill": {
     "duration": 0.066855,
     "end_time": "2025-03-20T21:47:32.672487",
     "exception": false,
     "start_time": "2025-03-20T21:47:32.605632",
     "status": "completed"
    },
    "tags": []
   },
   "outputs": [],
   "source": [
    "from tensorflow.keras.layers import concatenate\n",
    "concatenated = concatenate([x_incepresnet, x_vit_big])\n",
    "bigmodel_prediction = Dense(len(train_images.class_indices), activation='softmax')(concatenated)\n",
    "model = Model([incepresnet.input, vit_big.input], bigmodel_prediction) \n",
    "from tensorflow.keras.utils import plot_model"
   ]
  },
  {
   "cell_type": "code",
   "execution_count": 24,
   "id": "987f35e8",
   "metadata": {
    "execution": {
     "iopub.execute_input": "2025-03-20T21:47:32.694869Z",
     "iopub.status.busy": "2025-03-20T21:47:32.694552Z",
     "iopub.status.idle": "2025-03-20T21:47:33.158567Z",
     "shell.execute_reply": "2025-03-20T21:47:33.157562Z"
    },
    "papermill": {
     "duration": 0.477406,
     "end_time": "2025-03-20T21:47:33.160567",
     "exception": false,
     "start_time": "2025-03-20T21:47:32.683161",
     "status": "completed"
    },
    "tags": []
   },
   "outputs": [
    {
     "name": "stdout",
     "output_type": "stream",
     "text": [
      "trainable parametres: 1590414 non trainable parametres: 141906640\n"
     ]
    }
   ],
   "source": [
    "trainable_params = sum([v.numpy().size for v in model.trainable_variables])\n",
    "non_trainable_params = sum([v.numpy().size for v in model.non_trainable_variables])\n",
    "print(\"trainable parametres: \"+ str(trainable_params) + \" non trainable parametres: \"+ str(non_trainable_params))"
   ]
  },
  {
   "cell_type": "markdown",
   "id": "41c15c10",
   "metadata": {
    "papermill": {
     "duration": 0.012153,
     "end_time": "2025-03-20T21:47:33.183866",
     "exception": false,
     "start_time": "2025-03-20T21:47:33.171713",
     "status": "completed"
    },
    "tags": []
   },
   "source": [
    "# custom generator"
   ]
  },
  {
   "cell_type": "code",
   "execution_count": 25,
   "id": "73374e18",
   "metadata": {
    "execution": {
     "iopub.execute_input": "2025-03-20T21:47:33.210819Z",
     "iopub.status.busy": "2025-03-20T21:47:33.209851Z",
     "iopub.status.idle": "2025-03-20T21:47:33.215053Z",
     "shell.execute_reply": "2025-03-20T21:47:33.214090Z"
    },
    "papermill": {
     "duration": 0.020822,
     "end_time": "2025-03-20T21:47:33.217099",
     "exception": false,
     "start_time": "2025-03-20T21:47:33.196277",
     "status": "completed"
    },
    "tags": []
   },
   "outputs": [],
   "source": [
    "def generator_two_img(gen):\n",
    "    while True:\n",
    "        X1i = gen.next()\n",
    "        yield [X1i[0],X1i[0]], X1i[1]"
   ]
  },
  {
   "cell_type": "markdown",
   "id": "71d691a0",
   "metadata": {
    "papermill": {
     "duration": 0.011952,
     "end_time": "2025-03-20T21:47:33.241350",
     "exception": false,
     "start_time": "2025-03-20T21:47:33.229398",
     "status": "completed"
    },
    "tags": []
   },
   "source": [
    "# training model"
   ]
  },
  {
   "cell_type": "code",
   "execution_count": 26,
   "id": "3804eee5",
   "metadata": {
    "execution": {
     "iopub.execute_input": "2025-03-20T21:47:33.269567Z",
     "iopub.status.busy": "2025-03-20T21:47:33.268493Z",
     "iopub.status.idle": "2025-03-20T21:47:33.294349Z",
     "shell.execute_reply": "2025-03-20T21:47:33.293545Z"
    },
    "papermill": {
     "duration": 0.042789,
     "end_time": "2025-03-20T21:47:33.296367",
     "exception": false,
     "start_time": "2025-03-20T21:47:33.253578",
     "status": "completed"
    },
    "tags": []
   },
   "outputs": [],
   "source": [
    "model.compile(loss=\"categorical_crossentropy\",optimizer=tf.optimizers.Adam(),metrics=['accuracy'])"
   ]
  },
  {
   "cell_type": "code",
   "execution_count": 27,
   "id": "127b2f36",
   "metadata": {
    "execution": {
     "iopub.execute_input": "2025-03-20T21:47:33.321568Z",
     "iopub.status.busy": "2025-03-20T21:47:33.320760Z",
     "iopub.status.idle": "2025-03-21T05:07:34.184048Z",
     "shell.execute_reply": "2025-03-21T05:07:34.182991Z"
    },
    "papermill": {
     "duration": 26401.143143,
     "end_time": "2025-03-21T05:07:34.451789",
     "exception": false,
     "start_time": "2025-03-20T21:47:33.308646",
     "status": "completed"
    },
    "tags": []
   },
   "outputs": [
    {
     "name": "stdout",
     "output_type": "stream",
     "text": [
      "Epoch 1/20\n",
      "337/337 [==============================] - 1508s 4s/step - loss: 2.5187 - accuracy: 0.8345 - val_loss: 0.8618 - val_accuracy: 0.8383\n",
      "Epoch 2/20\n",
      "337/337 [==============================] - 1323s 4s/step - loss: 0.6540 - accuracy: 0.8836 - val_loss: 0.7319 - val_accuracy: 0.8404\n",
      "Epoch 3/20\n",
      "337/337 [==============================] - 1293s 4s/step - loss: 0.5463 - accuracy: 0.8963 - val_loss: 0.5643 - val_accuracy: 0.8843\n",
      "Epoch 4/20\n",
      "337/337 [==============================] - 1295s 4s/step - loss: 0.4963 - accuracy: 0.9033 - val_loss: 0.6493 - val_accuracy: 0.8543\n",
      "Epoch 5/20\n",
      "337/337 [==============================] - 1301s 4s/step - loss: 0.4451 - accuracy: 0.9117 - val_loss: 0.5388 - val_accuracy: 0.8894\n",
      "Epoch 6/20\n",
      "337/337 [==============================] - 1289s 4s/step - loss: 0.4278 - accuracy: 0.9159 - val_loss: 0.5659 - val_accuracy: 0.8733\n",
      "Epoch 7/20\n",
      "337/337 [==============================] - 1287s 4s/step - loss: 0.4198 - accuracy: 0.9159 - val_loss: 0.5262 - val_accuracy: 0.8796\n",
      "Epoch 8/20\n",
      "337/337 [==============================] - 1298s 4s/step - loss: 0.4038 - accuracy: 0.9225 - val_loss: 0.5039 - val_accuracy: 0.8948\n",
      "Epoch 9/20\n",
      "337/337 [==============================] - 1315s 4s/step - loss: 0.3870 - accuracy: 0.9232 - val_loss: 0.5103 - val_accuracy: 0.8986\n",
      "Epoch 10/20\n",
      "337/337 [==============================] - 1297s 4s/step - loss: 0.3684 - accuracy: 0.9273 - val_loss: 0.5178 - val_accuracy: 0.8872\n",
      "Epoch 11/20\n",
      "337/337 [==============================] - 1301s 4s/step - loss: 0.3605 - accuracy: 0.9272 - val_loss: 0.4490 - val_accuracy: 0.9041\n",
      "Epoch 12/20\n",
      "337/337 [==============================] - 1313s 4s/step - loss: 0.3587 - accuracy: 0.9304 - val_loss: 0.4813 - val_accuracy: 0.8957\n",
      "Epoch 13/20\n",
      "337/337 [==============================] - 1297s 4s/step - loss: 0.3431 - accuracy: 0.9307 - val_loss: 0.4116 - val_accuracy: 0.9168\n",
      "Epoch 14/20\n",
      "337/337 [==============================] - 1294s 4s/step - loss: 0.3510 - accuracy: 0.9314 - val_loss: 0.5083 - val_accuracy: 0.8948\n",
      "Epoch 15/20\n",
      "337/337 [==============================] - 1336s 4s/step - loss: 0.3305 - accuracy: 0.9340 - val_loss: 0.4782 - val_accuracy: 0.8986\n",
      "Epoch 16/20\n",
      "337/337 [==============================] - 1339s 4s/step - loss: 0.3315 - accuracy: 0.9338 - val_loss: 0.5470 - val_accuracy: 0.8881\n",
      "Epoch 17/20\n",
      "337/337 [==============================] - 1343s 4s/step - loss: 0.3253 - accuracy: 0.9369 - val_loss: 0.4732 - val_accuracy: 0.9016\n",
      "Epoch 18/20\n",
      "337/337 [==============================] - 1342s 4s/step - loss: 0.3103 - accuracy: 0.9388 - val_loss: 0.4608 - val_accuracy: 0.8991\n",
      "Epoch 19/20\n",
      "337/337 [==============================] - 1326s 4s/step - loss: 0.3011 - accuracy: 0.9382 - val_loss: 0.5781 - val_accuracy: 0.8758\n",
      "Epoch 20/20\n",
      "337/337 [==============================] - 1299s 4s/step - loss: 0.2971 - accuracy: 0.9395 - val_loss: 0.4599 - val_accuracy: 0.8999\n"
     ]
    }
   ],
   "source": [
    "batch_size=64\n",
    "history = model.fit(\n",
    "    generator_two_img(train_images),\n",
    "    validation_data=generator_two_img(valid_images),\n",
    "    validation_steps=valid_images.n//batch_size,\n",
    "    validation_batch_size=batch_size,\n",
    "    steps_per_epoch=train_images.n//batch_size,\n",
    "    batch_size=batch_size,\n",
    "    epochs=20,\n",
    ")\n"
   ]
  },
  {
   "cell_type": "code",
   "execution_count": 28,
   "id": "c00c23d5",
   "metadata": {
    "execution": {
     "iopub.execute_input": "2025-03-21T05:07:35.042038Z",
     "iopub.status.busy": "2025-03-21T05:07:35.041373Z",
     "iopub.status.idle": "2025-03-21T05:07:37.023297Z",
     "shell.execute_reply": "2025-03-21T05:07:37.022030Z"
    },
    "papermill": {
     "duration": 2.283241,
     "end_time": "2025-03-21T05:07:37.025437",
     "exception": false,
     "start_time": "2025-03-21T05:07:34.742196",
     "status": "completed"
    },
    "tags": []
   },
   "outputs": [],
   "source": [
    "model.save('1vit1cnniresnet.h5')"
   ]
  },
  {
   "cell_type": "markdown",
   "id": "c9944244",
   "metadata": {
    "papermill": {
     "duration": 0.375647,
     "end_time": "2025-03-21T05:07:37.693648",
     "exception": false,
     "start_time": "2025-03-21T05:07:37.318001",
     "status": "completed"
    },
    "tags": []
   },
   "source": [
    "# performance evaluation"
   ]
  },
  {
   "cell_type": "code",
   "execution_count": 29,
   "id": "47d53869",
   "metadata": {
    "execution": {
     "iopub.execute_input": "2025-03-21T05:07:38.277170Z",
     "iopub.status.busy": "2025-03-21T05:07:38.276828Z",
     "iopub.status.idle": "2025-03-21T05:07:38.630677Z",
     "shell.execute_reply": "2025-03-21T05:07:38.629780Z"
    },
    "papermill": {
     "duration": 0.64712,
     "end_time": "2025-03-21T05:07:38.633274",
     "exception": false,
     "start_time": "2025-03-21T05:07:37.986154",
     "status": "completed"
    },
    "tags": []
   },
   "outputs": [
    {
     "name": "stderr",
     "output_type": "stream",
     "text": [
      "/opt/conda/lib/python3.7/site-packages/ipykernel_launcher.py:10: UserWarning: color is redundantly defined by the 'color' keyword argument and the fmt string \"go-\" (-> color='g'). The keyword argument will take precedence.\n",
      "  # Remove the CWD from sys.path while we load stuff.\n",
      "/opt/conda/lib/python3.7/site-packages/ipykernel_launcher.py:18: UserWarning: color is redundantly defined by the 'color' keyword argument and the fmt string \"g-o\" (-> color='g'). The keyword argument will take precedence.\n"
     ]
    },
    {
     "data": {
      "image/png": "[encoded data removed]",
      "text/plain": [
       "<Figure size 1440x720 with 2 Axes>"
      ]
     },
     "metadata": {
      "needs_background": "light"
     },
     "output_type": "display_data"
    }
   ],
   "source": [
    "epochs = list(range(len(history.history['accuracy'])))\n",
    "fig , ax = plt.subplots(1,2)\n",
    "train_acc = history.history['accuracy']\n",
    "train_loss = history.history['loss']\n",
    "val_acc = history.history['val_accuracy']\n",
    "val_loss = history.history['val_loss']\n",
    "\n",
    "fig.set_size_inches(20,10)\n",
    "\n",
    "ax[0].plot(epochs , train_acc , 'go-' ,color='r', label = 'Training Accuracy')\n",
    "ax[0].plot(epochs , val_acc , 'go-' , label = 'Validation Accuracy')\n",
    "ax[0].set_title('Training Accuracy')\n",
    "ax[0].legend()\n",
    "ax[0].set_xlabel(\"Epochs\")\n",
    "ax[0].set_ylabel(\"Accuracy\")\n",
    "\n",
    "\n",
    "ax[1].plot(epochs , train_loss , 'g-o' ,color='r', label = 'Training Loss')\n",
    "ax[1].plot(epochs , val_loss , 'go-' , label = 'Validation Loss')\n",
    "ax[1].set_title('Training Loss')\n",
    "ax[1].legend()\n",
    "ax[1].set_xlabel(\"Epochs\")\n",
    "ax[1].set_ylabel(\"Training Loss\")\n",
    "plt.show()"
   ]
  },
  {
   "cell_type": "code",
   "execution_count": 30,
   "id": "25f3a8bc",
   "metadata": {
    "execution": {
     "iopub.execute_input": "2025-03-21T05:07:39.223763Z",
     "iopub.status.busy": "2025-03-21T05:07:39.222914Z",
     "iopub.status.idle": "2025-03-21T05:08:01.448846Z",
     "shell.execute_reply": "2025-03-21T05:08:01.447823Z"
    },
    "papermill": {
     "duration": 22.524029,
     "end_time": "2025-03-21T05:08:01.450761",
     "exception": false,
     "start_time": "2025-03-21T05:07:38.926732",
     "status": "completed"
    },
    "tags": []
   },
   "outputs": [
    {
     "name": "stdout",
     "output_type": "stream",
     "text": [
      "Found 6000 validated image filenames belonging to 15 classes.\n"
     ]
    }
   ],
   "source": [
    "test_generator = tf.keras.preprocessing.image.ImageDataGenerator(\n",
    "    rescale=1./255,\n",
    ")\n",
    "test_images = test_generator.flow_from_dataframe(\n",
    "    dataframe=test_data,\n",
    "    x_col='File',\n",
    "    y_col='class_',\n",
    "    target_size=(SIZE, SIZE),\n",
    "    color_mode='rgb',\n",
    "    class_mode='categorical',\n",
    "    batch_size=batch_size,\n",
    "    shuffle=False\n",
    ")"
   ]
  },
  {
   "cell_type": "code",
   "execution_count": 31,
   "id": "217c2f54",
   "metadata": {
    "execution": {
     "iopub.execute_input": "2025-03-21T05:08:02.037383Z",
     "iopub.status.busy": "2025-03-21T05:08:02.036866Z",
     "iopub.status.idle": "2025-03-21T05:08:02.041598Z",
     "shell.execute_reply": "2025-03-21T05:08:02.040758Z"
    },
    "papermill": {
     "duration": 0.30093,
     "end_time": "2025-03-21T05:08:02.043331",
     "exception": false,
     "start_time": "2025-03-21T05:08:01.742401",
     "status": "completed"
    },
    "tags": []
   },
   "outputs": [],
   "source": [
    "class_=train_images.class_indices.keys()"
   ]
  },
  {
   "cell_type": "code",
   "execution_count": 32,
   "id": "6ef7a9ef",
   "metadata": {
    "execution": {
     "iopub.execute_input": "2025-03-21T05:08:02.627645Z",
     "iopub.status.busy": "2025-03-21T05:08:02.627086Z",
     "iopub.status.idle": "2025-03-21T05:08:02.632326Z",
     "shell.execute_reply": "2025-03-21T05:08:02.631475Z"
    },
    "papermill": {
     "duration": 0.297724,
     "end_time": "2025-03-21T05:08:02.634057",
     "exception": false,
     "start_time": "2025-03-21T05:08:02.336333",
     "status": "completed"
    },
    "tags": []
   },
   "outputs": [],
   "source": [
    "def prediction_generator(test_images):\n",
    "    k=0\n",
    "    for x in test_images:\n",
    "        k+=len(x[1])\n",
    "        yield [x[0],x[0]], x[1]\n",
    "        if(k>=test_images.n):\n",
    "            break"
   ]
  },
  {
   "cell_type": "code",
   "execution_count": 33,
   "id": "1ab30c12",
   "metadata": {
    "execution": {
     "iopub.execute_input": "2025-03-21T05:08:03.298921Z",
     "iopub.status.busy": "2025-03-21T05:08:03.297914Z",
     "iopub.status.idle": "2025-03-21T05:10:36.224219Z",
     "shell.execute_reply": "2025-03-21T05:10:36.223367Z"
    },
    "papermill": {
     "duration": 153.517903,
     "end_time": "2025-03-21T05:10:36.521153",
     "exception": false,
     "start_time": "2025-03-21T05:08:03.003250",
     "status": "completed"
    },
    "tags": []
   },
   "outputs": [
    {
     "data": {
      "text/plain": [
       "0.9225"
      ]
     },
     "execution_count": 33,
     "metadata": {},
     "output_type": "execute_result"
    }
   ],
   "source": [
    "from sklearn.metrics import accuracy_score\n",
    "proba=model.predict(prediction_generator(test_images))\n",
    "predicted = np.argmax(proba,axis=1)\n",
    "true=test_images.labels\n",
    "accuracy_score(predicted, true)"
   ]
  },
  {
   "cell_type": "code",
   "execution_count": 34,
   "id": "424c0beb",
   "metadata": {
    "execution": {
     "iopub.execute_input": "2025-03-21T05:10:37.108041Z",
     "iopub.status.busy": "2025-03-21T05:10:37.107112Z",
     "iopub.status.idle": "2025-03-21T05:10:38.625153Z",
     "shell.execute_reply": "2025-03-21T05:10:38.624211Z"
    },
    "papermill": {
     "duration": 1.813949,
     "end_time": "2025-03-21T05:10:38.627079",
     "exception": false,
     "start_time": "2025-03-21T05:10:36.813130",
     "status": "completed"
    },
    "tags": []
   },
   "outputs": [
    {
     "data": {
      "image/png": "[encoded data removed]",
      "text/plain": [
       "<Figure size 1152x1008 with 2 Axes>"
      ]
     },
     "metadata": {
      "needs_background": "light"
     },
     "output_type": "display_data"
    }
   ],
   "source": [
    "from sklearn.metrics import confusion_matrix\n",
    "import seaborn as sns\n",
    "class_=test_images.class_indices.keys()\n",
    "cm = confusion_matrix(true, predicted)\n",
    "fig = plt.figure(figsize=(16, 14))\n",
    "ax= plt.subplot()\n",
    "sns.heatmap(cm, annot=True, ax = ax,cmap=\"BuPu\"); \n",
    "ax.set_xlabel('Predicted', fontsize=20)\n",
    "ax.xaxis.set_label_position('bottom')\n",
    "plt.xticks(rotation=90)\n",
    "ax.xaxis.set_ticklabels(class_, fontsize = 10)\n",
    "ax.xaxis.tick_bottom()\n",
    "\n",
    "ax.set_ylabel('True', fontsize=20)\n",
    "ax.yaxis.set_ticklabels(class_, fontsize = 10)\n",
    "plt.yticks(rotation=0)\n",
    "\n",
    "plt.title('', fontsize=60)\n",
    "\n",
    "plt.savefig('ConMat24.png')\n",
    "plt.show()"
   ]
  },
  {
   "cell_type": "markdown",
   "id": "587da337",
   "metadata": {
    "papermill": {
     "duration": 0.293358,
     "end_time": "2025-03-21T05:10:39.218474",
     "exception": false,
     "start_time": "2025-03-21T05:10:38.925116",
     "status": "completed"
    },
    "tags": []
   },
   "source": [
    "# ROC"
   ]
  },
  {
   "cell_type": "code",
   "execution_count": 35,
   "id": "64d63847",
   "metadata": {
    "execution": {
     "iopub.execute_input": "2025-03-21T05:10:39.887742Z",
     "iopub.status.busy": "2025-03-21T05:10:39.886714Z",
     "iopub.status.idle": "2025-03-21T05:10:40.334782Z",
     "shell.execute_reply": "2025-03-21T05:10:40.333917Z"
    },
    "papermill": {
     "duration": 0.746407,
     "end_time": "2025-03-21T05:10:40.337634",
     "exception": false,
     "start_time": "2025-03-21T05:10:39.591227",
     "status": "completed"
    },
    "tags": []
   },
   "outputs": [
    {
     "data": {
      "image/png": "[encoded data removed]",
      "text/plain": [
       "<Figure size 720x1152 with 1 Axes>"
      ]
     },
     "metadata": {
      "needs_background": "light"
     },
     "output_type": "display_data"
    }
   ],
   "source": [
    "from sklearn.metrics import roc_curve, roc_auc_score\n",
    "from matplotlib import cm\n",
    "n=len(true)\n",
    "dim=max(true)+1\n",
    "result=[]\n",
    "for i in true:\n",
    "    result.append([0 for i in range(dim)])\n",
    "    result[len(result)-1][i]=1\n",
    "    \n",
    "    \n",
    "fpr = dict()\n",
    "tpr = dict()\n",
    "roc_auc = dict()\n",
    "n_classes =len(test_images.class_indices.keys())\n",
    "y_test=np.array(result)\n",
    "y_pred=np.array(proba)\n",
    "fpr = dict()\n",
    "tpr = dict()\n",
    "roc_auc = dict()\n",
    "\n",
    "rev={}\n",
    "for i in class_:\n",
    "    rev[train_images.class_indices[i]]=i\n",
    "\n",
    "\n",
    "for i in range(n_classes):\n",
    "    fpr[i], tpr[i], _ = roc_curve(y_test[:, i], y_pred[:, i])\n",
    "    roc_auc[i] = roc_auc_score(y_test[:, i], y_pred[:, i])\n",
    "\n",
    "\n",
    "fpr[\"micro\"], tpr[\"micro\"], _ = roc_curve(y_test.ravel(), y_pred.ravel())\n",
    "roc_auc[\"micro\"] = roc_auc_score(y_test, y_pred, multi_class='ovr')\n",
    "\n",
    "\n",
    "cmap = cm.get_cmap('tab10')\n",
    "\n",
    "# Plot the ROC curve for each class and micro-average with automatic color selection\n",
    "plt.figure(figsize=(10,16))\n",
    "lw = 2\n",
    "for i in range(n_classes):\n",
    "    color = cmap(i)\n",
    "    plt.plot(fpr[i], tpr[i], color=color, lw=lw,\n",
    "             label='ROC curve of class {0} (area = {1:0.2f})'\n",
    "             ''.format(rev[i], roc_auc[i]))\n",
    "\n",
    "plt.plot(fpr[\"micro\"], tpr[\"micro\"],\n",
    "         label='micro-average ROC curve (area = {0:0.2f})'\n",
    "         ''.format(roc_auc[\"micro\"]),\n",
    "         color=cmap(n_classes), linestyle=':', linewidth=4)\n",
    "\n",
    "plt.plot([0, 1], [0, 1], 'k--', lw=lw)\n",
    "plt.xlim([0.0, 1.0])\n",
    "plt.ylim([0.0, 1.05])\n",
    "plt.xlabel('False Positive Rate')\n",
    "plt.ylabel('True Positive Rate')\n",
    "plt.title('ROC Curve')\n",
    "plt.legend(loc=\"lower right\")\n",
    "plt.show()\n"
   ]
  },
  {
   "cell_type": "markdown",
   "id": "518f099a",
   "metadata": {
    "papermill": {
     "duration": 0.296799,
     "end_time": "2025-03-21T05:10:40.931191",
     "exception": false,
     "start_time": "2025-03-21T05:10:40.634392",
     "status": "completed"
    },
    "tags": []
   },
   "source": [
    "# AUC"
   ]
  },
  {
   "cell_type": "code",
   "execution_count": 36,
   "id": "aca43fe8",
   "metadata": {
    "execution": {
     "iopub.execute_input": "2025-03-21T05:10:41.519766Z",
     "iopub.status.busy": "2025-03-21T05:10:41.519410Z",
     "iopub.status.idle": "2025-03-21T05:10:41.722157Z",
     "shell.execute_reply": "2025-03-21T05:10:41.721224Z"
    },
    "papermill": {
     "duration": 0.499244,
     "end_time": "2025-03-21T05:10:41.724169",
     "exception": false,
     "start_time": "2025-03-21T05:10:41.224925",
     "status": "completed"
    },
    "tags": []
   },
   "outputs": [
    {
     "data": {
      "image/png": "[encoded data removed]",
      "text/plain": [
       "<Figure size 432x288 with 1 Axes>"
      ]
     },
     "metadata": {
      "needs_background": "light"
     },
     "output_type": "display_data"
    }
   ],
   "source": [
    "from sklearn.metrics import roc_curve, auc\n",
    "import matplotlib.pyplot as plt\n",
    "\n",
    "y_true=y_test\n",
    "y_score=y_pred\n",
    "fpr, tpr, thresholds = roc_curve(y_test.ravel(), y_pred.ravel())\n",
    "roc_auc = auc(fpr, tpr)\n",
    "\n",
    "plt.figure()\n",
    "lw = 2\n",
    "plt.plot(fpr, tpr, color='darkorange',\n",
    "         lw=lw, label='ROC curve (area = %0.2f)' % roc_auc)\n",
    "plt.plot([0, 1], [0, 1], color='navy', lw=lw, linestyle='--')\n",
    "plt.xlim([0.0, 1.0])\n",
    "plt.ylim([0.0, 1.05])\n",
    "plt.xlabel('False Positive Rate')\n",
    "plt.ylabel('True Positive Rate')\n",
    "plt.title('AUC Curve')\n",
    "plt.legend(loc=\"lower right\")\n",
    "plt.show()"
   ]
  }
 ],
 "metadata": {
  "kaggle": {
   "accelerator": "gpu",
   "dataSources": [
    {
     "datasetId": 2841105,
     "sourceId": 4899227,
     "sourceType": "datasetVersion"
    },
    {
     "datasetId": 2841086,
     "sourceId": 5146843,
     "sourceType": "datasetVersion"
    },
    {
     "datasetId": 2947560,
     "sourceId": 5149790,
     "sourceType": "datasetVersion"
    },
    {
     "datasetId": 6920708,
     "sourceId": 11101777,
     "sourceType": "datasetVersion"
    },
    {
     "isSourceIdPinned": false,
     "modelId": 40,
     "modelInstanceId": 488,
     "sourceId": 621,
     "sourceType": "modelInstanceVersion"
    },
    {
     "isSourceIdPinned": true,
     "modelId": 44,
     "modelInstanceId": 536,
     "sourceId": 669,
     "sourceType": "modelInstanceVersion"
    },
    {
     "isSourceIdPinned": false,
     "modelId": 316,
     "modelInstanceId": 2719,
     "sourceId": 3816,
     "sourceType": "modelInstanceVersion"
    }
   ],
   "dockerImageVersionId": 30370,
   "isGpuEnabled": true,
   "isInternetEnabled": true,
   "language": "python",
   "sourceType": "notebook"
  },
  "kernelspec": {
   "display_name": "Python 3",
   "language": "python",
   "name": "python3"
  },
  "language_info": {
   "codemirror_mode": {
    "name": "ipython",
    "version": 3
   },
   "file_extension": ".py",
   "mimetype": "text/x-python",
   "name": "python",
   "nbconvert_exporter": "python",
   "pygments_lexer": "ipython3",
   "version": "3.7.12"
  },
  "papermill": {
   "default_parameters": {},
   "duration": 26727.42868,
   "end_time": "2025-03-21T05:10:45.922976",
   "environment_variables": {},
   "exception": null,
   "input_path": "__notebook__.ipynb",
   "output_path": "__notebook__.ipynb",
   "parameters": {},
   "start_time": "2025-03-20T21:45:18.494296",
   "version": "2.3.4"
  }
 },
 "nbformat": 4,
 "nbformat_minor": 5
}
