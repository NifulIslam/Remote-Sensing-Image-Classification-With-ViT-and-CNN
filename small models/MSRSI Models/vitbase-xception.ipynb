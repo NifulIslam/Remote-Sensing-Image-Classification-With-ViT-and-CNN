{
 "cells": [
  {
   "cell_type": "markdown",
   "id": "62763bdc",
   "metadata": {
    "papermill": {
     "duration": 0.009779,
     "end_time": "2025-03-20T22:25:02.251339",
     "exception": false,
     "start_time": "2025-03-20T22:25:02.241560",
     "status": "completed"
    },
    "tags": []
   },
   "source": [
    "# basic imports"
   ]
  },
  {
   "cell_type": "code",
   "execution_count": 1,
   "id": "334c240d",
   "metadata": {
    "_cell_guid": "b1076dfc-b9ad-4769-8c92-a6c4dae69d19",
    "_uuid": "8f2839f25d086af736a60e9eeb907d3b93b6e0e5",
    "execution": {
     "iopub.execute_input": "2025-03-20T22:25:02.269002Z",
     "iopub.status.busy": "2025-03-20T22:25:02.268624Z",
     "iopub.status.idle": "2025-03-20T22:25:19.436843Z",
     "shell.execute_reply": "2025-03-20T22:25:19.435951Z"
    },
    "papermill": {
     "duration": 17.180357,
     "end_time": "2025-03-20T22:25:19.439102",
     "exception": false,
     "start_time": "2025-03-20T22:25:02.258745",
     "status": "completed"
    },
    "tags": []
   },
   "outputs": [
    {
     "name": "stdout",
     "output_type": "stream",
     "text": [
      "\u001b[33mWARNING: Running pip as the 'root' user can result in broken permissions and conflicting behaviour with the system package manager. It is recommended to use a virtual environment instead: https://pip.pypa.io/warnings/venv\u001b[0m\u001b[33m\r\n",
      "\u001b[0m"
     ]
    }
   ],
   "source": [
    "import numpy as np \n",
    "import pandas as pd\n",
    "import os\n",
    "import cv2\n",
    "import tensorflow\n",
    "import glob\n",
    "from matplotlib import pyplot as plt\n",
    "from tensorflow.keras.layers import Input, Lambda, Dense, Flatten,Dropout\n",
    "from tensorflow.keras.models import Model\n",
    "from tensorflow.keras.applications.inception_v3 import InceptionV3\n",
    "from tensorflow.keras.preprocessing import image\n",
    "from tensorflow.keras.preprocessing.image import ImageDataGenerator\n",
    "from tensorflow.keras.models import Sequential\n",
    "from tensorflow.keras.applications.vgg16 import VGG16\n",
    "from tensorflow.keras.applications.vgg19 import VGG19\n",
    "from tensorflow.keras.applications import EfficientNetB0\n",
    "import tensorflow as tf \n",
    "from tensorflow.keras import layers\n",
    "!pip install --quiet vit-keras\n",
    "from vit_keras import vit\n",
    "from tensorflow.keras.applications.resnet50 import ResNet50"
   ]
  },
  {
   "cell_type": "markdown",
   "id": "2ea49d88",
   "metadata": {
    "papermill": {
     "duration": 0.006835,
     "end_time": "2025-03-20T22:25:19.453676",
     "exception": false,
     "start_time": "2025-03-20T22:25:19.446841",
     "status": "completed"
    },
    "tags": []
   },
   "source": [
    "# Reading Data"
   ]
  },
  {
   "cell_type": "code",
   "execution_count": 2,
   "id": "6debeda9",
   "metadata": {
    "execution": {
     "iopub.execute_input": "2025-03-20T22:25:19.470401Z",
     "iopub.status.busy": "2025-03-20T22:25:19.469492Z",
     "iopub.status.idle": "2025-03-20T22:25:19.474317Z",
     "shell.execute_reply": "2025-03-20T22:25:19.473437Z"
    },
    "papermill": {
     "duration": 0.014986,
     "end_time": "2025-03-20T22:25:19.476077",
     "exception": false,
     "start_time": "2025-03-20T22:25:19.461091",
     "status": "completed"
    },
    "tags": []
   },
   "outputs": [],
   "source": [
    "#ucm\n",
    "# train_data=pd.read_csv(\"/kaggle/input/satelite-csv/train.csv\")\n",
    "# train_data['File']=train_data['File'].apply(lambda x : '/kaggle/input/satelite-images/Images/'+x)\n",
    "# test_data=pd.read_csv(\"/kaggle/input/satelite-csv/test.csv\")\n",
    "# test_data['File']=test_data['File'].apply(lambda x : '/kaggle/input/satelite-images/Images/'+x)"
   ]
  },
  {
   "cell_type": "code",
   "execution_count": 3,
   "id": "663135cb",
   "metadata": {
    "execution": {
     "iopub.execute_input": "2025-03-20T22:25:19.491478Z",
     "iopub.status.busy": "2025-03-20T22:25:19.490981Z",
     "iopub.status.idle": "2025-03-20T22:25:19.494653Z",
     "shell.execute_reply": "2025-03-20T22:25:19.493979Z"
    },
    "papermill": {
     "duration": 0.013107,
     "end_time": "2025-03-20T22:25:19.496256",
     "exception": false,
     "start_time": "2025-03-20T22:25:19.483149",
     "status": "completed"
    },
    "tags": []
   },
   "outputs": [],
   "source": [
    "# rsscn7\n",
    "# train_data=pd.read_csv(\"/kaggle/input/rsscn7-dataset/gamma-correct/train.csv\")\n",
    "# train_data['File']=train_data['File'].apply(lambda x : '/kaggle/input/rsscn7-dataset/gamma-correct/'+x)\n",
    "# test_data=pd.read_csv(\"/kaggle/input/rsscn7-dataset/gamma-correct/test.csv\")\n",
    "# test_data['File']=test_data['File'].apply(lambda x : '/kaggle/input/rsscn7-dataset/gamma-correct/'+x)"
   ]
  },
  {
   "cell_type": "code",
   "execution_count": 4,
   "id": "e2202008",
   "metadata": {
    "execution": {
     "iopub.execute_input": "2025-03-20T22:25:19.511759Z",
     "iopub.status.busy": "2025-03-20T22:25:19.510994Z",
     "iopub.status.idle": "2025-03-20T22:25:19.605432Z",
     "shell.execute_reply": "2025-03-20T22:25:19.604442Z"
    },
    "papermill": {
     "duration": 0.104388,
     "end_time": "2025-03-20T22:25:19.607699",
     "exception": false,
     "start_time": "2025-03-20T22:25:19.503311",
     "status": "completed"
    },
    "tags": []
   },
   "outputs": [],
   "source": [
    "#msrsi\n",
    "train_data=pd.read_csv(\"/kaggle/input/msrsi-dataset/MSRSI/train_df.csv\")\n",
    "train_data['File']=train_data['File'].apply(lambda x : '/kaggle/input/msrsi-dataset/MSRSI/'+x)\n",
    "test_data=pd.read_csv(\"/kaggle/input/msrsi-dataset/MSRSI/test_df.csv\")\n",
    "test_data['File']=test_data['File'].apply(lambda x : '/kaggle/input/msrsi-dataset/MSRSI/'+x)"
   ]
  },
  {
   "cell_type": "code",
   "execution_count": 5,
   "id": "b4d489cc",
   "metadata": {
    "execution": {
     "iopub.execute_input": "2025-03-20T22:25:19.623338Z",
     "iopub.status.busy": "2025-03-20T22:25:19.623027Z",
     "iopub.status.idle": "2025-03-20T22:25:19.643494Z",
     "shell.execute_reply": "2025-03-20T22:25:19.642515Z"
    },
    "papermill": {
     "duration": 0.030312,
     "end_time": "2025-03-20T22:25:19.645388",
     "exception": false,
     "start_time": "2025-03-20T22:25:19.615076",
     "status": "completed"
    },
    "tags": []
   },
   "outputs": [
    {
     "data": {
      "text/html": [
       "<div>\n",
       "<style scoped>\n",
       "    .dataframe tbody tr th:only-of-type {\n",
       "        vertical-align: middle;\n",
       "    }\n",
       "\n",
       "    .dataframe tbody tr th {\n",
       "        vertical-align: top;\n",
       "    }\n",
       "\n",
       "    .dataframe thead th {\n",
       "        text-align: right;\n",
       "    }\n",
       "</style>\n",
       "<table border=\"1\" class=\"dataframe\">\n",
       "  <thead>\n",
       "    <tr style=\"text-align: right;\">\n",
       "      <th></th>\n",
       "      <th>File</th>\n",
       "      <th>class_</th>\n",
       "    </tr>\n",
       "  </thead>\n",
       "  <tbody>\n",
       "    <tr>\n",
       "      <th>9388</th>\n",
       "      <td>/kaggle/input/msrsi-dataset/MSRSI/CircularFarm...</td>\n",
       "      <td>CircularFarmland</td>\n",
       "    </tr>\n",
       "    <tr>\n",
       "      <th>22510</th>\n",
       "      <td>/kaggle/input/msrsi-dataset/MSRSI/Bridge/Bridg...</td>\n",
       "      <td>Bridge</td>\n",
       "    </tr>\n",
       "    <tr>\n",
       "      <th>23934</th>\n",
       "      <td>/kaggle/input/msrsi-dataset/MSRSI/DenseResiden...</td>\n",
       "      <td>DenseResidential</td>\n",
       "    </tr>\n",
       "    <tr>\n",
       "      <th>8090</th>\n",
       "      <td>/kaggle/input/msrsi-dataset/MSRSI/IndustrialAr...</td>\n",
       "      <td>IndustrialArea</td>\n",
       "    </tr>\n",
       "    <tr>\n",
       "      <th>8560</th>\n",
       "      <td>/kaggle/input/msrsi-dataset/MSRSI/SolarPanel/S...</td>\n",
       "      <td>SolarPanel</td>\n",
       "    </tr>\n",
       "    <tr>\n",
       "      <th>...</th>\n",
       "      <td>...</td>\n",
       "      <td>...</td>\n",
       "    </tr>\n",
       "    <tr>\n",
       "      <th>21097</th>\n",
       "      <td>/kaggle/input/msrsi-dataset/MSRSI/Overpass/Ove...</td>\n",
       "      <td>Overpass</td>\n",
       "    </tr>\n",
       "    <tr>\n",
       "      <th>22023</th>\n",
       "      <td>/kaggle/input/msrsi-dataset/MSRSI/River/River_...</td>\n",
       "      <td>River</td>\n",
       "    </tr>\n",
       "    <tr>\n",
       "      <th>22313</th>\n",
       "      <td>/kaggle/input/msrsi-dataset/MSRSI/Desert/Deser...</td>\n",
       "      <td>Desert</td>\n",
       "    </tr>\n",
       "    <tr>\n",
       "      <th>20569</th>\n",
       "      <td>/kaggle/input/msrsi-dataset/MSRSI/Airport/Airp...</td>\n",
       "      <td>Airport</td>\n",
       "    </tr>\n",
       "    <tr>\n",
       "      <th>5907</th>\n",
       "      <td>/kaggle/input/msrsi-dataset/MSRSI/Forest/Fores...</td>\n",
       "      <td>Forest</td>\n",
       "    </tr>\n",
       "  </tbody>\n",
       "</table>\n",
       "<p>24000 rows × 2 columns</p>\n",
       "</div>"
      ],
      "text/plain": [
       "                                                    File            class_\n",
       "9388   /kaggle/input/msrsi-dataset/MSRSI/CircularFarm...  CircularFarmland\n",
       "22510  /kaggle/input/msrsi-dataset/MSRSI/Bridge/Bridg...            Bridge\n",
       "23934  /kaggle/input/msrsi-dataset/MSRSI/DenseResiden...  DenseResidential\n",
       "8090   /kaggle/input/msrsi-dataset/MSRSI/IndustrialAr...    IndustrialArea\n",
       "8560   /kaggle/input/msrsi-dataset/MSRSI/SolarPanel/S...        SolarPanel\n",
       "...                                                  ...               ...\n",
       "21097  /kaggle/input/msrsi-dataset/MSRSI/Overpass/Ove...          Overpass\n",
       "22023  /kaggle/input/msrsi-dataset/MSRSI/River/River_...             River\n",
       "22313  /kaggle/input/msrsi-dataset/MSRSI/Desert/Deser...            Desert\n",
       "20569  /kaggle/input/msrsi-dataset/MSRSI/Airport/Airp...           Airport\n",
       "5907   /kaggle/input/msrsi-dataset/MSRSI/Forest/Fores...            Forest\n",
       "\n",
       "[24000 rows x 2 columns]"
      ]
     },
     "execution_count": 5,
     "metadata": {},
     "output_type": "execute_result"
    }
   ],
   "source": [
    "train_data=train_data.sample(frac=1)\n",
    "train_data"
   ]
  },
  {
   "cell_type": "code",
   "execution_count": 6,
   "id": "0876ae62",
   "metadata": {
    "execution": {
     "iopub.execute_input": "2025-03-20T22:25:19.662352Z",
     "iopub.status.busy": "2025-03-20T22:25:19.661855Z",
     "iopub.status.idle": "2025-03-20T22:25:19.665619Z",
     "shell.execute_reply": "2025-03-20T22:25:19.664779Z"
    },
    "papermill": {
     "duration": 0.013839,
     "end_time": "2025-03-20T22:25:19.667352",
     "exception": false,
     "start_time": "2025-03-20T22:25:19.653513",
     "status": "completed"
    },
    "tags": []
   },
   "outputs": [],
   "source": [
    "SIZE=448\n",
    "size = [SIZE, SIZE ,3]"
   ]
  },
  {
   "cell_type": "code",
   "execution_count": 7,
   "id": "6d1fd3d6",
   "metadata": {
    "execution": {
     "iopub.execute_input": "2025-03-20T22:25:19.683284Z",
     "iopub.status.busy": "2025-03-20T22:25:19.682991Z",
     "iopub.status.idle": "2025-03-20T22:25:19.687969Z",
     "shell.execute_reply": "2025-03-20T22:25:19.687256Z"
    },
    "papermill": {
     "duration": 0.014685,
     "end_time": "2025-03-20T22:25:19.689605",
     "exception": false,
     "start_time": "2025-03-20T22:25:19.674920",
     "status": "completed"
    },
    "tags": []
   },
   "outputs": [],
   "source": [
    "train_datagen = ImageDataGenerator(\n",
    "    rescale=1.0 / 255,\n",
    "    rotation_range=40,\n",
    "    width_shift_range=0.2,\n",
    "    height_shift_range=0.2,\n",
    "    shear_range=0.2,\n",
    "    zoom_range=0.2,\n",
    "    horizontal_flip=True,\n",
    "    validation_split=.1,\n",
    "    fill_mode=\"nearest\",\n",
    ")\n",
    "batch_size=64"
   ]
  },
  {
   "cell_type": "code",
   "execution_count": 8,
   "id": "3ffa81e4",
   "metadata": {
    "execution": {
     "iopub.execute_input": "2025-03-20T22:25:19.705956Z",
     "iopub.status.busy": "2025-03-20T22:25:19.705664Z",
     "iopub.status.idle": "2025-03-20T22:26:23.066647Z",
     "shell.execute_reply": "2025-03-20T22:26:23.065705Z"
    },
    "papermill": {
     "duration": 63.371473,
     "end_time": "2025-03-20T22:26:23.068656",
     "exception": false,
     "start_time": "2025-03-20T22:25:19.697183",
     "status": "completed"
    },
    "tags": []
   },
   "outputs": [
    {
     "name": "stdout",
     "output_type": "stream",
     "text": [
      "Found 21600 validated image filenames belonging to 15 classes.\n",
      "Found 2400 validated image filenames belonging to 15 classes.\n"
     ]
    }
   ],
   "source": [
    "train_images = train_datagen.flow_from_dataframe(\n",
    "    dataframe=train_data,\n",
    "    x_col='File',\n",
    "    y_col='class_',\n",
    "    target_size=(SIZE, SIZE),\n",
    "    color_mode='rgb',\n",
    "    class_mode='categorical',\n",
    "    batch_size=batch_size,\n",
    "    shuffle=True,\n",
    "    seed=42,\n",
    "    subset='training'\n",
    ")\n",
    "valid_images = train_datagen.flow_from_dataframe(\n",
    "    dataframe=train_data,\n",
    "    x_col='File',\n",
    "    y_col='class_',\n",
    "    target_size=(SIZE, SIZE),\n",
    "    color_mode='rgb',\n",
    "    class_mode='categorical',\n",
    "    batch_size=batch_size,\n",
    "    shuffle=True,\n",
    "    seed=42,\n",
    "    subset='validation'\n",
    ")\n"
   ]
  },
  {
   "cell_type": "markdown",
   "id": "e1722381",
   "metadata": {
    "papermill": {
     "duration": 0.007244,
     "end_time": "2025-03-20T22:26:23.083722",
     "exception": false,
     "start_time": "2025-03-20T22:26:23.076478",
     "status": "completed"
    },
    "tags": []
   },
   "source": [
    "# freezing nescessary pararametres"
   ]
  },
  {
   "cell_type": "code",
   "execution_count": 9,
   "id": "70cb958d",
   "metadata": {
    "execution": {
     "iopub.execute_input": "2025-03-20T22:26:23.100156Z",
     "iopub.status.busy": "2025-03-20T22:26:23.099287Z",
     "iopub.status.idle": "2025-03-20T22:26:23.617961Z",
     "shell.execute_reply": "2025-03-20T22:26:23.617014Z"
    },
    "papermill": {
     "duration": 0.529181,
     "end_time": "2025-03-20T22:26:23.620264",
     "exception": false,
     "start_time": "2025-03-20T22:26:23.091083",
     "status": "completed"
    },
    "tags": []
   },
   "outputs": [],
   "source": [
    "import tensorflow_hub as hub"
   ]
  },
  {
   "cell_type": "code",
   "execution_count": 10,
   "id": "8f8cd71f",
   "metadata": {
    "execution": {
     "iopub.execute_input": "2025-03-20T22:26:23.637593Z",
     "iopub.status.busy": "2025-03-20T22:26:23.636873Z",
     "iopub.status.idle": "2025-03-20T22:26:23.641477Z",
     "shell.execute_reply": "2025-03-20T22:26:23.640701Z"
    },
    "papermill": {
     "duration": 0.014801,
     "end_time": "2025-03-20T22:26:23.643225",
     "exception": false,
     "start_time": "2025-03-20T22:26:23.628424",
     "status": "completed"
    },
    "tags": []
   },
   "outputs": [],
   "source": [
    "def get_from_hub(model_url):\n",
    "    inputs = tf.keras.Input((batch_size,SIZE, SIZE, 3))\n",
    "    hub_module = hub.KerasLayer(model_url,trainable=False)\n",
    "    outputs = hub_module(inputs)\n",
    "    return tf.keras.Model(inputs, outputs)"
   ]
  },
  {
   "cell_type": "code",
   "execution_count": 11,
   "id": "3e287f64",
   "metadata": {
    "execution": {
     "iopub.execute_input": "2025-03-20T22:26:23.659625Z",
     "iopub.status.busy": "2025-03-20T22:26:23.658974Z",
     "iopub.status.idle": "2025-03-20T22:26:23.663227Z",
     "shell.execute_reply": "2025-03-20T22:26:23.662475Z"
    },
    "papermill": {
     "duration": 0.014087,
     "end_time": "2025-03-20T22:26:23.664853",
     "exception": false,
     "start_time": "2025-03-20T22:26:23.650766",
     "status": "completed"
    },
    "tags": []
   },
   "outputs": [],
   "source": [
    "def name_and_freeze(model,name=\"\"):\n",
    "    for layer in model.layers[:]:\n",
    "      layer.trainable = False\n",
    "    for layer in model.layers:\n",
    "        layer._name = layer.name + str(name)\n",
    "    "
   ]
  },
  {
   "cell_type": "code",
   "execution_count": 12,
   "id": "a7204d73",
   "metadata": {
    "execution": {
     "iopub.execute_input": "2025-03-20T22:26:23.680386Z",
     "iopub.status.busy": "2025-03-20T22:26:23.680124Z",
     "iopub.status.idle": "2025-03-20T22:26:23.684990Z",
     "shell.execute_reply": "2025-03-20T22:26:23.684265Z"
    },
    "papermill": {
     "duration": 0.014518,
     "end_time": "2025-03-20T22:26:23.686697",
     "exception": false,
     "start_time": "2025-03-20T22:26:23.672179",
     "status": "completed"
    },
    "tags": []
   },
   "outputs": [],
   "source": [
    "def se_block(inputs):\n",
    "    input_channels = inputs.shape[-1]\n",
    "    x = tf.keras.layers.GlobalAveragePooling2D()(inputs)\n",
    "    x = tf.keras.layers.Dense(units=len(train_images.class_indices.keys()), activation=\"relu\")(x)    \n",
    "    x = tf.keras.layers.Dense(units=input_channels, activation=\"sigmoid\")(x)    \n",
    "    x = tf.reshape(x, [-1, 1, 1, input_channels])\n",
    "    x = inputs * x\n",
    "    return x"
   ]
  },
  {
   "cell_type": "code",
   "execution_count": 13,
   "id": "cd0cffe9",
   "metadata": {
    "execution": {
     "iopub.execute_input": "2025-03-20T22:26:23.703003Z",
     "iopub.status.busy": "2025-03-20T22:26:23.702757Z",
     "iopub.status.idle": "2025-03-20T22:26:23.707764Z",
     "shell.execute_reply": "2025-03-20T22:26:23.707006Z"
    },
    "papermill": {
     "duration": 0.014911,
     "end_time": "2025-03-20T22:26:23.709470",
     "exception": false,
     "start_time": "2025-03-20T22:26:23.694559",
     "status": "completed"
    },
    "tags": []
   },
   "outputs": [],
   "source": [
    "def dilation_block(inputs,dilation_rates):\n",
    "    outputs = []\n",
    "    for dilation_rate in dilation_rates:\n",
    "        x = tf.keras.layers.Conv2D(filters=len(train_images.class_indices.keys()), kernel_size=3, strides=1, padding=\"same\", dilation_rate=dilation_rate)(inputs)\n",
    "        x = tf.keras.layers.BatchNormalization()(x)\n",
    "        x = tf.keras.layers.ReLU()(x)\n",
    "        outputs.append(x)\n",
    "    x = tf.keras.layers.Concatenate(axis=-1)(outputs)\n",
    "    return x"
   ]
  },
  {
   "cell_type": "markdown",
   "id": "066ad86b",
   "metadata": {
    "papermill": {
     "duration": 0.007572,
     "end_time": "2025-03-20T22:26:23.724730",
     "exception": false,
     "start_time": "2025-03-20T22:26:23.717158",
     "status": "completed"
    },
    "tags": []
   },
   "source": [
    "# Importing Vit"
   ]
  },
  {
   "cell_type": "code",
   "execution_count": 14,
   "id": "039fc66c",
   "metadata": {
    "execution": {
     "iopub.execute_input": "2025-03-20T22:26:23.741187Z",
     "iopub.status.busy": "2025-03-20T22:26:23.740890Z",
     "iopub.status.idle": "2025-03-20T22:26:31.218909Z",
     "shell.execute_reply": "2025-03-20T22:26:31.217893Z"
    },
    "papermill": {
     "duration": 7.48986,
     "end_time": "2025-03-20T22:26:31.222366",
     "exception": false,
     "start_time": "2025-03-20T22:26:23.732506",
     "status": "completed"
    },
    "tags": []
   },
   "outputs": [
    {
     "name": "stdout",
     "output_type": "stream",
     "text": [
      "Downloading data from https://github.com/faustomorales/vit-keras/releases/download/dl/ViT-B_32_imagenet21k+imagenet2012.npz\n",
      "353255424/353253686 [==============================] - 1s 0us/step\n",
      "353263616/353253686 [==============================] - 1s 0us/step\n"
     ]
    },
    {
     "name": "stderr",
     "output_type": "stream",
     "text": [
      "/opt/conda/lib/python3.7/site-packages/vit_keras/utils.py:83: UserWarning: Resizing position embeddings from 12, 12 to 14, 14\n",
      "  UserWarning,\n"
     ]
    }
   ],
   "source": [
    "vit_big = vit.vit_b32(\n",
    "        image_size = SIZE,\n",
    "        activation = 'softmax',\n",
    "        pretrained = True,\n",
    "        include_top = False,\n",
    "        pretrained_top = False,\n",
    "        )"
   ]
  },
  {
   "cell_type": "code",
   "execution_count": 15,
   "id": "902803ba",
   "metadata": {
    "execution": {
     "iopub.execute_input": "2025-03-20T22:26:31.247639Z",
     "iopub.status.busy": "2025-03-20T22:26:31.247002Z",
     "iopub.status.idle": "2025-03-20T22:26:31.250859Z",
     "shell.execute_reply": "2025-03-20T22:26:31.250083Z"
    },
    "papermill": {
     "duration": 0.016109,
     "end_time": "2025-03-20T22:26:31.252583",
     "exception": false,
     "start_time": "2025-03-20T22:26:31.236474",
     "status": "completed"
    },
    "tags": []
   },
   "outputs": [],
   "source": [
    "# vit_large = vit.vit_l32(\n",
    "#         image_size = SIZE,\n",
    "#         activation = 'softmax',\n",
    "#         pretrained = True,\n",
    "#         include_top = False,\n",
    "#         pretrained_top = False,\n",
    "#         )"
   ]
  },
  {
   "cell_type": "markdown",
   "id": "640968c9",
   "metadata": {
    "papermill": {
     "duration": 0.008607,
     "end_time": "2025-03-20T22:26:31.270286",
     "exception": false,
     "start_time": "2025-03-20T22:26:31.261679",
     "status": "completed"
    },
    "tags": []
   },
   "source": [
    "#  Fine-tuning vit"
   ]
  },
  {
   "cell_type": "code",
   "execution_count": 16,
   "id": "59cc3ead",
   "metadata": {
    "execution": {
     "iopub.execute_input": "2025-03-20T22:26:31.290082Z",
     "iopub.status.busy": "2025-03-20T22:26:31.289126Z",
     "iopub.status.idle": "2025-03-20T22:26:31.298225Z",
     "shell.execute_reply": "2025-03-20T22:26:31.297333Z"
    },
    "papermill": {
     "duration": 0.02104,
     "end_time": "2025-03-20T22:26:31.300272",
     "exception": false,
     "start_time": "2025-03-20T22:26:31.279232",
     "status": "completed"
    },
    "tags": []
   },
   "outputs": [],
   "source": [
    "# name_and_freeze(vit_large,'vit_large_')\n",
    "name_and_freeze(vit_big,'vit_big_')"
   ]
  },
  {
   "cell_type": "code",
   "execution_count": 17,
   "id": "07b2a5af",
   "metadata": {
    "execution": {
     "iopub.execute_input": "2025-03-20T22:26:31.319676Z",
     "iopub.status.busy": "2025-03-20T22:26:31.318864Z",
     "iopub.status.idle": "2025-03-20T22:26:31.372815Z",
     "shell.execute_reply": "2025-03-20T22:26:31.371455Z"
    },
    "papermill": {
     "duration": 0.066321,
     "end_time": "2025-03-20T22:26:31.375459",
     "exception": false,
     "start_time": "2025-03-20T22:26:31.309138",
     "status": "completed"
    },
    "tags": []
   },
   "outputs": [],
   "source": [
    "from tensorflow.keras import regularizers\n",
    "x =vit_big.output\n",
    "x=tf.keras.layers.BatchNormalization(axis=-1, momentum=0.99, epsilon=0.001 )(x)\n",
    "x = Dense(512, kernel_regularizer = regularizers.l2(l = 0.016),activity_regularizer=regularizers.l1(0.006),\n",
    "                bias_regularizer=regularizers.l1(0.006) ,activation='relu')(x)\n",
    "x=Dense(256,activation='relu')(x)\n",
    "x_vit_big = Dense(128, activation='relu')(x)\n",
    "\n",
    "# x =vit_large.output\n",
    "# x=tf.keras.layers.BatchNormalization(axis=-1, momentum=0.99, epsilon=0.001 )(x)\n",
    "# x = Dense(32, kernel_regularizer = regularizers.l2(l = 0.016),activity_regularizer=regularizers.l1(0.006),\n",
    "#                 bias_regularizer=regularizers.l1(0.006) ,activation='relu')(x)\n",
    "# x=Dense(256,activation='relu')(x)\n",
    "# x_vit_large = Dense(128, activation='relu')(x)"
   ]
  },
  {
   "cell_type": "markdown",
   "id": "24413272",
   "metadata": {
    "papermill": {
     "duration": 0.010878,
     "end_time": "2025-03-20T22:26:31.397591",
     "exception": false,
     "start_time": "2025-03-20T22:26:31.386713",
     "status": "completed"
    },
    "tags": []
   },
   "source": [
    "# importing cnn models"
   ]
  },
  {
   "cell_type": "code",
   "execution_count": 18,
   "id": "c10a80b6",
   "metadata": {
    "execution": {
     "iopub.execute_input": "2025-03-20T22:26:31.420404Z",
     "iopub.status.busy": "2025-03-20T22:26:31.419807Z",
     "iopub.status.idle": "2025-03-20T22:26:33.397765Z",
     "shell.execute_reply": "2025-03-20T22:26:33.397029Z"
    },
    "papermill": {
     "duration": 1.990201,
     "end_time": "2025-03-20T22:26:33.399900",
     "exception": false,
     "start_time": "2025-03-20T22:26:31.409699",
     "status": "completed"
    },
    "tags": []
   },
   "outputs": [
    {
     "name": "stdout",
     "output_type": "stream",
     "text": [
      "Downloading data from https://storage.googleapis.com/tensorflow/keras-applications/xception/xception_weights_tf_dim_ordering_tf_kernels_notop.h5\n",
      "83689472/83683744 [==============================] - 1s 0us/step\n",
      "83697664/83683744 [==============================] - 1s 0us/step\n"
     ]
    }
   ],
   "source": [
    "# resnet152= tf.keras.applications.ResNet152V2(input_shape=size,include_top=False, weights='imagenet',)\n",
    "# mobilenet= tf.keras.applications.MobileNetV3Large(input_shape=size,include_top=False, weights='imagenet')\n",
    "xception= tf.keras.applications.Xception(input_shape=size,include_top=False, weights='imagenet')\n",
    "# effecientnet= tf.keras.applications.EfficientNetB7(input_shape=size,include_top=False, weights='imagenet')\n",
    "# densenet=tf.keras.applications.DenseNet121(input_shape=size,include_top=False, weights='imagenet')\n",
    "# incepresnet=tf.keras.applications.InceptionResNetV2(input_shape=size,include_top=False, weights='imagenet')"
   ]
  },
  {
   "cell_type": "code",
   "execution_count": 19,
   "id": "75764664",
   "metadata": {
    "execution": {
     "iopub.execute_input": "2025-03-20T22:26:33.420956Z",
     "iopub.status.busy": "2025-03-20T22:26:33.420252Z",
     "iopub.status.idle": "2025-03-20T22:26:33.423888Z",
     "shell.execute_reply": "2025-03-20T22:26:33.423123Z"
    },
    "papermill": {
     "duration": 0.015979,
     "end_time": "2025-03-20T22:26:33.425703",
     "exception": false,
     "start_time": "2025-03-20T22:26:33.409724",
     "status": "completed"
    },
    "tags": []
   },
   "outputs": [],
   "source": [
    "# print(xception.output)\n",
    "# print(resnet152.output)\n",
    "# print(mobilenet.output)\n",
    "# print(effecientnet.output)\n",
    "# print(densenet.output)\n",
    "# print(incepresnet.output)"
   ]
  },
  {
   "cell_type": "code",
   "execution_count": 20,
   "id": "88fb41e9",
   "metadata": {
    "execution": {
     "iopub.execute_input": "2025-03-20T22:26:33.446292Z",
     "iopub.status.busy": "2025-03-20T22:26:33.445978Z",
     "iopub.status.idle": "2025-03-20T22:26:33.455060Z",
     "shell.execute_reply": "2025-03-20T22:26:33.454377Z"
    },
    "papermill": {
     "duration": 0.021595,
     "end_time": "2025-03-20T22:26:33.456834",
     "exception": false,
     "start_time": "2025-03-20T22:26:33.435239",
     "status": "completed"
    },
    "tags": []
   },
   "outputs": [],
   "source": [
    "# name_and_freeze(resnet152,'resnet152_')\n",
    "# name_and_freeze(mobilenet,'mobilenet_')\n",
    "name_and_freeze(xception,'xception_')\n",
    "# name_and_freeze(effecientnet,'effecientnet_')\n",
    "# name_and_freeze(densenet,'densenet_')\n",
    "# name_and_freeze(incepresnet,'incepResnet_')"
   ]
  },
  {
   "cell_type": "code",
   "execution_count": 21,
   "id": "c7eb9f93",
   "metadata": {
    "execution": {
     "iopub.execute_input": "2025-03-20T22:26:33.477587Z",
     "iopub.status.busy": "2025-03-20T22:26:33.477058Z",
     "iopub.status.idle": "2025-03-20T22:26:33.483660Z",
     "shell.execute_reply": "2025-03-20T22:26:33.482845Z"
    },
    "papermill": {
     "duration": 0.018796,
     "end_time": "2025-03-20T22:26:33.485403",
     "exception": false,
     "start_time": "2025-03-20T22:26:33.466607",
     "status": "completed"
    },
    "tags": []
   },
   "outputs": [],
   "source": [
    "def get_model(base_model):\n",
    "    x = tf.keras.layers.GlobalAveragePooling2D()(se_block(dilation_block(base_model.output,[2,3,5,7])))\n",
    "    x=tf.keras.layers.BatchNormalization(axis=-1, momentum=0.99, epsilon=0.001 )(x)\n",
    "    x = Dense(512, kernel_regularizer = regularizers.l2(l = 0.016),activity_regularizer=regularizers.l1(0.006),\n",
    "                    bias_regularizer=regularizers.l1(0.006) ,activation='relu')(x)\n",
    "    x=Dense(256,activation='relu')(x)\n",
    "    return Dense(128,activation='relu')(x)"
   ]
  },
  {
   "cell_type": "markdown",
   "id": "fd3806f8",
   "metadata": {
    "papermill": {
     "duration": 0.009159,
     "end_time": "2025-03-20T22:26:33.504071",
     "exception": false,
     "start_time": "2025-03-20T22:26:33.494912",
     "status": "completed"
    },
    "tags": []
   },
   "source": [
    "# fine tuning CNN models"
   ]
  },
  {
   "cell_type": "code",
   "execution_count": 22,
   "id": "7259c8ea",
   "metadata": {
    "execution": {
     "iopub.execute_input": "2025-03-20T22:26:33.524496Z",
     "iopub.status.busy": "2025-03-20T22:26:33.523739Z",
     "iopub.status.idle": "2025-03-20T22:26:33.671366Z",
     "shell.execute_reply": "2025-03-20T22:26:33.670608Z"
    },
    "papermill": {
     "duration": 0.160163,
     "end_time": "2025-03-20T22:26:33.673512",
     "exception": false,
     "start_time": "2025-03-20T22:26:33.513349",
     "status": "completed"
    },
    "tags": []
   },
   "outputs": [],
   "source": [
    "# x_resnet152v2=get_model(resnet152)\n",
    "x_xception=get_model(xception)\n",
    "# x_mobilenet=get_model(mobilenet)\n",
    "# x_incepresnet=get_model(incepresnet)\n",
    "# x_effecientnet=get_model(effecientnet)\n",
    "# x_densenet=get_model(densenet)"
   ]
  },
  {
   "cell_type": "markdown",
   "id": "5f769a17",
   "metadata": {
    "papermill": {
     "duration": 0.009775,
     "end_time": "2025-03-20T22:26:33.693069",
     "exception": false,
     "start_time": "2025-03-20T22:26:33.683294",
     "status": "completed"
    },
    "tags": []
   },
   "source": [
    "# constructing full model"
   ]
  },
  {
   "cell_type": "code",
   "execution_count": 23,
   "id": "2c15fd9a",
   "metadata": {
    "execution": {
     "iopub.execute_input": "2025-03-20T22:26:33.714271Z",
     "iopub.status.busy": "2025-03-20T22:26:33.713440Z",
     "iopub.status.idle": "2025-03-20T22:26:33.739388Z",
     "shell.execute_reply": "2025-03-20T22:26:33.738261Z"
    },
    "papermill": {
     "duration": 0.039111,
     "end_time": "2025-03-20T22:26:33.741705",
     "exception": false,
     "start_time": "2025-03-20T22:26:33.702594",
     "status": "completed"
    },
    "tags": []
   },
   "outputs": [],
   "source": [
    "from tensorflow.keras.layers import concatenate\n",
    "concatenated = concatenate([x_xception, x_vit_big])\n",
    "bigmodel_prediction = Dense(len(train_images.class_indices), activation='softmax')(concatenated)\n",
    "model = Model([xception.input, vit_big.input], bigmodel_prediction) \n",
    "from tensorflow.keras.utils import plot_model"
   ]
  },
  {
   "cell_type": "code",
   "execution_count": 24,
   "id": "49153162",
   "metadata": {
    "execution": {
     "iopub.execute_input": "2025-03-20T22:26:33.763846Z",
     "iopub.status.busy": "2025-03-20T22:26:33.762949Z",
     "iopub.status.idle": "2025-03-20T22:26:34.059346Z",
     "shell.execute_reply": "2025-03-20T22:26:34.058231Z"
    },
    "papermill": {
     "duration": 0.309224,
     "end_time": "2025-03-20T22:26:34.061334",
     "exception": false,
     "start_time": "2025-03-20T22:26:33.752110",
     "status": "completed"
    },
    "tags": []
   },
   "outputs": [
    {
     "name": "stdout",
     "output_type": "stream",
     "text": [
      "trainable parametres: 1866894 non trainable parametres: 108431384\n"
     ]
    }
   ],
   "source": [
    "trainable_params = sum([v.numpy().size for v in model.trainable_variables])\n",
    "non_trainable_params = sum([v.numpy().size for v in model.non_trainable_variables])\n",
    "print(\"trainable parametres: \"+ str(trainable_params) + \" non trainable parametres: \"+ str(non_trainable_params))"
   ]
  },
  {
   "cell_type": "markdown",
   "id": "290ad6f9",
   "metadata": {
    "papermill": {
     "duration": 0.009227,
     "end_time": "2025-03-20T22:26:34.080311",
     "exception": false,
     "start_time": "2025-03-20T22:26:34.071084",
     "status": "completed"
    },
    "tags": []
   },
   "source": [
    "# custom generator"
   ]
  },
  {
   "cell_type": "code",
   "execution_count": 25,
   "id": "cba6754c",
   "metadata": {
    "execution": {
     "iopub.execute_input": "2025-03-20T22:26:34.100798Z",
     "iopub.status.busy": "2025-03-20T22:26:34.100476Z",
     "iopub.status.idle": "2025-03-20T22:26:34.104941Z",
     "shell.execute_reply": "2025-03-20T22:26:34.104164Z"
    },
    "papermill": {
     "duration": 0.016723,
     "end_time": "2025-03-20T22:26:34.106657",
     "exception": false,
     "start_time": "2025-03-20T22:26:34.089934",
     "status": "completed"
    },
    "tags": []
   },
   "outputs": [],
   "source": [
    "def generator_two_img(gen):\n",
    "    while True:\n",
    "        X1i = gen.next()\n",
    "        yield [X1i[0],X1i[0]], X1i[1]"
   ]
  },
  {
   "cell_type": "markdown",
   "id": "b7a030c7",
   "metadata": {
    "papermill": {
     "duration": 0.009255,
     "end_time": "2025-03-20T22:26:34.125568",
     "exception": false,
     "start_time": "2025-03-20T22:26:34.116313",
     "status": "completed"
    },
    "tags": []
   },
   "source": [
    "# training model"
   ]
  },
  {
   "cell_type": "code",
   "execution_count": 26,
   "id": "a31867cc",
   "metadata": {
    "execution": {
     "iopub.execute_input": "2025-03-20T22:26:34.145795Z",
     "iopub.status.busy": "2025-03-20T22:26:34.145149Z",
     "iopub.status.idle": "2025-03-20T22:26:34.160396Z",
     "shell.execute_reply": "2025-03-20T22:26:34.159768Z"
    },
    "papermill": {
     "duration": 0.027197,
     "end_time": "2025-03-20T22:26:34.162176",
     "exception": false,
     "start_time": "2025-03-20T22:26:34.134979",
     "status": "completed"
    },
    "tags": []
   },
   "outputs": [],
   "source": [
    "model.compile(loss=\"categorical_crossentropy\",optimizer=tf.optimizers.Adam(),metrics=['accuracy'])"
   ]
  },
  {
   "cell_type": "code",
   "execution_count": 27,
   "id": "db6d2482",
   "metadata": {
    "execution": {
     "iopub.execute_input": "2025-03-20T22:26:34.182264Z",
     "iopub.status.busy": "2025-03-20T22:26:34.181941Z",
     "iopub.status.idle": "2025-03-21T05:42:46.086721Z",
     "shell.execute_reply": "2025-03-21T05:42:46.085788Z"
    },
    "papermill": {
     "duration": 26172.181161,
     "end_time": "2025-03-21T05:42:46.352861",
     "exception": false,
     "start_time": "2025-03-20T22:26:34.171700",
     "status": "completed"
    },
    "tags": []
   },
   "outputs": [
    {
     "name": "stdout",
     "output_type": "stream",
     "text": [
      "Epoch 1/20\n",
      "337/337 [==============================] - 1451s 4s/step - loss: 2.5097 - accuracy: 0.8271 - val_loss: 0.8958 - val_accuracy: 0.8193\n",
      "Epoch 2/20\n",
      "337/337 [==============================] - 1304s 4s/step - loss: 0.6599 - accuracy: 0.8781 - val_loss: 0.6325 - val_accuracy: 0.8704\n",
      "Epoch 3/20\n",
      "337/337 [==============================] - 1279s 4s/step - loss: 0.5421 - accuracy: 0.8941 - val_loss: 0.5696 - val_accuracy: 0.8868\n",
      "Epoch 4/20\n",
      "337/337 [==============================] - 1305s 4s/step - loss: 0.5003 - accuracy: 0.9004 - val_loss: 0.5000 - val_accuracy: 0.9003\n",
      "Epoch 5/20\n",
      "337/337 [==============================] - 1299s 4s/step - loss: 0.4633 - accuracy: 0.9061 - val_loss: 0.4650 - val_accuracy: 0.9012\n",
      "Epoch 6/20\n",
      "337/337 [==============================] - 1289s 4s/step - loss: 0.4429 - accuracy: 0.9098 - val_loss: 0.4705 - val_accuracy: 0.9037\n",
      "Epoch 7/20\n",
      "337/337 [==============================] - 1294s 4s/step - loss: 0.4381 - accuracy: 0.9142 - val_loss: 0.4421 - val_accuracy: 0.9139\n",
      "Epoch 8/20\n",
      "337/337 [==============================] - 1296s 4s/step - loss: 0.4124 - accuracy: 0.9160 - val_loss: 0.5057 - val_accuracy: 0.8889\n",
      "Epoch 9/20\n",
      "337/337 [==============================] - 1303s 4s/step - loss: 0.3976 - accuracy: 0.9207 - val_loss: 0.4607 - val_accuracy: 0.9029\n",
      "Epoch 10/20\n",
      "337/337 [==============================] - 1296s 4s/step - loss: 0.3902 - accuracy: 0.9220 - val_loss: 0.4993 - val_accuracy: 0.8970\n",
      "Epoch 11/20\n",
      "337/337 [==============================] - 1295s 4s/step - loss: 0.3777 - accuracy: 0.9258 - val_loss: 0.5151 - val_accuracy: 0.8991\n",
      "Epoch 12/20\n",
      "337/337 [==============================] - 1298s 4s/step - loss: 0.3829 - accuracy: 0.9245 - val_loss: 0.4627 - val_accuracy: 0.9008\n",
      "Epoch 13/20\n",
      "337/337 [==============================] - 1324s 4s/step - loss: 0.3653 - accuracy: 0.9287 - val_loss: 0.4397 - val_accuracy: 0.9050\n",
      "Epoch 14/20\n",
      "337/337 [==============================] - 1384s 4s/step - loss: 0.3571 - accuracy: 0.9290 - val_loss: 0.4612 - val_accuracy: 0.9016\n",
      "Epoch 15/20\n",
      "337/337 [==============================] - 1292s 4s/step - loss: 0.3588 - accuracy: 0.9282 - val_loss: 0.5539 - val_accuracy: 0.8813\n",
      "Epoch 16/20\n",
      "337/337 [==============================] - 1313s 4s/step - loss: 0.3288 - accuracy: 0.9344 - val_loss: 0.4318 - val_accuracy: 0.9088\n",
      "Epoch 17/20\n",
      "337/337 [==============================] - 1303s 4s/step - loss: 0.3327 - accuracy: 0.9336 - val_loss: 0.4562 - val_accuracy: 0.9139\n",
      "Epoch 18/20\n",
      "337/337 [==============================] - 1274s 4s/step - loss: 0.3361 - accuracy: 0.9330 - val_loss: 0.4540 - val_accuracy: 0.9024\n",
      "Epoch 19/20\n",
      "337/337 [==============================] - 1277s 4s/step - loss: 0.3160 - accuracy: 0.9354 - val_loss: 0.4406 - val_accuracy: 0.9062\n",
      "Epoch 20/20\n",
      "337/337 [==============================] - 1290s 4s/step - loss: 0.3284 - accuracy: 0.9351 - val_loss: 0.4881 - val_accuracy: 0.8974\n"
     ]
    }
   ],
   "source": [
    "batch_size=64\n",
    "history = model.fit(\n",
    "    generator_two_img(train_images),\n",
    "    validation_data=generator_two_img(valid_images),\n",
    "    validation_steps=valid_images.n//batch_size,\n",
    "    validation_batch_size=batch_size,\n",
    "    steps_per_epoch=train_images.n//batch_size,\n",
    "    batch_size=batch_size,\n",
    "    epochs=20,\n",
    ")\n"
   ]
  },
  {
   "cell_type": "code",
   "execution_count": 28,
   "id": "03868a9a",
   "metadata": {
    "execution": {
     "iopub.execute_input": "2025-03-21T05:42:46.934691Z",
     "iopub.status.busy": "2025-03-21T05:42:46.934341Z",
     "iopub.status.idle": "2025-03-21T05:42:48.006594Z",
     "shell.execute_reply": "2025-03-21T05:42:48.005497Z"
    },
    "papermill": {
     "duration": 1.36676,
     "end_time": "2025-03-21T05:42:48.008872",
     "exception": false,
     "start_time": "2025-03-21T05:42:46.642112",
     "status": "completed"
    },
    "tags": []
   },
   "outputs": [
    {
     "name": "stderr",
     "output_type": "stream",
     "text": [
      "/opt/conda/lib/python3.7/site-packages/keras/utils/generic_utils.py:497: CustomMaskWarning: Custom mask layers require a config and must override get_config. When loading, the custom mask layer must be passed to the custom_objects argument.\n",
      "  category=CustomMaskWarning)\n"
     ]
    }
   ],
   "source": [
    "model.save('1vit1cnnxception.h5')"
   ]
  },
  {
   "cell_type": "markdown",
   "id": "721f7eb1",
   "metadata": {
    "papermill": {
     "duration": 0.289394,
     "end_time": "2025-03-21T05:42:48.586826",
     "exception": false,
     "start_time": "2025-03-21T05:42:48.297432",
     "status": "completed"
    },
    "tags": []
   },
   "source": [
    "# performance evaluation"
   ]
  },
  {
   "cell_type": "code",
   "execution_count": 29,
   "id": "705e1479",
   "metadata": {
    "execution": {
     "iopub.execute_input": "2025-03-21T05:42:49.251048Z",
     "iopub.status.busy": "2025-03-21T05:42:49.250704Z",
     "iopub.status.idle": "2025-03-21T05:42:49.607612Z",
     "shell.execute_reply": "2025-03-21T05:42:49.606721Z"
    },
    "papermill": {
     "duration": 0.73163,
     "end_time": "2025-03-21T05:42:49.609371",
     "exception": false,
     "start_time": "2025-03-21T05:42:48.877741",
     "status": "completed"
    },
    "tags": []
   },
   "outputs": [
    {
     "name": "stderr",
     "output_type": "stream",
     "text": [
      "/opt/conda/lib/python3.7/site-packages/ipykernel_launcher.py:10: UserWarning: color is redundantly defined by the 'color' keyword argument and the fmt string \"go-\" (-> color='g'). The keyword argument will take precedence.\n",
      "  # Remove the CWD from sys.path while we load stuff.\n",
      "/opt/conda/lib/python3.7/site-packages/ipykernel_launcher.py:18: UserWarning: color is redundantly defined by the 'color' keyword argument and the fmt string \"g-o\" (-> color='g'). The keyword argument will take precedence.\n"
     ]
    },
    {
     "data": {
      "image/png": "[encoded data removed]",
      "text/plain": [
       "<Figure size 1440x720 with 2 Axes>"
      ]
     },
     "metadata": {
      "needs_background": "light"
     },
     "output_type": "display_data"
    }
   ],
   "source": [
    "epochs = list(range(len(history.history['accuracy'])))\n",
    "fig , ax = plt.subplots(1,2)\n",
    "train_acc = history.history['accuracy']\n",
    "train_loss = history.history['loss']\n",
    "val_acc = history.history['val_accuracy']\n",
    "val_loss = history.history['val_loss']\n",
    "\n",
    "fig.set_size_inches(20,10)\n",
    "\n",
    "ax[0].plot(epochs , train_acc , 'go-' ,color='r', label = 'Training Accuracy')\n",
    "ax[0].plot(epochs , val_acc , 'go-' , label = 'Validation Accuracy')\n",
    "ax[0].set_title('Training Accuracy')\n",
    "ax[0].legend()\n",
    "ax[0].set_xlabel(\"Epochs\")\n",
    "ax[0].set_ylabel(\"Accuracy\")\n",
    "\n",
    "\n",
    "ax[1].plot(epochs , train_loss , 'g-o' ,color='r', label = 'Training Loss')\n",
    "ax[1].plot(epochs , val_loss , 'go-' , label = 'Validation Loss')\n",
    "ax[1].set_title('Training Loss')\n",
    "ax[1].legend()\n",
    "ax[1].set_xlabel(\"Epochs\")\n",
    "ax[1].set_ylabel(\"Training Loss\")\n",
    "plt.show()"
   ]
  },
  {
   "cell_type": "code",
   "execution_count": 30,
   "id": "f606416e",
   "metadata": {
    "execution": {
     "iopub.execute_input": "2025-03-21T05:42:50.195564Z",
     "iopub.status.busy": "2025-03-21T05:42:50.194638Z",
     "iopub.status.idle": "2025-03-21T05:43:04.388427Z",
     "shell.execute_reply": "2025-03-21T05:43:04.387473Z"
    },
    "papermill": {
     "duration": 14.486617,
     "end_time": "2025-03-21T05:43:04.390376",
     "exception": false,
     "start_time": "2025-03-21T05:42:49.903759",
     "status": "completed"
    },
    "tags": []
   },
   "outputs": [
    {
     "name": "stdout",
     "output_type": "stream",
     "text": [
      "Found 6000 validated image filenames belonging to 15 classes.\n"
     ]
    }
   ],
   "source": [
    "test_generator = tf.keras.preprocessing.image.ImageDataGenerator(\n",
    "    rescale=1./255,\n",
    ")\n",
    "test_images = test_generator.flow_from_dataframe(\n",
    "    dataframe=test_data,\n",
    "    x_col='File',\n",
    "    y_col='class_',\n",
    "    target_size=(SIZE, SIZE),\n",
    "    color_mode='rgb',\n",
    "    class_mode='categorical',\n",
    "    batch_size=batch_size,\n",
    "    shuffle=False\n",
    ")"
   ]
  },
  {
   "cell_type": "code",
   "execution_count": 31,
   "id": "7411cf47",
   "metadata": {
    "execution": {
     "iopub.execute_input": "2025-03-21T05:43:04.981991Z",
     "iopub.status.busy": "2025-03-21T05:43:04.981081Z",
     "iopub.status.idle": "2025-03-21T05:43:04.985425Z",
     "shell.execute_reply": "2025-03-21T05:43:04.984740Z"
    },
    "papermill": {
     "duration": 0.305199,
     "end_time": "2025-03-21T05:43:04.987112",
     "exception": false,
     "start_time": "2025-03-21T05:43:04.681913",
     "status": "completed"
    },
    "tags": []
   },
   "outputs": [],
   "source": [
    "class_=train_images.class_indices.keys()"
   ]
  },
  {
   "cell_type": "code",
   "execution_count": 32,
   "id": "2b74cf40",
   "metadata": {
    "execution": {
     "iopub.execute_input": "2025-03-21T05:43:05.570151Z",
     "iopub.status.busy": "2025-03-21T05:43:05.569809Z",
     "iopub.status.idle": "2025-03-21T05:43:05.574782Z",
     "shell.execute_reply": "2025-03-21T05:43:05.573902Z"
    },
    "papermill": {
     "duration": 0.298571,
     "end_time": "2025-03-21T05:43:05.576497",
     "exception": false,
     "start_time": "2025-03-21T05:43:05.277926",
     "status": "completed"
    },
    "tags": []
   },
   "outputs": [],
   "source": [
    "def prediction_generator(test_images):\n",
    "    k=0\n",
    "    for x in test_images:\n",
    "        k+=len(x[1])\n",
    "        yield [x[0],x[0]], x[1]\n",
    "        if(k>=test_images.n):\n",
    "            break"
   ]
  },
  {
   "cell_type": "code",
   "execution_count": 33,
   "id": "b1c2d300",
   "metadata": {
    "execution": {
     "iopub.execute_input": "2025-03-21T05:43:06.265322Z",
     "iopub.status.busy": "2025-03-21T05:43:06.264957Z",
     "iopub.status.idle": "2025-03-21T05:45:25.687417Z",
     "shell.execute_reply": "2025-03-21T05:45:25.686456Z"
    },
    "papermill": {
     "duration": 140.030623,
     "end_time": "2025-03-21T05:45:25.983660",
     "exception": false,
     "start_time": "2025-03-21T05:43:05.953037",
     "status": "completed"
    },
    "tags": []
   },
   "outputs": [
    {
     "data": {
      "text/plain": [
       "0.8975"
      ]
     },
     "execution_count": 33,
     "metadata": {},
     "output_type": "execute_result"
    }
   ],
   "source": [
    "from sklearn.metrics import accuracy_score\n",
    "proba=model.predict(prediction_generator(test_images))\n",
    "predicted = np.argmax(proba,axis=1)\n",
    "true=test_images.labels\n",
    "accuracy_score(predicted, true)"
   ]
  },
  {
   "cell_type": "code",
   "execution_count": 34,
   "id": "26e0fca7",
   "metadata": {
    "execution": {
     "iopub.execute_input": "2025-03-21T05:45:26.586134Z",
     "iopub.status.busy": "2025-03-21T05:45:26.585326Z",
     "iopub.status.idle": "2025-03-21T05:45:28.107391Z",
     "shell.execute_reply": "2025-03-21T05:45:28.106417Z"
    },
    "papermill": {
     "duration": 1.81691,
     "end_time": "2025-03-21T05:45:28.110040",
     "exception": false,
     "start_time": "2025-03-21T05:45:26.293130",
     "status": "completed"
    },
    "tags": []
   },
   "outputs": [
    {
     "data": {
      "image/png": "[encoded data removed]",
      "text/plain": [
       "<Figure size 1152x1008 with 2 Axes>"
      ]
     },
     "metadata": {
      "needs_background": "light"
     },
     "output_type": "display_data"
    }
   ],
   "source": [
    "from sklearn.metrics import confusion_matrix\n",
    "import seaborn as sns\n",
    "class_=test_images.class_indices.keys()\n",
    "cm = confusion_matrix(true, predicted)\n",
    "fig = plt.figure(figsize=(16, 14))\n",
    "ax= plt.subplot()\n",
    "sns.heatmap(cm, annot=True, ax = ax,cmap=\"BuPu\"); \n",
    "ax.set_xlabel('Predicted', fontsize=20)\n",
    "ax.xaxis.set_label_position('bottom')\n",
    "plt.xticks(rotation=90)\n",
    "ax.xaxis.set_ticklabels(class_, fontsize = 10)\n",
    "ax.xaxis.tick_bottom()\n",
    "\n",
    "ax.set_ylabel('True', fontsize=20)\n",
    "ax.yaxis.set_ticklabels(class_, fontsize = 10)\n",
    "plt.yticks(rotation=0)\n",
    "\n",
    "plt.title('', fontsize=60)\n",
    "\n",
    "plt.savefig('ConMat24.png')\n",
    "plt.show()"
   ]
  },
  {
   "cell_type": "markdown",
   "id": "b1fdf35c",
   "metadata": {
    "papermill": {
     "duration": 0.310517,
     "end_time": "2025-03-21T05:45:28.713597",
     "exception": false,
     "start_time": "2025-03-21T05:45:28.403080",
     "status": "completed"
    },
    "tags": []
   },
   "source": [
    "# ROC"
   ]
  },
  {
   "cell_type": "code",
   "execution_count": 35,
   "id": "4ca33dd6",
   "metadata": {
    "execution": {
     "iopub.execute_input": "2025-03-21T05:45:29.302430Z",
     "iopub.status.busy": "2025-03-21T05:45:29.302078Z",
     "iopub.status.idle": "2025-03-21T05:45:29.741623Z",
     "shell.execute_reply": "2025-03-21T05:45:29.740785Z"
    },
    "papermill": {
     "duration": 0.738856,
     "end_time": "2025-03-21T05:45:29.744493",
     "exception": false,
     "start_time": "2025-03-21T05:45:29.005637",
     "status": "completed"
    },
    "tags": []
   },
   "outputs": [
    {
     "data": {
      "image/png": "[encoded data removed]",
      "text/plain": [
       "<Figure size 720x1152 with 1 Axes>"
      ]
     },
     "metadata": {
      "needs_background": "light"
     },
     "output_type": "display_data"
    }
   ],
   "source": [
    "from sklearn.metrics import roc_curve, roc_auc_score\n",
    "from matplotlib import cm\n",
    "n=len(true)\n",
    "dim=max(true)+1\n",
    "result=[]\n",
    "for i in true:\n",
    "    result.append([0 for i in range(dim)])\n",
    "    result[len(result)-1][i]=1\n",
    "    \n",
    "    \n",
    "fpr = dict()\n",
    "tpr = dict()\n",
    "roc_auc = dict()\n",
    "n_classes =len(test_images.class_indices.keys())\n",
    "y_test=np.array(result)\n",
    "y_pred=np.array(proba)\n",
    "fpr = dict()\n",
    "tpr = dict()\n",
    "roc_auc = dict()\n",
    "\n",
    "rev={}\n",
    "for i in class_:\n",
    "    rev[train_images.class_indices[i]]=i\n",
    "\n",
    "\n",
    "for i in range(n_classes):\n",
    "    fpr[i], tpr[i], _ = roc_curve(y_test[:, i], y_pred[:, i])\n",
    "    roc_auc[i] = roc_auc_score(y_test[:, i], y_pred[:, i])\n",
    "\n",
    "\n",
    "fpr[\"micro\"], tpr[\"micro\"], _ = roc_curve(y_test.ravel(), y_pred.ravel())\n",
    "roc_auc[\"micro\"] = roc_auc_score(y_test, y_pred, multi_class='ovr')\n",
    "\n",
    "\n",
    "cmap = cm.get_cmap('tab10')\n",
    "\n",
    "# Plot the ROC curve for each class and micro-average with automatic color selection\n",
    "plt.figure(figsize=(10,16))\n",
    "lw = 2\n",
    "for i in range(n_classes):\n",
    "    color = cmap(i)\n",
    "    plt.plot(fpr[i], tpr[i], color=color, lw=lw,\n",
    "             label='ROC curve of class {0} (area = {1:0.2f})'\n",
    "             ''.format(rev[i], roc_auc[i]))\n",
    "\n",
    "plt.plot(fpr[\"micro\"], tpr[\"micro\"],\n",
    "         label='micro-average ROC curve (area = {0:0.2f})'\n",
    "         ''.format(roc_auc[\"micro\"]),\n",
    "         color=cmap(n_classes), linestyle=':', linewidth=4)\n",
    "\n",
    "plt.plot([0, 1], [0, 1], 'k--', lw=lw)\n",
    "plt.xlim([0.0, 1.0])\n",
    "plt.ylim([0.0, 1.05])\n",
    "plt.xlabel('False Positive Rate')\n",
    "plt.ylabel('True Positive Rate')\n",
    "plt.title('ROC Curve')\n",
    "plt.legend(loc=\"lower right\")\n",
    "plt.show()\n"
   ]
  },
  {
   "cell_type": "markdown",
   "id": "7b54c81f",
   "metadata": {
    "papermill": {
     "duration": 0.296285,
     "end_time": "2025-03-21T05:45:30.420546",
     "exception": false,
     "start_time": "2025-03-21T05:45:30.124261",
     "status": "completed"
    },
    "tags": []
   },
   "source": [
    "# AUC"
   ]
  },
  {
   "cell_type": "code",
   "execution_count": 36,
   "id": "52b1ea39",
   "metadata": {
    "execution": {
     "iopub.execute_input": "2025-03-21T05:45:31.003117Z",
     "iopub.status.busy": "2025-03-21T05:45:31.002694Z",
     "iopub.status.idle": "2025-03-21T05:45:31.200978Z",
     "shell.execute_reply": "2025-03-21T05:45:31.200142Z"
    },
    "papermill": {
     "duration": 0.493569,
     "end_time": "2025-03-21T05:45:31.202957",
     "exception": false,
     "start_time": "2025-03-21T05:45:30.709388",
     "status": "completed"
    },
    "tags": []
   },
   "outputs": [
    {
     "data": {
      "image/png": "[encoded data removed]",
      "text/plain": [
       "<Figure size 432x288 with 1 Axes>"
      ]
     },
     "metadata": {
      "needs_background": "light"
     },
     "output_type": "display_data"
    }
   ],
   "source": [
    "from sklearn.metrics import roc_curve, auc\n",
    "import matplotlib.pyplot as plt\n",
    "\n",
    "y_true=y_test\n",
    "y_score=y_pred\n",
    "fpr, tpr, thresholds = roc_curve(y_test.ravel(), y_pred.ravel())\n",
    "roc_auc = auc(fpr, tpr)\n",
    "\n",
    "plt.figure()\n",
    "lw = 2\n",
    "plt.plot(fpr, tpr, color='darkorange',\n",
    "         lw=lw, label='ROC curve (area = %0.2f)' % roc_auc)\n",
    "plt.plot([0, 1], [0, 1], color='navy', lw=lw, linestyle='--')\n",
    "plt.xlim([0.0, 1.0])\n",
    "plt.ylim([0.0, 1.05])\n",
    "plt.xlabel('False Positive Rate')\n",
    "plt.ylabel('True Positive Rate')\n",
    "plt.title('AUC Curve')\n",
    "plt.legend(loc=\"lower right\")\n",
    "plt.show()"
   ]
  }
 ],
 "metadata": {
  "kaggle": {
   "accelerator": "gpu",
   "dataSources": [
    {
     "datasetId": 2841105,
     "sourceId": 4899227,
     "sourceType": "datasetVersion"
    },
    {
     "datasetId": 2841086,
     "sourceId": 5146843,
     "sourceType": "datasetVersion"
    },
    {
     "datasetId": 2947560,
     "sourceId": 5149790,
     "sourceType": "datasetVersion"
    },
    {
     "datasetId": 6920708,
     "sourceId": 11101777,
     "sourceType": "datasetVersion"
    },
    {
     "isSourceIdPinned": true,
     "modelId": 316,
     "modelInstanceId": 2719,
     "sourceId": 3816,
     "sourceType": "modelInstanceVersion"
    },
    {
     "isSourceIdPinned": true,
     "modelId": 44,
     "modelInstanceId": 536,
     "sourceId": 669,
     "sourceType": "modelInstanceVersion"
    }
   ],
   "dockerImageVersionId": 30370,
   "isGpuEnabled": true,
   "isInternetEnabled": true,
   "language": "python",
   "sourceType": "notebook"
  },
  "kernelspec": {
   "display_name": "Python 3",
   "language": "python",
   "name": "python3"
  },
  "language_info": {
   "codemirror_mode": {
    "name": "ipython",
    "version": 3
   },
   "file_extension": ".py",
   "mimetype": "text/x-python",
   "name": "python",
   "nbconvert_exporter": "python",
   "pygments_lexer": "ipython3",
   "version": "3.7.12"
  },
  "papermill": {
   "default_parameters": {},
   "duration": 26440.183973,
   "end_time": "2025-03-21T05:45:35.082898",
   "environment_variables": {},
   "exception": null,
   "input_path": "__notebook__.ipynb",
   "output_path": "__notebook__.ipynb",
   "parameters": {},
   "start_time": "2025-03-20T22:24:54.898925",
   "version": "2.3.4"
  }
 },
 "nbformat": 4,
 "nbformat_minor": 5
}
