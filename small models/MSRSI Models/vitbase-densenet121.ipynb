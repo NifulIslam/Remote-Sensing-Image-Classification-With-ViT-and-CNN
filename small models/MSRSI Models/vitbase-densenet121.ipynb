{
 "cells": [
  {
   "cell_type": "markdown",
   "id": "5df6df1d",
   "metadata": {
    "papermill": {
     "duration": 0.008778,
     "end_time": "2025-03-20T22:27:02.835015",
     "exception": false,
     "start_time": "2025-03-20T22:27:02.826237",
     "status": "completed"
    },
    "tags": []
   },
   "source": [
    "# basic imports"
   ]
  },
  {
   "cell_type": "code",
   "execution_count": 1,
   "id": "451e3d6a",
   "metadata": {
    "_cell_guid": "b1076dfc-b9ad-4769-8c92-a6c4dae69d19",
    "_uuid": "8f2839f25d086af736a60e9eeb907d3b93b6e0e5",
    "execution": {
     "iopub.execute_input": "2025-03-20T22:27:02.854064Z",
     "iopub.status.busy": "2025-03-20T22:27:02.852955Z",
     "iopub.status.idle": "2025-03-20T22:27:20.005334Z",
     "shell.execute_reply": "2025-03-20T22:27:20.004202Z"
    },
    "papermill": {
     "duration": 17.16538,
     "end_time": "2025-03-20T22:27:20.007849",
     "exception": false,
     "start_time": "2025-03-20T22:27:02.842469",
     "status": "completed"
    },
    "tags": []
   },
   "outputs": [
    {
     "name": "stdout",
     "output_type": "stream",
     "text": [
      "\u001b[33mWARNING: Running pip as the 'root' user can result in broken permissions and conflicting behaviour with the system package manager. It is recommended to use a virtual environment instead: https://pip.pypa.io/warnings/venv\u001b[0m\u001b[33m\r\n",
      "\u001b[0m"
     ]
    }
   ],
   "source": [
    "import numpy as np \n",
    "import pandas as pd\n",
    "import os\n",
    "import cv2\n",
    "import tensorflow\n",
    "import glob\n",
    "from matplotlib import pyplot as plt\n",
    "from tensorflow.keras.layers import Input, Lambda, Dense, Flatten,Dropout\n",
    "from tensorflow.keras.models import Model\n",
    "from tensorflow.keras.applications.inception_v3 import InceptionV3\n",
    "from tensorflow.keras.preprocessing import image\n",
    "from tensorflow.keras.preprocessing.image import ImageDataGenerator\n",
    "from tensorflow.keras.models import Sequential\n",
    "from tensorflow.keras.applications.vgg16 import VGG16\n",
    "from tensorflow.keras.applications.vgg19 import VGG19\n",
    "from tensorflow.keras.applications import EfficientNetB0\n",
    "import tensorflow as tf \n",
    "from tensorflow.keras import layers\n",
    "!pip install --quiet vit-keras\n",
    "from vit_keras import vit\n",
    "from tensorflow.keras.applications.resnet50 import ResNet50"
   ]
  },
  {
   "cell_type": "markdown",
   "id": "78cb2439",
   "metadata": {
    "papermill": {
     "duration": 0.007031,
     "end_time": "2025-03-20T22:27:20.022616",
     "exception": false,
     "start_time": "2025-03-20T22:27:20.015585",
     "status": "completed"
    },
    "tags": []
   },
   "source": [
    "# Reading Data"
   ]
  },
  {
   "cell_type": "code",
   "execution_count": 2,
   "id": "6b37a666",
   "metadata": {
    "execution": {
     "iopub.execute_input": "2025-03-20T22:27:20.038779Z",
     "iopub.status.busy": "2025-03-20T22:27:20.037894Z",
     "iopub.status.idle": "2025-03-20T22:27:20.042671Z",
     "shell.execute_reply": "2025-03-20T22:27:20.041802Z"
    },
    "papermill": {
     "duration": 0.014953,
     "end_time": "2025-03-20T22:27:20.044584",
     "exception": false,
     "start_time": "2025-03-20T22:27:20.029631",
     "status": "completed"
    },
    "tags": []
   },
   "outputs": [],
   "source": [
    "#ucm\n",
    "# train_data=pd.read_csv(\"/kaggle/input/satelite-csv/train.csv\")\n",
    "# train_data['File']=train_data['File'].apply(lambda x : '/kaggle/input/satelite-images/Images/'+x)\n",
    "# test_data=pd.read_csv(\"/kaggle/input/satelite-csv/test.csv\")\n",
    "# test_data['File']=test_data['File'].apply(lambda x : '/kaggle/input/satelite-images/Images/'+x)"
   ]
  },
  {
   "cell_type": "code",
   "execution_count": 3,
   "id": "375f8613",
   "metadata": {
    "execution": {
     "iopub.execute_input": "2025-03-20T22:27:20.060143Z",
     "iopub.status.busy": "2025-03-20T22:27:20.059874Z",
     "iopub.status.idle": "2025-03-20T22:27:20.063573Z",
     "shell.execute_reply": "2025-03-20T22:27:20.062727Z"
    },
    "papermill": {
     "duration": 0.013524,
     "end_time": "2025-03-20T22:27:20.065333",
     "exception": false,
     "start_time": "2025-03-20T22:27:20.051809",
     "status": "completed"
    },
    "tags": []
   },
   "outputs": [],
   "source": [
    "# rsscn7\n",
    "# train_data=pd.read_csv(\"/kaggle/input/rsscn7-dataset/gamma-correct/train.csv\")\n",
    "# train_data['File']=train_data['File'].apply(lambda x : '/kaggle/input/rsscn7-dataset/gamma-correct/'+x)\n",
    "# test_data=pd.read_csv(\"/kaggle/input/rsscn7-dataset/gamma-correct/test.csv\")\n",
    "# test_data['File']=test_data['File'].apply(lambda x : '/kaggle/input/rsscn7-dataset/gamma-correct/'+x)"
   ]
  },
  {
   "cell_type": "code",
   "execution_count": 4,
   "id": "4fc08e5c",
   "metadata": {
    "execution": {
     "iopub.execute_input": "2025-03-20T22:27:20.080447Z",
     "iopub.status.busy": "2025-03-20T22:27:20.080161Z",
     "iopub.status.idle": "2025-03-20T22:27:20.167290Z",
     "shell.execute_reply": "2025-03-20T22:27:20.166364Z"
    },
    "papermill": {
     "duration": 0.096956,
     "end_time": "2025-03-20T22:27:20.169303",
     "exception": false,
     "start_time": "2025-03-20T22:27:20.072347",
     "status": "completed"
    },
    "tags": []
   },
   "outputs": [],
   "source": [
    "#msrsi\n",
    "train_data=pd.read_csv(\"/kaggle/input/msrsi-dataset/MSRSI/train_df.csv\")\n",
    "train_data['File']=train_data['File'].apply(lambda x : '/kaggle/input/msrsi-dataset/MSRSI/'+x)\n",
    "test_data=pd.read_csv(\"/kaggle/input/msrsi-dataset/MSRSI/test_df.csv\")\n",
    "test_data['File']=test_data['File'].apply(lambda x : '/kaggle/input/msrsi-dataset/MSRSI/'+x)"
   ]
  },
  {
   "cell_type": "code",
   "execution_count": 5,
   "id": "1976617b",
   "metadata": {
    "execution": {
     "iopub.execute_input": "2025-03-20T22:27:20.186243Z",
     "iopub.status.busy": "2025-03-20T22:27:20.185965Z",
     "iopub.status.idle": "2025-03-20T22:27:20.206145Z",
     "shell.execute_reply": "2025-03-20T22:27:20.205257Z"
    },
    "papermill": {
     "duration": 0.029796,
     "end_time": "2025-03-20T22:27:20.207897",
     "exception": false,
     "start_time": "2025-03-20T22:27:20.178101",
     "status": "completed"
    },
    "tags": []
   },
   "outputs": [
    {
     "data": {
      "text/html": [
       "<div>\n",
       "<style scoped>\n",
       "    .dataframe tbody tr th:only-of-type {\n",
       "        vertical-align: middle;\n",
       "    }\n",
       "\n",
       "    .dataframe tbody tr th {\n",
       "        vertical-align: top;\n",
       "    }\n",
       "\n",
       "    .dataframe thead th {\n",
       "        text-align: right;\n",
       "    }\n",
       "</style>\n",
       "<table border=\"1\" class=\"dataframe\">\n",
       "  <thead>\n",
       "    <tr style=\"text-align: right;\">\n",
       "      <th></th>\n",
       "      <th>File</th>\n",
       "      <th>class_</th>\n",
       "    </tr>\n",
       "  </thead>\n",
       "  <tbody>\n",
       "    <tr>\n",
       "      <th>13799</th>\n",
       "      <td>/kaggle/input/msrsi-dataset/MSRSI/Bridge/Bridg...</td>\n",
       "      <td>Bridge</td>\n",
       "    </tr>\n",
       "    <tr>\n",
       "      <th>3033</th>\n",
       "      <td>/kaggle/input/msrsi-dataset/MSRSI/RectangularF...</td>\n",
       "      <td>RectangularFarmland</td>\n",
       "    </tr>\n",
       "    <tr>\n",
       "      <th>14833</th>\n",
       "      <td>/kaggle/input/msrsi-dataset/MSRSI/Airport/Airp...</td>\n",
       "      <td>Airport</td>\n",
       "    </tr>\n",
       "    <tr>\n",
       "      <th>16983</th>\n",
       "      <td>/kaggle/input/msrsi-dataset/MSRSI/IndustrialAr...</td>\n",
       "      <td>IndustrialArea</td>\n",
       "    </tr>\n",
       "    <tr>\n",
       "      <th>21941</th>\n",
       "      <td>/kaggle/input/msrsi-dataset/MSRSI/Forest/Fores...</td>\n",
       "      <td>Forest</td>\n",
       "    </tr>\n",
       "    <tr>\n",
       "      <th>...</th>\n",
       "      <td>...</td>\n",
       "      <td>...</td>\n",
       "    </tr>\n",
       "    <tr>\n",
       "      <th>14463</th>\n",
       "      <td>/kaggle/input/msrsi-dataset/MSRSI/Forest/Fores...</td>\n",
       "      <td>Forest</td>\n",
       "    </tr>\n",
       "    <tr>\n",
       "      <th>10700</th>\n",
       "      <td>/kaggle/input/msrsi-dataset/MSRSI/Grassland/Gr...</td>\n",
       "      <td>Grassland</td>\n",
       "    </tr>\n",
       "    <tr>\n",
       "      <th>23245</th>\n",
       "      <td>/kaggle/input/msrsi-dataset/MSRSI/IndustrialAr...</td>\n",
       "      <td>IndustrialArea</td>\n",
       "    </tr>\n",
       "    <tr>\n",
       "      <th>14612</th>\n",
       "      <td>/kaggle/input/msrsi-dataset/MSRSI/SolarPanel/S...</td>\n",
       "      <td>SolarPanel</td>\n",
       "    </tr>\n",
       "    <tr>\n",
       "      <th>20122</th>\n",
       "      <td>/kaggle/input/msrsi-dataset/MSRSI/Overpass/Ove...</td>\n",
       "      <td>Overpass</td>\n",
       "    </tr>\n",
       "  </tbody>\n",
       "</table>\n",
       "<p>24000 rows × 2 columns</p>\n",
       "</div>"
      ],
      "text/plain": [
       "                                                    File               class_\n",
       "13799  /kaggle/input/msrsi-dataset/MSRSI/Bridge/Bridg...               Bridge\n",
       "3033   /kaggle/input/msrsi-dataset/MSRSI/RectangularF...  RectangularFarmland\n",
       "14833  /kaggle/input/msrsi-dataset/MSRSI/Airport/Airp...              Airport\n",
       "16983  /kaggle/input/msrsi-dataset/MSRSI/IndustrialAr...       IndustrialArea\n",
       "21941  /kaggle/input/msrsi-dataset/MSRSI/Forest/Fores...               Forest\n",
       "...                                                  ...                  ...\n",
       "14463  /kaggle/input/msrsi-dataset/MSRSI/Forest/Fores...               Forest\n",
       "10700  /kaggle/input/msrsi-dataset/MSRSI/Grassland/Gr...            Grassland\n",
       "23245  /kaggle/input/msrsi-dataset/MSRSI/IndustrialAr...       IndustrialArea\n",
       "14612  /kaggle/input/msrsi-dataset/MSRSI/SolarPanel/S...           SolarPanel\n",
       "20122  /kaggle/input/msrsi-dataset/MSRSI/Overpass/Ove...             Overpass\n",
       "\n",
       "[24000 rows x 2 columns]"
      ]
     },
     "execution_count": 5,
     "metadata": {},
     "output_type": "execute_result"
    }
   ],
   "source": [
    "train_data=train_data.sample(frac=1)\n",
    "train_data"
   ]
  },
  {
   "cell_type": "code",
   "execution_count": 6,
   "id": "713099c0",
   "metadata": {
    "execution": {
     "iopub.execute_input": "2025-03-20T22:27:20.224113Z",
     "iopub.status.busy": "2025-03-20T22:27:20.223839Z",
     "iopub.status.idle": "2025-03-20T22:27:20.227731Z",
     "shell.execute_reply": "2025-03-20T22:27:20.226894Z"
    },
    "papermill": {
     "duration": 0.013756,
     "end_time": "2025-03-20T22:27:20.229465",
     "exception": false,
     "start_time": "2025-03-20T22:27:20.215709",
     "status": "completed"
    },
    "tags": []
   },
   "outputs": [],
   "source": [
    "SIZE=448\n",
    "size = [SIZE, SIZE ,3]"
   ]
  },
  {
   "cell_type": "code",
   "execution_count": 7,
   "id": "1dfc6b2a",
   "metadata": {
    "execution": {
     "iopub.execute_input": "2025-03-20T22:27:20.246005Z",
     "iopub.status.busy": "2025-03-20T22:27:20.245221Z",
     "iopub.status.idle": "2025-03-20T22:27:20.250090Z",
     "shell.execute_reply": "2025-03-20T22:27:20.249217Z"
    },
    "papermill": {
     "duration": 0.015011,
     "end_time": "2025-03-20T22:27:20.251777",
     "exception": false,
     "start_time": "2025-03-20T22:27:20.236766",
     "status": "completed"
    },
    "tags": []
   },
   "outputs": [],
   "source": [
    "train_datagen = ImageDataGenerator(\n",
    "    rescale=1.0 / 255,\n",
    "    rotation_range=40,\n",
    "    width_shift_range=0.2,\n",
    "    height_shift_range=0.2,\n",
    "    shear_range=0.2,\n",
    "    zoom_range=0.2,\n",
    "    horizontal_flip=True,\n",
    "    validation_split=.1,\n",
    "    fill_mode=\"nearest\",\n",
    ")\n",
    "batch_size=64"
   ]
  },
  {
   "cell_type": "code",
   "execution_count": 8,
   "id": "ea9f7273",
   "metadata": {
    "execution": {
     "iopub.execute_input": "2025-03-20T22:27:20.267417Z",
     "iopub.status.busy": "2025-03-20T22:27:20.267140Z",
     "iopub.status.idle": "2025-03-20T22:28:23.609980Z",
     "shell.execute_reply": "2025-03-20T22:28:23.608979Z"
    },
    "papermill": {
     "duration": 63.35293,
     "end_time": "2025-03-20T22:28:23.612106",
     "exception": false,
     "start_time": "2025-03-20T22:27:20.259176",
     "status": "completed"
    },
    "tags": []
   },
   "outputs": [
    {
     "name": "stdout",
     "output_type": "stream",
     "text": [
      "Found 21600 validated image filenames belonging to 15 classes.\n",
      "Found 2400 validated image filenames belonging to 15 classes.\n"
     ]
    }
   ],
   "source": [
    "train_images = train_datagen.flow_from_dataframe(\n",
    "    dataframe=train_data,\n",
    "    x_col='File',\n",
    "    y_col='class_',\n",
    "    target_size=(SIZE, SIZE),\n",
    "    color_mode='rgb',\n",
    "    class_mode='categorical',\n",
    "    batch_size=batch_size,\n",
    "    shuffle=True,\n",
    "    seed=42,\n",
    "    subset='training'\n",
    ")\n",
    "valid_images = train_datagen.flow_from_dataframe(\n",
    "    dataframe=train_data,\n",
    "    x_col='File',\n",
    "    y_col='class_',\n",
    "    target_size=(SIZE, SIZE),\n",
    "    color_mode='rgb',\n",
    "    class_mode='categorical',\n",
    "    batch_size=batch_size,\n",
    "    shuffle=True,\n",
    "    seed=42,\n",
    "    subset='validation'\n",
    ")\n"
   ]
  },
  {
   "cell_type": "markdown",
   "id": "88e6cf07",
   "metadata": {
    "papermill": {
     "duration": 0.007493,
     "end_time": "2025-03-20T22:28:23.627590",
     "exception": false,
     "start_time": "2025-03-20T22:28:23.620097",
     "status": "completed"
    },
    "tags": []
   },
   "source": [
    "# freezing nescessary pararametres"
   ]
  },
  {
   "cell_type": "code",
   "execution_count": 9,
   "id": "32ff3456",
   "metadata": {
    "execution": {
     "iopub.execute_input": "2025-03-20T22:28:23.644511Z",
     "iopub.status.busy": "2025-03-20T22:28:23.643667Z",
     "iopub.status.idle": "2025-03-20T22:28:24.129097Z",
     "shell.execute_reply": "2025-03-20T22:28:24.128073Z"
    },
    "papermill": {
     "duration": 0.496306,
     "end_time": "2025-03-20T22:28:24.131382",
     "exception": false,
     "start_time": "2025-03-20T22:28:23.635076",
     "status": "completed"
    },
    "tags": []
   },
   "outputs": [],
   "source": [
    "import tensorflow_hub as hub"
   ]
  },
  {
   "cell_type": "code",
   "execution_count": 10,
   "id": "a8c76412",
   "metadata": {
    "execution": {
     "iopub.execute_input": "2025-03-20T22:28:24.148481Z",
     "iopub.status.busy": "2025-03-20T22:28:24.147835Z",
     "iopub.status.idle": "2025-03-20T22:28:24.152628Z",
     "shell.execute_reply": "2025-03-20T22:28:24.151782Z"
    },
    "papermill": {
     "duration": 0.015099,
     "end_time": "2025-03-20T22:28:24.154493",
     "exception": false,
     "start_time": "2025-03-20T22:28:24.139394",
     "status": "completed"
    },
    "tags": []
   },
   "outputs": [],
   "source": [
    "def get_from_hub(model_url):\n",
    "    inputs = tf.keras.Input((batch_size,SIZE, SIZE, 3))\n",
    "    hub_module = hub.KerasLayer(model_url,trainable=False)\n",
    "    outputs = hub_module(inputs)\n",
    "    return tf.keras.Model(inputs, outputs)"
   ]
  },
  {
   "cell_type": "code",
   "execution_count": 11,
   "id": "c50149ea",
   "metadata": {
    "execution": {
     "iopub.execute_input": "2025-03-20T22:28:24.170814Z",
     "iopub.status.busy": "2025-03-20T22:28:24.170535Z",
     "iopub.status.idle": "2025-03-20T22:28:24.175198Z",
     "shell.execute_reply": "2025-03-20T22:28:24.174282Z"
    },
    "papermill": {
     "duration": 0.014922,
     "end_time": "2025-03-20T22:28:24.176973",
     "exception": false,
     "start_time": "2025-03-20T22:28:24.162051",
     "status": "completed"
    },
    "tags": []
   },
   "outputs": [],
   "source": [
    "def name_and_freeze(model,name=\"\"):\n",
    "    for layer in model.layers[:]:\n",
    "      layer.trainable = False\n",
    "    for layer in model.layers:\n",
    "        layer._name = layer.name + str(name)\n",
    "    "
   ]
  },
  {
   "cell_type": "code",
   "execution_count": 12,
   "id": "e8ad8d5e",
   "metadata": {
    "execution": {
     "iopub.execute_input": "2025-03-20T22:28:24.193580Z",
     "iopub.status.busy": "2025-03-20T22:28:24.192994Z",
     "iopub.status.idle": "2025-03-20T22:28:24.198270Z",
     "shell.execute_reply": "2025-03-20T22:28:24.197524Z"
    },
    "papermill": {
     "duration": 0.015231,
     "end_time": "2025-03-20T22:28:24.199828",
     "exception": false,
     "start_time": "2025-03-20T22:28:24.184597",
     "status": "completed"
    },
    "tags": []
   },
   "outputs": [],
   "source": [
    "def se_block(inputs):\n",
    "    input_channels = inputs.shape[-1]\n",
    "    x = tf.keras.layers.GlobalAveragePooling2D()(inputs)\n",
    "    x = tf.keras.layers.Dense(units=len(train_images.class_indices.keys()), activation=\"relu\")(x)    \n",
    "    x = tf.keras.layers.Dense(units=input_channels, activation=\"sigmoid\")(x)    \n",
    "    x = tf.reshape(x, [-1, 1, 1, input_channels])\n",
    "    x = inputs * x\n",
    "    return x"
   ]
  },
  {
   "cell_type": "code",
   "execution_count": 13,
   "id": "7f7db861",
   "metadata": {
    "execution": {
     "iopub.execute_input": "2025-03-20T22:28:24.215889Z",
     "iopub.status.busy": "2025-03-20T22:28:24.215638Z",
     "iopub.status.idle": "2025-03-20T22:28:24.221029Z",
     "shell.execute_reply": "2025-03-20T22:28:24.220283Z"
    },
    "papermill": {
     "duration": 0.015397,
     "end_time": "2025-03-20T22:28:24.222633",
     "exception": false,
     "start_time": "2025-03-20T22:28:24.207236",
     "status": "completed"
    },
    "tags": []
   },
   "outputs": [],
   "source": [
    "def dilation_block(inputs,dilation_rates):\n",
    "    outputs = []\n",
    "    for dilation_rate in dilation_rates:\n",
    "        x = tf.keras.layers.Conv2D(filters=len(train_images.class_indices.keys()), kernel_size=3, strides=1, padding=\"same\", dilation_rate=dilation_rate)(inputs)\n",
    "        x = tf.keras.layers.BatchNormalization()(x)\n",
    "        x = tf.keras.layers.ReLU()(x)\n",
    "        outputs.append(x)\n",
    "    x = tf.keras.layers.Concatenate(axis=-1)(outputs)\n",
    "    return x"
   ]
  },
  {
   "cell_type": "markdown",
   "id": "65656648",
   "metadata": {
    "papermill": {
     "duration": 0.007167,
     "end_time": "2025-03-20T22:28:24.237274",
     "exception": false,
     "start_time": "2025-03-20T22:28:24.230107",
     "status": "completed"
    },
    "tags": []
   },
   "source": [
    "# Importing Vit"
   ]
  },
  {
   "cell_type": "code",
   "execution_count": 14,
   "id": "c4bcf34f",
   "metadata": {
    "execution": {
     "iopub.execute_input": "2025-03-20T22:28:24.253650Z",
     "iopub.status.busy": "2025-03-20T22:28:24.253370Z",
     "iopub.status.idle": "2025-03-20T22:28:32.109423Z",
     "shell.execute_reply": "2025-03-20T22:28:32.108527Z"
    },
    "papermill": {
     "duration": 7.866849,
     "end_time": "2025-03-20T22:28:32.111649",
     "exception": false,
     "start_time": "2025-03-20T22:28:24.244800",
     "status": "completed"
    },
    "tags": []
   },
   "outputs": [
    {
     "name": "stdout",
     "output_type": "stream",
     "text": [
      "Downloading data from https://github.com/faustomorales/vit-keras/releases/download/dl/ViT-B_32_imagenet21k+imagenet2012.npz\n",
      "353255424/353253686 [==============================] - 1s 0us/step\n",
      "353263616/353253686 [==============================] - 1s 0us/step\n"
     ]
    },
    {
     "name": "stderr",
     "output_type": "stream",
     "text": [
      "/opt/conda/lib/python3.7/site-packages/vit_keras/utils.py:83: UserWarning: Resizing position embeddings from 12, 12 to 14, 14\n",
      "  UserWarning,\n"
     ]
    }
   ],
   "source": [
    "vit_big = vit.vit_b32(\n",
    "        image_size = SIZE,\n",
    "        activation = 'softmax',\n",
    "        pretrained = True,\n",
    "        include_top = False,\n",
    "        pretrained_top = False,\n",
    "        )"
   ]
  },
  {
   "cell_type": "code",
   "execution_count": 15,
   "id": "877d3fe2",
   "metadata": {
    "execution": {
     "iopub.execute_input": "2025-03-20T22:28:32.130985Z",
     "iopub.status.busy": "2025-03-20T22:28:32.130635Z",
     "iopub.status.idle": "2025-03-20T22:28:32.134570Z",
     "shell.execute_reply": "2025-03-20T22:28:32.133738Z"
    },
    "papermill": {
     "duration": 0.015248,
     "end_time": "2025-03-20T22:28:32.136213",
     "exception": false,
     "start_time": "2025-03-20T22:28:32.120965",
     "status": "completed"
    },
    "tags": []
   },
   "outputs": [],
   "source": [
    "# vit_large = vit.vit_l32(\n",
    "#         image_size = SIZE,\n",
    "#         activation = 'softmax',\n",
    "#         pretrained = True,\n",
    "#         include_top = False,\n",
    "#         pretrained_top = False,\n",
    "#         )"
   ]
  },
  {
   "cell_type": "markdown",
   "id": "fc634f94",
   "metadata": {
    "papermill": {
     "duration": 0.008468,
     "end_time": "2025-03-20T22:28:32.153462",
     "exception": false,
     "start_time": "2025-03-20T22:28:32.144994",
     "status": "completed"
    },
    "tags": []
   },
   "source": [
    "#  Fine-tuning vit"
   ]
  },
  {
   "cell_type": "code",
   "execution_count": 16,
   "id": "f1677840",
   "metadata": {
    "execution": {
     "iopub.execute_input": "2025-03-20T22:28:32.171756Z",
     "iopub.status.busy": "2025-03-20T22:28:32.171489Z",
     "iopub.status.idle": "2025-03-20T22:28:32.180642Z",
     "shell.execute_reply": "2025-03-20T22:28:32.179732Z"
    },
    "papermill": {
     "duration": 0.020346,
     "end_time": "2025-03-20T22:28:32.182393",
     "exception": false,
     "start_time": "2025-03-20T22:28:32.162047",
     "status": "completed"
    },
    "tags": []
   },
   "outputs": [],
   "source": [
    "# name_and_freeze(vit_large,'vit_large_')\n",
    "name_and_freeze(vit_big,'vit_big_')"
   ]
  },
  {
   "cell_type": "code",
   "execution_count": 17,
   "id": "c8ac5180",
   "metadata": {
    "execution": {
     "iopub.execute_input": "2025-03-20T22:28:32.200973Z",
     "iopub.status.busy": "2025-03-20T22:28:32.200684Z",
     "iopub.status.idle": "2025-03-20T22:28:32.241966Z",
     "shell.execute_reply": "2025-03-20T22:28:32.241027Z"
    },
    "papermill": {
     "duration": 0.052864,
     "end_time": "2025-03-20T22:28:32.243934",
     "exception": false,
     "start_time": "2025-03-20T22:28:32.191070",
     "status": "completed"
    },
    "tags": []
   },
   "outputs": [],
   "source": [
    "from tensorflow.keras import regularizers\n",
    "x =vit_big.output\n",
    "x=tf.keras.layers.BatchNormalization(axis=-1, momentum=0.99, epsilon=0.001 )(x)\n",
    "x = Dense(512, kernel_regularizer = regularizers.l2(l = 0.016),activity_regularizer=regularizers.l1(0.006),\n",
    "                bias_regularizer=regularizers.l1(0.006) ,activation='relu')(x)\n",
    "x=Dense(256,activation='relu')(x)\n",
    "x_vit_big = Dense(128, activation='relu')(x)\n",
    "\n",
    "# x =vit_large.output\n",
    "# x=tf.keras.layers.BatchNormalization(axis=-1, momentum=0.99, epsilon=0.001 )(x)\n",
    "# x = Dense(32, kernel_regularizer = regularizers.l2(l = 0.016),activity_regularizer=regularizers.l1(0.006),\n",
    "#                 bias_regularizer=regularizers.l1(0.006) ,activation='relu')(x)\n",
    "# x=Dense(256,activation='relu')(x)\n",
    "# x_vit_large = Dense(128, activation='relu')(x)"
   ]
  },
  {
   "cell_type": "markdown",
   "id": "e0d9c385",
   "metadata": {
    "papermill": {
     "duration": 0.00839,
     "end_time": "2025-03-20T22:28:32.261003",
     "exception": false,
     "start_time": "2025-03-20T22:28:32.252613",
     "status": "completed"
    },
    "tags": []
   },
   "source": [
    "# importing cnn models"
   ]
  },
  {
   "cell_type": "code",
   "execution_count": 18,
   "id": "19891179",
   "metadata": {
    "execution": {
     "iopub.execute_input": "2025-03-20T22:28:32.279233Z",
     "iopub.status.busy": "2025-03-20T22:28:32.278952Z",
     "iopub.status.idle": "2025-03-20T22:28:36.719402Z",
     "shell.execute_reply": "2025-03-20T22:28:36.718381Z"
    },
    "papermill": {
     "duration": 4.452094,
     "end_time": "2025-03-20T22:28:36.721626",
     "exception": false,
     "start_time": "2025-03-20T22:28:32.269532",
     "status": "completed"
    },
    "tags": []
   },
   "outputs": [
    {
     "name": "stdout",
     "output_type": "stream",
     "text": [
      "Downloading data from https://storage.googleapis.com/tensorflow/keras-applications/densenet/densenet121_weights_tf_dim_ordering_tf_kernels_notop.h5\n",
      "29089792/29084464 [==============================] - 2s 0us/step\n",
      "29097984/29084464 [==============================] - 2s 0us/step\n"
     ]
    }
   ],
   "source": [
    "# resnet152= tf.keras.applications.ResNet152V2(input_shape=size,include_top=False, weights='imagenet',)\n",
    "# mobilenet= tf.keras.applications.MobileNetV3Large(input_shape=size,include_top=False, weights='imagenet')\n",
    "# xception= tf.keras.applications.Xception(input_shape=size,include_top=False, weights='imagenet')\n",
    "# effecientnet= tf.keras.applications.EfficientNetB7(input_shape=size,include_top=False, weights='imagenet')\n",
    "densenet=tf.keras.applications.DenseNet121(input_shape=size,include_top=False, weights='imagenet')\n",
    "# incepresnet=tf.keras.applications.InceptionResNetV2(input_shape=size,include_top=False, weights='imagenet')"
   ]
  },
  {
   "cell_type": "code",
   "execution_count": 19,
   "id": "5783168c",
   "metadata": {
    "execution": {
     "iopub.execute_input": "2025-03-20T22:28:36.744026Z",
     "iopub.status.busy": "2025-03-20T22:28:36.743712Z",
     "iopub.status.idle": "2025-03-20T22:28:36.747669Z",
     "shell.execute_reply": "2025-03-20T22:28:36.746778Z"
    },
    "papermill": {
     "duration": 0.016773,
     "end_time": "2025-03-20T22:28:36.749512",
     "exception": false,
     "start_time": "2025-03-20T22:28:36.732739",
     "status": "completed"
    },
    "tags": []
   },
   "outputs": [],
   "source": [
    "# print(xception.output)\n",
    "# print(resnet152.output)\n",
    "# print(mobilenet.output)\n",
    "# print(effecientnet.output)\n",
    "# print(densenet.output)\n",
    "# print(incepresnet.output)"
   ]
  },
  {
   "cell_type": "code",
   "execution_count": 20,
   "id": "e4ef69d7",
   "metadata": {
    "execution": {
     "iopub.execute_input": "2025-03-20T22:28:36.771013Z",
     "iopub.status.busy": "2025-03-20T22:28:36.770731Z",
     "iopub.status.idle": "2025-03-20T22:28:36.791240Z",
     "shell.execute_reply": "2025-03-20T22:28:36.790356Z"
    },
    "papermill": {
     "duration": 0.03333,
     "end_time": "2025-03-20T22:28:36.793085",
     "exception": false,
     "start_time": "2025-03-20T22:28:36.759755",
     "status": "completed"
    },
    "tags": []
   },
   "outputs": [],
   "source": [
    "# name_and_freeze(resnet152,'resnet152_')\n",
    "# name_and_freeze(mobilenet,'mobilenet_')\n",
    "# name_and_freeze(xception,'xception_')\n",
    "# name_and_freeze(effecientnet,'effecientnet_')\n",
    "name_and_freeze(densenet,'densenet_')\n",
    "# name_and_freeze(incepresnet,'incepResnet_')"
   ]
  },
  {
   "cell_type": "code",
   "execution_count": 21,
   "id": "2e1dce1a",
   "metadata": {
    "execution": {
     "iopub.execute_input": "2025-03-20T22:28:36.814868Z",
     "iopub.status.busy": "2025-03-20T22:28:36.814573Z",
     "iopub.status.idle": "2025-03-20T22:28:36.820517Z",
     "shell.execute_reply": "2025-03-20T22:28:36.819627Z"
    },
    "papermill": {
     "duration": 0.018851,
     "end_time": "2025-03-20T22:28:36.822202",
     "exception": false,
     "start_time": "2025-03-20T22:28:36.803351",
     "status": "completed"
    },
    "tags": []
   },
   "outputs": [],
   "source": [
    "def get_model(base_model):\n",
    "    x = tf.keras.layers.GlobalAveragePooling2D()(se_block(dilation_block(base_model.output,[2,3,5,7])))\n",
    "    x=tf.keras.layers.BatchNormalization(axis=-1, momentum=0.99, epsilon=0.001 )(x)\n",
    "    x = Dense(512, kernel_regularizer = regularizers.l2(l = 0.016),activity_regularizer=regularizers.l1(0.006),\n",
    "                    bias_regularizer=regularizers.l1(0.006) ,activation='relu')(x)\n",
    "    x=Dense(256,activation='relu')(x)\n",
    "    return Dense(128,activation='relu')(x)"
   ]
  },
  {
   "cell_type": "markdown",
   "id": "fd5be0d6",
   "metadata": {
    "papermill": {
     "duration": 0.010286,
     "end_time": "2025-03-20T22:28:36.842885",
     "exception": false,
     "start_time": "2025-03-20T22:28:36.832599",
     "status": "completed"
    },
    "tags": []
   },
   "source": [
    "# fine tuning CNN models"
   ]
  },
  {
   "cell_type": "code",
   "execution_count": 22,
   "id": "e1f23862",
   "metadata": {
    "execution": {
     "iopub.execute_input": "2025-03-20T22:28:36.864438Z",
     "iopub.status.busy": "2025-03-20T22:28:36.864097Z",
     "iopub.status.idle": "2025-03-20T22:28:37.012912Z",
     "shell.execute_reply": "2025-03-20T22:28:37.011687Z"
    },
    "papermill": {
     "duration": 0.162029,
     "end_time": "2025-03-20T22:28:37.015063",
     "exception": false,
     "start_time": "2025-03-20T22:28:36.853034",
     "status": "completed"
    },
    "tags": []
   },
   "outputs": [],
   "source": [
    "# x_resnet152v2=get_model(resnet152)\n",
    "# x_xception=get_model(xception)\n",
    "# x_mobilenet=get_model(mobilenet)\n",
    "# x_incepresnet=get_model(incepresnet)\n",
    "# x_effecientnet=get_model(effecientnet)\n",
    "x_densenet=get_model(densenet)"
   ]
  },
  {
   "cell_type": "markdown",
   "id": "94f324e6",
   "metadata": {
    "papermill": {
     "duration": 0.010088,
     "end_time": "2025-03-20T22:28:37.035681",
     "exception": false,
     "start_time": "2025-03-20T22:28:37.025593",
     "status": "completed"
    },
    "tags": []
   },
   "source": [
    "# constructing full model"
   ]
  },
  {
   "cell_type": "code",
   "execution_count": 23,
   "id": "8cfc749f",
   "metadata": {
    "execution": {
     "iopub.execute_input": "2025-03-20T22:28:37.057915Z",
     "iopub.status.busy": "2025-03-20T22:28:37.057106Z",
     "iopub.status.idle": "2025-03-20T22:28:37.092256Z",
     "shell.execute_reply": "2025-03-20T22:28:37.091591Z"
    },
    "papermill": {
     "duration": 0.048232,
     "end_time": "2025-03-20T22:28:37.094143",
     "exception": false,
     "start_time": "2025-03-20T22:28:37.045911",
     "status": "completed"
    },
    "tags": []
   },
   "outputs": [],
   "source": [
    "from tensorflow.keras.layers import concatenate\n",
    "concatenated = concatenate([x_densenet, x_vit_big])\n",
    "bigmodel_prediction = Dense(len(train_images.class_indices), activation='softmax')(concatenated)\n",
    "model = Model([densenet.input, vit_big.input], bigmodel_prediction) \n",
    "from tensorflow.keras.utils import plot_model"
   ]
  },
  {
   "cell_type": "code",
   "execution_count": 24,
   "id": "5b28fb92",
   "metadata": {
    "execution": {
     "iopub.execute_input": "2025-03-20T22:28:37.116626Z",
     "iopub.status.busy": "2025-03-20T22:28:37.115782Z",
     "iopub.status.idle": "2025-03-20T22:28:37.669100Z",
     "shell.execute_reply": "2025-03-20T22:28:37.668184Z"
    },
    "papermill": {
     "duration": 0.566456,
     "end_time": "2025-03-20T22:28:37.670967",
     "exception": false,
     "start_time": "2025-03-20T22:28:37.104511",
     "status": "completed"
    },
    "tags": []
   },
   "outputs": [
    {
     "name": "stdout",
     "output_type": "stream",
     "text": [
      "trainable parametres: 1313934 non trainable parametres: 94607408\n"
     ]
    }
   ],
   "source": [
    "trainable_params = sum([v.numpy().size for v in model.trainable_variables])\n",
    "non_trainable_params = sum([v.numpy().size for v in model.non_trainable_variables])\n",
    "print(\"trainable parametres: \"+ str(trainable_params) + \" non trainable parametres: \"+ str(non_trainable_params))"
   ]
  },
  {
   "cell_type": "markdown",
   "id": "d22e9af7",
   "metadata": {
    "papermill": {
     "duration": 0.010925,
     "end_time": "2025-03-20T22:28:37.692529",
     "exception": false,
     "start_time": "2025-03-20T22:28:37.681604",
     "status": "completed"
    },
    "tags": []
   },
   "source": [
    "# custom generator"
   ]
  },
  {
   "cell_type": "code",
   "execution_count": 25,
   "id": "69537391",
   "metadata": {
    "execution": {
     "iopub.execute_input": "2025-03-20T22:28:37.714727Z",
     "iopub.status.busy": "2025-03-20T22:28:37.714404Z",
     "iopub.status.idle": "2025-03-20T22:28:37.719198Z",
     "shell.execute_reply": "2025-03-20T22:28:37.718253Z"
    },
    "papermill": {
     "duration": 0.01837,
     "end_time": "2025-03-20T22:28:37.721127",
     "exception": false,
     "start_time": "2025-03-20T22:28:37.702757",
     "status": "completed"
    },
    "tags": []
   },
   "outputs": [],
   "source": [
    "def generator_two_img(gen):\n",
    "    while True:\n",
    "        X1i = gen.next()\n",
    "        yield [X1i[0],X1i[0]], X1i[1]"
   ]
  },
  {
   "cell_type": "markdown",
   "id": "dd32fee8",
   "metadata": {
    "papermill": {
     "duration": 0.010325,
     "end_time": "2025-03-20T22:28:37.741542",
     "exception": false,
     "start_time": "2025-03-20T22:28:37.731217",
     "status": "completed"
    },
    "tags": []
   },
   "source": [
    "# training model"
   ]
  },
  {
   "cell_type": "code",
   "execution_count": 26,
   "id": "f81bf02d",
   "metadata": {
    "execution": {
     "iopub.execute_input": "2025-03-20T22:28:37.762927Z",
     "iopub.status.busy": "2025-03-20T22:28:37.762617Z",
     "iopub.status.idle": "2025-03-20T22:28:37.975583Z",
     "shell.execute_reply": "2025-03-20T22:28:37.974581Z"
    },
    "papermill": {
     "duration": 0.226234,
     "end_time": "2025-03-20T22:28:37.977777",
     "exception": false,
     "start_time": "2025-03-20T22:28:37.751543",
     "status": "completed"
    },
    "tags": []
   },
   "outputs": [],
   "source": [
    "model.compile(loss=\"categorical_crossentropy\",optimizer=tf.optimizers.Adam(),metrics=['accuracy'])"
   ]
  },
  {
   "cell_type": "code",
   "execution_count": 27,
   "id": "3d2bddf6",
   "metadata": {
    "execution": {
     "iopub.execute_input": "2025-03-20T22:28:38.000337Z",
     "iopub.status.busy": "2025-03-20T22:28:38.000009Z",
     "iopub.status.idle": "2025-03-21T05:42:17.090783Z",
     "shell.execute_reply": "2025-03-21T05:42:17.089705Z"
    },
    "papermill": {
     "duration": 26019.361484,
     "end_time": "2025-03-21T05:42:17.350058",
     "exception": false,
     "start_time": "2025-03-20T22:28:37.988574",
     "status": "completed"
    },
    "tags": []
   },
   "outputs": [
    {
     "name": "stdout",
     "output_type": "stream",
     "text": [
      "Epoch 1/20\n",
      "337/337 [==============================] - 1437s 4s/step - loss: 2.4766 - accuracy: 0.8361 - val_loss: 0.7463 - val_accuracy: 0.8754\n",
      "Epoch 2/20\n",
      "337/337 [==============================] - 1301s 4s/step - loss: 0.5962 - accuracy: 0.8889 - val_loss: 0.5211 - val_accuracy: 0.8991\n",
      "Epoch 3/20\n",
      "337/337 [==============================] - 1275s 4s/step - loss: 0.5022 - accuracy: 0.8993 - val_loss: 0.5548 - val_accuracy: 0.8830\n",
      "Epoch 4/20\n",
      "337/337 [==============================] - 1271s 4s/step - loss: 0.4454 - accuracy: 0.9086 - val_loss: 0.4847 - val_accuracy: 0.8974\n",
      "Epoch 5/20\n",
      "337/337 [==============================] - 1299s 4s/step - loss: 0.4085 - accuracy: 0.9143 - val_loss: 0.4155 - val_accuracy: 0.9084\n",
      "Epoch 6/20\n",
      "337/337 [==============================] - 1286s 4s/step - loss: 0.3920 - accuracy: 0.9190 - val_loss: 0.3762 - val_accuracy: 0.9219\n",
      "Epoch 7/20\n",
      "337/337 [==============================] - 1280s 4s/step - loss: 0.3635 - accuracy: 0.9257 - val_loss: 0.4423 - val_accuracy: 0.8919\n",
      "Epoch 8/20\n",
      "337/337 [==============================] - 1324s 4s/step - loss: 0.3607 - accuracy: 0.9244 - val_loss: 0.4185 - val_accuracy: 0.9079\n",
      "Epoch 9/20\n",
      "337/337 [==============================] - 1337s 4s/step - loss: 0.3546 - accuracy: 0.9286 - val_loss: 0.3879 - val_accuracy: 0.9240\n",
      "Epoch 10/20\n",
      "337/337 [==============================] - 1278s 4s/step - loss: 0.3450 - accuracy: 0.9285 - val_loss: 0.4138 - val_accuracy: 0.9147\n",
      "Epoch 11/20\n",
      "337/337 [==============================] - 1271s 4s/step - loss: 0.3162 - accuracy: 0.9353 - val_loss: 0.3806 - val_accuracy: 0.9198\n",
      "Epoch 12/20\n",
      "337/337 [==============================] - 1288s 4s/step - loss: 0.3231 - accuracy: 0.9324 - val_loss: 0.4412 - val_accuracy: 0.9075\n",
      "Epoch 13/20\n",
      "337/337 [==============================] - 1354s 4s/step - loss: 0.3003 - accuracy: 0.9360 - val_loss: 0.3344 - val_accuracy: 0.9303\n",
      "Epoch 14/20\n",
      "337/337 [==============================] - 1327s 4s/step - loss: 0.3041 - accuracy: 0.9373 - val_loss: 0.3860 - val_accuracy: 0.9219\n",
      "Epoch 15/20\n",
      "337/337 [==============================] - 1283s 4s/step - loss: 0.2857 - accuracy: 0.9398 - val_loss: 0.3512 - val_accuracy: 0.9177\n",
      "Epoch 16/20\n",
      "337/337 [==============================] - 1284s 4s/step - loss: 0.2829 - accuracy: 0.9421 - val_loss: 0.3930 - val_accuracy: 0.9075\n",
      "Epoch 17/20\n",
      "337/337 [==============================] - 1285s 4s/step - loss: 0.2707 - accuracy: 0.9432 - val_loss: 0.4652 - val_accuracy: 0.9008\n",
      "Epoch 18/20\n",
      "337/337 [==============================] - 1285s 4s/step - loss: 0.2648 - accuracy: 0.9445 - val_loss: 0.3934 - val_accuracy: 0.9202\n",
      "Epoch 19/20\n",
      "337/337 [==============================] - 1274s 4s/step - loss: 0.2696 - accuracy: 0.9431 - val_loss: 0.3952 - val_accuracy: 0.9088\n",
      "Epoch 20/20\n",
      "337/337 [==============================] - 1276s 4s/step - loss: 0.2663 - accuracy: 0.9433 - val_loss: 0.3556 - val_accuracy: 0.9130\n"
     ]
    }
   ],
   "source": [
    "batch_size=64\n",
    "history = model.fit(\n",
    "    generator_two_img(train_images),\n",
    "    validation_data=generator_two_img(valid_images),\n",
    "    validation_steps=valid_images.n//batch_size,\n",
    "    validation_batch_size=batch_size,\n",
    "    steps_per_epoch=train_images.n//batch_size,\n",
    "    batch_size=batch_size,\n",
    "    epochs=20,\n",
    ")\n"
   ]
  },
  {
   "cell_type": "code",
   "execution_count": 28,
   "id": "7964d657",
   "metadata": {
    "execution": {
     "iopub.execute_input": "2025-03-21T05:42:17.923145Z",
     "iopub.status.busy": "2025-03-21T05:42:17.922780Z",
     "iopub.status.idle": "2025-03-21T05:42:19.195481Z",
     "shell.execute_reply": "2025-03-21T05:42:19.194542Z"
    },
    "papermill": {
     "duration": 1.558934,
     "end_time": "2025-03-21T05:42:19.197510",
     "exception": false,
     "start_time": "2025-03-21T05:42:17.638576",
     "status": "completed"
    },
    "tags": []
   },
   "outputs": [],
   "source": [
    "model.save('1vit1cnndensenet.h5')"
   ]
  },
  {
   "cell_type": "markdown",
   "id": "e28492e0",
   "metadata": {
    "papermill": {
     "duration": 0.282369,
     "end_time": "2025-03-21T05:42:19.842127",
     "exception": false,
     "start_time": "2025-03-21T05:42:19.559758",
     "status": "completed"
    },
    "tags": []
   },
   "source": [
    "# performance evaluation"
   ]
  },
  {
   "cell_type": "code",
   "execution_count": 29,
   "id": "4732e458",
   "metadata": {
    "execution": {
     "iopub.execute_input": "2025-03-21T05:42:20.414327Z",
     "iopub.status.busy": "2025-03-21T05:42:20.413969Z",
     "iopub.status.idle": "2025-03-21T05:42:20.764847Z",
     "shell.execute_reply": "2025-03-21T05:42:20.764020Z"
    },
    "papermill": {
     "duration": 0.64193,
     "end_time": "2025-03-21T05:42:20.767012",
     "exception": false,
     "start_time": "2025-03-21T05:42:20.125082",
     "status": "completed"
    },
    "tags": []
   },
   "outputs": [
    {
     "name": "stderr",
     "output_type": "stream",
     "text": [
      "/opt/conda/lib/python3.7/site-packages/ipykernel_launcher.py:10: UserWarning: color is redundantly defined by the 'color' keyword argument and the fmt string \"go-\" (-> color='g'). The keyword argument will take precedence.\n",
      "  # Remove the CWD from sys.path while we load stuff.\n",
      "/opt/conda/lib/python3.7/site-packages/ipykernel_launcher.py:18: UserWarning: color is redundantly defined by the 'color' keyword argument and the fmt string \"g-o\" (-> color='g'). The keyword argument will take precedence.\n"
     ]
    },
    {
     "data": {
      "image/png": "[encoded data removed]",
      "text/plain": [
       "<Figure size 1440x720 with 2 Axes>"
      ]
     },
     "metadata": {
      "needs_background": "light"
     },
     "output_type": "display_data"
    }
   ],
   "source": [
    "epochs = list(range(len(history.history['accuracy'])))\n",
    "fig , ax = plt.subplots(1,2)\n",
    "train_acc = history.history['accuracy']\n",
    "train_loss = history.history['loss']\n",
    "val_acc = history.history['val_accuracy']\n",
    "val_loss = history.history['val_loss']\n",
    "\n",
    "fig.set_size_inches(20,10)\n",
    "\n",
    "ax[0].plot(epochs , train_acc , 'go-' ,color='r', label = 'Training Accuracy')\n",
    "ax[0].plot(epochs , val_acc , 'go-' , label = 'Validation Accuracy')\n",
    "ax[0].set_title('Training Accuracy')\n",
    "ax[0].legend()\n",
    "ax[0].set_xlabel(\"Epochs\")\n",
    "ax[0].set_ylabel(\"Accuracy\")\n",
    "\n",
    "\n",
    "ax[1].plot(epochs , train_loss , 'g-o' ,color='r', label = 'Training Loss')\n",
    "ax[1].plot(epochs , val_loss , 'go-' , label = 'Validation Loss')\n",
    "ax[1].set_title('Training Loss')\n",
    "ax[1].legend()\n",
    "ax[1].set_xlabel(\"Epochs\")\n",
    "ax[1].set_ylabel(\"Training Loss\")\n",
    "plt.show()"
   ]
  },
  {
   "cell_type": "code",
   "execution_count": 30,
   "id": "1c50b8a8",
   "metadata": {
    "execution": {
     "iopub.execute_input": "2025-03-21T05:42:21.350700Z",
     "iopub.status.busy": "2025-03-21T05:42:21.349882Z",
     "iopub.status.idle": "2025-03-21T05:42:38.697007Z",
     "shell.execute_reply": "2025-03-21T05:42:38.695998Z"
    },
    "papermill": {
     "duration": 17.637708,
     "end_time": "2025-03-21T05:42:38.699013",
     "exception": false,
     "start_time": "2025-03-21T05:42:21.061305",
     "status": "completed"
    },
    "tags": []
   },
   "outputs": [
    {
     "name": "stdout",
     "output_type": "stream",
     "text": [
      "Found 6000 validated image filenames belonging to 15 classes.\n"
     ]
    }
   ],
   "source": [
    "test_generator = tf.keras.preprocessing.image.ImageDataGenerator(\n",
    "    rescale=1./255,\n",
    ")\n",
    "test_images = test_generator.flow_from_dataframe(\n",
    "    dataframe=test_data,\n",
    "    x_col='File',\n",
    "    y_col='class_',\n",
    "    target_size=(SIZE, SIZE),\n",
    "    color_mode='rgb',\n",
    "    class_mode='categorical',\n",
    "    batch_size=batch_size,\n",
    "    shuffle=False\n",
    ")"
   ]
  },
  {
   "cell_type": "code",
   "execution_count": 31,
   "id": "c45bd9fa",
   "metadata": {
    "execution": {
     "iopub.execute_input": "2025-03-21T05:42:39.277390Z",
     "iopub.status.busy": "2025-03-21T05:42:39.276543Z",
     "iopub.status.idle": "2025-03-21T05:42:39.280901Z",
     "shell.execute_reply": "2025-03-21T05:42:39.280131Z"
    },
    "papermill": {
     "duration": 0.294771,
     "end_time": "2025-03-21T05:42:39.282661",
     "exception": false,
     "start_time": "2025-03-21T05:42:38.987890",
     "status": "completed"
    },
    "tags": []
   },
   "outputs": [],
   "source": [
    "class_=train_images.class_indices.keys()"
   ]
  },
  {
   "cell_type": "code",
   "execution_count": 32,
   "id": "5dfdb52e",
   "metadata": {
    "execution": {
     "iopub.execute_input": "2025-03-21T05:42:39.930125Z",
     "iopub.status.busy": "2025-03-21T05:42:39.929156Z",
     "iopub.status.idle": "2025-03-21T05:42:39.934436Z",
     "shell.execute_reply": "2025-03-21T05:42:39.933558Z"
    },
    "papermill": {
     "duration": 0.294039,
     "end_time": "2025-03-21T05:42:39.936155",
     "exception": false,
     "start_time": "2025-03-21T05:42:39.642116",
     "status": "completed"
    },
    "tags": []
   },
   "outputs": [],
   "source": [
    "def prediction_generator(test_images):\n",
    "    k=0\n",
    "    for x in test_images:\n",
    "        k+=len(x[1])\n",
    "        yield [x[0],x[0]], x[1]\n",
    "        if(k>=test_images.n):\n",
    "            break"
   ]
  },
  {
   "cell_type": "code",
   "execution_count": 33,
   "id": "6cc20dfc",
   "metadata": {
    "execution": {
     "iopub.execute_input": "2025-03-21T05:42:40.506266Z",
     "iopub.status.busy": "2025-03-21T05:42:40.505927Z",
     "iopub.status.idle": "2025-03-21T05:45:10.920676Z",
     "shell.execute_reply": "2025-03-21T05:45:10.919769Z"
    },
    "papermill": {
     "duration": 150.998268,
     "end_time": "2025-03-21T05:45:11.219228",
     "exception": false,
     "start_time": "2025-03-21T05:42:40.220960",
     "status": "completed"
    },
    "tags": []
   },
   "outputs": [
    {
     "data": {
      "text/plain": [
       "0.9103333333333333"
      ]
     },
     "execution_count": 33,
     "metadata": {},
     "output_type": "execute_result"
    }
   ],
   "source": [
    "from sklearn.metrics import accuracy_score\n",
    "proba=model.predict(prediction_generator(test_images))\n",
    "predicted = np.argmax(proba,axis=1)\n",
    "true=test_images.labels\n",
    "accuracy_score(predicted, true)"
   ]
  },
  {
   "cell_type": "code",
   "execution_count": 34,
   "id": "e5c82c34",
   "metadata": {
    "execution": {
     "iopub.execute_input": "2025-03-21T05:45:11.801135Z",
     "iopub.status.busy": "2025-03-21T05:45:11.800217Z",
     "iopub.status.idle": "2025-03-21T05:45:13.358905Z",
     "shell.execute_reply": "2025-03-21T05:45:13.358068Z"
    },
    "papermill": {
     "duration": 1.854763,
     "end_time": "2025-03-21T05:45:13.361475",
     "exception": false,
     "start_time": "2025-03-21T05:45:11.506712",
     "status": "completed"
    },
    "tags": []
   },
   "outputs": [
    {
     "data": {
      "image/png": "[encoded data removed]",
      "text/plain": [
       "<Figure size 1152x1008 with 2 Axes>"
      ]
     },
     "metadata": {
      "needs_background": "light"
     },
     "output_type": "display_data"
    }
   ],
   "source": [
    "from sklearn.metrics import confusion_matrix\n",
    "import seaborn as sns\n",
    "class_=test_images.class_indices.keys()\n",
    "cm = confusion_matrix(true, predicted)\n",
    "fig = plt.figure(figsize=(16, 14))\n",
    "ax= plt.subplot()\n",
    "sns.heatmap(cm, annot=True, ax = ax,cmap=\"BuPu\"); \n",
    "ax.set_xlabel('Predicted', fontsize=20)\n",
    "ax.xaxis.set_label_position('bottom')\n",
    "plt.xticks(rotation=90)\n",
    "ax.xaxis.set_ticklabels(class_, fontsize = 10)\n",
    "ax.xaxis.tick_bottom()\n",
    "\n",
    "ax.set_ylabel('True', fontsize=20)\n",
    "ax.yaxis.set_ticklabels(class_, fontsize = 10)\n",
    "plt.yticks(rotation=0)\n",
    "\n",
    "plt.title('', fontsize=60)\n",
    "\n",
    "plt.savefig('ConMat24.png')\n",
    "plt.show()"
   ]
  },
  {
   "cell_type": "markdown",
   "id": "6ed6642a",
   "metadata": {
    "papermill": {
     "duration": 0.37119,
     "end_time": "2025-03-21T05:45:14.031161",
     "exception": false,
     "start_time": "2025-03-21T05:45:13.659971",
     "status": "completed"
    },
    "tags": []
   },
   "source": [
    "# ROC"
   ]
  },
  {
   "cell_type": "code",
   "execution_count": 35,
   "id": "8b292094",
   "metadata": {
    "execution": {
     "iopub.execute_input": "2025-03-21T05:45:14.623421Z",
     "iopub.status.busy": "2025-03-21T05:45:14.622578Z",
     "iopub.status.idle": "2025-03-21T05:45:15.077136Z",
     "shell.execute_reply": "2025-03-21T05:45:15.076124Z"
    },
    "papermill": {
     "duration": 0.751909,
     "end_time": "2025-03-21T05:45:15.079641",
     "exception": false,
     "start_time": "2025-03-21T05:45:14.327732",
     "status": "completed"
    },
    "tags": []
   },
   "outputs": [
    {
     "data": {
      "image/png": "[encoded data removed]",
      "text/plain": [
       "<Figure size 720x1152 with 1 Axes>"
      ]
     },
     "metadata": {
      "needs_background": "light"
     },
     "output_type": "display_data"
    }
   ],
   "source": [
    "from sklearn.metrics import roc_curve, roc_auc_score\n",
    "from matplotlib import cm\n",
    "n=len(true)\n",
    "dim=max(true)+1\n",
    "result=[]\n",
    "for i in true:\n",
    "    result.append([0 for i in range(dim)])\n",
    "    result[len(result)-1][i]=1\n",
    "    \n",
    "    \n",
    "fpr = dict()\n",
    "tpr = dict()\n",
    "roc_auc = dict()\n",
    "n_classes =len(test_images.class_indices.keys())\n",
    "y_test=np.array(result)\n",
    "y_pred=np.array(proba)\n",
    "fpr = dict()\n",
    "tpr = dict()\n",
    "roc_auc = dict()\n",
    "\n",
    "rev={}\n",
    "for i in class_:\n",
    "    rev[train_images.class_indices[i]]=i\n",
    "\n",
    "\n",
    "for i in range(n_classes):\n",
    "    fpr[i], tpr[i], _ = roc_curve(y_test[:, i], y_pred[:, i])\n",
    "    roc_auc[i] = roc_auc_score(y_test[:, i], y_pred[:, i])\n",
    "\n",
    "\n",
    "fpr[\"micro\"], tpr[\"micro\"], _ = roc_curve(y_test.ravel(), y_pred.ravel())\n",
    "roc_auc[\"micro\"] = roc_auc_score(y_test, y_pred, multi_class='ovr')\n",
    "\n",
    "\n",
    "cmap = cm.get_cmap('tab10')\n",
    "\n",
    "# Plot the ROC curve for each class and micro-average with automatic color selection\n",
    "plt.figure(figsize=(10,16))\n",
    "lw = 2\n",
    "for i in range(n_classes):\n",
    "    color = cmap(i)\n",
    "    plt.plot(fpr[i], tpr[i], color=color, lw=lw,\n",
    "             label='ROC curve of class {0} (area = {1:0.2f})'\n",
    "             ''.format(rev[i], roc_auc[i]))\n",
    "\n",
    "plt.plot(fpr[\"micro\"], tpr[\"micro\"],\n",
    "         label='micro-average ROC curve (area = {0:0.2f})'\n",
    "         ''.format(roc_auc[\"micro\"]),\n",
    "         color=cmap(n_classes), linestyle=':', linewidth=4)\n",
    "\n",
    "plt.plot([0, 1], [0, 1], 'k--', lw=lw)\n",
    "plt.xlim([0.0, 1.0])\n",
    "plt.ylim([0.0, 1.05])\n",
    "plt.xlabel('False Positive Rate')\n",
    "plt.ylabel('True Positive Rate')\n",
    "plt.title('ROC Curve')\n",
    "plt.legend(loc=\"lower right\")\n",
    "plt.show()\n"
   ]
  },
  {
   "cell_type": "markdown",
   "id": "7d29dcba",
   "metadata": {
    "papermill": {
     "duration": 0.294178,
     "end_time": "2025-03-21T05:45:15.671906",
     "exception": false,
     "start_time": "2025-03-21T05:45:15.377728",
     "status": "completed"
    },
    "tags": []
   },
   "source": [
    "# AUC"
   ]
  },
  {
   "cell_type": "code",
   "execution_count": 36,
   "id": "419fb00f",
   "metadata": {
    "execution": {
     "iopub.execute_input": "2025-03-21T05:45:16.265603Z",
     "iopub.status.busy": "2025-03-21T05:45:16.264638Z",
     "iopub.status.idle": "2025-03-21T05:45:16.396670Z",
     "shell.execute_reply": "2025-03-21T05:45:16.395701Z"
    },
    "papermill": {
     "duration": 0.431605,
     "end_time": "2025-03-21T05:45:16.399024",
     "exception": false,
     "start_time": "2025-03-21T05:45:15.967419",
     "status": "completed"
    },
    "tags": []
   },
   "outputs": [
    {
     "data": {
      "image/png": "[encoded data removed]",
      "text/plain": [
       "<Figure size 432x288 with 1 Axes>"
      ]
     },
     "metadata": {
      "needs_background": "light"
     },
     "output_type": "display_data"
    }
   ],
   "source": [
    "from sklearn.metrics import roc_curve, auc\n",
    "import matplotlib.pyplot as plt\n",
    "\n",
    "y_true=y_test\n",
    "y_score=y_pred\n",
    "fpr, tpr, thresholds = roc_curve(y_test.ravel(), y_pred.ravel())\n",
    "roc_auc = auc(fpr, tpr)\n",
    "\n",
    "plt.figure()\n",
    "lw = 2\n",
    "plt.plot(fpr, tpr, color='darkorange',\n",
    "         lw=lw, label='ROC curve (area = %0.2f)' % roc_auc)\n",
    "plt.plot([0, 1], [0, 1], color='navy', lw=lw, linestyle='--')\n",
    "plt.xlim([0.0, 1.0])\n",
    "plt.ylim([0.0, 1.05])\n",
    "plt.xlabel('False Positive Rate')\n",
    "plt.ylabel('True Positive Rate')\n",
    "plt.title('AUC Curve')\n",
    "plt.legend(loc=\"lower right\")\n",
    "plt.show()"
   ]
  }
 ],
 "metadata": {
  "kaggle": {
   "accelerator": "gpu",
   "dataSources": [
    {
     "datasetId": 2841105,
     "sourceId": 4899227,
     "sourceType": "datasetVersion"
    },
    {
     "datasetId": 2841086,
     "sourceId": 5146843,
     "sourceType": "datasetVersion"
    },
    {
     "datasetId": 2947560,
     "sourceId": 5149790,
     "sourceType": "datasetVersion"
    },
    {
     "datasetId": 6920708,
     "sourceId": 11101777,
     "sourceType": "datasetVersion"
    },
    {
     "isSourceIdPinned": true,
     "modelId": 316,
     "modelInstanceId": 2719,
     "sourceId": 3816,
     "sourceType": "modelInstanceVersion"
    },
    {
     "isSourceIdPinned": true,
     "modelId": 44,
     "modelInstanceId": 536,
     "sourceId": 669,
     "sourceType": "modelInstanceVersion"
    }
   ],
   "dockerImageVersionId": 30370,
   "isGpuEnabled": true,
   "isInternetEnabled": true,
   "language": "python",
   "sourceType": "notebook"
  },
  "kernelspec": {
   "display_name": "Python 3",
   "language": "python",
   "name": "python3"
  },
  "language_info": {
   "codemirror_mode": {
    "name": "ipython",
    "version": 3
   },
   "file_extension": ".py",
   "mimetype": "text/x-python",
   "name": "python",
   "nbconvert_exporter": "python",
   "pygments_lexer": "ipython3",
   "version": "3.7.12"
  },
  "papermill": {
   "default_parameters": {},
   "duration": 26304.946343,
   "end_time": "2025-03-21T05:45:20.215281",
   "environment_variables": {},
   "exception": null,
   "input_path": "__notebook__.ipynb",
   "output_path": "__notebook__.ipynb",
   "parameters": {},
   "start_time": "2025-03-20T22:26:55.268938",
   "version": "2.3.4"
  }
 },
 "nbformat": 4,
 "nbformat_minor": 5
}
