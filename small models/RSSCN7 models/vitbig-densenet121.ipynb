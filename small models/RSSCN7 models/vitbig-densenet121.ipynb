{
 "cells": [
  {
   "cell_type": "markdown",
   "id": "8542dc82",
   "metadata": {
    "papermill": {
     "duration": 0.009692,
     "end_time": "2023-04-09T15:06:37.234364",
     "exception": false,
     "start_time": "2023-04-09T15:06:37.224672",
     "status": "completed"
    },
    "tags": []
   },
   "source": [
    "# basic imports"
   ]
  },
  {
   "cell_type": "code",
   "execution_count": 1,
   "id": "78b54ef9",
   "metadata": {
    "_cell_guid": "b1076dfc-b9ad-4769-8c92-a6c4dae69d19",
    "_uuid": "8f2839f25d086af736a60e9eeb907d3b93b6e0e5",
    "execution": {
     "iopub.execute_input": "2023-04-09T15:06:37.254164Z",
     "iopub.status.busy": "2023-04-09T15:06:37.253355Z",
     "iopub.status.idle": "2023-04-09T15:06:54.199678Z",
     "shell.execute_reply": "2023-04-09T15:06:54.198481Z"
    },
    "papermill": {
     "duration": 16.959334,
     "end_time": "2023-04-09T15:06:54.202481",
     "exception": false,
     "start_time": "2023-04-09T15:06:37.243147",
     "status": "completed"
    },
    "tags": []
   },
   "outputs": [
    {
     "name": "stdout",
     "output_type": "stream",
     "text": [
      "\u001b[33mWARNING: Running pip as the 'root' user can result in broken permissions and conflicting behaviour with the system package manager. It is recommended to use a virtual environment instead: https://pip.pypa.io/warnings/venv\u001b[0m\u001b[33m\r\n",
      "\u001b[0m"
     ]
    }
   ],
   "source": [
    "import numpy as np \n",
    "import pandas as pd\n",
    "import os\n",
    "import cv2\n",
    "import tensorflow\n",
    "import glob\n",
    "from matplotlib import pyplot as plt\n",
    "from tensorflow.keras.layers import Input, Lambda, Dense, Flatten,Dropout\n",
    "from tensorflow.keras.models import Model\n",
    "from tensorflow.keras.applications.inception_v3 import InceptionV3\n",
    "from tensorflow.keras.preprocessing import image\n",
    "from tensorflow.keras.preprocessing.image import ImageDataGenerator\n",
    "from tensorflow.keras.models import Sequential\n",
    "from tensorflow.keras.applications.vgg16 import VGG16\n",
    "from tensorflow.keras.applications.vgg19 import VGG19\n",
    "from tensorflow.keras.applications import EfficientNetB0\n",
    "import tensorflow as tf \n",
    "from tensorflow.keras import layers\n",
    "!pip install --quiet vit-keras\n",
    "from vit_keras import vit\n",
    "from tensorflow.keras.applications.resnet50 import ResNet50"
   ]
  },
  {
   "cell_type": "markdown",
   "id": "a4f17574",
   "metadata": {
    "papermill": {
     "duration": 0.008293,
     "end_time": "2023-04-09T15:06:54.220056",
     "exception": false,
     "start_time": "2023-04-09T15:06:54.211763",
     "status": "completed"
    },
    "tags": []
   },
   "source": [
    "# Reading Data"
   ]
  },
  {
   "cell_type": "code",
   "execution_count": 2,
   "id": "d223ebe4",
   "metadata": {
    "execution": {
     "iopub.execute_input": "2023-04-09T15:06:54.242114Z",
     "iopub.status.busy": "2023-04-09T15:06:54.239747Z",
     "iopub.status.idle": "2023-04-09T15:06:54.245525Z",
     "shell.execute_reply": "2023-04-09T15:06:54.244632Z"
    },
    "papermill": {
     "duration": 0.017691,
     "end_time": "2023-04-09T15:06:54.247526",
     "exception": false,
     "start_time": "2023-04-09T15:06:54.229835",
     "status": "completed"
    },
    "tags": []
   },
   "outputs": [],
   "source": [
    "#ucm\n",
    "# train_data=pd.read_csv(\"/kaggle/input/satelite-csv/train.csv\")\n",
    "# train_data['File']=train_data['File'].apply(lambda x : '/kaggle/input/satelite-images/Images/'+x)\n",
    "# test_data=pd.read_csv(\"/kaggle/input/satelite-csv/test.csv\")\n",
    "# test_data['File']=test_data['File'].apply(lambda x : '/kaggle/input/satelite-images/Images/'+x)"
   ]
  },
  {
   "cell_type": "code",
   "execution_count": 3,
   "id": "0dbd9efb",
   "metadata": {
    "execution": {
     "iopub.execute_input": "2023-04-09T15:06:54.266311Z",
     "iopub.status.busy": "2023-04-09T15:06:54.265358Z",
     "iopub.status.idle": "2023-04-09T15:06:54.298133Z",
     "shell.execute_reply": "2023-04-09T15:06:54.297241Z"
    },
    "papermill": {
     "duration": 0.044417,
     "end_time": "2023-04-09T15:06:54.300445",
     "exception": false,
     "start_time": "2023-04-09T15:06:54.256028",
     "status": "completed"
    },
    "tags": []
   },
   "outputs": [],
   "source": [
    "# rsscn7\n",
    "train_data=pd.read_csv(\"/kaggle/input/rsscn7-dataset/gamma-correct/train.csv\")\n",
    "train_data['File']=train_data['File'].apply(lambda x : '/kaggle/input/rsscn7-dataset/gamma-correct/'+x)\n",
    "test_data=pd.read_csv(\"/kaggle/input/rsscn7-dataset/gamma-correct/test.csv\")\n",
    "test_data['File']=test_data['File'].apply(lambda x : '/kaggle/input/rsscn7-dataset/gamma-correct/'+x)"
   ]
  },
  {
   "cell_type": "code",
   "execution_count": 4,
   "id": "e52a5b47",
   "metadata": {
    "execution": {
     "iopub.execute_input": "2023-04-09T15:06:54.319660Z",
     "iopub.status.busy": "2023-04-09T15:06:54.318764Z",
     "iopub.status.idle": "2023-04-09T15:06:54.338600Z",
     "shell.execute_reply": "2023-04-09T15:06:54.337548Z"
    },
    "papermill": {
     "duration": 0.032002,
     "end_time": "2023-04-09T15:06:54.341306",
     "exception": false,
     "start_time": "2023-04-09T15:06:54.309304",
     "status": "completed"
    },
    "tags": []
   },
   "outputs": [
    {
     "data": {
      "text/html": [
       "<div>\n",
       "<style scoped>\n",
       "    .dataframe tbody tr th:only-of-type {\n",
       "        vertical-align: middle;\n",
       "    }\n",
       "\n",
       "    .dataframe tbody tr th {\n",
       "        vertical-align: top;\n",
       "    }\n",
       "\n",
       "    .dataframe thead th {\n",
       "        text-align: right;\n",
       "    }\n",
       "</style>\n",
       "<table border=\"1\" class=\"dataframe\">\n",
       "  <thead>\n",
       "    <tr style=\"text-align: right;\">\n",
       "      <th></th>\n",
       "      <th>File</th>\n",
       "      <th>class_</th>\n",
       "    </tr>\n",
       "  </thead>\n",
       "  <tbody>\n",
       "    <tr>\n",
       "      <th>1020</th>\n",
       "      <td>/kaggle/input/rsscn7-dataset/gamma-correct/Ind...</td>\n",
       "      <td>Industry</td>\n",
       "    </tr>\n",
       "    <tr>\n",
       "      <th>2232</th>\n",
       "      <td>/kaggle/input/rsscn7-dataset/gamma-correct/Riv...</td>\n",
       "      <td>River</td>\n",
       "    </tr>\n",
       "    <tr>\n",
       "      <th>1358</th>\n",
       "      <td>/kaggle/input/rsscn7-dataset/gamma-correct/Res...</td>\n",
       "      <td>Resident</td>\n",
       "    </tr>\n",
       "    <tr>\n",
       "      <th>407</th>\n",
       "      <td>/kaggle/input/rsscn7-dataset/gamma-correct/Fie...</td>\n",
       "      <td>Field</td>\n",
       "    </tr>\n",
       "    <tr>\n",
       "      <th>1793</th>\n",
       "      <td>/kaggle/input/rsscn7-dataset/gamma-correct/Par...</td>\n",
       "      <td>Parking</td>\n",
       "    </tr>\n",
       "    <tr>\n",
       "      <th>...</th>\n",
       "      <td>...</td>\n",
       "      <td>...</td>\n",
       "    </tr>\n",
       "    <tr>\n",
       "      <th>218</th>\n",
       "      <td>/kaggle/input/rsscn7-dataset/gamma-correct/Fie...</td>\n",
       "      <td>Field</td>\n",
       "    </tr>\n",
       "    <tr>\n",
       "      <th>1483</th>\n",
       "      <td>/kaggle/input/rsscn7-dataset/gamma-correct/Riv...</td>\n",
       "      <td>River</td>\n",
       "    </tr>\n",
       "    <tr>\n",
       "      <th>1396</th>\n",
       "      <td>/kaggle/input/rsscn7-dataset/gamma-correct/Riv...</td>\n",
       "      <td>River</td>\n",
       "    </tr>\n",
       "    <tr>\n",
       "      <th>1878</th>\n",
       "      <td>/kaggle/input/rsscn7-dataset/gamma-correct/For...</td>\n",
       "      <td>Forest</td>\n",
       "    </tr>\n",
       "    <tr>\n",
       "      <th>1553</th>\n",
       "      <td>/kaggle/input/rsscn7-dataset/gamma-correct/For...</td>\n",
       "      <td>Forest</td>\n",
       "    </tr>\n",
       "  </tbody>\n",
       "</table>\n",
       "<p>2240 rows × 2 columns</p>\n",
       "</div>"
      ],
      "text/plain": [
       "                                                   File    class_\n",
       "1020  /kaggle/input/rsscn7-dataset/gamma-correct/Ind...  Industry\n",
       "2232  /kaggle/input/rsscn7-dataset/gamma-correct/Riv...     River\n",
       "1358  /kaggle/input/rsscn7-dataset/gamma-correct/Res...  Resident\n",
       "407   /kaggle/input/rsscn7-dataset/gamma-correct/Fie...     Field\n",
       "1793  /kaggle/input/rsscn7-dataset/gamma-correct/Par...   Parking\n",
       "...                                                 ...       ...\n",
       "218   /kaggle/input/rsscn7-dataset/gamma-correct/Fie...     Field\n",
       "1483  /kaggle/input/rsscn7-dataset/gamma-correct/Riv...     River\n",
       "1396  /kaggle/input/rsscn7-dataset/gamma-correct/Riv...     River\n",
       "1878  /kaggle/input/rsscn7-dataset/gamma-correct/For...    Forest\n",
       "1553  /kaggle/input/rsscn7-dataset/gamma-correct/For...    Forest\n",
       "\n",
       "[2240 rows x 2 columns]"
      ]
     },
     "execution_count": 4,
     "metadata": {},
     "output_type": "execute_result"
    }
   ],
   "source": [
    "train_data=train_data.sample(frac=1)\n",
    "train_data"
   ]
  },
  {
   "cell_type": "code",
   "execution_count": 5,
   "id": "d1b53fe2",
   "metadata": {
    "execution": {
     "iopub.execute_input": "2023-04-09T15:06:54.360593Z",
     "iopub.status.busy": "2023-04-09T15:06:54.359656Z",
     "iopub.status.idle": "2023-04-09T15:06:54.364345Z",
     "shell.execute_reply": "2023-04-09T15:06:54.363513Z"
    },
    "papermill": {
     "duration": 0.016345,
     "end_time": "2023-04-09T15:06:54.366308",
     "exception": false,
     "start_time": "2023-04-09T15:06:54.349963",
     "status": "completed"
    },
    "tags": []
   },
   "outputs": [],
   "source": [
    "SIZE=448\n",
    "size = [SIZE, SIZE ,3]"
   ]
  },
  {
   "cell_type": "code",
   "execution_count": 6,
   "id": "6d82bc01",
   "metadata": {
    "execution": {
     "iopub.execute_input": "2023-04-09T15:06:54.385297Z",
     "iopub.status.busy": "2023-04-09T15:06:54.384447Z",
     "iopub.status.idle": "2023-04-09T15:06:54.390064Z",
     "shell.execute_reply": "2023-04-09T15:06:54.389258Z"
    },
    "papermill": {
     "duration": 0.017122,
     "end_time": "2023-04-09T15:06:54.392009",
     "exception": false,
     "start_time": "2023-04-09T15:06:54.374887",
     "status": "completed"
    },
    "tags": []
   },
   "outputs": [],
   "source": [
    "train_datagen = ImageDataGenerator(\n",
    "    rescale=1.0 / 255,\n",
    "    rotation_range=40,\n",
    "    width_shift_range=0.2,\n",
    "    height_shift_range=0.2,\n",
    "    shear_range=0.2,\n",
    "    zoom_range=0.2,\n",
    "    horizontal_flip=True,\n",
    "    validation_split=.1,\n",
    "    fill_mode=\"nearest\",\n",
    ")\n",
    "batch_size=64"
   ]
  },
  {
   "cell_type": "code",
   "execution_count": 7,
   "id": "35786005",
   "metadata": {
    "execution": {
     "iopub.execute_input": "2023-04-09T15:06:54.411099Z",
     "iopub.status.busy": "2023-04-09T15:06:54.410179Z",
     "iopub.status.idle": "2023-04-09T15:06:58.529200Z",
     "shell.execute_reply": "2023-04-09T15:06:58.527990Z"
    },
    "papermill": {
     "duration": 4.130787,
     "end_time": "2023-04-09T15:06:58.531360",
     "exception": false,
     "start_time": "2023-04-09T15:06:54.400573",
     "status": "completed"
    },
    "tags": []
   },
   "outputs": [
    {
     "name": "stdout",
     "output_type": "stream",
     "text": [
      "Found 2016 validated image filenames belonging to 7 classes.\n",
      "Found 224 validated image filenames belonging to 7 classes.\n"
     ]
    }
   ],
   "source": [
    "train_images = train_datagen.flow_from_dataframe(\n",
    "    dataframe=train_data,\n",
    "    x_col='File',\n",
    "    y_col='class_',\n",
    "    target_size=(SIZE, SIZE),\n",
    "    color_mode='rgb',\n",
    "    class_mode='categorical',\n",
    "    batch_size=batch_size,\n",
    "    shuffle=True,\n",
    "    seed=42,\n",
    "    subset='training'\n",
    ")\n",
    "valid_images = train_datagen.flow_from_dataframe(\n",
    "    dataframe=train_data,\n",
    "    x_col='File',\n",
    "    y_col='class_',\n",
    "    target_size=(SIZE, SIZE),\n",
    "    color_mode='rgb',\n",
    "    class_mode='categorical',\n",
    "    batch_size=batch_size,\n",
    "    shuffle=True,\n",
    "    seed=42,\n",
    "    subset='validation'\n",
    ")\n"
   ]
  },
  {
   "cell_type": "markdown",
   "id": "29d1dc3d",
   "metadata": {
    "papermill": {
     "duration": 0.008681,
     "end_time": "2023-04-09T15:06:58.549378",
     "exception": false,
     "start_time": "2023-04-09T15:06:58.540697",
     "status": "completed"
    },
    "tags": []
   },
   "source": [
    "# freezing nescessary pararametres"
   ]
  },
  {
   "cell_type": "code",
   "execution_count": 8,
   "id": "103a87dc",
   "metadata": {
    "execution": {
     "iopub.execute_input": "2023-04-09T15:06:58.569246Z",
     "iopub.status.busy": "2023-04-09T15:06:58.568509Z",
     "iopub.status.idle": "2023-04-09T15:06:59.028215Z",
     "shell.execute_reply": "2023-04-09T15:06:59.027254Z"
    },
    "papermill": {
     "duration": 0.472323,
     "end_time": "2023-04-09T15:06:59.030853",
     "exception": false,
     "start_time": "2023-04-09T15:06:58.558530",
     "status": "completed"
    },
    "tags": []
   },
   "outputs": [],
   "source": [
    "import tensorflow_hub as hub"
   ]
  },
  {
   "cell_type": "code",
   "execution_count": 9,
   "id": "df0dfc02",
   "metadata": {
    "execution": {
     "iopub.execute_input": "2023-04-09T15:06:59.051109Z",
     "iopub.status.busy": "2023-04-09T15:06:59.050372Z",
     "iopub.status.idle": "2023-04-09T15:06:59.055613Z",
     "shell.execute_reply": "2023-04-09T15:06:59.054649Z"
    },
    "papermill": {
     "duration": 0.017706,
     "end_time": "2023-04-09T15:06:59.057751",
     "exception": false,
     "start_time": "2023-04-09T15:06:59.040045",
     "status": "completed"
    },
    "tags": []
   },
   "outputs": [],
   "source": [
    "def get_from_hub(model_url):\n",
    "    inputs = tf.keras.Input((batch_size,SIZE, SIZE, 3))\n",
    "    hub_module = hub.KerasLayer(model_url,trainable=False)\n",
    "    outputs = hub_module(inputs)\n",
    "    return tf.keras.Model(inputs, outputs)"
   ]
  },
  {
   "cell_type": "code",
   "execution_count": 10,
   "id": "c2884889",
   "metadata": {
    "execution": {
     "iopub.execute_input": "2023-04-09T15:06:59.076862Z",
     "iopub.status.busy": "2023-04-09T15:06:59.076568Z",
     "iopub.status.idle": "2023-04-09T15:06:59.081442Z",
     "shell.execute_reply": "2023-04-09T15:06:59.080497Z"
    },
    "papermill": {
     "duration": 0.016835,
     "end_time": "2023-04-09T15:06:59.083429",
     "exception": false,
     "start_time": "2023-04-09T15:06:59.066594",
     "status": "completed"
    },
    "tags": []
   },
   "outputs": [],
   "source": [
    "def name_and_freeze(model,name=\"\"):\n",
    "    for layer in model.layers[:]:\n",
    "      layer.trainable = False\n",
    "    for layer in model.layers:\n",
    "        layer._name = layer.name + str(name)\n",
    "    "
   ]
  },
  {
   "cell_type": "code",
   "execution_count": 11,
   "id": "ad78a812",
   "metadata": {
    "execution": {
     "iopub.execute_input": "2023-04-09T15:06:59.102538Z",
     "iopub.status.busy": "2023-04-09T15:06:59.101760Z",
     "iopub.status.idle": "2023-04-09T15:06:59.107842Z",
     "shell.execute_reply": "2023-04-09T15:06:59.107010Z"
    },
    "papermill": {
     "duration": 0.017638,
     "end_time": "2023-04-09T15:06:59.109829",
     "exception": false,
     "start_time": "2023-04-09T15:06:59.092191",
     "status": "completed"
    },
    "tags": []
   },
   "outputs": [],
   "source": [
    "def se_block(inputs):\n",
    "    input_channels = inputs.shape[-1]\n",
    "    x = tf.keras.layers.GlobalAveragePooling2D()(inputs)\n",
    "    x = tf.keras.layers.Dense(units=len(train_images.class_indices.keys()), activation=\"relu\")(x)    \n",
    "    x = tf.keras.layers.Dense(units=input_channels, activation=\"sigmoid\")(x)    \n",
    "    x = tf.reshape(x, [-1, 1, 1, input_channels])\n",
    "    x = inputs * x\n",
    "    return x"
   ]
  },
  {
   "cell_type": "code",
   "execution_count": 12,
   "id": "77f0aaa3",
   "metadata": {
    "execution": {
     "iopub.execute_input": "2023-04-09T15:06:59.128804Z",
     "iopub.status.busy": "2023-04-09T15:06:59.128269Z",
     "iopub.status.idle": "2023-04-09T15:06:59.133954Z",
     "shell.execute_reply": "2023-04-09T15:06:59.133052Z"
    },
    "papermill": {
     "duration": 0.017476,
     "end_time": "2023-04-09T15:06:59.135991",
     "exception": false,
     "start_time": "2023-04-09T15:06:59.118515",
     "status": "completed"
    },
    "tags": []
   },
   "outputs": [],
   "source": [
    "def dilation_block(inputs,dilation_rates):\n",
    "    outputs = []\n",
    "    for dilation_rate in dilation_rates:\n",
    "        x = tf.keras.layers.Conv2D(filters=len(train_images.class_indices.keys()), kernel_size=3, strides=1, padding=\"same\", dilation_rate=dilation_rate)(inputs)\n",
    "        x = tf.keras.layers.BatchNormalization()(x)\n",
    "        x = tf.keras.layers.ReLU()(x)\n",
    "        outputs.append(x)\n",
    "    x = tf.keras.layers.Concatenate(axis=-1)(outputs)\n",
    "    return x"
   ]
  },
  {
   "cell_type": "markdown",
   "id": "2b39e5fc",
   "metadata": {
    "papermill": {
     "duration": 0.008684,
     "end_time": "2023-04-09T15:06:59.153946",
     "exception": false,
     "start_time": "2023-04-09T15:06:59.145262",
     "status": "completed"
    },
    "tags": []
   },
   "source": [
    "# Importing Vit"
   ]
  },
  {
   "cell_type": "code",
   "execution_count": 13,
   "id": "63a15486",
   "metadata": {
    "execution": {
     "iopub.execute_input": "2023-04-09T15:06:59.172767Z",
     "iopub.status.busy": "2023-04-09T15:06:59.172446Z",
     "iopub.status.idle": "2023-04-09T15:07:18.890260Z",
     "shell.execute_reply": "2023-04-09T15:07:18.889272Z"
    },
    "papermill": {
     "duration": 19.72998,
     "end_time": "2023-04-09T15:07:18.892771",
     "exception": false,
     "start_time": "2023-04-09T15:06:59.162791",
     "status": "completed"
    },
    "tags": []
   },
   "outputs": [
    {
     "name": "stdout",
     "output_type": "stream",
     "text": [
      "Downloading data from https://github.com/faustomorales/vit-keras/releases/download/dl/ViT-B_32_imagenet21k+imagenet2012.npz\n",
      "353255424/353253686 [==============================] - 13s 0us/step\n",
      "353263616/353253686 [==============================] - 13s 0us/step\n"
     ]
    },
    {
     "name": "stderr",
     "output_type": "stream",
     "text": [
      "/opt/conda/lib/python3.7/site-packages/vit_keras/utils.py:83: UserWarning: Resizing position embeddings from 12, 12 to 14, 14\n",
      "  UserWarning,\n"
     ]
    }
   ],
   "source": [
    "vit_big = vit.vit_b32(\n",
    "        image_size = SIZE,\n",
    "        activation = 'softmax',\n",
    "        pretrained = True,\n",
    "        include_top = False,\n",
    "        pretrained_top = False,\n",
    "        )"
   ]
  },
  {
   "cell_type": "code",
   "execution_count": 14,
   "id": "8e25ee4d",
   "metadata": {
    "execution": {
     "iopub.execute_input": "2023-04-09T15:07:18.932615Z",
     "iopub.status.busy": "2023-04-09T15:07:18.932260Z",
     "iopub.status.idle": "2023-04-09T15:07:18.936690Z",
     "shell.execute_reply": "2023-04-09T15:07:18.935603Z"
    },
    "papermill": {
     "duration": 0.02694,
     "end_time": "2023-04-09T15:07:18.939415",
     "exception": false,
     "start_time": "2023-04-09T15:07:18.912475",
     "status": "completed"
    },
    "tags": []
   },
   "outputs": [],
   "source": [
    "# vit_large = vit.vit_l32(\n",
    "#         image_size = SIZE,\n",
    "#         activation = 'softmax',\n",
    "#         pretrained = True,\n",
    "#         include_top = False,\n",
    "#         pretrained_top = False,\n",
    "#         )"
   ]
  },
  {
   "cell_type": "markdown",
   "id": "d6d6ab5d",
   "metadata": {
    "papermill": {
     "duration": 0.016154,
     "end_time": "2023-04-09T15:07:18.971796",
     "exception": false,
     "start_time": "2023-04-09T15:07:18.955642",
     "status": "completed"
    },
    "tags": []
   },
   "source": [
    "#  Fine-tuning vit"
   ]
  },
  {
   "cell_type": "code",
   "execution_count": 15,
   "id": "bab91922",
   "metadata": {
    "execution": {
     "iopub.execute_input": "2023-04-09T15:07:19.006346Z",
     "iopub.status.busy": "2023-04-09T15:07:19.005965Z",
     "iopub.status.idle": "2023-04-09T15:07:19.016617Z",
     "shell.execute_reply": "2023-04-09T15:07:19.015648Z"
    },
    "papermill": {
     "duration": 0.029569,
     "end_time": "2023-04-09T15:07:19.018580",
     "exception": false,
     "start_time": "2023-04-09T15:07:18.989011",
     "status": "completed"
    },
    "tags": []
   },
   "outputs": [],
   "source": [
    "# name_and_freeze(vit_large,'vit_large_')\n",
    "name_and_freeze(vit_big,'vit_big_')"
   ]
  },
  {
   "cell_type": "code",
   "execution_count": 16,
   "id": "b142e225",
   "metadata": {
    "execution": {
     "iopub.execute_input": "2023-04-09T15:07:19.050399Z",
     "iopub.status.busy": "2023-04-09T15:07:19.050047Z",
     "iopub.status.idle": "2023-04-09T15:07:19.095045Z",
     "shell.execute_reply": "2023-04-09T15:07:19.094054Z"
    },
    "papermill": {
     "duration": 0.06366,
     "end_time": "2023-04-09T15:07:19.097472",
     "exception": false,
     "start_time": "2023-04-09T15:07:19.033812",
     "status": "completed"
    },
    "tags": []
   },
   "outputs": [],
   "source": [
    "from tensorflow.keras import regularizers\n",
    "x =vit_big.output\n",
    "x=tf.keras.layers.BatchNormalization(axis=-1, momentum=0.99, epsilon=0.001 )(x)\n",
    "x = Dense(512, kernel_regularizer = regularizers.l2(l = 0.016),activity_regularizer=regularizers.l1(0.006),\n",
    "                bias_regularizer=regularizers.l1(0.006) ,activation='relu')(x)\n",
    "x=Dense(256,activation='relu')(x)\n",
    "x_vit_big = Dense(128, activation='relu')(x)\n",
    "\n",
    "# x =vit_large.output\n",
    "# x=tf.keras.layers.BatchNormalization(axis=-1, momentum=0.99, epsilon=0.001 )(x)\n",
    "# x = Dense(32, kernel_regularizer = regularizers.l2(l = 0.016),activity_regularizer=regularizers.l1(0.006),\n",
    "#                 bias_regularizer=regularizers.l1(0.006) ,activation='relu')(x)\n",
    "# x=Dense(256,activation='relu')(x)\n",
    "# x_vit_large = Dense(128, activation='relu')(x)"
   ]
  },
  {
   "cell_type": "markdown",
   "id": "a400b318",
   "metadata": {
    "papermill": {
     "duration": 0.015125,
     "end_time": "2023-04-09T15:07:19.128544",
     "exception": false,
     "start_time": "2023-04-09T15:07:19.113419",
     "status": "completed"
    },
    "tags": []
   },
   "source": [
    "# importing cnn models"
   ]
  },
  {
   "cell_type": "code",
   "execution_count": 17,
   "id": "f19b0eac",
   "metadata": {
    "execution": {
     "iopub.execute_input": "2023-04-09T15:07:19.160587Z",
     "iopub.status.busy": "2023-04-09T15:07:19.160190Z",
     "iopub.status.idle": "2023-04-09T15:07:24.523439Z",
     "shell.execute_reply": "2023-04-09T15:07:24.522421Z"
    },
    "papermill": {
     "duration": 5.382078,
     "end_time": "2023-04-09T15:07:24.525903",
     "exception": false,
     "start_time": "2023-04-09T15:07:19.143825",
     "status": "completed"
    },
    "tags": []
   },
   "outputs": [
    {
     "name": "stdout",
     "output_type": "stream",
     "text": [
      "Downloading data from https://storage.googleapis.com/tensorflow/keras-applications/densenet/densenet121_weights_tf_dim_ordering_tf_kernels_notop.h5\n",
      "29089792/29084464 [==============================] - 2s 0us/step\n",
      "29097984/29084464 [==============================] - 2s 0us/step\n"
     ]
    }
   ],
   "source": [
    "# resnet152= tf.keras.applications.ResNet152V2(input_shape=size,include_top=False, weights='imagenet',)\n",
    "# mobilenet= tf.keras.applications.MobileNetV3Large(input_shape=size,include_top=False, weights='imagenet')\n",
    "# xception= tf.keras.applications.Xception(input_shape=size,include_top=False, weights='imagenet')\n",
    "# effecientnet= tf.keras.applications.EfficientNetB7(input_shape=size,include_top=False, weights='imagenet')\n",
    "densenet=tf.keras.applications.DenseNet121(input_shape=size,include_top=False, weights='imagenet')\n",
    "# incepresnet=tf.keras.applications.InceptionResNetV2(input_shape=size,include_top=False, weights='imagenet')"
   ]
  },
  {
   "cell_type": "code",
   "execution_count": 18,
   "id": "6c82665d",
   "metadata": {
    "execution": {
     "iopub.execute_input": "2023-04-09T15:07:24.566577Z",
     "iopub.status.busy": "2023-04-09T15:07:24.566201Z",
     "iopub.status.idle": "2023-04-09T15:07:24.571409Z",
     "shell.execute_reply": "2023-04-09T15:07:24.570438Z"
    },
    "papermill": {
     "duration": 0.025701,
     "end_time": "2023-04-09T15:07:24.573549",
     "exception": false,
     "start_time": "2023-04-09T15:07:24.547848",
     "status": "completed"
    },
    "tags": []
   },
   "outputs": [
    {
     "name": "stdout",
     "output_type": "stream",
     "text": [
      "KerasTensor(type_spec=TensorSpec(shape=(None, 14, 14, 1024), dtype=tf.float32, name=None), name='relu/Relu:0', description=\"created by layer 'relu'\")\n"
     ]
    }
   ],
   "source": [
    "# print(xception.output)\n",
    "# print(resnet152.output)\n",
    "# print(mobilenet.output)\n",
    "# print(effecientnet.output)\n",
    "print(densenet.output)\n",
    "# print(incepresnet.output)"
   ]
  },
  {
   "cell_type": "code",
   "execution_count": 19,
   "id": "3059f119",
   "metadata": {
    "execution": {
     "iopub.execute_input": "2023-04-09T15:07:24.611430Z",
     "iopub.status.busy": "2023-04-09T15:07:24.609816Z",
     "iopub.status.idle": "2023-04-09T15:07:24.635249Z",
     "shell.execute_reply": "2023-04-09T15:07:24.634287Z"
    },
    "papermill": {
     "duration": 0.045913,
     "end_time": "2023-04-09T15:07:24.637287",
     "exception": false,
     "start_time": "2023-04-09T15:07:24.591374",
     "status": "completed"
    },
    "tags": []
   },
   "outputs": [],
   "source": [
    "# name_and_freeze(resnet152,'resnet152_')\n",
    "# name_and_freeze(mobilenet,'mobilenet_')\n",
    "# name_and_freeze(xception,'xception_')\n",
    "# name_and_freeze(effecientnet,'effecientnet_')\n",
    "name_and_freeze(densenet,'densenet_')\n",
    "# name_and_freeze(incepresnet,'incepResnet_')"
   ]
  },
  {
   "cell_type": "code",
   "execution_count": 20,
   "id": "896158fa",
   "metadata": {
    "execution": {
     "iopub.execute_input": "2023-04-09T15:07:24.675248Z",
     "iopub.status.busy": "2023-04-09T15:07:24.673595Z",
     "iopub.status.idle": "2023-04-09T15:07:24.681608Z",
     "shell.execute_reply": "2023-04-09T15:07:24.680687Z"
    },
    "papermill": {
     "duration": 0.028302,
     "end_time": "2023-04-09T15:07:24.683719",
     "exception": false,
     "start_time": "2023-04-09T15:07:24.655417",
     "status": "completed"
    },
    "tags": []
   },
   "outputs": [],
   "source": [
    "def get_model(base_model):\n",
    "    x = tf.keras.layers.GlobalAveragePooling2D()(se_block(dilation_block(base_model.output,[2,3,5,7])))\n",
    "    x=tf.keras.layers.BatchNormalization(axis=-1, momentum=0.99, epsilon=0.001 )(x)\n",
    "    x = Dense(512, kernel_regularizer = regularizers.l2(l = 0.016),activity_regularizer=regularizers.l1(0.006),\n",
    "                    bias_regularizer=regularizers.l1(0.006) ,activation='relu')(x)\n",
    "    x=Dense(256,activation='relu')(x)\n",
    "    return Dense(128,activation='relu')(x)"
   ]
  },
  {
   "cell_type": "markdown",
   "id": "c79e25fc",
   "metadata": {
    "papermill": {
     "duration": 0.185002,
     "end_time": "2023-04-09T15:07:24.891875",
     "exception": false,
     "start_time": "2023-04-09T15:07:24.706873",
     "status": "completed"
    },
    "tags": []
   },
   "source": [
    "# fine tuning CNN models"
   ]
  },
  {
   "cell_type": "code",
   "execution_count": 21,
   "id": "712ebd4a",
   "metadata": {
    "execution": {
     "iopub.execute_input": "2023-04-09T15:07:24.933886Z",
     "iopub.status.busy": "2023-04-09T15:07:24.933462Z",
     "iopub.status.idle": "2023-04-09T15:07:25.104390Z",
     "shell.execute_reply": "2023-04-09T15:07:25.103378Z"
    },
    "papermill": {
     "duration": 0.194384,
     "end_time": "2023-04-09T15:07:25.106769",
     "exception": false,
     "start_time": "2023-04-09T15:07:24.912385",
     "status": "completed"
    },
    "tags": []
   },
   "outputs": [],
   "source": [
    "# x_resnet152v2=get_model(resnet152)\n",
    "# x_xception=get_model(xception)\n",
    "# x_mobilenet=get_model(mobilenet)\n",
    "# x_incepresnet=get_model(incepresnet)\n",
    "# x_effecientnet=get_model(effecientnet)\n",
    "x_densenet=get_model(densenet)"
   ]
  },
  {
   "cell_type": "markdown",
   "id": "53ff002e",
   "metadata": {
    "papermill": {
     "duration": 0.016997,
     "end_time": "2023-04-09T15:07:25.141454",
     "exception": false,
     "start_time": "2023-04-09T15:07:25.124457",
     "status": "completed"
    },
    "tags": []
   },
   "source": [
    "# constructing full model"
   ]
  },
  {
   "cell_type": "code",
   "execution_count": 22,
   "id": "3a7087db",
   "metadata": {
    "execution": {
     "iopub.execute_input": "2023-04-09T15:07:25.178471Z",
     "iopub.status.busy": "2023-04-09T15:07:25.176780Z",
     "iopub.status.idle": "2023-04-09T15:07:25.249561Z",
     "shell.execute_reply": "2023-04-09T15:07:25.246614Z"
    },
    "papermill": {
     "duration": 0.094987,
     "end_time": "2023-04-09T15:07:25.253653",
     "exception": false,
     "start_time": "2023-04-09T15:07:25.158666",
     "status": "completed"
    },
    "tags": []
   },
   "outputs": [],
   "source": [
    "from tensorflow.keras.layers import concatenate\n",
    "concatenated = concatenate([x_densenet, x_vit_big])\n",
    "bigmodel_prediction = Dense(len(train_images.class_indices), activation='softmax')(concatenated)\n",
    "model = Model([densenet.input, vit_big.input], bigmodel_prediction) \n",
    "from tensorflow.keras.utils import plot_model"
   ]
  },
  {
   "cell_type": "code",
   "execution_count": 23,
   "id": "a2deb652",
   "metadata": {
    "execution": {
     "iopub.execute_input": "2023-04-09T15:07:25.325198Z",
     "iopub.status.busy": "2023-04-09T15:07:25.324730Z",
     "iopub.status.idle": "2023-04-09T15:07:25.861515Z",
     "shell.execute_reply": "2023-04-09T15:07:25.860457Z"
    },
    "papermill": {
     "duration": 0.56993,
     "end_time": "2023-04-09T15:07:25.864125",
     "exception": false,
     "start_time": "2023-04-09T15:07:25.294195",
     "status": "completed"
    },
    "tags": []
   },
   "outputs": [
    {
     "name": "stdout",
     "output_type": "stream",
     "text": [
      "trainable parametres: 998974 non trainable parametres: 94607280\n"
     ]
    }
   ],
   "source": [
    "trainable_params = sum([v.numpy().size for v in model.trainable_variables])\n",
    "non_trainable_params = sum([v.numpy().size for v in model.non_trainable_variables])\n",
    "print(\"trainable parametres: \"+ str(trainable_params) + \" non trainable parametres: \"+ str(non_trainable_params))"
   ]
  },
  {
   "cell_type": "markdown",
   "id": "69db1830",
   "metadata": {
    "papermill": {
     "duration": 0.017189,
     "end_time": "2023-04-09T15:07:25.899147",
     "exception": false,
     "start_time": "2023-04-09T15:07:25.881958",
     "status": "completed"
    },
    "tags": []
   },
   "source": [
    "# custom generator"
   ]
  },
  {
   "cell_type": "code",
   "execution_count": 24,
   "id": "4b05674f",
   "metadata": {
    "execution": {
     "iopub.execute_input": "2023-04-09T15:07:25.935716Z",
     "iopub.status.busy": "2023-04-09T15:07:25.934721Z",
     "iopub.status.idle": "2023-04-09T15:07:25.940300Z",
     "shell.execute_reply": "2023-04-09T15:07:25.939265Z"
    },
    "papermill": {
     "duration": 0.025994,
     "end_time": "2023-04-09T15:07:25.942423",
     "exception": false,
     "start_time": "2023-04-09T15:07:25.916429",
     "status": "completed"
    },
    "tags": []
   },
   "outputs": [],
   "source": [
    "def generator_two_img(gen):\n",
    "    while True:\n",
    "        X1i = gen.next()\n",
    "        yield [X1i[0],X1i[0]], X1i[1]"
   ]
  },
  {
   "cell_type": "markdown",
   "id": "abf934ac",
   "metadata": {
    "papermill": {
     "duration": 0.017236,
     "end_time": "2023-04-09T15:07:25.976644",
     "exception": false,
     "start_time": "2023-04-09T15:07:25.959408",
     "status": "completed"
    },
    "tags": []
   },
   "source": [
    "# training model"
   ]
  },
  {
   "cell_type": "code",
   "execution_count": 25,
   "id": "4f558ca0",
   "metadata": {
    "execution": {
     "iopub.execute_input": "2023-04-09T15:07:26.013296Z",
     "iopub.status.busy": "2023-04-09T15:07:26.011995Z",
     "iopub.status.idle": "2023-04-09T15:07:26.229238Z",
     "shell.execute_reply": "2023-04-09T15:07:26.228262Z"
    },
    "papermill": {
     "duration": 0.23791,
     "end_time": "2023-04-09T15:07:26.231586",
     "exception": false,
     "start_time": "2023-04-09T15:07:25.993676",
     "status": "completed"
    },
    "tags": []
   },
   "outputs": [],
   "source": [
    "model.compile(loss=\"categorical_crossentropy\",optimizer=tf.optimizers.Adam(),metrics=['accuracy'])"
   ]
  },
  {
   "cell_type": "code",
   "execution_count": 26,
   "id": "fd2acb3d",
   "metadata": {
    "execution": {
     "iopub.execute_input": "2023-04-09T15:07:26.271497Z",
     "iopub.status.busy": "2023-04-09T15:07:26.269820Z",
     "iopub.status.idle": "2023-04-09T15:47:08.294891Z",
     "shell.execute_reply": "2023-04-09T15:47:08.293809Z"
    },
    "papermill": {
     "duration": 2382.046025,
     "end_time": "2023-04-09T15:47:08.297621",
     "exception": false,
     "start_time": "2023-04-09T15:07:26.251596",
     "status": "completed"
    },
    "tags": []
   },
   "outputs": [
    {
     "name": "stdout",
     "output_type": "stream",
     "text": [
      "Epoch 1/20\n",
      "31/31 [==============================] - 150s 4s/step - loss: 9.6867 - accuracy: 0.7450 - val_loss: 6.4504 - val_accuracy: 0.7031\n",
      "Epoch 2/20\n",
      "31/31 [==============================] - 117s 4s/step - loss: 4.2048 - accuracy: 0.8981 - val_loss: 2.9991 - val_accuracy: 0.7865\n",
      "Epoch 3/20\n",
      "31/31 [==============================] - 116s 4s/step - loss: 1.9530 - accuracy: 0.9119 - val_loss: 1.6552 - val_accuracy: 0.8438\n",
      "Epoch 4/20\n",
      "31/31 [==============================] - 115s 4s/step - loss: 1.0502 - accuracy: 0.9288 - val_loss: 1.0859 - val_accuracy: 0.8125\n",
      "Epoch 5/20\n",
      "31/31 [==============================] - 115s 4s/step - loss: 0.6908 - accuracy: 0.9298 - val_loss: 0.7907 - val_accuracy: 0.8802\n",
      "Epoch 6/20\n",
      "31/31 [==============================] - 115s 4s/step - loss: 0.5360 - accuracy: 0.9385 - val_loss: 0.7701 - val_accuracy: 0.8385\n",
      "Epoch 7/20\n",
      "31/31 [==============================] - 117s 4s/step - loss: 0.4675 - accuracy: 0.9360 - val_loss: 0.6822 - val_accuracy: 0.8594\n",
      "Epoch 8/20\n",
      "31/31 [==============================] - 117s 4s/step - loss: 0.4330 - accuracy: 0.9314 - val_loss: 0.5395 - val_accuracy: 0.9115\n",
      "Epoch 9/20\n",
      "31/31 [==============================] - 116s 4s/step - loss: 0.3799 - accuracy: 0.9395 - val_loss: 0.5962 - val_accuracy: 0.8542\n",
      "Epoch 10/20\n",
      "31/31 [==============================] - 116s 4s/step - loss: 0.3366 - accuracy: 0.9467 - val_loss: 0.4480 - val_accuracy: 0.8958\n",
      "Epoch 11/20\n",
      "31/31 [==============================] - 117s 4s/step - loss: 0.3518 - accuracy: 0.9442 - val_loss: 0.4267 - val_accuracy: 0.9219\n",
      "Epoch 12/20\n",
      "31/31 [==============================] - 116s 4s/step - loss: 0.2986 - accuracy: 0.9534 - val_loss: 0.4252 - val_accuracy: 0.8906\n",
      "Epoch 13/20\n",
      "31/31 [==============================] - 116s 4s/step - loss: 0.2575 - accuracy: 0.9647 - val_loss: 0.5119 - val_accuracy: 0.8490\n",
      "Epoch 14/20\n",
      "31/31 [==============================] - 117s 4s/step - loss: 0.2775 - accuracy: 0.9493 - val_loss: 0.5252 - val_accuracy: 0.8750\n",
      "Epoch 15/20\n",
      "31/31 [==============================] - 117s 4s/step - loss: 0.2816 - accuracy: 0.9503 - val_loss: 0.4045 - val_accuracy: 0.8906\n",
      "Epoch 16/20\n",
      "31/31 [==============================] - 118s 4s/step - loss: 0.2759 - accuracy: 0.9513 - val_loss: 0.4034 - val_accuracy: 0.9062\n",
      "Epoch 17/20\n",
      "31/31 [==============================] - 118s 4s/step - loss: 0.2506 - accuracy: 0.9539 - val_loss: 0.5110 - val_accuracy: 0.8750\n",
      "Epoch 18/20\n",
      "31/31 [==============================] - 118s 4s/step - loss: 0.2156 - accuracy: 0.9662 - val_loss: 0.5883 - val_accuracy: 0.8385\n",
      "Epoch 19/20\n",
      "31/31 [==============================] - 117s 4s/step - loss: 0.1876 - accuracy: 0.9682 - val_loss: 0.3885 - val_accuracy: 0.9115\n",
      "Epoch 20/20\n",
      "31/31 [==============================] - 116s 4s/step - loss: 0.2175 - accuracy: 0.9565 - val_loss: 0.3292 - val_accuracy: 0.9427\n"
     ]
    }
   ],
   "source": [
    "batch_size=64\n",
    "history = model.fit(\n",
    "    generator_two_img(train_images),\n",
    "    validation_data=generator_two_img(valid_images),\n",
    "    validation_steps=valid_images.n//batch_size,\n",
    "    validation_batch_size=batch_size,\n",
    "    steps_per_epoch=train_images.n//batch_size,\n",
    "    batch_size=batch_size,\n",
    "    epochs=20,\n",
    ")\n"
   ]
  },
  {
   "cell_type": "code",
   "execution_count": 27,
   "id": "7cdda4f9",
   "metadata": {
    "execution": {
     "iopub.execute_input": "2023-04-09T15:47:08.399566Z",
     "iopub.status.busy": "2023-04-09T15:47:08.399194Z",
     "iopub.status.idle": "2023-04-09T15:47:10.092896Z",
     "shell.execute_reply": "2023-04-09T15:47:10.091723Z"
    },
    "papermill": {
     "duration": 1.747039,
     "end_time": "2023-04-09T15:47:10.095734",
     "exception": false,
     "start_time": "2023-04-09T15:47:08.348695",
     "status": "completed"
    },
    "tags": []
   },
   "outputs": [],
   "source": [
    "model.save('1vit1cnndensenet.h5')"
   ]
  },
  {
   "cell_type": "markdown",
   "id": "4f51293d",
   "metadata": {
    "papermill": {
     "duration": 0.050932,
     "end_time": "2023-04-09T15:47:10.197062",
     "exception": false,
     "start_time": "2023-04-09T15:47:10.146130",
     "status": "completed"
    },
    "tags": []
   },
   "source": [
    "# performance evaluation"
   ]
  },
  {
   "cell_type": "code",
   "execution_count": 28,
   "id": "d9bf0528",
   "metadata": {
    "execution": {
     "iopub.execute_input": "2023-04-09T15:47:10.298048Z",
     "iopub.status.busy": "2023-04-09T15:47:10.297690Z",
     "iopub.status.idle": "2023-04-09T15:47:10.681133Z",
     "shell.execute_reply": "2023-04-09T15:47:10.680143Z"
    },
    "papermill": {
     "duration": 0.436453,
     "end_time": "2023-04-09T15:47:10.683469",
     "exception": false,
     "start_time": "2023-04-09T15:47:10.247016",
     "status": "completed"
    },
    "tags": []
   },
   "outputs": [
    {
     "name": "stderr",
     "output_type": "stream",
     "text": [
      "/opt/conda/lib/python3.7/site-packages/ipykernel_launcher.py:10: UserWarning: color is redundantly defined by the 'color' keyword argument and the fmt string \"go-\" (-> color='g'). The keyword argument will take precedence.\n",
      "  # Remove the CWD from sys.path while we load stuff.\n",
      "/opt/conda/lib/python3.7/site-packages/ipykernel_launcher.py:18: UserWarning: color is redundantly defined by the 'color' keyword argument and the fmt string \"g-o\" (-> color='g'). The keyword argument will take precedence.\n"
     ]
    },
    {
     "data": {
      "image/png": "[encoded data removed]",
      "text/plain": [
       "<Figure size 1440x720 with 2 Axes>"
      ]
     },
     "metadata": {
      "needs_background": "light"
     },
     "output_type": "display_data"
    }
   ],
   "source": [
    "epochs = list(range(len(history.history['accuracy'])))\n",
    "fig , ax = plt.subplots(1,2)\n",
    "train_acc = history.history['accuracy']\n",
    "train_loss = history.history['loss']\n",
    "val_acc = history.history['val_accuracy']\n",
    "val_loss = history.history['val_loss']\n",
    "\n",
    "fig.set_size_inches(20,10)\n",
    "\n",
    "ax[0].plot(epochs , train_acc , 'go-' ,color='r', label = 'Training Accuracy')\n",
    "ax[0].plot(epochs , val_acc , 'go-' , label = 'Validation Accuracy')\n",
    "ax[0].set_title('Training Accuracy')\n",
    "ax[0].legend()\n",
    "ax[0].set_xlabel(\"Epochs\")\n",
    "ax[0].set_ylabel(\"Accuracy\")\n",
    "\n",
    "\n",
    "ax[1].plot(epochs , train_loss , 'g-o' ,color='r', label = 'Training Loss')\n",
    "ax[1].plot(epochs , val_loss , 'go-' , label = 'Validation Loss')\n",
    "ax[1].set_title('Training Loss')\n",
    "ax[1].legend()\n",
    "ax[1].set_xlabel(\"Epochs\")\n",
    "ax[1].set_ylabel(\"Training Loss\")\n",
    "plt.show()"
   ]
  },
  {
   "cell_type": "code",
   "execution_count": 29,
   "id": "f1601f88",
   "metadata": {
    "execution": {
     "iopub.execute_input": "2023-04-09T15:47:10.786424Z",
     "iopub.status.busy": "2023-04-09T15:47:10.786069Z",
     "iopub.status.idle": "2023-04-09T15:47:11.836506Z",
     "shell.execute_reply": "2023-04-09T15:47:11.835209Z"
    },
    "papermill": {
     "duration": 1.103829,
     "end_time": "2023-04-09T15:47:11.838751",
     "exception": false,
     "start_time": "2023-04-09T15:47:10.734922",
     "status": "completed"
    },
    "tags": []
   },
   "outputs": [
    {
     "name": "stdout",
     "output_type": "stream",
     "text": [
      "Found 560 validated image filenames belonging to 7 classes.\n"
     ]
    }
   ],
   "source": [
    "test_generator = tf.keras.preprocessing.image.ImageDataGenerator(\n",
    "    rescale=1./255,\n",
    ")\n",
    "test_images = test_generator.flow_from_dataframe(\n",
    "    dataframe=test_data,\n",
    "    x_col='File',\n",
    "    y_col='class_',\n",
    "    target_size=(SIZE, SIZE),\n",
    "    color_mode='rgb',\n",
    "    class_mode='categorical',\n",
    "    batch_size=batch_size,\n",
    "    shuffle=False\n",
    ")"
   ]
  },
  {
   "cell_type": "code",
   "execution_count": 30,
   "id": "1851c874",
   "metadata": {
    "execution": {
     "iopub.execute_input": "2023-04-09T15:47:11.942895Z",
     "iopub.status.busy": "2023-04-09T15:47:11.941853Z",
     "iopub.status.idle": "2023-04-09T15:47:11.947173Z",
     "shell.execute_reply": "2023-04-09T15:47:11.946216Z"
    },
    "papermill": {
     "duration": 0.05911,
     "end_time": "2023-04-09T15:47:11.949495",
     "exception": false,
     "start_time": "2023-04-09T15:47:11.890385",
     "status": "completed"
    },
    "tags": []
   },
   "outputs": [],
   "source": [
    "class_=train_images.class_indices.keys()"
   ]
  },
  {
   "cell_type": "code",
   "execution_count": 31,
   "id": "fe328067",
   "metadata": {
    "execution": {
     "iopub.execute_input": "2023-04-09T15:47:12.052407Z",
     "iopub.status.busy": "2023-04-09T15:47:12.050850Z",
     "iopub.status.idle": "2023-04-09T15:47:12.057131Z",
     "shell.execute_reply": "2023-04-09T15:47:12.056246Z"
    },
    "papermill": {
     "duration": 0.059671,
     "end_time": "2023-04-09T15:47:12.059073",
     "exception": false,
     "start_time": "2023-04-09T15:47:11.999402",
     "status": "completed"
    },
    "tags": []
   },
   "outputs": [],
   "source": [
    "def prediction_generator(test_images):\n",
    "    k=0\n",
    "    for x in test_images:\n",
    "        k+=len(x[1])\n",
    "        yield [x[0],x[0]], x[1]\n",
    "        if(k>=test_images.n):\n",
    "            break"
   ]
  },
  {
   "cell_type": "code",
   "execution_count": 32,
   "id": "ca91e963",
   "metadata": {
    "execution": {
     "iopub.execute_input": "2023-04-09T15:47:12.176374Z",
     "iopub.status.busy": "2023-04-09T15:47:12.175918Z",
     "iopub.status.idle": "2023-04-09T15:47:29.320656Z",
     "shell.execute_reply": "2023-04-09T15:47:29.319414Z"
    },
    "papermill": {
     "duration": 17.19961,
     "end_time": "2023-04-09T15:47:29.323555",
     "exception": false,
     "start_time": "2023-04-09T15:47:12.123945",
     "status": "completed"
    },
    "tags": []
   },
   "outputs": [
    {
     "data": {
      "text/plain": [
       "0.9107142857142857"
      ]
     },
     "execution_count": 32,
     "metadata": {},
     "output_type": "execute_result"
    }
   ],
   "source": [
    "from sklearn.metrics import accuracy_score\n",
    "proba=model.predict(prediction_generator(test_images))\n",
    "predicted = np.argmax(proba,axis=1)\n",
    "true=test_images.labels\n",
    "accuracy_score(predicted, true)"
   ]
  },
  {
   "cell_type": "code",
   "execution_count": 33,
   "id": "5f49ee1a",
   "metadata": {
    "execution": {
     "iopub.execute_input": "2023-04-09T15:47:29.434770Z",
     "iopub.status.busy": "2023-04-09T15:47:29.433641Z",
     "iopub.status.idle": "2023-04-09T15:47:30.244055Z",
     "shell.execute_reply": "2023-04-09T15:47:30.243148Z"
    },
    "papermill": {
     "duration": 0.868056,
     "end_time": "2023-04-09T15:47:30.246186",
     "exception": false,
     "start_time": "2023-04-09T15:47:29.378130",
     "status": "completed"
    },
    "tags": []
   },
   "outputs": [
    {
     "data": {
      "image/png": "[encoded data removed]",
      "text/plain": [
       "<Figure size 1152x1008 with 2 Axes>"
      ]
     },
     "metadata": {
      "needs_background": "light"
     },
     "output_type": "display_data"
    }
   ],
   "source": [
    "from sklearn.metrics import confusion_matrix\n",
    "import seaborn as sns\n",
    "class_=test_images.class_indices.keys()\n",
    "cm = confusion_matrix(true, predicted)\n",
    "fig = plt.figure(figsize=(16, 14))\n",
    "ax= plt.subplot()\n",
    "sns.heatmap(cm, annot=True, ax = ax,cmap=\"BuPu\"); \n",
    "ax.set_xlabel('Predicted', fontsize=20)\n",
    "ax.xaxis.set_label_position('bottom')\n",
    "plt.xticks(rotation=90)\n",
    "ax.xaxis.set_ticklabels(class_, fontsize = 10)\n",
    "ax.xaxis.tick_bottom()\n",
    "\n",
    "ax.set_ylabel('True', fontsize=20)\n",
    "ax.yaxis.set_ticklabels(class_, fontsize = 10)\n",
    "plt.yticks(rotation=0)\n",
    "\n",
    "plt.title('', fontsize=60)\n",
    "\n",
    "plt.savefig('ConMat24.png')\n",
    "plt.show()"
   ]
  },
  {
   "cell_type": "markdown",
   "id": "0f4185f3",
   "metadata": {
    "papermill": {
     "duration": 0.050936,
     "end_time": "2023-04-09T15:47:30.348799",
     "exception": false,
     "start_time": "2023-04-09T15:47:30.297863",
     "status": "completed"
    },
    "tags": []
   },
   "source": [
    "# ROC"
   ]
  },
  {
   "cell_type": "code",
   "execution_count": 34,
   "id": "601e11a0",
   "metadata": {
    "execution": {
     "iopub.execute_input": "2023-04-09T15:47:30.451715Z",
     "iopub.status.busy": "2023-04-09T15:47:30.450778Z",
     "iopub.status.idle": "2023-04-09T15:47:30.767182Z",
     "shell.execute_reply": "2023-04-09T15:47:30.766146Z"
    },
    "papermill": {
     "duration": 0.370459,
     "end_time": "2023-04-09T15:47:30.769466",
     "exception": false,
     "start_time": "2023-04-09T15:47:30.399007",
     "status": "completed"
    },
    "tags": []
   },
   "outputs": [
    {
     "data": {
      "image/png": "[encoded data removed]",
      "text/plain": [
       "<Figure size 720x1152 with 1 Axes>"
      ]
     },
     "metadata": {
      "needs_background": "light"
     },
     "output_type": "display_data"
    }
   ],
   "source": [
    "from sklearn.metrics import roc_curve, roc_auc_score\n",
    "from matplotlib import cm\n",
    "n=len(true)\n",
    "dim=max(true)+1\n",
    "result=[]\n",
    "for i in true:\n",
    "    result.append([0 for i in range(dim)])\n",
    "    result[len(result)-1][i]=1\n",
    "    \n",
    "    \n",
    "fpr = dict()\n",
    "tpr = dict()\n",
    "roc_auc = dict()\n",
    "n_classes =len(test_images.class_indices.keys())\n",
    "y_test=np.array(result)\n",
    "y_pred=np.array(proba)\n",
    "fpr = dict()\n",
    "tpr = dict()\n",
    "roc_auc = dict()\n",
    "\n",
    "rev={}\n",
    "for i in class_:\n",
    "    rev[train_images.class_indices[i]]=i\n",
    "\n",
    "\n",
    "for i in range(n_classes):\n",
    "    fpr[i], tpr[i], _ = roc_curve(y_test[:, i], y_pred[:, i])\n",
    "    roc_auc[i] = roc_auc_score(y_test[:, i], y_pred[:, i])\n",
    "\n",
    "\n",
    "fpr[\"micro\"], tpr[\"micro\"], _ = roc_curve(y_test.ravel(), y_pred.ravel())\n",
    "roc_auc[\"micro\"] = roc_auc_score(y_test, y_pred, multi_class='ovr')\n",
    "\n",
    "\n",
    "cmap = cm.get_cmap('tab10')\n",
    "\n",
    "# Plot the ROC curve for each class and micro-average with automatic color selection\n",
    "plt.figure(figsize=(10,16))\n",
    "lw = 2\n",
    "for i in range(n_classes):\n",
    "    color = cmap(i)\n",
    "    plt.plot(fpr[i], tpr[i], color=color, lw=lw,\n",
    "             label='ROC curve of class {0} (area = {1:0.2f})'\n",
    "             ''.format(rev[i], roc_auc[i]))\n",
    "\n",
    "plt.plot(fpr[\"micro\"], tpr[\"micro\"],\n",
    "         label='micro-average ROC curve (area = {0:0.2f})'\n",
    "         ''.format(roc_auc[\"micro\"]),\n",
    "         color=cmap(n_classes), linestyle=':', linewidth=4)\n",
    "\n",
    "plt.plot([0, 1], [0, 1], 'k--', lw=lw)\n",
    "plt.xlim([0.0, 1.0])\n",
    "plt.ylim([0.0, 1.05])\n",
    "plt.xlabel('False Positive Rate')\n",
    "plt.ylabel('True Positive Rate')\n",
    "plt.title('ROC Curve')\n",
    "plt.legend(loc=\"lower right\")\n",
    "plt.show()\n"
   ]
  },
  {
   "cell_type": "markdown",
   "id": "3dc1d987",
   "metadata": {
    "papermill": {
     "duration": 0.051332,
     "end_time": "2023-04-09T15:47:30.873770",
     "exception": false,
     "start_time": "2023-04-09T15:47:30.822438",
     "status": "completed"
    },
    "tags": []
   },
   "source": [
    "# AUC"
   ]
  },
  {
   "cell_type": "code",
   "execution_count": 35,
   "id": "4db2c878",
   "metadata": {
    "execution": {
     "iopub.execute_input": "2023-04-09T15:47:30.979791Z",
     "iopub.status.busy": "2023-04-09T15:47:30.978803Z",
     "iopub.status.idle": "2023-04-09T15:47:31.174029Z",
     "shell.execute_reply": "2023-04-09T15:47:31.173079Z"
    },
    "papermill": {
     "duration": 0.250458,
     "end_time": "2023-04-09T15:47:31.176057",
     "exception": false,
     "start_time": "2023-04-09T15:47:30.925599",
     "status": "completed"
    },
    "tags": []
   },
   "outputs": [
    {
     "data": {
      "image/png": "[encoded data removed]",
      "text/plain": [
       "<Figure size 432x288 with 1 Axes>"
      ]
     },
     "metadata": {
      "needs_background": "light"
     },
     "output_type": "display_data"
    }
   ],
   "source": [
    "from sklearn.metrics import roc_curve, auc\n",
    "import matplotlib.pyplot as plt\n",
    "\n",
    "y_true=y_test\n",
    "y_score=y_pred\n",
    "fpr, tpr, thresholds = roc_curve(y_test.ravel(), y_pred.ravel())\n",
    "roc_auc = auc(fpr, tpr)\n",
    "\n",
    "plt.figure()\n",
    "lw = 2\n",
    "plt.plot(fpr, tpr, color='darkorange',\n",
    "         lw=lw, label='ROC curve (area = %0.2f)' % roc_auc)\n",
    "plt.plot([0, 1], [0, 1], color='navy', lw=lw, linestyle='--')\n",
    "plt.xlim([0.0, 1.0])\n",
    "plt.ylim([0.0, 1.05])\n",
    "plt.xlabel('False Positive Rate')\n",
    "plt.ylabel('True Positive Rate')\n",
    "plt.title('AUC Curve')\n",
    "plt.legend(loc=\"lower right\")\n",
    "plt.show()"
   ]
  }
 ],
 "metadata": {
  "kernelspec": {
   "display_name": "Python 3",
   "language": "python",
   "name": "python3"
  },
  "language_info": {
   "codemirror_mode": {
    "name": "ipython",
    "version": 3
   },
   "file_extension": ".py",
   "mimetype": "text/x-python",
   "name": "python",
   "nbconvert_exporter": "python",
   "pygments_lexer": "ipython3",
   "version": "3.7.12"
  },
  "papermill": {
   "default_parameters": {},
   "duration": 2464.444876,
   "end_time": "2023-04-09T15:47:34.198163",
   "environment_variables": {},
   "exception": null,
   "input_path": "__notebook__.ipynb",
   "output_path": "__notebook__.ipynb",
   "parameters": {},
   "start_time": "2023-04-09T15:06:29.753287",
   "version": "2.3.4"
  }
 },
 "nbformat": 4,
 "nbformat_minor": 5
}
