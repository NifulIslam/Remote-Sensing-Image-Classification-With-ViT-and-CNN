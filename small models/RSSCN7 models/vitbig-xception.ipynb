{
 "cells": [
  {
   "cell_type": "markdown",
   "id": "1f73da5b",
   "metadata": {
    "papermill": {
     "duration": 0.009639,
     "end_time": "2023-04-09T13:53:37.866220",
     "exception": false,
     "start_time": "2023-04-09T13:53:37.856581",
     "status": "completed"
    },
    "tags": []
   },
   "source": [
    "# basic imports"
   ]
  },
  {
   "cell_type": "code",
   "execution_count": 1,
   "id": "8ffaa8aa",
   "metadata": {
    "_cell_guid": "b1076dfc-b9ad-4769-8c92-a6c4dae69d19",
    "_uuid": "8f2839f25d086af736a60e9eeb907d3b93b6e0e5",
    "execution": {
     "iopub.execute_input": "2023-04-09T13:53:37.885514Z",
     "iopub.status.busy": "2023-04-09T13:53:37.884697Z",
     "iopub.status.idle": "2023-04-09T13:53:55.389088Z",
     "shell.execute_reply": "2023-04-09T13:53:55.387810Z"
    },
    "papermill": {
     "duration": 17.517192,
     "end_time": "2023-04-09T13:53:55.392064",
     "exception": false,
     "start_time": "2023-04-09T13:53:37.874872",
     "status": "completed"
    },
    "tags": []
   },
   "outputs": [
    {
     "name": "stdout",
     "output_type": "stream",
     "text": [
      "\u001b[33mWARNING: Running pip as the 'root' user can result in broken permissions and conflicting behaviour with the system package manager. It is recommended to use a virtual environment instead: https://pip.pypa.io/warnings/venv\u001b[0m\u001b[33m\r\n",
      "\u001b[0m"
     ]
    }
   ],
   "source": [
    "import numpy as np \n",
    "import pandas as pd\n",
    "import os\n",
    "import cv2\n",
    "import tensorflow\n",
    "import glob\n",
    "from matplotlib import pyplot as plt\n",
    "from tensorflow.keras.layers import Input, Lambda, Dense, Flatten,Dropout\n",
    "from tensorflow.keras.models import Model\n",
    "from tensorflow.keras.applications.inception_v3 import InceptionV3\n",
    "from tensorflow.keras.preprocessing import image\n",
    "from tensorflow.keras.preprocessing.image import ImageDataGenerator\n",
    "from tensorflow.keras.models import Sequential\n",
    "from tensorflow.keras.applications.vgg16 import VGG16\n",
    "from tensorflow.keras.applications.vgg19 import VGG19\n",
    "from tensorflow.keras.applications import EfficientNetB0\n",
    "import tensorflow as tf \n",
    "from tensorflow.keras import layers\n",
    "!pip install --quiet vit-keras\n",
    "from vit_keras import vit\n",
    "from tensorflow.keras.applications.resnet50 import ResNet50"
   ]
  },
  {
   "cell_type": "markdown",
   "id": "e34191c3",
   "metadata": {
    "papermill": {
     "duration": 0.00873,
     "end_time": "2023-04-09T13:53:55.409718",
     "exception": false,
     "start_time": "2023-04-09T13:53:55.400988",
     "status": "completed"
    },
    "tags": []
   },
   "source": [
    "# Reading Data"
   ]
  },
  {
   "cell_type": "code",
   "execution_count": 2,
   "id": "2ae5dfc8",
   "metadata": {
    "execution": {
     "iopub.execute_input": "2023-04-09T13:53:55.430225Z",
     "iopub.status.busy": "2023-04-09T13:53:55.429351Z",
     "iopub.status.idle": "2023-04-09T13:53:55.434204Z",
     "shell.execute_reply": "2023-04-09T13:53:55.433189Z"
    },
    "papermill": {
     "duration": 0.017168,
     "end_time": "2023-04-09T13:53:55.436589",
     "exception": false,
     "start_time": "2023-04-09T13:53:55.419421",
     "status": "completed"
    },
    "tags": []
   },
   "outputs": [],
   "source": [
    "#ucm\n",
    "# train_data=pd.read_csv(\"/kaggle/input/satelite-csv/train.csv\")\n",
    "# train_data['File']=train_data['File'].apply(lambda x : '/kaggle/input/satelite-images/Images/'+x)\n",
    "# test_data=pd.read_csv(\"/kaggle/input/satelite-csv/test.csv\")\n",
    "# test_data['File']=test_data['File'].apply(lambda x : '/kaggle/input/satelite-images/Images/'+x)"
   ]
  },
  {
   "cell_type": "code",
   "execution_count": 3,
   "id": "47277d9c",
   "metadata": {
    "execution": {
     "iopub.execute_input": "2023-04-09T13:53:55.454576Z",
     "iopub.status.busy": "2023-04-09T13:53:55.454281Z",
     "iopub.status.idle": "2023-04-09T13:53:55.500580Z",
     "shell.execute_reply": "2023-04-09T13:53:55.499507Z"
    },
    "papermill": {
     "duration": 0.057795,
     "end_time": "2023-04-09T13:53:55.502615",
     "exception": false,
     "start_time": "2023-04-09T13:53:55.444820",
     "status": "completed"
    },
    "tags": []
   },
   "outputs": [],
   "source": [
    "# rsscn7\n",
    "train_data=pd.read_csv(\"/kaggle/input/rsscn7-dataset/gamma-correct/train.csv\")\n",
    "train_data['File']=train_data['File'].apply(lambda x : '/kaggle/input/rsscn7-dataset/gamma-correct/'+x)\n",
    "test_data=pd.read_csv(\"/kaggle/input/rsscn7-dataset/gamma-correct/test.csv\")\n",
    "test_data['File']=test_data['File'].apply(lambda x : '/kaggle/input/rsscn7-dataset/gamma-correct/'+x)"
   ]
  },
  {
   "cell_type": "code",
   "execution_count": 4,
   "id": "2e3b93bf",
   "metadata": {
    "execution": {
     "iopub.execute_input": "2023-04-09T13:53:55.521423Z",
     "iopub.status.busy": "2023-04-09T13:53:55.520607Z",
     "iopub.status.idle": "2023-04-09T13:53:55.539701Z",
     "shell.execute_reply": "2023-04-09T13:53:55.538695Z"
    },
    "papermill": {
     "duration": 0.030933,
     "end_time": "2023-04-09T13:53:55.542120",
     "exception": false,
     "start_time": "2023-04-09T13:53:55.511187",
     "status": "completed"
    },
    "tags": []
   },
   "outputs": [
    {
     "data": {
      "text/html": [
       "<div>\n",
       "<style scoped>\n",
       "    .dataframe tbody tr th:only-of-type {\n",
       "        vertical-align: middle;\n",
       "    }\n",
       "\n",
       "    .dataframe tbody tr th {\n",
       "        vertical-align: top;\n",
       "    }\n",
       "\n",
       "    .dataframe thead th {\n",
       "        text-align: right;\n",
       "    }\n",
       "</style>\n",
       "<table border=\"1\" class=\"dataframe\">\n",
       "  <thead>\n",
       "    <tr style=\"text-align: right;\">\n",
       "      <th></th>\n",
       "      <th>File</th>\n",
       "      <th>class_</th>\n",
       "    </tr>\n",
       "  </thead>\n",
       "  <tbody>\n",
       "    <tr>\n",
       "      <th>1331</th>\n",
       "      <td>/kaggle/input/rsscn7-dataset/gamma-correct/Riv...</td>\n",
       "      <td>River</td>\n",
       "    </tr>\n",
       "    <tr>\n",
       "      <th>1135</th>\n",
       "      <td>/kaggle/input/rsscn7-dataset/gamma-correct/Par...</td>\n",
       "      <td>Parking</td>\n",
       "    </tr>\n",
       "    <tr>\n",
       "      <th>2000</th>\n",
       "      <td>/kaggle/input/rsscn7-dataset/gamma-correct/Res...</td>\n",
       "      <td>Resident</td>\n",
       "    </tr>\n",
       "    <tr>\n",
       "      <th>742</th>\n",
       "      <td>/kaggle/input/rsscn7-dataset/gamma-correct/Res...</td>\n",
       "      <td>Resident</td>\n",
       "    </tr>\n",
       "    <tr>\n",
       "      <th>1088</th>\n",
       "      <td>/kaggle/input/rsscn7-dataset/gamma-correct/Par...</td>\n",
       "      <td>Parking</td>\n",
       "    </tr>\n",
       "    <tr>\n",
       "      <th>...</th>\n",
       "      <td>...</td>\n",
       "      <td>...</td>\n",
       "    </tr>\n",
       "    <tr>\n",
       "      <th>214</th>\n",
       "      <td>/kaggle/input/rsscn7-dataset/gamma-correct/Fie...</td>\n",
       "      <td>Field</td>\n",
       "    </tr>\n",
       "    <tr>\n",
       "      <th>97</th>\n",
       "      <td>/kaggle/input/rsscn7-dataset/gamma-correct/Fie...</td>\n",
       "      <td>Field</td>\n",
       "    </tr>\n",
       "    <tr>\n",
       "      <th>701</th>\n",
       "      <td>/kaggle/input/rsscn7-dataset/gamma-correct/Riv...</td>\n",
       "      <td>River</td>\n",
       "    </tr>\n",
       "    <tr>\n",
       "      <th>150</th>\n",
       "      <td>/kaggle/input/rsscn7-dataset/gamma-correct/Fie...</td>\n",
       "      <td>Field</td>\n",
       "    </tr>\n",
       "    <tr>\n",
       "      <th>492</th>\n",
       "      <td>/kaggle/input/rsscn7-dataset/gamma-correct/Riv...</td>\n",
       "      <td>River</td>\n",
       "    </tr>\n",
       "  </tbody>\n",
       "</table>\n",
       "<p>2240 rows × 2 columns</p>\n",
       "</div>"
      ],
      "text/plain": [
       "                                                   File    class_\n",
       "1331  /kaggle/input/rsscn7-dataset/gamma-correct/Riv...     River\n",
       "1135  /kaggle/input/rsscn7-dataset/gamma-correct/Par...   Parking\n",
       "2000  /kaggle/input/rsscn7-dataset/gamma-correct/Res...  Resident\n",
       "742   /kaggle/input/rsscn7-dataset/gamma-correct/Res...  Resident\n",
       "1088  /kaggle/input/rsscn7-dataset/gamma-correct/Par...   Parking\n",
       "...                                                 ...       ...\n",
       "214   /kaggle/input/rsscn7-dataset/gamma-correct/Fie...     Field\n",
       "97    /kaggle/input/rsscn7-dataset/gamma-correct/Fie...     Field\n",
       "701   /kaggle/input/rsscn7-dataset/gamma-correct/Riv...     River\n",
       "150   /kaggle/input/rsscn7-dataset/gamma-correct/Fie...     Field\n",
       "492   /kaggle/input/rsscn7-dataset/gamma-correct/Riv...     River\n",
       "\n",
       "[2240 rows x 2 columns]"
      ]
     },
     "execution_count": 4,
     "metadata": {},
     "output_type": "execute_result"
    }
   ],
   "source": [
    "train_data=train_data.sample(frac=1)\n",
    "train_data"
   ]
  },
  {
   "cell_type": "code",
   "execution_count": 5,
   "id": "09011fdd",
   "metadata": {
    "execution": {
     "iopub.execute_input": "2023-04-09T13:53:55.560961Z",
     "iopub.status.busy": "2023-04-09T13:53:55.560162Z",
     "iopub.status.idle": "2023-04-09T13:53:55.564565Z",
     "shell.execute_reply": "2023-04-09T13:53:55.563757Z"
    },
    "papermill": {
     "duration": 0.01563,
     "end_time": "2023-04-09T13:53:55.566493",
     "exception": false,
     "start_time": "2023-04-09T13:53:55.550863",
     "status": "completed"
    },
    "tags": []
   },
   "outputs": [],
   "source": [
    "SIZE=448\n",
    "size = [SIZE, SIZE ,3]"
   ]
  },
  {
   "cell_type": "code",
   "execution_count": 6,
   "id": "1856c3c4",
   "metadata": {
    "execution": {
     "iopub.execute_input": "2023-04-09T13:53:55.585261Z",
     "iopub.status.busy": "2023-04-09T13:53:55.585002Z",
     "iopub.status.idle": "2023-04-09T13:53:55.589668Z",
     "shell.execute_reply": "2023-04-09T13:53:55.588648Z"
    },
    "papermill": {
     "duration": 0.016219,
     "end_time": "2023-04-09T13:53:55.591559",
     "exception": false,
     "start_time": "2023-04-09T13:53:55.575340",
     "status": "completed"
    },
    "tags": []
   },
   "outputs": [],
   "source": [
    "train_datagen = ImageDataGenerator(\n",
    "    rescale=1.0 / 255,\n",
    "    rotation_range=40,\n",
    "    width_shift_range=0.2,\n",
    "    height_shift_range=0.2,\n",
    "    shear_range=0.2,\n",
    "    zoom_range=0.2,\n",
    "    horizontal_flip=True,\n",
    "    validation_split=.1,\n",
    "    fill_mode=\"nearest\",\n",
    ")\n",
    "batch_size=64"
   ]
  },
  {
   "cell_type": "code",
   "execution_count": 7,
   "id": "1d944c09",
   "metadata": {
    "execution": {
     "iopub.execute_input": "2023-04-09T13:53:55.609772Z",
     "iopub.status.busy": "2023-04-09T13:53:55.609519Z",
     "iopub.status.idle": "2023-04-09T13:54:04.973816Z",
     "shell.execute_reply": "2023-04-09T13:54:04.972898Z"
    },
    "papermill": {
     "duration": 9.376043,
     "end_time": "2023-04-09T13:54:04.975940",
     "exception": false,
     "start_time": "2023-04-09T13:53:55.599897",
     "status": "completed"
    },
    "tags": []
   },
   "outputs": [
    {
     "name": "stdout",
     "output_type": "stream",
     "text": [
      "Found 2016 validated image filenames belonging to 7 classes.\n",
      "Found 224 validated image filenames belonging to 7 classes.\n"
     ]
    }
   ],
   "source": [
    "train_images = train_datagen.flow_from_dataframe(\n",
    "    dataframe=train_data,\n",
    "    x_col='File',\n",
    "    y_col='class_',\n",
    "    target_size=(SIZE, SIZE),\n",
    "    color_mode='rgb',\n",
    "    class_mode='categorical',\n",
    "    batch_size=batch_size,\n",
    "    shuffle=True,\n",
    "    seed=42,\n",
    "    subset='training'\n",
    ")\n",
    "valid_images = train_datagen.flow_from_dataframe(\n",
    "    dataframe=train_data,\n",
    "    x_col='File',\n",
    "    y_col='class_',\n",
    "    target_size=(SIZE, SIZE),\n",
    "    color_mode='rgb',\n",
    "    class_mode='categorical',\n",
    "    batch_size=batch_size,\n",
    "    shuffle=True,\n",
    "    seed=42,\n",
    "    subset='validation'\n",
    ")\n"
   ]
  },
  {
   "cell_type": "markdown",
   "id": "1bde2fff",
   "metadata": {
    "papermill": {
     "duration": 0.009369,
     "end_time": "2023-04-09T13:54:04.995207",
     "exception": false,
     "start_time": "2023-04-09T13:54:04.985838",
     "status": "completed"
    },
    "tags": []
   },
   "source": [
    "# freezing nescessary pararametres"
   ]
  },
  {
   "cell_type": "code",
   "execution_count": 8,
   "id": "39b40583",
   "metadata": {
    "execution": {
     "iopub.execute_input": "2023-04-09T13:54:05.014366Z",
     "iopub.status.busy": "2023-04-09T13:54:05.014040Z",
     "iopub.status.idle": "2023-04-09T13:54:05.479366Z",
     "shell.execute_reply": "2023-04-09T13:54:05.478439Z"
    },
    "papermill": {
     "duration": 0.477613,
     "end_time": "2023-04-09T13:54:05.481720",
     "exception": false,
     "start_time": "2023-04-09T13:54:05.004107",
     "status": "completed"
    },
    "tags": []
   },
   "outputs": [],
   "source": [
    "import tensorflow_hub as hub"
   ]
  },
  {
   "cell_type": "code",
   "execution_count": 9,
   "id": "27f161ed",
   "metadata": {
    "execution": {
     "iopub.execute_input": "2023-04-09T13:54:05.501659Z",
     "iopub.status.busy": "2023-04-09T13:54:05.501246Z",
     "iopub.status.idle": "2023-04-09T13:54:05.506310Z",
     "shell.execute_reply": "2023-04-09T13:54:05.505325Z"
    },
    "papermill": {
     "duration": 0.017715,
     "end_time": "2023-04-09T13:54:05.508557",
     "exception": false,
     "start_time": "2023-04-09T13:54:05.490842",
     "status": "completed"
    },
    "tags": []
   },
   "outputs": [],
   "source": [
    "def get_from_hub(model_url):\n",
    "    inputs = tf.keras.Input((batch_size,SIZE, SIZE, 3))\n",
    "    hub_module = hub.KerasLayer(model_url,trainable=False)\n",
    "    outputs = hub_module(inputs)\n",
    "    return tf.keras.Model(inputs, outputs)"
   ]
  },
  {
   "cell_type": "code",
   "execution_count": 10,
   "id": "9ac105d3",
   "metadata": {
    "execution": {
     "iopub.execute_input": "2023-04-09T13:54:05.527532Z",
     "iopub.status.busy": "2023-04-09T13:54:05.526810Z",
     "iopub.status.idle": "2023-04-09T13:54:05.532085Z",
     "shell.execute_reply": "2023-04-09T13:54:05.531318Z"
    },
    "papermill": {
     "duration": 0.016725,
     "end_time": "2023-04-09T13:54:05.533989",
     "exception": false,
     "start_time": "2023-04-09T13:54:05.517264",
     "status": "completed"
    },
    "tags": []
   },
   "outputs": [],
   "source": [
    "def name_and_freeze(model,name=\"\"):\n",
    "    for layer in model.layers[:]:\n",
    "      layer.trainable = False\n",
    "    for layer in model.layers:\n",
    "        layer._name = layer.name + str(name)\n",
    "    "
   ]
  },
  {
   "cell_type": "code",
   "execution_count": 11,
   "id": "d4b6c93c",
   "metadata": {
    "execution": {
     "iopub.execute_input": "2023-04-09T13:54:05.552578Z",
     "iopub.status.busy": "2023-04-09T13:54:05.551857Z",
     "iopub.status.idle": "2023-04-09T13:54:05.557808Z",
     "shell.execute_reply": "2023-04-09T13:54:05.557010Z"
    },
    "papermill": {
     "duration": 0.017132,
     "end_time": "2023-04-09T13:54:05.559692",
     "exception": false,
     "start_time": "2023-04-09T13:54:05.542560",
     "status": "completed"
    },
    "tags": []
   },
   "outputs": [],
   "source": [
    "def se_block(inputs):\n",
    "    input_channels = inputs.shape[-1]\n",
    "    x = tf.keras.layers.GlobalAveragePooling2D()(inputs)\n",
    "    x = tf.keras.layers.Dense(units=len(train_images.class_indices.keys()), activation=\"relu\")(x)    \n",
    "    x = tf.keras.layers.Dense(units=input_channels, activation=\"sigmoid\")(x)    \n",
    "    x = tf.reshape(x, [-1, 1, 1, input_channels])\n",
    "    x = inputs * x\n",
    "    return x"
   ]
  },
  {
   "cell_type": "code",
   "execution_count": 12,
   "id": "c6c58034",
   "metadata": {
    "execution": {
     "iopub.execute_input": "2023-04-09T13:54:05.578539Z",
     "iopub.status.busy": "2023-04-09T13:54:05.577809Z",
     "iopub.status.idle": "2023-04-09T13:54:05.584126Z",
     "shell.execute_reply": "2023-04-09T13:54:05.583318Z"
    },
    "papermill": {
     "duration": 0.017588,
     "end_time": "2023-04-09T13:54:05.586061",
     "exception": false,
     "start_time": "2023-04-09T13:54:05.568473",
     "status": "completed"
    },
    "tags": []
   },
   "outputs": [],
   "source": [
    "def dilation_block(inputs,dilation_rates):\n",
    "    outputs = []\n",
    "    for dilation_rate in dilation_rates:\n",
    "        x = tf.keras.layers.Conv2D(filters=len(train_images.class_indices.keys()), kernel_size=3, strides=1, padding=\"same\", dilation_rate=dilation_rate)(inputs)\n",
    "        x = tf.keras.layers.BatchNormalization()(x)\n",
    "        x = tf.keras.layers.ReLU()(x)\n",
    "        outputs.append(x)\n",
    "    x = tf.keras.layers.Concatenate(axis=-1)(outputs)\n",
    "    return x"
   ]
  },
  {
   "cell_type": "markdown",
   "id": "baa06d98",
   "metadata": {
    "papermill": {
     "duration": 0.008519,
     "end_time": "2023-04-09T13:54:05.603867",
     "exception": false,
     "start_time": "2023-04-09T13:54:05.595348",
     "status": "completed"
    },
    "tags": []
   },
   "source": [
    "# Importing Vit"
   ]
  },
  {
   "cell_type": "code",
   "execution_count": 13,
   "id": "e38ccd2a",
   "metadata": {
    "execution": {
     "iopub.execute_input": "2023-04-09T13:54:05.622191Z",
     "iopub.status.busy": "2023-04-09T13:54:05.621930Z",
     "iopub.status.idle": "2023-04-09T13:54:16.354588Z",
     "shell.execute_reply": "2023-04-09T13:54:16.353531Z"
    },
    "papermill": {
     "duration": 10.744521,
     "end_time": "2023-04-09T13:54:16.357051",
     "exception": false,
     "start_time": "2023-04-09T13:54:05.612530",
     "status": "completed"
    },
    "tags": []
   },
   "outputs": [
    {
     "name": "stdout",
     "output_type": "stream",
     "text": [
      "Downloading data from https://github.com/faustomorales/vit-keras/releases/download/dl/ViT-B_32_imagenet21k+imagenet2012.npz\n",
      "353255424/353253686 [==============================] - 5s 0us/step\n",
      "353263616/353253686 [==============================] - 5s 0us/step\n"
     ]
    },
    {
     "name": "stderr",
     "output_type": "stream",
     "text": [
      "/opt/conda/lib/python3.7/site-packages/vit_keras/utils.py:83: UserWarning: Resizing position embeddings from 12, 12 to 14, 14\n",
      "  UserWarning,\n"
     ]
    }
   ],
   "source": [
    "vit_big = vit.vit_b32(\n",
    "        image_size = SIZE,\n",
    "        activation = 'softmax',\n",
    "        pretrained = True,\n",
    "        include_top = False,\n",
    "        pretrained_top = False,\n",
    "        )"
   ]
  },
  {
   "cell_type": "code",
   "execution_count": 14,
   "id": "373b7636",
   "metadata": {
    "execution": {
     "iopub.execute_input": "2023-04-09T13:54:16.387745Z",
     "iopub.status.busy": "2023-04-09T13:54:16.386757Z",
     "iopub.status.idle": "2023-04-09T13:54:16.391261Z",
     "shell.execute_reply": "2023-04-09T13:54:16.390342Z"
    },
    "papermill": {
     "duration": 0.021555,
     "end_time": "2023-04-09T13:54:16.393378",
     "exception": false,
     "start_time": "2023-04-09T13:54:16.371823",
     "status": "completed"
    },
    "tags": []
   },
   "outputs": [],
   "source": [
    "# vit_large = vit.vit_l32(\n",
    "#         image_size = SIZE,\n",
    "#         activation = 'softmax',\n",
    "#         pretrained = True,\n",
    "#         include_top = False,\n",
    "#         pretrained_top = False,\n",
    "#         )"
   ]
  },
  {
   "cell_type": "markdown",
   "id": "512d6c80",
   "metadata": {
    "papermill": {
     "duration": 0.013677,
     "end_time": "2023-04-09T13:54:16.420803",
     "exception": false,
     "start_time": "2023-04-09T13:54:16.407126",
     "status": "completed"
    },
    "tags": []
   },
   "source": [
    "#  Fine-tuning vit"
   ]
  },
  {
   "cell_type": "code",
   "execution_count": 15,
   "id": "1ed84646",
   "metadata": {
    "execution": {
     "iopub.execute_input": "2023-04-09T13:54:16.449423Z",
     "iopub.status.busy": "2023-04-09T13:54:16.449118Z",
     "iopub.status.idle": "2023-04-09T13:54:16.458634Z",
     "shell.execute_reply": "2023-04-09T13:54:16.457748Z"
    },
    "papermill": {
     "duration": 0.02606,
     "end_time": "2023-04-09T13:54:16.460623",
     "exception": false,
     "start_time": "2023-04-09T13:54:16.434563",
     "status": "completed"
    },
    "tags": []
   },
   "outputs": [],
   "source": [
    "# name_and_freeze(vit_large,'vit_large_')\n",
    "name_and_freeze(vit_big,'vit_big_')"
   ]
  },
  {
   "cell_type": "code",
   "execution_count": 16,
   "id": "80d20a2f",
   "metadata": {
    "execution": {
     "iopub.execute_input": "2023-04-09T13:54:16.489784Z",
     "iopub.status.busy": "2023-04-09T13:54:16.488966Z",
     "iopub.status.idle": "2023-04-09T13:54:16.531524Z",
     "shell.execute_reply": "2023-04-09T13:54:16.530677Z"
    },
    "papermill": {
     "duration": 0.059192,
     "end_time": "2023-04-09T13:54:16.533605",
     "exception": false,
     "start_time": "2023-04-09T13:54:16.474413",
     "status": "completed"
    },
    "tags": []
   },
   "outputs": [],
   "source": [
    "from tensorflow.keras import regularizers\n",
    "x =vit_big.output\n",
    "x=tf.keras.layers.BatchNormalization(axis=-1, momentum=0.99, epsilon=0.001 )(x)\n",
    "x = Dense(512, kernel_regularizer = regularizers.l2(l = 0.016),activity_regularizer=regularizers.l1(0.006),\n",
    "                bias_regularizer=regularizers.l1(0.006) ,activation='relu')(x)\n",
    "x=Dense(256,activation='relu')(x)\n",
    "x_vit_big = Dense(128, activation='relu')(x)\n",
    "\n",
    "# x =vit_large.output\n",
    "# x=tf.keras.layers.BatchNormalization(axis=-1, momentum=0.99, epsilon=0.001 )(x)\n",
    "# x = Dense(32, kernel_regularizer = regularizers.l2(l = 0.016),activity_regularizer=regularizers.l1(0.006),\n",
    "#                 bias_regularizer=regularizers.l1(0.006) ,activation='relu')(x)\n",
    "# x=Dense(256,activation='relu')(x)\n",
    "# x_vit_large = Dense(128, activation='relu')(x)"
   ]
  },
  {
   "cell_type": "markdown",
   "id": "cdd76c34",
   "metadata": {
    "papermill": {
     "duration": 0.013562,
     "end_time": "2023-04-09T13:54:16.560837",
     "exception": false,
     "start_time": "2023-04-09T13:54:16.547275",
     "status": "completed"
    },
    "tags": []
   },
   "source": [
    "# importing cnn models"
   ]
  },
  {
   "cell_type": "code",
   "execution_count": 17,
   "id": "e036d75a",
   "metadata": {
    "execution": {
     "iopub.execute_input": "2023-04-09T13:54:16.589535Z",
     "iopub.status.busy": "2023-04-09T13:54:16.589240Z",
     "iopub.status.idle": "2023-04-09T13:54:18.071183Z",
     "shell.execute_reply": "2023-04-09T13:54:18.070307Z"
    },
    "papermill": {
     "duration": 1.499072,
     "end_time": "2023-04-09T13:54:18.073762",
     "exception": false,
     "start_time": "2023-04-09T13:54:16.574690",
     "status": "completed"
    },
    "tags": []
   },
   "outputs": [
    {
     "name": "stdout",
     "output_type": "stream",
     "text": [
      "Downloading data from https://storage.googleapis.com/tensorflow/keras-applications/xception/xception_weights_tf_dim_ordering_tf_kernels_notop.h5\n",
      "83689472/83683744 [==============================] - 0s 0us/step\n",
      "83697664/83683744 [==============================] - 0s 0us/step\n"
     ]
    }
   ],
   "source": [
    "# resnet152= tf.keras.applications.ResNet152V2(input_shape=size,include_top=False, weights='imagenet',)\n",
    "# mobilenet= tf.keras.applications.MobileNetV3Large(input_shape=size,include_top=False, weights='imagenet')\n",
    "xception= tf.keras.applications.Xception(input_shape=size,include_top=False, weights='imagenet')\n",
    "# effecientnet= tf.keras.applications.EfficientNetB7(input_shape=size,include_top=False, weights='imagenet')\n",
    "# densenet=tf.keras.applications.DenseNet121(input_shape=size,include_top=False, weights='imagenet')\n",
    "# incepresnet=tf.keras.applications.InceptionResNetV2(input_shape=size,include_top=False, weights='imagenet')"
   ]
  },
  {
   "cell_type": "code",
   "execution_count": 18,
   "id": "960208e1",
   "metadata": {
    "execution": {
     "iopub.execute_input": "2023-04-09T13:54:18.104233Z",
     "iopub.status.busy": "2023-04-09T13:54:18.103935Z",
     "iopub.status.idle": "2023-04-09T13:54:18.109249Z",
     "shell.execute_reply": "2023-04-09T13:54:18.108333Z"
    },
    "papermill": {
     "duration": 0.022917,
     "end_time": "2023-04-09T13:54:18.111386",
     "exception": false,
     "start_time": "2023-04-09T13:54:18.088469",
     "status": "completed"
    },
    "tags": []
   },
   "outputs": [
    {
     "name": "stdout",
     "output_type": "stream",
     "text": [
      "KerasTensor(type_spec=TensorSpec(shape=(None, 14, 14, 2048), dtype=tf.float32, name=None), name='block14_sepconv2_act/Relu:0', description=\"created by layer 'block14_sepconv2_act'\")\n"
     ]
    }
   ],
   "source": [
    "print(xception.output)\n",
    "# print(resnet152.output)\n",
    "# print(mobilenet.output)\n",
    "# print(effecientnet.output)\n",
    "# print(densenet.output)\n",
    "# print(incepresnet.output)"
   ]
  },
  {
   "cell_type": "code",
   "execution_count": 19,
   "id": "40b7b5db",
   "metadata": {
    "execution": {
     "iopub.execute_input": "2023-04-09T13:54:18.141989Z",
     "iopub.status.busy": "2023-04-09T13:54:18.141088Z",
     "iopub.status.idle": "2023-04-09T13:54:18.151949Z",
     "shell.execute_reply": "2023-04-09T13:54:18.151039Z"
    },
    "papermill": {
     "duration": 0.028286,
     "end_time": "2023-04-09T13:54:18.153925",
     "exception": false,
     "start_time": "2023-04-09T13:54:18.125639",
     "status": "completed"
    },
    "tags": []
   },
   "outputs": [],
   "source": [
    "# name_and_freeze(resnet152,'resnet152_')\n",
    "# name_and_freeze(mobilenet,'mobilenet_')\n",
    "name_and_freeze(xception,'xception_')\n",
    "# name_and_freeze(effecientnet,'effecientnet_')\n",
    "# name_and_freeze(densenet,'densenet_')\n",
    "# name_and_freeze(incepresnet,'incepResnet_')"
   ]
  },
  {
   "cell_type": "code",
   "execution_count": 20,
   "id": "c7b6b5df",
   "metadata": {
    "execution": {
     "iopub.execute_input": "2023-04-09T13:54:18.183909Z",
     "iopub.status.busy": "2023-04-09T13:54:18.183648Z",
     "iopub.status.idle": "2023-04-09T13:54:18.190938Z",
     "shell.execute_reply": "2023-04-09T13:54:18.190057Z"
    },
    "papermill": {
     "duration": 0.02443,
     "end_time": "2023-04-09T13:54:18.192746",
     "exception": false,
     "start_time": "2023-04-09T13:54:18.168316",
     "status": "completed"
    },
    "tags": []
   },
   "outputs": [],
   "source": [
    "def get_model(base_model):\n",
    "    x = tf.keras.layers.GlobalAveragePooling2D()(se_block(dilation_block(base_model.output,[2,3,5,7])))\n",
    "    x=tf.keras.layers.BatchNormalization(axis=-1, momentum=0.99, epsilon=0.001 )(x)\n",
    "    x = Dense(512, kernel_regularizer = regularizers.l2(l = 0.016),activity_regularizer=regularizers.l1(0.006),\n",
    "                    bias_regularizer=regularizers.l1(0.006) ,activation='relu')(x)\n",
    "    x=Dense(256,activation='relu')(x)\n",
    "    return Dense(128,activation='relu')(x)"
   ]
  },
  {
   "cell_type": "markdown",
   "id": "c49faa7c",
   "metadata": {
    "papermill": {
     "duration": 0.014306,
     "end_time": "2023-04-09T13:54:18.221425",
     "exception": false,
     "start_time": "2023-04-09T13:54:18.207119",
     "status": "completed"
    },
    "tags": []
   },
   "source": [
    "# fine tuning CNN models"
   ]
  },
  {
   "cell_type": "code",
   "execution_count": 21,
   "id": "834ca256",
   "metadata": {
    "execution": {
     "iopub.execute_input": "2023-04-09T13:54:18.251885Z",
     "iopub.status.busy": "2023-04-09T13:54:18.251078Z",
     "iopub.status.idle": "2023-04-09T13:54:18.400687Z",
     "shell.execute_reply": "2023-04-09T13:54:18.399723Z"
    },
    "papermill": {
     "duration": 0.16734,
     "end_time": "2023-04-09T13:54:18.403068",
     "exception": false,
     "start_time": "2023-04-09T13:54:18.235728",
     "status": "completed"
    },
    "tags": []
   },
   "outputs": [],
   "source": [
    "# x_resnet152v2=get_model(resnet152)\n",
    "x_xception=get_model(xception)\n",
    "# x_mobilenet=get_model(mobilenet)\n",
    "# x_incepresnet=get_model(incepresnet)\n",
    "# x_effecientnet=get_model(effecientnet)\n",
    "# x_densenet=get_model(densenet)"
   ]
  },
  {
   "cell_type": "markdown",
   "id": "a5c1fb1d",
   "metadata": {
    "papermill": {
     "duration": 0.01418,
     "end_time": "2023-04-09T13:54:18.431912",
     "exception": false,
     "start_time": "2023-04-09T13:54:18.417732",
     "status": "completed"
    },
    "tags": []
   },
   "source": [
    "# constructing full model"
   ]
  },
  {
   "cell_type": "code",
   "execution_count": 22,
   "id": "cf7a2937",
   "metadata": {
    "execution": {
     "iopub.execute_input": "2023-04-09T13:54:18.461904Z",
     "iopub.status.busy": "2023-04-09T13:54:18.461610Z",
     "iopub.status.idle": "2023-04-09T13:54:18.486511Z",
     "shell.execute_reply": "2023-04-09T13:54:18.485677Z"
    },
    "papermill": {
     "duration": 0.042159,
     "end_time": "2023-04-09T13:54:18.488516",
     "exception": false,
     "start_time": "2023-04-09T13:54:18.446357",
     "status": "completed"
    },
    "tags": []
   },
   "outputs": [],
   "source": [
    "from tensorflow.keras.layers import concatenate\n",
    "concatenated = concatenate([x_xception, x_vit_big])\n",
    "bigmodel_prediction = Dense(len(train_images.class_indices), activation='softmax')(concatenated)\n",
    "model = Model([xception.input, vit_big.input], bigmodel_prediction) \n",
    "from tensorflow.keras.utils import plot_model"
   ]
  },
  {
   "cell_type": "code",
   "execution_count": 23,
   "id": "4edac5cf",
   "metadata": {
    "execution": {
     "iopub.execute_input": "2023-04-09T13:54:18.518119Z",
     "iopub.status.busy": "2023-04-09T13:54:18.517815Z",
     "iopub.status.idle": "2023-04-09T13:54:18.763924Z",
     "shell.execute_reply": "2023-04-09T13:54:18.763013Z"
    },
    "papermill": {
     "duration": 0.263241,
     "end_time": "2023-04-09T13:54:18.765952",
     "exception": false,
     "start_time": "2023-04-09T13:54:18.502711",
     "status": "completed"
    },
    "tags": []
   },
   "outputs": [
    {
     "name": "stdout",
     "output_type": "stream",
     "text": [
      "trainable parametres: 1257022 non trainable parametres: 108431256\n"
     ]
    }
   ],
   "source": [
    "trainable_params = sum([v.numpy().size for v in model.trainable_variables])\n",
    "non_trainable_params = sum([v.numpy().size for v in model.non_trainable_variables])\n",
    "print(\"trainable parametres: \"+ str(trainable_params) + \" non trainable parametres: \"+ str(non_trainable_params))"
   ]
  },
  {
   "cell_type": "markdown",
   "id": "07505cb8",
   "metadata": {
    "papermill": {
     "duration": 0.014348,
     "end_time": "2023-04-09T13:54:18.795425",
     "exception": false,
     "start_time": "2023-04-09T13:54:18.781077",
     "status": "completed"
    },
    "tags": []
   },
   "source": [
    "# custom generator"
   ]
  },
  {
   "cell_type": "code",
   "execution_count": 24,
   "id": "6782e052",
   "metadata": {
    "execution": {
     "iopub.execute_input": "2023-04-09T13:54:18.826494Z",
     "iopub.status.busy": "2023-04-09T13:54:18.825645Z",
     "iopub.status.idle": "2023-04-09T13:54:18.830844Z",
     "shell.execute_reply": "2023-04-09T13:54:18.829924Z"
    },
    "papermill": {
     "duration": 0.022675,
     "end_time": "2023-04-09T13:54:18.832768",
     "exception": false,
     "start_time": "2023-04-09T13:54:18.810093",
     "status": "completed"
    },
    "tags": []
   },
   "outputs": [],
   "source": [
    "def generator_two_img(gen):\n",
    "    while True:\n",
    "        X1i = gen.next()\n",
    "        yield [X1i[0],X1i[0]], X1i[1]"
   ]
  },
  {
   "cell_type": "markdown",
   "id": "6af5e00c",
   "metadata": {
    "papermill": {
     "duration": 0.014544,
     "end_time": "2023-04-09T13:54:18.861518",
     "exception": false,
     "start_time": "2023-04-09T13:54:18.846974",
     "status": "completed"
    },
    "tags": []
   },
   "source": [
    "# training model"
   ]
  },
  {
   "cell_type": "code",
   "execution_count": 25,
   "id": "364b382f",
   "metadata": {
    "execution": {
     "iopub.execute_input": "2023-04-09T13:54:18.891386Z",
     "iopub.status.busy": "2023-04-09T13:54:18.891090Z",
     "iopub.status.idle": "2023-04-09T13:54:18.907815Z",
     "shell.execute_reply": "2023-04-09T13:54:18.906964Z"
    },
    "papermill": {
     "duration": 0.033948,
     "end_time": "2023-04-09T13:54:18.909758",
     "exception": false,
     "start_time": "2023-04-09T13:54:18.875810",
     "status": "completed"
    },
    "tags": []
   },
   "outputs": [],
   "source": [
    "model.compile(loss=\"categorical_crossentropy\",optimizer=tf.optimizers.Adam(),metrics=['accuracy'])"
   ]
  },
  {
   "cell_type": "code",
   "execution_count": 26,
   "id": "dc94672b",
   "metadata": {
    "execution": {
     "iopub.execute_input": "2023-04-09T13:54:18.939373Z",
     "iopub.status.busy": "2023-04-09T13:54:18.939084Z",
     "iopub.status.idle": "2023-04-09T14:36:58.454392Z",
     "shell.execute_reply": "2023-04-09T14:36:58.453349Z"
    },
    "papermill": {
     "duration": 2559.533266,
     "end_time": "2023-04-09T14:36:58.457253",
     "exception": false,
     "start_time": "2023-04-09T13:54:18.923987",
     "status": "completed"
    },
    "tags": []
   },
   "outputs": [
    {
     "name": "stdout",
     "output_type": "stream",
     "text": [
      "Epoch 1/20\n",
      "31/31 [==============================] - 160s 5s/step - loss: 9.7570 - accuracy: 0.7243 - val_loss: 6.3921 - val_accuracy: 0.7500\n",
      "Epoch 2/20\n",
      "31/31 [==============================] - 126s 4s/step - loss: 4.3105 - accuracy: 0.8776 - val_loss: 3.0387 - val_accuracy: 0.7969\n",
      "Epoch 3/20\n",
      "31/31 [==============================] - 124s 4s/step - loss: 2.0967 - accuracy: 0.8955 - val_loss: 1.6713 - val_accuracy: 0.8802\n",
      "Epoch 4/20\n",
      "31/31 [==============================] - 124s 4s/step - loss: 1.2126 - accuracy: 0.8975 - val_loss: 1.3676 - val_accuracy: 0.7500\n",
      "Epoch 5/20\n",
      "31/31 [==============================] - 124s 4s/step - loss: 0.8365 - accuracy: 0.9180 - val_loss: 0.8429 - val_accuracy: 0.8594\n",
      "Epoch 6/20\n",
      "31/31 [==============================] - 125s 4s/step - loss: 0.6389 - accuracy: 0.9201 - val_loss: 0.7787 - val_accuracy: 0.8490\n",
      "Epoch 7/20\n",
      "31/31 [==============================] - 123s 4s/step - loss: 0.5266 - accuracy: 0.9242 - val_loss: 0.6199 - val_accuracy: 0.8854\n",
      "Epoch 8/20\n",
      "31/31 [==============================] - 124s 4s/step - loss: 0.4619 - accuracy: 0.9395 - val_loss: 0.6014 - val_accuracy: 0.8906\n",
      "Epoch 9/20\n",
      "31/31 [==============================] - 124s 4s/step - loss: 0.4798 - accuracy: 0.9247 - val_loss: 0.6390 - val_accuracy: 0.8594\n",
      "Epoch 10/20\n",
      "31/31 [==============================] - 125s 4s/step - loss: 0.3967 - accuracy: 0.9472 - val_loss: 0.4873 - val_accuracy: 0.8906\n",
      "Epoch 11/20\n",
      "31/31 [==============================] - 124s 4s/step - loss: 0.4080 - accuracy: 0.9298 - val_loss: 0.6084 - val_accuracy: 0.8646\n",
      "Epoch 12/20\n",
      "31/31 [==============================] - 124s 4s/step - loss: 0.3621 - accuracy: 0.9421 - val_loss: 0.4576 - val_accuracy: 0.9219\n",
      "Epoch 13/20\n",
      "31/31 [==============================] - 124s 4s/step - loss: 0.3286 - accuracy: 0.9513 - val_loss: 0.5203 - val_accuracy: 0.8802\n",
      "Epoch 14/20\n",
      "31/31 [==============================] - 124s 4s/step - loss: 0.3635 - accuracy: 0.9406 - val_loss: 0.5574 - val_accuracy: 0.8802\n",
      "Epoch 15/20\n",
      "31/31 [==============================] - 125s 4s/step - loss: 0.3890 - accuracy: 0.9314 - val_loss: 0.4873 - val_accuracy: 0.8802\n",
      "Epoch 16/20\n",
      "31/31 [==============================] - 124s 4s/step - loss: 0.3426 - accuracy: 0.9483 - val_loss: 0.4582 - val_accuracy: 0.8906\n",
      "Epoch 17/20\n",
      "31/31 [==============================] - 123s 4s/step - loss: 0.3013 - accuracy: 0.9534 - val_loss: 0.3969 - val_accuracy: 0.8958\n",
      "Epoch 18/20\n",
      "31/31 [==============================] - 123s 4s/step - loss: 0.2803 - accuracy: 0.9559 - val_loss: 0.6727 - val_accuracy: 0.8438\n",
      "Epoch 19/20\n",
      "31/31 [==============================] - 126s 4s/step - loss: 0.2861 - accuracy: 0.9508 - val_loss: 0.4487 - val_accuracy: 0.9010\n",
      "Epoch 20/20\n",
      "31/31 [==============================] - 123s 4s/step - loss: 0.2534 - accuracy: 0.9600 - val_loss: 0.4343 - val_accuracy: 0.9115\n"
     ]
    }
   ],
   "source": [
    "batch_size=64\n",
    "history = model.fit(\n",
    "    generator_two_img(train_images),\n",
    "    validation_data=generator_two_img(valid_images),\n",
    "    validation_steps=valid_images.n//batch_size,\n",
    "    validation_batch_size=batch_size,\n",
    "    steps_per_epoch=train_images.n//batch_size,\n",
    "    batch_size=batch_size,\n",
    "    epochs=20,\n",
    ")\n"
   ]
  },
  {
   "cell_type": "code",
   "execution_count": 27,
   "id": "eda26334",
   "metadata": {
    "execution": {
     "iopub.execute_input": "2023-04-09T14:36:58.559318Z",
     "iopub.status.busy": "2023-04-09T14:36:58.558959Z",
     "iopub.status.idle": "2023-04-09T14:36:59.592029Z",
     "shell.execute_reply": "2023-04-09T14:36:59.590854Z"
    },
    "papermill": {
     "duration": 1.084148,
     "end_time": "2023-04-09T14:36:59.594698",
     "exception": false,
     "start_time": "2023-04-09T14:36:58.510550",
     "status": "completed"
    },
    "tags": []
   },
   "outputs": [
    {
     "name": "stderr",
     "output_type": "stream",
     "text": [
      "/opt/conda/lib/python3.7/site-packages/keras/utils/generic_utils.py:497: CustomMaskWarning: Custom mask layers require a config and must override get_config. When loading, the custom mask layer must be passed to the custom_objects argument.\n",
      "  category=CustomMaskWarning)\n"
     ]
    }
   ],
   "source": [
    "model.save('1vit1cnnxception.h5')"
   ]
  },
  {
   "cell_type": "markdown",
   "id": "c9d74d5d",
   "metadata": {
    "papermill": {
     "duration": 0.046788,
     "end_time": "2023-04-09T14:36:59.689872",
     "exception": false,
     "start_time": "2023-04-09T14:36:59.643084",
     "status": "completed"
    },
    "tags": []
   },
   "source": [
    "# performance evaluation"
   ]
  },
  {
   "cell_type": "code",
   "execution_count": 28,
   "id": "855189c5",
   "metadata": {
    "execution": {
     "iopub.execute_input": "2023-04-09T14:36:59.785296Z",
     "iopub.status.busy": "2023-04-09T14:36:59.784945Z",
     "iopub.status.idle": "2023-04-09T14:37:00.166865Z",
     "shell.execute_reply": "2023-04-09T14:37:00.165935Z"
    },
    "papermill": {
     "duration": 0.431958,
     "end_time": "2023-04-09T14:37:00.169233",
     "exception": false,
     "start_time": "2023-04-09T14:36:59.737275",
     "status": "completed"
    },
    "tags": []
   },
   "outputs": [
    {
     "name": "stderr",
     "output_type": "stream",
     "text": [
      "/opt/conda/lib/python3.7/site-packages/ipykernel_launcher.py:10: UserWarning: color is redundantly defined by the 'color' keyword argument and the fmt string \"go-\" (-> color='g'). The keyword argument will take precedence.\n",
      "  # Remove the CWD from sys.path while we load stuff.\n",
      "/opt/conda/lib/python3.7/site-packages/ipykernel_launcher.py:18: UserWarning: color is redundantly defined by the 'color' keyword argument and the fmt string \"g-o\" (-> color='g'). The keyword argument will take precedence.\n"
     ]
    },
    {
     "data": {
      "image/png": "[encoded data removed]",
      "text/plain": [
       "<Figure size 1440x720 with 2 Axes>"
      ]
     },
     "metadata": {
      "needs_background": "light"
     },
     "output_type": "display_data"
    }
   ],
   "source": [
    "epochs = list(range(len(history.history['accuracy'])))\n",
    "fig , ax = plt.subplots(1,2)\n",
    "train_acc = history.history['accuracy']\n",
    "train_loss = history.history['loss']\n",
    "val_acc = history.history['val_accuracy']\n",
    "val_loss = history.history['val_loss']\n",
    "\n",
    "fig.set_size_inches(20,10)\n",
    "\n",
    "ax[0].plot(epochs , train_acc , 'go-' ,color='r', label = 'Training Accuracy')\n",
    "ax[0].plot(epochs , val_acc , 'go-' , label = 'Validation Accuracy')\n",
    "ax[0].set_title('Training Accuracy')\n",
    "ax[0].legend()\n",
    "ax[0].set_xlabel(\"Epochs\")\n",
    "ax[0].set_ylabel(\"Accuracy\")\n",
    "\n",
    "\n",
    "ax[1].plot(epochs , train_loss , 'g-o' ,color='r', label = 'Training Loss')\n",
    "ax[1].plot(epochs , val_loss , 'go-' , label = 'Validation Loss')\n",
    "ax[1].set_title('Training Loss')\n",
    "ax[1].legend()\n",
    "ax[1].set_xlabel(\"Epochs\")\n",
    "ax[1].set_ylabel(\"Training Loss\")\n",
    "plt.show()"
   ]
  },
  {
   "cell_type": "code",
   "execution_count": 29,
   "id": "d41255d8",
   "metadata": {
    "execution": {
     "iopub.execute_input": "2023-04-09T14:37:00.266194Z",
     "iopub.status.busy": "2023-04-09T14:37:00.265896Z",
     "iopub.status.idle": "2023-04-09T14:37:02.790562Z",
     "shell.execute_reply": "2023-04-09T14:37:02.789240Z"
    },
    "papermill": {
     "duration": 2.575577,
     "end_time": "2023-04-09T14:37:02.792709",
     "exception": false,
     "start_time": "2023-04-09T14:37:00.217132",
     "status": "completed"
    },
    "tags": []
   },
   "outputs": [
    {
     "name": "stdout",
     "output_type": "stream",
     "text": [
      "Found 560 validated image filenames belonging to 7 classes.\n"
     ]
    }
   ],
   "source": [
    "test_generator = tf.keras.preprocessing.image.ImageDataGenerator(\n",
    "    rescale=1./255,\n",
    ")\n",
    "test_images = test_generator.flow_from_dataframe(\n",
    "    dataframe=test_data,\n",
    "    x_col='File',\n",
    "    y_col='class_',\n",
    "    target_size=(SIZE, SIZE),\n",
    "    color_mode='rgb',\n",
    "    class_mode='categorical',\n",
    "    batch_size=batch_size,\n",
    "    shuffle=False\n",
    ")"
   ]
  },
  {
   "cell_type": "code",
   "execution_count": 30,
   "id": "9a18b21e",
   "metadata": {
    "execution": {
     "iopub.execute_input": "2023-04-09T14:37:02.892604Z",
     "iopub.status.busy": "2023-04-09T14:37:02.891758Z",
     "iopub.status.idle": "2023-04-09T14:37:02.896518Z",
     "shell.execute_reply": "2023-04-09T14:37:02.895577Z"
    },
    "papermill": {
     "duration": 0.056472,
     "end_time": "2023-04-09T14:37:02.898569",
     "exception": false,
     "start_time": "2023-04-09T14:37:02.842097",
     "status": "completed"
    },
    "tags": []
   },
   "outputs": [],
   "source": [
    "class_=train_images.class_indices.keys()"
   ]
  },
  {
   "cell_type": "code",
   "execution_count": 31,
   "id": "02f1f1b7",
   "metadata": {
    "execution": {
     "iopub.execute_input": "2023-04-09T14:37:02.996598Z",
     "iopub.status.busy": "2023-04-09T14:37:02.995998Z",
     "iopub.status.idle": "2023-04-09T14:37:03.001864Z",
     "shell.execute_reply": "2023-04-09T14:37:03.001005Z"
    },
    "papermill": {
     "duration": 0.057438,
     "end_time": "2023-04-09T14:37:03.003889",
     "exception": false,
     "start_time": "2023-04-09T14:37:02.946451",
     "status": "completed"
    },
    "tags": []
   },
   "outputs": [],
   "source": [
    "def prediction_generator(test_images):\n",
    "    k=0\n",
    "    for x in test_images:\n",
    "        k+=len(x[1])\n",
    "        yield [x[0],x[0]], x[1]\n",
    "        if(k>=test_images.n):\n",
    "            break"
   ]
  },
  {
   "cell_type": "code",
   "execution_count": 32,
   "id": "31b77914",
   "metadata": {
    "execution": {
     "iopub.execute_input": "2023-04-09T14:37:03.100950Z",
     "iopub.status.busy": "2023-04-09T14:37:03.100668Z",
     "iopub.status.idle": "2023-04-09T14:37:21.046236Z",
     "shell.execute_reply": "2023-04-09T14:37:21.045293Z"
    },
    "papermill": {
     "duration": 17.996557,
     "end_time": "2023-04-09T14:37:21.048446",
     "exception": false,
     "start_time": "2023-04-09T14:37:03.051889",
     "status": "completed"
    },
    "tags": []
   },
   "outputs": [
    {
     "data": {
      "text/plain": [
       "0.8732142857142857"
      ]
     },
     "execution_count": 32,
     "metadata": {},
     "output_type": "execute_result"
    }
   ],
   "source": [
    "from sklearn.metrics import accuracy_score\n",
    "proba=model.predict(prediction_generator(test_images))\n",
    "predicted = np.argmax(proba,axis=1)\n",
    "true=test_images.labels\n",
    "accuracy_score(predicted, true)"
   ]
  },
  {
   "cell_type": "code",
   "execution_count": 33,
   "id": "f2c44343",
   "metadata": {
    "execution": {
     "iopub.execute_input": "2023-04-09T14:37:21.146753Z",
     "iopub.status.busy": "2023-04-09T14:37:21.146450Z",
     "iopub.status.idle": "2023-04-09T14:37:21.922237Z",
     "shell.execute_reply": "2023-04-09T14:37:21.921174Z"
    },
    "papermill": {
     "duration": 0.826938,
     "end_time": "2023-04-09T14:37:21.924379",
     "exception": false,
     "start_time": "2023-04-09T14:37:21.097441",
     "status": "completed"
    },
    "tags": []
   },
   "outputs": [
    {
     "data": {
      "image/png": "[encoded data removed]",
      "text/plain": [
       "<Figure size 1152x1008 with 2 Axes>"
      ]
     },
     "metadata": {
      "needs_background": "light"
     },
     "output_type": "display_data"
    }
   ],
   "source": [
    "from sklearn.metrics import confusion_matrix\n",
    "import seaborn as sns\n",
    "class_=test_images.class_indices.keys()\n",
    "cm = confusion_matrix(true, predicted)\n",
    "fig = plt.figure(figsize=(16, 14))\n",
    "ax= plt.subplot()\n",
    "sns.heatmap(cm, annot=True, ax = ax,cmap=\"BuPu\"); \n",
    "ax.set_xlabel('Predicted', fontsize=20)\n",
    "ax.xaxis.set_label_position('bottom')\n",
    "plt.xticks(rotation=90)\n",
    "ax.xaxis.set_ticklabels(class_, fontsize = 10)\n",
    "ax.xaxis.tick_bottom()\n",
    "\n",
    "ax.set_ylabel('True', fontsize=20)\n",
    "ax.yaxis.set_ticklabels(class_, fontsize = 10)\n",
    "plt.yticks(rotation=0)\n",
    "\n",
    "plt.title('', fontsize=60)\n",
    "\n",
    "plt.savefig('ConMat24.png')\n",
    "plt.show()"
   ]
  },
  {
   "cell_type": "markdown",
   "id": "2c12a6da",
   "metadata": {
    "papermill": {
     "duration": 0.048225,
     "end_time": "2023-04-09T14:37:22.022491",
     "exception": false,
     "start_time": "2023-04-09T14:37:21.974266",
     "status": "completed"
    },
    "tags": []
   },
   "source": [
    "# ROC"
   ]
  },
  {
   "cell_type": "code",
   "execution_count": 34,
   "id": "91f8efae",
   "metadata": {
    "execution": {
     "iopub.execute_input": "2023-04-09T14:37:22.120601Z",
     "iopub.status.busy": "2023-04-09T14:37:22.120236Z",
     "iopub.status.idle": "2023-04-09T14:37:22.436061Z",
     "shell.execute_reply": "2023-04-09T14:37:22.435192Z"
    },
    "papermill": {
     "duration": 0.36741,
     "end_time": "2023-04-09T14:37:22.438073",
     "exception": false,
     "start_time": "2023-04-09T14:37:22.070663",
     "status": "completed"
    },
    "tags": []
   },
   "outputs": [
    {
     "data": {
      "image/png": "[encoded data removed]",
      "text/plain": [
       "<Figure size 720x1152 with 1 Axes>"
      ]
     },
     "metadata": {
      "needs_background": "light"
     },
     "output_type": "display_data"
    }
   ],
   "source": [
    "from sklearn.metrics import roc_curve, roc_auc_score\n",
    "from matplotlib import cm\n",
    "n=len(true)\n",
    "dim=max(true)+1\n",
    "result=[]\n",
    "for i in true:\n",
    "    result.append([0 for i in range(dim)])\n",
    "    result[len(result)-1][i]=1\n",
    "    \n",
    "    \n",
    "fpr = dict()\n",
    "tpr = dict()\n",
    "roc_auc = dict()\n",
    "n_classes =len(test_images.class_indices.keys())\n",
    "y_test=np.array(result)\n",
    "y_pred=np.array(proba)\n",
    "fpr = dict()\n",
    "tpr = dict()\n",
    "roc_auc = dict()\n",
    "\n",
    "rev={}\n",
    "for i in class_:\n",
    "    rev[train_images.class_indices[i]]=i\n",
    "\n",
    "\n",
    "for i in range(n_classes):\n",
    "    fpr[i], tpr[i], _ = roc_curve(y_test[:, i], y_pred[:, i])\n",
    "    roc_auc[i] = roc_auc_score(y_test[:, i], y_pred[:, i])\n",
    "\n",
    "\n",
    "fpr[\"micro\"], tpr[\"micro\"], _ = roc_curve(y_test.ravel(), y_pred.ravel())\n",
    "roc_auc[\"micro\"] = roc_auc_score(y_test, y_pred, multi_class='ovr')\n",
    "\n",
    "\n",
    "cmap = cm.get_cmap('tab10')\n",
    "\n",
    "# Plot the ROC curve for each class and micro-average with automatic color selection\n",
    "plt.figure(figsize=(10,16))\n",
    "lw = 2\n",
    "for i in range(n_classes):\n",
    "    color = cmap(i)\n",
    "    plt.plot(fpr[i], tpr[i], color=color, lw=lw,\n",
    "             label='ROC curve of class {0} (area = {1:0.2f})'\n",
    "             ''.format(rev[i], roc_auc[i]))\n",
    "\n",
    "plt.plot(fpr[\"micro\"], tpr[\"micro\"],\n",
    "         label='micro-average ROC curve (area = {0:0.2f})'\n",
    "         ''.format(roc_auc[\"micro\"]),\n",
    "         color=cmap(n_classes), linestyle=':', linewidth=4)\n",
    "\n",
    "plt.plot([0, 1], [0, 1], 'k--', lw=lw)\n",
    "plt.xlim([0.0, 1.0])\n",
    "plt.ylim([0.0, 1.05])\n",
    "plt.xlabel('False Positive Rate')\n",
    "plt.ylabel('True Positive Rate')\n",
    "plt.title('ROC Curve')\n",
    "plt.legend(loc=\"lower right\")\n",
    "plt.show()\n"
   ]
  },
  {
   "cell_type": "markdown",
   "id": "45bae907",
   "metadata": {
    "papermill": {
     "duration": 0.048698,
     "end_time": "2023-04-09T14:37:22.536352",
     "exception": false,
     "start_time": "2023-04-09T14:37:22.487654",
     "status": "completed"
    },
    "tags": []
   },
   "source": [
    "# AUC"
   ]
  },
  {
   "cell_type": "code",
   "execution_count": 35,
   "id": "4f4cd6be",
   "metadata": {
    "execution": {
     "iopub.execute_input": "2023-04-09T14:37:22.635584Z",
     "iopub.status.busy": "2023-04-09T14:37:22.635242Z",
     "iopub.status.idle": "2023-04-09T14:37:22.828528Z",
     "shell.execute_reply": "2023-04-09T14:37:22.827675Z"
    },
    "papermill": {
     "duration": 0.245618,
     "end_time": "2023-04-09T14:37:22.830461",
     "exception": false,
     "start_time": "2023-04-09T14:37:22.584843",
     "status": "completed"
    },
    "tags": []
   },
   "outputs": [
    {
     "data": {
      "image/png": "[encoded data removed]",
      "text/plain": [
       "<Figure size 432x288 with 1 Axes>"
      ]
     },
     "metadata": {
      "needs_background": "light"
     },
     "output_type": "display_data"
    }
   ],
   "source": [
    "from sklearn.metrics import roc_curve, auc\n",
    "import matplotlib.pyplot as plt\n",
    "\n",
    "y_true=y_test\n",
    "y_score=y_pred\n",
    "fpr, tpr, thresholds = roc_curve(y_test.ravel(), y_pred.ravel())\n",
    "roc_auc = auc(fpr, tpr)\n",
    "\n",
    "plt.figure()\n",
    "lw = 2\n",
    "plt.plot(fpr, tpr, color='darkorange',\n",
    "         lw=lw, label='ROC curve (area = %0.2f)' % roc_auc)\n",
    "plt.plot([0, 1], [0, 1], color='navy', lw=lw, linestyle='--')\n",
    "plt.xlim([0.0, 1.0])\n",
    "plt.ylim([0.0, 1.05])\n",
    "plt.xlabel('False Positive Rate')\n",
    "plt.ylabel('True Positive Rate')\n",
    "plt.title('AUC Curve')\n",
    "plt.legend(loc=\"lower right\")\n",
    "plt.show()"
   ]
  }
 ],
 "metadata": {
  "kernelspec": {
   "display_name": "Python 3",
   "language": "python",
   "name": "python3"
  },
  "language_info": {
   "codemirror_mode": {
    "name": "ipython",
    "version": 3
   },
   "file_extension": ".py",
   "mimetype": "text/x-python",
   "name": "python",
   "nbconvert_exporter": "python",
   "pygments_lexer": "ipython3",
   "version": "3.7.12"
  },
  "papermill": {
   "default_parameters": {},
   "duration": 2636.449725,
   "end_time": "2023-04-09T14:37:26.748545",
   "environment_variables": {},
   "exception": null,
   "input_path": "__notebook__.ipynb",
   "output_path": "__notebook__.ipynb",
   "parameters": {},
   "start_time": "2023-04-09T13:53:30.298820",
   "version": "2.3.4"
  }
 },
 "nbformat": 4,
 "nbformat_minor": 5
}
