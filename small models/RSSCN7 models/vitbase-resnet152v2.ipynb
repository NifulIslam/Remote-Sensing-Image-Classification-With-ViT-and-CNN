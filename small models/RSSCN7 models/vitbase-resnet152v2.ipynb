{
 "cells": [
  {
   "cell_type": "markdown",
   "id": "1705120b",
   "metadata": {
    "papermill": {
     "duration": 0.010053,
     "end_time": "2023-04-08T17:00:33.189059",
     "exception": false,
     "start_time": "2023-04-08T17:00:33.179006",
     "status": "completed"
    },
    "tags": []
   },
   "source": [
    "# basic imports"
   ]
  },
  {
   "cell_type": "code",
   "execution_count": 1,
   "id": "aaa4ba88",
   "metadata": {
    "_cell_guid": "b1076dfc-b9ad-4769-8c92-a6c4dae69d19",
    "_uuid": "8f2839f25d086af736a60e9eeb907d3b93b6e0e5",
    "execution": {
     "iopub.execute_input": "2023-04-08T17:00:33.209089Z",
     "iopub.status.busy": "2023-04-08T17:00:33.208222Z",
     "iopub.status.idle": "2023-04-08T17:00:51.466469Z",
     "shell.execute_reply": "2023-04-08T17:00:51.465268Z"
    },
    "papermill": {
     "duration": 18.271219,
     "end_time": "2023-04-08T17:00:51.469259",
     "exception": false,
     "start_time": "2023-04-08T17:00:33.198040",
     "status": "completed"
    },
    "tags": []
   },
   "outputs": [
    {
     "name": "stdout",
     "output_type": "stream",
     "text": [
      "\u001b[33mWARNING: Running pip as the 'root' user can result in broken permissions and conflicting behaviour with the system package manager. It is recommended to use a virtual environment instead: https://pip.pypa.io/warnings/venv\u001b[0m\u001b[33m\r\n",
      "\u001b[0m"
     ]
    }
   ],
   "source": [
    "import numpy as np \n",
    "import pandas as pd\n",
    "import os\n",
    "import cv2\n",
    "import tensorflow\n",
    "import glob\n",
    "from matplotlib import pyplot as plt\n",
    "from tensorflow.keras.layers import Input, Lambda, Dense, Flatten,Dropout\n",
    "from tensorflow.keras.models import Model\n",
    "from tensorflow.keras.applications.inception_v3 import InceptionV3\n",
    "from tensorflow.keras.preprocessing import image\n",
    "from tensorflow.keras.preprocessing.image import ImageDataGenerator\n",
    "from tensorflow.keras.models import Sequential\n",
    "from tensorflow.keras.applications.vgg16 import VGG16\n",
    "from tensorflow.keras.applications.vgg19 import VGG19\n",
    "from tensorflow.keras.applications import EfficientNetB0\n",
    "import tensorflow as tf \n",
    "from tensorflow.keras import layers\n",
    "!pip install --quiet vit-keras\n",
    "from vit_keras import vit\n",
    "from tensorflow.keras.applications.resnet50 import ResNet50"
   ]
  },
  {
   "cell_type": "markdown",
   "id": "2ab4bfde",
   "metadata": {
    "papermill": {
     "duration": 0.008689,
     "end_time": "2023-04-08T17:00:51.487077",
     "exception": false,
     "start_time": "2023-04-08T17:00:51.478388",
     "status": "completed"
    },
    "tags": []
   },
   "source": [
    "# Reading Data"
   ]
  },
  {
   "cell_type": "code",
   "execution_count": 2,
   "id": "a6823f37",
   "metadata": {
    "execution": {
     "iopub.execute_input": "2023-04-08T17:00:51.509097Z",
     "iopub.status.busy": "2023-04-08T17:00:51.507150Z",
     "iopub.status.idle": "2023-04-08T17:00:51.512825Z",
     "shell.execute_reply": "2023-04-08T17:00:51.511801Z"
    },
    "papermill": {
     "duration": 0.018018,
     "end_time": "2023-04-08T17:00:51.514857",
     "exception": false,
     "start_time": "2023-04-08T17:00:51.496839",
     "status": "completed"
    },
    "tags": []
   },
   "outputs": [],
   "source": [
    "#ucm\n",
    "# train_data=pd.read_csv(\"/kaggle/input/satelite-csv/train.csv\")\n",
    "# train_data['File']=train_data['File'].apply(lambda x : '/kaggle/input/satelite-images/Images/'+x)\n",
    "# test_data=pd.read_csv(\"/kaggle/input/satelite-csv/test.csv\")\n",
    "# test_data['File']=test_data['File'].apply(lambda x : '/kaggle/input/satelite-images/Images/'+x)"
   ]
  },
  {
   "cell_type": "code",
   "execution_count": 3,
   "id": "0673b3f7",
   "metadata": {
    "execution": {
     "iopub.execute_input": "2023-04-08T17:00:51.533519Z",
     "iopub.status.busy": "2023-04-08T17:00:51.533197Z",
     "iopub.status.idle": "2023-04-08T17:00:51.586919Z",
     "shell.execute_reply": "2023-04-08T17:00:51.585957Z"
    },
    "papermill": {
     "duration": 0.066035,
     "end_time": "2023-04-08T17:00:51.589500",
     "exception": false,
     "start_time": "2023-04-08T17:00:51.523465",
     "status": "completed"
    },
    "tags": []
   },
   "outputs": [],
   "source": [
    "# rsscn7\n",
    "train_data=pd.read_csv(\"/kaggle/input/rsscn7-dataset/gamma-correct/train.csv\")\n",
    "train_data['File']=train_data['File'].apply(lambda x : '/kaggle/input/rsscn7-dataset/gamma-correct/'+x)\n",
    "test_data=pd.read_csv(\"/kaggle/input/rsscn7-dataset/gamma-correct/test.csv\")\n",
    "test_data['File']=test_data['File'].apply(lambda x : '/kaggle/input/rsscn7-dataset/gamma-correct/'+x)"
   ]
  },
  {
   "cell_type": "code",
   "execution_count": 4,
   "id": "6e6905dd",
   "metadata": {
    "execution": {
     "iopub.execute_input": "2023-04-08T17:00:51.611370Z",
     "iopub.status.busy": "2023-04-08T17:00:51.610687Z",
     "iopub.status.idle": "2023-04-08T17:00:51.636734Z",
     "shell.execute_reply": "2023-04-08T17:00:51.635753Z"
    },
    "papermill": {
     "duration": 0.038574,
     "end_time": "2023-04-08T17:00:51.638860",
     "exception": false,
     "start_time": "2023-04-08T17:00:51.600286",
     "status": "completed"
    },
    "tags": []
   },
   "outputs": [
    {
     "data": {
      "text/html": [
       "<div>\n",
       "<style scoped>\n",
       "    .dataframe tbody tr th:only-of-type {\n",
       "        vertical-align: middle;\n",
       "    }\n",
       "\n",
       "    .dataframe tbody tr th {\n",
       "        vertical-align: top;\n",
       "    }\n",
       "\n",
       "    .dataframe thead th {\n",
       "        text-align: right;\n",
       "    }\n",
       "</style>\n",
       "<table border=\"1\" class=\"dataframe\">\n",
       "  <thead>\n",
       "    <tr style=\"text-align: right;\">\n",
       "      <th></th>\n",
       "      <th>File</th>\n",
       "      <th>class_</th>\n",
       "    </tr>\n",
       "  </thead>\n",
       "  <tbody>\n",
       "    <tr>\n",
       "      <th>1174</th>\n",
       "      <td>/kaggle/input/rsscn7-dataset/gamma-correct/Par...</td>\n",
       "      <td>Parking</td>\n",
       "    </tr>\n",
       "    <tr>\n",
       "      <th>47</th>\n",
       "      <td>/kaggle/input/rsscn7-dataset/gamma-correct/Riv...</td>\n",
       "      <td>River</td>\n",
       "    </tr>\n",
       "    <tr>\n",
       "      <th>1771</th>\n",
       "      <td>/kaggle/input/rsscn7-dataset/gamma-correct/Ind...</td>\n",
       "      <td>Industry</td>\n",
       "    </tr>\n",
       "    <tr>\n",
       "      <th>1537</th>\n",
       "      <td>/kaggle/input/rsscn7-dataset/gamma-correct/Gra...</td>\n",
       "      <td>Grass</td>\n",
       "    </tr>\n",
       "    <tr>\n",
       "      <th>766</th>\n",
       "      <td>/kaggle/input/rsscn7-dataset/gamma-correct/Res...</td>\n",
       "      <td>Resident</td>\n",
       "    </tr>\n",
       "    <tr>\n",
       "      <th>...</th>\n",
       "      <td>...</td>\n",
       "      <td>...</td>\n",
       "    </tr>\n",
       "    <tr>\n",
       "      <th>2194</th>\n",
       "      <td>/kaggle/input/rsscn7-dataset/gamma-correct/Gra...</td>\n",
       "      <td>Grass</td>\n",
       "    </tr>\n",
       "    <tr>\n",
       "      <th>1689</th>\n",
       "      <td>/kaggle/input/rsscn7-dataset/gamma-correct/Ind...</td>\n",
       "      <td>Industry</td>\n",
       "    </tr>\n",
       "    <tr>\n",
       "      <th>755</th>\n",
       "      <td>/kaggle/input/rsscn7-dataset/gamma-correct/Riv...</td>\n",
       "      <td>River</td>\n",
       "    </tr>\n",
       "    <tr>\n",
       "      <th>1945</th>\n",
       "      <td>/kaggle/input/rsscn7-dataset/gamma-correct/Gra...</td>\n",
       "      <td>Grass</td>\n",
       "    </tr>\n",
       "    <tr>\n",
       "      <th>1002</th>\n",
       "      <td>/kaggle/input/rsscn7-dataset/gamma-correct/Par...</td>\n",
       "      <td>Parking</td>\n",
       "    </tr>\n",
       "  </tbody>\n",
       "</table>\n",
       "<p>2240 rows × 2 columns</p>\n",
       "</div>"
      ],
      "text/plain": [
       "                                                   File    class_\n",
       "1174  /kaggle/input/rsscn7-dataset/gamma-correct/Par...   Parking\n",
       "47    /kaggle/input/rsscn7-dataset/gamma-correct/Riv...     River\n",
       "1771  /kaggle/input/rsscn7-dataset/gamma-correct/Ind...  Industry\n",
       "1537  /kaggle/input/rsscn7-dataset/gamma-correct/Gra...     Grass\n",
       "766   /kaggle/input/rsscn7-dataset/gamma-correct/Res...  Resident\n",
       "...                                                 ...       ...\n",
       "2194  /kaggle/input/rsscn7-dataset/gamma-correct/Gra...     Grass\n",
       "1689  /kaggle/input/rsscn7-dataset/gamma-correct/Ind...  Industry\n",
       "755   /kaggle/input/rsscn7-dataset/gamma-correct/Riv...     River\n",
       "1945  /kaggle/input/rsscn7-dataset/gamma-correct/Gra...     Grass\n",
       "1002  /kaggle/input/rsscn7-dataset/gamma-correct/Par...   Parking\n",
       "\n",
       "[2240 rows x 2 columns]"
      ]
     },
     "execution_count": 4,
     "metadata": {},
     "output_type": "execute_result"
    }
   ],
   "source": [
    "train_data=train_data.sample(frac=1)\n",
    "train_data"
   ]
  },
  {
   "cell_type": "code",
   "execution_count": 5,
   "id": "af1c5cc2",
   "metadata": {
    "execution": {
     "iopub.execute_input": "2023-04-08T17:00:51.658460Z",
     "iopub.status.busy": "2023-04-08T17:00:51.657515Z",
     "iopub.status.idle": "2023-04-08T17:00:51.662345Z",
     "shell.execute_reply": "2023-04-08T17:00:51.661455Z"
    },
    "papermill": {
     "duration": 0.016621,
     "end_time": "2023-04-08T17:00:51.664304",
     "exception": false,
     "start_time": "2023-04-08T17:00:51.647683",
     "status": "completed"
    },
    "tags": []
   },
   "outputs": [],
   "source": [
    "SIZE=448\n",
    "size = [SIZE, SIZE ,3]"
   ]
  },
  {
   "cell_type": "code",
   "execution_count": 6,
   "id": "caf3aba4",
   "metadata": {
    "execution": {
     "iopub.execute_input": "2023-04-08T17:00:51.683477Z",
     "iopub.status.busy": "2023-04-08T17:00:51.682591Z",
     "iopub.status.idle": "2023-04-08T17:00:51.688421Z",
     "shell.execute_reply": "2023-04-08T17:00:51.687506Z"
    },
    "papermill": {
     "duration": 0.017696,
     "end_time": "2023-04-08T17:00:51.690623",
     "exception": false,
     "start_time": "2023-04-08T17:00:51.672927",
     "status": "completed"
    },
    "tags": []
   },
   "outputs": [],
   "source": [
    "train_datagen = ImageDataGenerator(\n",
    "    rescale=1.0 / 255,\n",
    "    rotation_range=40,\n",
    "    width_shift_range=0.2,\n",
    "    height_shift_range=0.2,\n",
    "    shear_range=0.2,\n",
    "    zoom_range=0.2,\n",
    "    horizontal_flip=True,\n",
    "    validation_split=.1,\n",
    "    fill_mode=\"nearest\",\n",
    ")\n",
    "batch_size=64"
   ]
  },
  {
   "cell_type": "code",
   "execution_count": 7,
   "id": "7570c3a9",
   "metadata": {
    "execution": {
     "iopub.execute_input": "2023-04-08T17:00:51.709860Z",
     "iopub.status.busy": "2023-04-08T17:00:51.709503Z",
     "iopub.status.idle": "2023-04-08T17:01:01.545732Z",
     "shell.execute_reply": "2023-04-08T17:01:01.544413Z"
    },
    "papermill": {
     "duration": 9.848653,
     "end_time": "2023-04-08T17:01:01.548062",
     "exception": false,
     "start_time": "2023-04-08T17:00:51.699409",
     "status": "completed"
    },
    "tags": []
   },
   "outputs": [
    {
     "name": "stdout",
     "output_type": "stream",
     "text": [
      "Found 2016 validated image filenames belonging to 7 classes.\n",
      "Found 224 validated image filenames belonging to 7 classes.\n"
     ]
    }
   ],
   "source": [
    "train_images = train_datagen.flow_from_dataframe(\n",
    "    dataframe=train_data,\n",
    "    x_col='File',\n",
    "    y_col='class_',\n",
    "    target_size=(SIZE, SIZE),\n",
    "    color_mode='rgb',\n",
    "    class_mode='categorical',\n",
    "    batch_size=batch_size,\n",
    "    shuffle=True,\n",
    "    seed=42,\n",
    "    subset='training'\n",
    ")\n",
    "valid_images = train_datagen.flow_from_dataframe(\n",
    "    dataframe=train_data,\n",
    "    x_col='File',\n",
    "    y_col='class_',\n",
    "    target_size=(SIZE, SIZE),\n",
    "    color_mode='rgb',\n",
    "    class_mode='categorical',\n",
    "    batch_size=batch_size,\n",
    "    shuffle=True,\n",
    "    seed=42,\n",
    "    subset='validation'\n",
    ")\n"
   ]
  },
  {
   "cell_type": "markdown",
   "id": "394ef120",
   "metadata": {
    "papermill": {
     "duration": 0.008564,
     "end_time": "2023-04-08T17:01:01.565623",
     "exception": false,
     "start_time": "2023-04-08T17:01:01.557059",
     "status": "completed"
    },
    "tags": []
   },
   "source": [
    "# freezing nescessary pararametres"
   ]
  },
  {
   "cell_type": "code",
   "execution_count": 8,
   "id": "6ab1d7ca",
   "metadata": {
    "execution": {
     "iopub.execute_input": "2023-04-08T17:01:01.585432Z",
     "iopub.status.busy": "2023-04-08T17:01:01.584730Z",
     "iopub.status.idle": "2023-04-08T17:01:02.060574Z",
     "shell.execute_reply": "2023-04-08T17:01:02.059583Z"
    },
    "papermill": {
     "duration": 0.488554,
     "end_time": "2023-04-08T17:01:02.063030",
     "exception": false,
     "start_time": "2023-04-08T17:01:01.574476",
     "status": "completed"
    },
    "tags": []
   },
   "outputs": [],
   "source": [
    "import tensorflow_hub as hub"
   ]
  },
  {
   "cell_type": "code",
   "execution_count": 9,
   "id": "c623e789",
   "metadata": {
    "execution": {
     "iopub.execute_input": "2023-04-08T17:01:02.083865Z",
     "iopub.status.busy": "2023-04-08T17:01:02.082298Z",
     "iopub.status.idle": "2023-04-08T17:01:02.088824Z",
     "shell.execute_reply": "2023-04-08T17:01:02.087926Z"
    },
    "papermill": {
     "duration": 0.018922,
     "end_time": "2023-04-08T17:01:02.091025",
     "exception": false,
     "start_time": "2023-04-08T17:01:02.072103",
     "status": "completed"
    },
    "tags": []
   },
   "outputs": [],
   "source": [
    "def get_from_hub(model_url):\n",
    "    inputs = tf.keras.Input((batch_size,SIZE, SIZE, 3))\n",
    "    hub_module = hub.KerasLayer(model_url,trainable=False)\n",
    "    outputs = hub_module(inputs)\n",
    "    return tf.keras.Model(inputs, outputs)"
   ]
  },
  {
   "cell_type": "code",
   "execution_count": 10,
   "id": "e39e4cc4",
   "metadata": {
    "execution": {
     "iopub.execute_input": "2023-04-08T17:01:02.109845Z",
     "iopub.status.busy": "2023-04-08T17:01:02.109544Z",
     "iopub.status.idle": "2023-04-08T17:01:02.114557Z",
     "shell.execute_reply": "2023-04-08T17:01:02.113606Z"
    },
    "papermill": {
     "duration": 0.016744,
     "end_time": "2023-04-08T17:01:02.116560",
     "exception": false,
     "start_time": "2023-04-08T17:01:02.099816",
     "status": "completed"
    },
    "tags": []
   },
   "outputs": [],
   "source": [
    "def name_and_freeze(model,name=\"\"):\n",
    "    for layer in model.layers[:]:\n",
    "      layer.trainable = False\n",
    "    for layer in model.layers:\n",
    "        layer._name = layer.name + str(name)\n",
    "    "
   ]
  },
  {
   "cell_type": "code",
   "execution_count": 11,
   "id": "c3bf86d1",
   "metadata": {
    "execution": {
     "iopub.execute_input": "2023-04-08T17:01:02.135196Z",
     "iopub.status.busy": "2023-04-08T17:01:02.134870Z",
     "iopub.status.idle": "2023-04-08T17:01:02.140705Z",
     "shell.execute_reply": "2023-04-08T17:01:02.139760Z"
    },
    "papermill": {
     "duration": 0.017479,
     "end_time": "2023-04-08T17:01:02.142784",
     "exception": false,
     "start_time": "2023-04-08T17:01:02.125305",
     "status": "completed"
    },
    "tags": []
   },
   "outputs": [],
   "source": [
    "def se_block(inputs):\n",
    "    input_channels = inputs.shape[-1]\n",
    "    x = tf.keras.layers.GlobalAveragePooling2D()(inputs)\n",
    "    x = tf.keras.layers.Dense(units=len(train_images.class_indices.keys()), activation=\"relu\")(x)    \n",
    "    x = tf.keras.layers.Dense(units=input_channels, activation=\"sigmoid\")(x)    \n",
    "    x = tf.reshape(x, [-1, 1, 1, input_channels])\n",
    "    x = inputs * x\n",
    "    return x"
   ]
  },
  {
   "cell_type": "code",
   "execution_count": 12,
   "id": "ae0fe6bb",
   "metadata": {
    "execution": {
     "iopub.execute_input": "2023-04-08T17:01:02.162633Z",
     "iopub.status.busy": "2023-04-08T17:01:02.161135Z",
     "iopub.status.idle": "2023-04-08T17:01:02.167831Z",
     "shell.execute_reply": "2023-04-08T17:01:02.166993Z"
    },
    "papermill": {
     "duration": 0.018341,
     "end_time": "2023-04-08T17:01:02.169825",
     "exception": false,
     "start_time": "2023-04-08T17:01:02.151484",
     "status": "completed"
    },
    "tags": []
   },
   "outputs": [],
   "source": [
    "def dilation_block(inputs,dilation_rates):\n",
    "    outputs = []\n",
    "    for dilation_rate in dilation_rates:\n",
    "        x = tf.keras.layers.Conv2D(filters=len(train_images.class_indices.keys()), kernel_size=3, strides=1, padding=\"same\", dilation_rate=dilation_rate)(inputs)\n",
    "        x = tf.keras.layers.BatchNormalization()(x)\n",
    "        x = tf.keras.layers.ReLU()(x)\n",
    "        outputs.append(x)\n",
    "    x = tf.keras.layers.Concatenate(axis=-1)(outputs)\n",
    "    return x"
   ]
  },
  {
   "cell_type": "markdown",
   "id": "be86ed2c",
   "metadata": {
    "papermill": {
     "duration": 0.008516,
     "end_time": "2023-04-08T17:01:02.187190",
     "exception": false,
     "start_time": "2023-04-08T17:01:02.178674",
     "status": "completed"
    },
    "tags": []
   },
   "source": [
    "# Importing Vit"
   ]
  },
  {
   "cell_type": "code",
   "execution_count": 13,
   "id": "5b7a5568",
   "metadata": {
    "execution": {
     "iopub.execute_input": "2023-04-08T17:01:02.206577Z",
     "iopub.status.busy": "2023-04-08T17:01:02.205656Z",
     "iopub.status.idle": "2023-04-08T17:01:09.610882Z",
     "shell.execute_reply": "2023-04-08T17:01:09.609908Z"
    },
    "papermill": {
     "duration": 7.417439,
     "end_time": "2023-04-08T17:01:09.613356",
     "exception": false,
     "start_time": "2023-04-08T17:01:02.195917",
     "status": "completed"
    },
    "tags": []
   },
   "outputs": [
    {
     "name": "stdout",
     "output_type": "stream",
     "text": [
      "Downloading data from https://github.com/faustomorales/vit-keras/releases/download/dl/ViT-B_32_imagenet21k+imagenet2012.npz\n",
      "353255424/353253686 [==============================] - 1s 0us/step\n",
      "353263616/353253686 [==============================] - 1s 0us/step\n"
     ]
    },
    {
     "name": "stderr",
     "output_type": "stream",
     "text": [
      "/opt/conda/lib/python3.7/site-packages/vit_keras/utils.py:83: UserWarning: Resizing position embeddings from 12, 12 to 14, 14\n",
      "  UserWarning,\n"
     ]
    }
   ],
   "source": [
    "vit_big = vit.vit_b32(\n",
    "        image_size = SIZE,\n",
    "        activation = 'softmax',\n",
    "        pretrained = True,\n",
    "        include_top = False,\n",
    "        pretrained_top = False,\n",
    "        )"
   ]
  },
  {
   "cell_type": "code",
   "execution_count": 14,
   "id": "6286dfef",
   "metadata": {
    "execution": {
     "iopub.execute_input": "2023-04-08T17:01:09.638415Z",
     "iopub.status.busy": "2023-04-08T17:01:09.636528Z",
     "iopub.status.idle": "2023-04-08T17:01:09.641820Z",
     "shell.execute_reply": "2023-04-08T17:01:09.640914Z"
    },
    "papermill": {
     "duration": 0.019531,
     "end_time": "2023-04-08T17:01:09.643901",
     "exception": false,
     "start_time": "2023-04-08T17:01:09.624370",
     "status": "completed"
    },
    "tags": []
   },
   "outputs": [],
   "source": [
    "# vit_large = vit.vit_l32(\n",
    "#         image_size = SIZE,\n",
    "#         activation = 'softmax',\n",
    "#         pretrained = True,\n",
    "#         include_top = False,\n",
    "#         pretrained_top = False,\n",
    "#         )"
   ]
  },
  {
   "cell_type": "markdown",
   "id": "ff766bf4",
   "metadata": {
    "papermill": {
     "duration": 0.010448,
     "end_time": "2023-04-08T17:01:09.665080",
     "exception": false,
     "start_time": "2023-04-08T17:01:09.654632",
     "status": "completed"
    },
    "tags": []
   },
   "source": [
    "#  Fine-tuning vit"
   ]
  },
  {
   "cell_type": "code",
   "execution_count": 15,
   "id": "715b0bdc",
   "metadata": {
    "execution": {
     "iopub.execute_input": "2023-04-08T17:01:09.688837Z",
     "iopub.status.busy": "2023-04-08T17:01:09.687857Z",
     "iopub.status.idle": "2023-04-08T17:01:09.699208Z",
     "shell.execute_reply": "2023-04-08T17:01:09.698309Z"
    },
    "papermill": {
     "duration": 0.025459,
     "end_time": "2023-04-08T17:01:09.701434",
     "exception": false,
     "start_time": "2023-04-08T17:01:09.675975",
     "status": "completed"
    },
    "tags": []
   },
   "outputs": [],
   "source": [
    "# name_and_freeze(vit_large,'vit_large_')\n",
    "name_and_freeze(vit_big,'vit_big_')"
   ]
  },
  {
   "cell_type": "code",
   "execution_count": 16,
   "id": "41623881",
   "metadata": {
    "execution": {
     "iopub.execute_input": "2023-04-08T17:01:09.723991Z",
     "iopub.status.busy": "2023-04-08T17:01:09.723645Z",
     "iopub.status.idle": "2023-04-08T17:01:09.768589Z",
     "shell.execute_reply": "2023-04-08T17:01:09.767563Z"
    },
    "papermill": {
     "duration": 0.058931,
     "end_time": "2023-04-08T17:01:09.771000",
     "exception": false,
     "start_time": "2023-04-08T17:01:09.712069",
     "status": "completed"
    },
    "tags": []
   },
   "outputs": [],
   "source": [
    "from tensorflow.keras import regularizers\n",
    "x =vit_big.output\n",
    "x=tf.keras.layers.BatchNormalization(axis=-1, momentum=0.99, epsilon=0.001 )(x)\n",
    "x = Dense(512, kernel_regularizer = regularizers.l2(l = 0.016),activity_regularizer=regularizers.l1(0.006),\n",
    "                bias_regularizer=regularizers.l1(0.006) ,activation='relu')(x)\n",
    "x=Dense(256,activation='relu')(x)\n",
    "x_vit_big = Dense(128, activation='relu')(x)\n",
    "\n",
    "# x =vit_large.output\n",
    "# x=tf.keras.layers.BatchNormalization(axis=-1, momentum=0.99, epsilon=0.001 )(x)\n",
    "# x = Dense(32, kernel_regularizer = regularizers.l2(l = 0.016),activity_regularizer=regularizers.l1(0.006),\n",
    "#                 bias_regularizer=regularizers.l1(0.006) ,activation='relu')(x)\n",
    "# x=Dense(256,activation='relu')(x)\n",
    "# x_vit_large = Dense(128, activation='relu')(x)"
   ]
  },
  {
   "cell_type": "markdown",
   "id": "28a3067f",
   "metadata": {
    "papermill": {
     "duration": 0.010484,
     "end_time": "2023-04-08T17:01:09.792370",
     "exception": false,
     "start_time": "2023-04-08T17:01:09.781886",
     "status": "completed"
    },
    "tags": []
   },
   "source": [
    "# importing cnn models"
   ]
  },
  {
   "cell_type": "code",
   "execution_count": 17,
   "id": "ae75f3d2",
   "metadata": {
    "execution": {
     "iopub.execute_input": "2023-04-08T17:01:09.815472Z",
     "iopub.status.busy": "2023-04-08T17:01:09.815045Z",
     "iopub.status.idle": "2023-04-08T17:01:14.694710Z",
     "shell.execute_reply": "2023-04-08T17:01:14.693663Z"
    },
    "papermill": {
     "duration": 4.894345,
     "end_time": "2023-04-08T17:01:14.697470",
     "exception": false,
     "start_time": "2023-04-08T17:01:09.803125",
     "status": "completed"
    },
    "tags": []
   },
   "outputs": [
    {
     "name": "stdout",
     "output_type": "stream",
     "text": [
      "Downloading data from https://storage.googleapis.com/tensorflow/keras-applications/resnet/resnet152v2_weights_tf_dim_ordering_tf_kernels_notop.h5\n",
      "234553344/234545216 [==============================] - 1s 0us/step\n",
      "234561536/234545216 [==============================] - 1s 0us/step\n"
     ]
    }
   ],
   "source": [
    "resnet152= tf.keras.applications.ResNet152V2(input_shape=size,include_top=False, weights='imagenet',)\n",
    "# mobilenet= tf.keras.applications.MobileNetV3Large(input_shape=size,include_top=False, weights='imagenet')\n",
    "# xception= tf.keras.applications.Xception(input_shape=size,include_top=False, weights='imagenet')\n",
    "# effecientnet= tf.keras.applications.EfficientNetB7(input_shape=size,include_top=False, weights='imagenet')\n",
    "# densenet=tf.keras.applications.DenseNet121(input_shape=size,include_top=False, weights='imagenet')\n",
    "# incepresnet=tf.keras.applications.InceptionResNetV2(input_shape=size,include_top=False, weights='imagenet')"
   ]
  },
  {
   "cell_type": "code",
   "execution_count": 18,
   "id": "cc4f233a",
   "metadata": {
    "execution": {
     "iopub.execute_input": "2023-04-08T17:01:14.726113Z",
     "iopub.status.busy": "2023-04-08T17:01:14.724313Z",
     "iopub.status.idle": "2023-04-08T17:01:14.731207Z",
     "shell.execute_reply": "2023-04-08T17:01:14.730001Z"
    },
    "papermill": {
     "duration": 0.023075,
     "end_time": "2023-04-08T17:01:14.733221",
     "exception": false,
     "start_time": "2023-04-08T17:01:14.710146",
     "status": "completed"
    },
    "tags": []
   },
   "outputs": [
    {
     "name": "stdout",
     "output_type": "stream",
     "text": [
      "KerasTensor(type_spec=TensorSpec(shape=(None, 14, 14, 2048), dtype=tf.float32, name=None), name='post_relu/Relu:0', description=\"created by layer 'post_relu'\")\n"
     ]
    }
   ],
   "source": [
    "# print(xception.output)\n",
    "print(resnet152.output)\n",
    "# print(mobilenet.output)\n",
    "# print(effecientnet.output)\n",
    "# print(densenet.output)\n",
    "# print(incepresnet.output)"
   ]
  },
  {
   "cell_type": "code",
   "execution_count": 19,
   "id": "6c2fbfab",
   "metadata": {
    "execution": {
     "iopub.execute_input": "2023-04-08T17:01:14.759636Z",
     "iopub.status.busy": "2023-04-08T17:01:14.759281Z",
     "iopub.status.idle": "2023-04-08T17:01:14.792478Z",
     "shell.execute_reply": "2023-04-08T17:01:14.791201Z"
    },
    "papermill": {
     "duration": 0.048849,
     "end_time": "2023-04-08T17:01:14.794708",
     "exception": false,
     "start_time": "2023-04-08T17:01:14.745859",
     "status": "completed"
    },
    "tags": []
   },
   "outputs": [],
   "source": [
    "name_and_freeze(resnet152,'resnet152_')\n",
    "# name_and_freeze(mobilenet,'mobilenet_')\n",
    "# name_and_freeze(xception,'xception_')\n",
    "# name_and_freeze(effecientnet,'effecientnet_')\n",
    "# name_and_freeze(densenet,'densenet_')\n",
    "# name_and_freeze(incepresnet,'incepResnet_')"
   ]
  },
  {
   "cell_type": "code",
   "execution_count": 20,
   "id": "24aa7956",
   "metadata": {
    "execution": {
     "iopub.execute_input": "2023-04-08T17:01:14.821873Z",
     "iopub.status.busy": "2023-04-08T17:01:14.821533Z",
     "iopub.status.idle": "2023-04-08T17:01:14.828322Z",
     "shell.execute_reply": "2023-04-08T17:01:14.827238Z"
    },
    "papermill": {
     "duration": 0.022832,
     "end_time": "2023-04-08T17:01:14.830579",
     "exception": false,
     "start_time": "2023-04-08T17:01:14.807747",
     "status": "completed"
    },
    "tags": []
   },
   "outputs": [],
   "source": [
    "def get_model(base_model):\n",
    "    x = tf.keras.layers.GlobalAveragePooling2D()(se_block(dilation_block(base_model.output,[2,3,5,7])))\n",
    "    x=tf.keras.layers.BatchNormalization(axis=-1, momentum=0.99, epsilon=0.001 )(x)\n",
    "    x = Dense(512, kernel_regularizer = regularizers.l2(l = 0.016),activity_regularizer=regularizers.l1(0.006),\n",
    "                    bias_regularizer=regularizers.l1(0.006) ,activation='relu')(x)\n",
    "    x=Dense(256,activation='relu')(x)\n",
    "    return Dense(128,activation='relu')(x)"
   ]
  },
  {
   "cell_type": "markdown",
   "id": "78f4bbac",
   "metadata": {
    "papermill": {
     "duration": 0.012413,
     "end_time": "2023-04-08T17:01:14.855647",
     "exception": false,
     "start_time": "2023-04-08T17:01:14.843234",
     "status": "completed"
    },
    "tags": []
   },
   "source": [
    "# fine tuning CNN models"
   ]
  },
  {
   "cell_type": "code",
   "execution_count": 21,
   "id": "ddcd1eb6",
   "metadata": {
    "execution": {
     "iopub.execute_input": "2023-04-08T17:01:14.882730Z",
     "iopub.status.busy": "2023-04-08T17:01:14.882366Z",
     "iopub.status.idle": "2023-04-08T17:01:15.040294Z",
     "shell.execute_reply": "2023-04-08T17:01:15.039273Z"
    },
    "papermill": {
     "duration": 0.174594,
     "end_time": "2023-04-08T17:01:15.042847",
     "exception": false,
     "start_time": "2023-04-08T17:01:14.868253",
     "status": "completed"
    },
    "tags": []
   },
   "outputs": [],
   "source": [
    "x_resnet152v2=get_model(resnet152)\n",
    "# x_xception=get_model(xception)\n",
    "# x_mobilenet=get_model(mobilenet)\n",
    "# # x_incepresnet=get_model(incepresnet)\n",
    "# x_effecientnet=get_model(effecientnet)\n",
    "# x_densenet=get_model(densenet)"
   ]
  },
  {
   "cell_type": "markdown",
   "id": "640aec6e",
   "metadata": {
    "papermill": {
     "duration": 0.011942,
     "end_time": "2023-04-08T17:01:15.067118",
     "exception": false,
     "start_time": "2023-04-08T17:01:15.055176",
     "status": "completed"
    },
    "tags": []
   },
   "source": [
    "# constructing full model"
   ]
  },
  {
   "cell_type": "code",
   "execution_count": 22,
   "id": "8e0ddd41",
   "metadata": {
    "execution": {
     "iopub.execute_input": "2023-04-08T17:01:15.093438Z",
     "iopub.status.busy": "2023-04-08T17:01:15.092724Z",
     "iopub.status.idle": "2023-04-08T17:01:15.142325Z",
     "shell.execute_reply": "2023-04-08T17:01:15.141298Z"
    },
    "papermill": {
     "duration": 0.065402,
     "end_time": "2023-04-08T17:01:15.144778",
     "exception": false,
     "start_time": "2023-04-08T17:01:15.079376",
     "status": "completed"
    },
    "tags": []
   },
   "outputs": [],
   "source": [
    "from tensorflow.keras.layers import concatenate\n",
    "concatenated = concatenate([x_vit_big,x_resnet152v2])\n",
    "bigmodel_prediction = Dense(len(train_images.class_indices), activation='softmax')(concatenated)\n",
    "model = Model([resnet152.input,vit_big.input], bigmodel_prediction) \n",
    "from tensorflow.keras.utils import plot_model"
   ]
  },
  {
   "cell_type": "code",
   "execution_count": 23,
   "id": "9573bc3c",
   "metadata": {
    "execution": {
     "iopub.execute_input": "2023-04-08T17:01:15.170753Z",
     "iopub.status.busy": "2023-04-08T17:01:15.170436Z",
     "iopub.status.idle": "2023-04-08T17:01:15.595619Z",
     "shell.execute_reply": "2023-04-08T17:01:15.594621Z"
    },
    "papermill": {
     "duration": 0.440502,
     "end_time": "2023-04-08T17:01:15.597832",
     "exception": false,
     "start_time": "2023-04-08T17:01:15.157330",
     "status": "completed"
    },
    "tags": []
   },
   "outputs": [
    {
     "name": "stdout",
     "output_type": "stream",
     "text": [
      "trainable parametres: 1257022 non trainable parametres: 145901424\n"
     ]
    }
   ],
   "source": [
    "trainable_params = sum([v.numpy().size for v in model.trainable_variables])\n",
    "non_trainable_params = sum([v.numpy().size for v in model.non_trainable_variables])\n",
    "print(\"trainable parametres: \"+ str(trainable_params) + \" non trainable parametres: \"+ str(non_trainable_params))"
   ]
  },
  {
   "cell_type": "markdown",
   "id": "78349c85",
   "metadata": {
    "papermill": {
     "duration": 0.012159,
     "end_time": "2023-04-08T17:01:15.622354",
     "exception": false,
     "start_time": "2023-04-08T17:01:15.610195",
     "status": "completed"
    },
    "tags": []
   },
   "source": [
    "# custom generator"
   ]
  },
  {
   "cell_type": "code",
   "execution_count": 24,
   "id": "bd3bf2a5",
   "metadata": {
    "execution": {
     "iopub.execute_input": "2023-04-08T17:01:15.648748Z",
     "iopub.status.busy": "2023-04-08T17:01:15.648377Z",
     "iopub.status.idle": "2023-04-08T17:01:15.653723Z",
     "shell.execute_reply": "2023-04-08T17:01:15.652622Z"
    },
    "papermill": {
     "duration": 0.021239,
     "end_time": "2023-04-08T17:01:15.656206",
     "exception": false,
     "start_time": "2023-04-08T17:01:15.634967",
     "status": "completed"
    },
    "tags": []
   },
   "outputs": [],
   "source": [
    "def generator_two_img(gen):\n",
    "    while True:\n",
    "        X1i = gen.next()\n",
    "        yield [X1i[0],X1i[0]], X1i[1]"
   ]
  },
  {
   "cell_type": "markdown",
   "id": "19397a12",
   "metadata": {
    "papermill": {
     "duration": 0.011906,
     "end_time": "2023-04-08T17:01:15.681644",
     "exception": false,
     "start_time": "2023-04-08T17:01:15.669738",
     "status": "completed"
    },
    "tags": []
   },
   "source": [
    "# training model"
   ]
  },
  {
   "cell_type": "code",
   "execution_count": 25,
   "id": "5115d83f",
   "metadata": {
    "execution": {
     "iopub.execute_input": "2023-04-08T17:01:15.707558Z",
     "iopub.status.busy": "2023-04-08T17:01:15.707184Z",
     "iopub.status.idle": "2023-04-08T17:01:15.730586Z",
     "shell.execute_reply": "2023-04-08T17:01:15.729594Z"
    },
    "papermill": {
     "duration": 0.03886,
     "end_time": "2023-04-08T17:01:15.732726",
     "exception": false,
     "start_time": "2023-04-08T17:01:15.693866",
     "status": "completed"
    },
    "tags": []
   },
   "outputs": [],
   "source": [
    "model.compile(loss=\"categorical_crossentropy\",optimizer=tf.optimizers.Adam(),metrics=['accuracy'])"
   ]
  },
  {
   "cell_type": "code",
   "execution_count": 26,
   "id": "d72ea360",
   "metadata": {
    "execution": {
     "iopub.execute_input": "2023-04-08T17:01:15.759467Z",
     "iopub.status.busy": "2023-04-08T17:01:15.758582Z",
     "iopub.status.idle": "2023-04-08T17:44:02.138627Z",
     "shell.execute_reply": "2023-04-08T17:44:02.137536Z"
    },
    "papermill": {
     "duration": 2566.396134,
     "end_time": "2023-04-08T17:44:02.141489",
     "exception": false,
     "start_time": "2023-04-08T17:01:15.745355",
     "status": "completed"
    },
    "tags": []
   },
   "outputs": [
    {
     "name": "stdout",
     "output_type": "stream",
     "text": [
      "Epoch 1/20\n",
      "31/31 [==============================] - 176s 5s/step - loss: 9.6998 - accuracy: 0.7560 - val_loss: 6.5975 - val_accuracy: 0.6354\n",
      "Epoch 2/20\n",
      "31/31 [==============================] - 129s 4s/step - loss: 4.1184 - accuracy: 0.8975 - val_loss: 2.9365 - val_accuracy: 0.7760\n",
      "Epoch 3/20\n",
      "31/31 [==============================] - 126s 4s/step - loss: 1.8198 - accuracy: 0.9191 - val_loss: 1.6223 - val_accuracy: 0.7865\n",
      "Epoch 4/20\n",
      "31/31 [==============================] - 124s 4s/step - loss: 0.9667 - accuracy: 0.9262 - val_loss: 1.1060 - val_accuracy: 0.8646\n",
      "Epoch 5/20\n",
      "31/31 [==============================] - 124s 4s/step - loss: 0.6178 - accuracy: 0.9324 - val_loss: 0.9079 - val_accuracy: 0.8542\n",
      "Epoch 6/20\n",
      "31/31 [==============================] - 123s 4s/step - loss: 0.4644 - accuracy: 0.9365 - val_loss: 0.7433 - val_accuracy: 0.8490\n",
      "Epoch 7/20\n",
      "31/31 [==============================] - 124s 4s/step - loss: 0.4091 - accuracy: 0.9370 - val_loss: 0.6132 - val_accuracy: 0.9010\n",
      "Epoch 8/20\n",
      "31/31 [==============================] - 122s 4s/step - loss: 0.3599 - accuracy: 0.9426 - val_loss: 0.5147 - val_accuracy: 0.8906\n",
      "Epoch 9/20\n",
      "31/31 [==============================] - 123s 4s/step - loss: 0.3205 - accuracy: 0.9493 - val_loss: 0.5038 - val_accuracy: 0.8698\n",
      "Epoch 10/20\n",
      "31/31 [==============================] - 123s 4s/step - loss: 0.2904 - accuracy: 0.9559 - val_loss: 0.4726 - val_accuracy: 0.8802\n",
      "Epoch 11/20\n",
      "31/31 [==============================] - 123s 4s/step - loss: 0.2685 - accuracy: 0.9554 - val_loss: 0.5114 - val_accuracy: 0.8802\n",
      "Epoch 12/20\n",
      "31/31 [==============================] - 123s 4s/step - loss: 0.2462 - accuracy: 0.9590 - val_loss: 0.3728 - val_accuracy: 0.8906\n",
      "Epoch 13/20\n",
      "31/31 [==============================] - 123s 4s/step - loss: 0.2376 - accuracy: 0.9590 - val_loss: 0.4070 - val_accuracy: 0.8646\n",
      "Epoch 14/20\n",
      "31/31 [==============================] - 122s 4s/step - loss: 0.2054 - accuracy: 0.9667 - val_loss: 0.4325 - val_accuracy: 0.8698\n",
      "Epoch 15/20\n",
      "31/31 [==============================] - 123s 4s/step - loss: 0.2085 - accuracy: 0.9647 - val_loss: 0.4403 - val_accuracy: 0.8802\n",
      "Epoch 16/20\n",
      "31/31 [==============================] - 122s 4s/step - loss: 0.2169 - accuracy: 0.9626 - val_loss: 0.5964 - val_accuracy: 0.8594\n",
      "Epoch 17/20\n",
      "31/31 [==============================] - 122s 4s/step - loss: 0.2145 - accuracy: 0.9585 - val_loss: 0.4927 - val_accuracy: 0.8802\n",
      "Epoch 18/20\n",
      "31/31 [==============================] - 124s 4s/step - loss: 0.2121 - accuracy: 0.9647 - val_loss: 0.4244 - val_accuracy: 0.9010\n",
      "Epoch 19/20\n",
      "31/31 [==============================] - 124s 4s/step - loss: 0.1784 - accuracy: 0.9728 - val_loss: 0.4354 - val_accuracy: 0.9115\n",
      "Epoch 20/20\n",
      "31/31 [==============================] - 124s 4s/step - loss: 0.1970 - accuracy: 0.9662 - val_loss: 0.3837 - val_accuracy: 0.9167\n"
     ]
    }
   ],
   "source": [
    "batch_size=64\n",
    "history = model.fit(\n",
    "    generator_two_img(train_images),\n",
    "    validation_data=generator_two_img(valid_images),\n",
    "    validation_steps=valid_images.n//batch_size,\n",
    "    validation_batch_size=batch_size,\n",
    "    steps_per_epoch=train_images.n//batch_size,\n",
    "    batch_size=batch_size,\n",
    "    epochs=20,\n",
    ")\n"
   ]
  },
  {
   "cell_type": "code",
   "execution_count": 27,
   "id": "ad42f484",
   "metadata": {
    "execution": {
     "iopub.execute_input": "2023-04-08T17:44:02.233039Z",
     "iopub.status.busy": "2023-04-08T17:44:02.232668Z",
     "iopub.status.idle": "2023-04-08T17:44:04.136909Z",
     "shell.execute_reply": "2023-04-08T17:44:04.135678Z"
    },
    "papermill": {
     "duration": 1.952536,
     "end_time": "2023-04-08T17:44:04.139638",
     "exception": false,
     "start_time": "2023-04-08T17:44:02.187102",
     "status": "completed"
    },
    "tags": []
   },
   "outputs": [
    {
     "name": "stderr",
     "output_type": "stream",
     "text": [
      "/opt/conda/lib/python3.7/site-packages/keras/utils/generic_utils.py:497: CustomMaskWarning: Custom mask layers require a config and must override get_config. When loading, the custom mask layer must be passed to the custom_objects argument.\n",
      "  category=CustomMaskWarning)\n"
     ]
    }
   ],
   "source": [
    "model.save('1vit1cnn.h5')"
   ]
  },
  {
   "cell_type": "markdown",
   "id": "35fb4029",
   "metadata": {
    "papermill": {
     "duration": 0.044366,
     "end_time": "2023-04-08T17:44:04.229263",
     "exception": false,
     "start_time": "2023-04-08T17:44:04.184897",
     "status": "completed"
    },
    "tags": []
   },
   "source": [
    "# performance evaluation"
   ]
  },
  {
   "cell_type": "code",
   "execution_count": 28,
   "id": "e087d7d2",
   "metadata": {
    "execution": {
     "iopub.execute_input": "2023-04-08T17:44:04.322176Z",
     "iopub.status.busy": "2023-04-08T17:44:04.321200Z",
     "iopub.status.idle": "2023-04-08T17:44:04.719812Z",
     "shell.execute_reply": "2023-04-08T17:44:04.718869Z"
    },
    "papermill": {
     "duration": 0.448459,
     "end_time": "2023-04-08T17:44:04.722054",
     "exception": false,
     "start_time": "2023-04-08T17:44:04.273595",
     "status": "completed"
    },
    "tags": []
   },
   "outputs": [
    {
     "name": "stderr",
     "output_type": "stream",
     "text": [
      "/opt/conda/lib/python3.7/site-packages/ipykernel_launcher.py:10: UserWarning: color is redundantly defined by the 'color' keyword argument and the fmt string \"go-\" (-> color='g'). The keyword argument will take precedence.\n",
      "  # Remove the CWD from sys.path while we load stuff.\n",
      "/opt/conda/lib/python3.7/site-packages/ipykernel_launcher.py:18: UserWarning: color is redundantly defined by the 'color' keyword argument and the fmt string \"g-o\" (-> color='g'). The keyword argument will take precedence.\n"
     ]
    },
    {
     "data": {
      "image/png": "[encoded data removed]",
      "text/plain": [
       "<Figure size 1440x720 with 2 Axes>"
      ]
     },
     "metadata": {
      "needs_background": "light"
     },
     "output_type": "display_data"
    }
   ],
   "source": [
    "epochs = list(range(len(history.history['accuracy'])))\n",
    "fig , ax = plt.subplots(1,2)\n",
    "train_acc = history.history['accuracy']\n",
    "train_loss = history.history['loss']\n",
    "val_acc = history.history['val_accuracy']\n",
    "val_loss = history.history['val_loss']\n",
    "\n",
    "fig.set_size_inches(20,10)\n",
    "\n",
    "ax[0].plot(epochs , train_acc , 'go-' ,color='r', label = 'Training Accuracy')\n",
    "ax[0].plot(epochs , val_acc , 'go-' , label = 'Validation Accuracy')\n",
    "ax[0].set_title('Training Accuracy')\n",
    "ax[0].legend()\n",
    "ax[0].set_xlabel(\"Epochs\")\n",
    "ax[0].set_ylabel(\"Accuracy\")\n",
    "\n",
    "\n",
    "ax[1].plot(epochs , train_loss , 'g-o' ,color='r', label = 'Training Loss')\n",
    "ax[1].plot(epochs , val_loss , 'go-' , label = 'Validation Loss')\n",
    "ax[1].set_title('Training Loss')\n",
    "ax[1].legend()\n",
    "ax[1].set_xlabel(\"Epochs\")\n",
    "ax[1].set_ylabel(\"Training Loss\")\n",
    "plt.show()"
   ]
  },
  {
   "cell_type": "code",
   "execution_count": 29,
   "id": "dd93831e",
   "metadata": {
    "execution": {
     "iopub.execute_input": "2023-04-08T17:44:04.815819Z",
     "iopub.status.busy": "2023-04-08T17:44:04.815479Z",
     "iopub.status.idle": "2023-04-08T17:44:07.235163Z",
     "shell.execute_reply": "2023-04-08T17:44:07.233764Z"
    },
    "papermill": {
     "duration": 2.468983,
     "end_time": "2023-04-08T17:44:07.237724",
     "exception": false,
     "start_time": "2023-04-08T17:44:04.768741",
     "status": "completed"
    },
    "tags": []
   },
   "outputs": [
    {
     "name": "stdout",
     "output_type": "stream",
     "text": [
      "Found 560 validated image filenames belonging to 7 classes.\n"
     ]
    }
   ],
   "source": [
    "test_generator = tf.keras.preprocessing.image.ImageDataGenerator(\n",
    "    rescale=1./255,\n",
    ")\n",
    "test_images = test_generator.flow_from_dataframe(\n",
    "    dataframe=test_data,\n",
    "    x_col='File',\n",
    "    y_col='class_',\n",
    "    target_size=(SIZE, SIZE),\n",
    "    color_mode='rgb',\n",
    "    class_mode='categorical',\n",
    "    batch_size=batch_size,\n",
    "    shuffle=False\n",
    ")"
   ]
  },
  {
   "cell_type": "code",
   "execution_count": 30,
   "id": "24c43a8d",
   "metadata": {
    "execution": {
     "iopub.execute_input": "2023-04-08T17:44:07.333419Z",
     "iopub.status.busy": "2023-04-08T17:44:07.333071Z",
     "iopub.status.idle": "2023-04-08T17:44:07.337667Z",
     "shell.execute_reply": "2023-04-08T17:44:07.336712Z"
    },
    "papermill": {
     "duration": 0.054752,
     "end_time": "2023-04-08T17:44:07.339853",
     "exception": false,
     "start_time": "2023-04-08T17:44:07.285101",
     "status": "completed"
    },
    "tags": []
   },
   "outputs": [],
   "source": [
    "class_=train_images.class_indices.keys()"
   ]
  },
  {
   "cell_type": "code",
   "execution_count": 31,
   "id": "9e748a24",
   "metadata": {
    "execution": {
     "iopub.execute_input": "2023-04-08T17:44:07.433414Z",
     "iopub.status.busy": "2023-04-08T17:44:07.432845Z",
     "iopub.status.idle": "2023-04-08T17:44:07.444179Z",
     "shell.execute_reply": "2023-04-08T17:44:07.443267Z"
    },
    "papermill": {
     "duration": 0.060871,
     "end_time": "2023-04-08T17:44:07.446238",
     "exception": false,
     "start_time": "2023-04-08T17:44:07.385367",
     "status": "completed"
    },
    "tags": []
   },
   "outputs": [],
   "source": [
    "def prediction_generator(test_images):\n",
    "    k=0\n",
    "    for x in test_images:\n",
    "        k+=len(x[1])\n",
    "        yield [x[0],x[0]], x[1]\n",
    "        if(k>=test_images.n):\n",
    "            break"
   ]
  },
  {
   "cell_type": "code",
   "execution_count": 32,
   "id": "95f50100",
   "metadata": {
    "execution": {
     "iopub.execute_input": "2023-04-08T17:44:07.539146Z",
     "iopub.status.busy": "2023-04-08T17:44:07.538560Z",
     "iopub.status.idle": "2023-04-08T17:44:29.241944Z",
     "shell.execute_reply": "2023-04-08T17:44:29.240970Z"
    },
    "papermill": {
     "duration": 21.751998,
     "end_time": "2023-04-08T17:44:29.244262",
     "exception": false,
     "start_time": "2023-04-08T17:44:07.492264",
     "status": "completed"
    },
    "tags": []
   },
   "outputs": [
    {
     "data": {
      "text/plain": [
       "0.9125"
      ]
     },
     "execution_count": 32,
     "metadata": {},
     "output_type": "execute_result"
    }
   ],
   "source": [
    "from sklearn.metrics import accuracy_score\n",
    "proba=model.predict(prediction_generator(test_images))\n",
    "predicted = np.argmax(proba,axis=1)\n",
    "true=test_images.labels\n",
    "accuracy_score(predicted, true)"
   ]
  },
  {
   "cell_type": "code",
   "execution_count": 33,
   "id": "6184b34c",
   "metadata": {
    "execution": {
     "iopub.execute_input": "2023-04-08T17:44:29.338655Z",
     "iopub.status.busy": "2023-04-08T17:44:29.337583Z",
     "iopub.status.idle": "2023-04-08T17:44:30.138920Z",
     "shell.execute_reply": "2023-04-08T17:44:30.137989Z"
    },
    "papermill": {
     "duration": 0.850386,
     "end_time": "2023-04-08T17:44:30.140992",
     "exception": false,
     "start_time": "2023-04-08T17:44:29.290606",
     "status": "completed"
    },
    "tags": []
   },
   "outputs": [
    {
     "data": {
      "image/png": "[encoded data removed]",
      "text/plain": [
       "<Figure size 1152x1008 with 2 Axes>"
      ]
     },
     "metadata": {
      "needs_background": "light"
     },
     "output_type": "display_data"
    }
   ],
   "source": [
    "from sklearn.metrics import confusion_matrix\n",
    "import seaborn as sns\n",
    "class_=test_images.class_indices.keys()\n",
    "cm = confusion_matrix(true, predicted)\n",
    "fig = plt.figure(figsize=(16, 14))\n",
    "ax= plt.subplot()\n",
    "sns.heatmap(cm, annot=True, ax = ax,cmap=\"BuPu\"); \n",
    "ax.set_xlabel('Predicted', fontsize=20)\n",
    "ax.xaxis.set_label_position('bottom')\n",
    "plt.xticks(rotation=90)\n",
    "ax.xaxis.set_ticklabels(class_, fontsize = 10)\n",
    "ax.xaxis.tick_bottom()\n",
    "\n",
    "ax.set_ylabel('True', fontsize=20)\n",
    "ax.yaxis.set_ticklabels(class_, fontsize = 10)\n",
    "plt.yticks(rotation=0)\n",
    "\n",
    "plt.title('', fontsize=60)\n",
    "\n",
    "plt.savefig('ConMat24.png')\n",
    "plt.show()"
   ]
  },
  {
   "cell_type": "markdown",
   "id": "8278f7fb",
   "metadata": {
    "papermill": {
     "duration": 0.045607,
     "end_time": "2023-04-08T17:44:30.233270",
     "exception": false,
     "start_time": "2023-04-08T17:44:30.187663",
     "status": "completed"
    },
    "tags": []
   },
   "source": [
    "# ROC"
   ]
  },
  {
   "cell_type": "code",
   "execution_count": 34,
   "id": "c73806ac",
   "metadata": {
    "execution": {
     "iopub.execute_input": "2023-04-08T17:44:30.327679Z",
     "iopub.status.busy": "2023-04-08T17:44:30.326590Z",
     "iopub.status.idle": "2023-04-08T17:44:30.638674Z",
     "shell.execute_reply": "2023-04-08T17:44:30.637710Z"
    },
    "papermill": {
     "duration": 0.36177,
     "end_time": "2023-04-08T17:44:30.641051",
     "exception": false,
     "start_time": "2023-04-08T17:44:30.279281",
     "status": "completed"
    },
    "tags": []
   },
   "outputs": [
    {
     "data": {
      "image/png": "[encoded data removed]",
      "text/plain": [
       "<Figure size 720x1152 with 1 Axes>"
      ]
     },
     "metadata": {
      "needs_background": "light"
     },
     "output_type": "display_data"
    }
   ],
   "source": [
    "from sklearn.metrics import roc_curve, roc_auc_score\n",
    "from matplotlib import cm\n",
    "n=len(true)\n",
    "dim=max(true)+1\n",
    "result=[]\n",
    "for i in true:\n",
    "    result.append([0 for i in range(dim)])\n",
    "    result[len(result)-1][i]=1\n",
    "    \n",
    "    \n",
    "fpr = dict()\n",
    "tpr = dict()\n",
    "roc_auc = dict()\n",
    "n_classes =len(test_images.class_indices.keys())\n",
    "y_test=np.array(result)\n",
    "y_pred=np.array(proba)\n",
    "fpr = dict()\n",
    "tpr = dict()\n",
    "roc_auc = dict()\n",
    "\n",
    "rev={}\n",
    "for i in class_:\n",
    "    rev[train_images.class_indices[i]]=i\n",
    "\n",
    "\n",
    "for i in range(n_classes):\n",
    "    fpr[i], tpr[i], _ = roc_curve(y_test[:, i], y_pred[:, i])\n",
    "    roc_auc[i] = roc_auc_score(y_test[:, i], y_pred[:, i])\n",
    "\n",
    "\n",
    "fpr[\"micro\"], tpr[\"micro\"], _ = roc_curve(y_test.ravel(), y_pred.ravel())\n",
    "roc_auc[\"micro\"] = roc_auc_score(y_test, y_pred, multi_class='ovr')\n",
    "\n",
    "\n",
    "cmap = cm.get_cmap('tab10')\n",
    "\n",
    "# Plot the ROC curve for each class and micro-average with automatic color selection\n",
    "plt.figure(figsize=(10,16))\n",
    "lw = 2\n",
    "for i in range(n_classes):\n",
    "    color = cmap(i)\n",
    "    plt.plot(fpr[i], tpr[i], color=color, lw=lw,\n",
    "             label='ROC curve of class {0} (area = {1:0.2f})'\n",
    "             ''.format(rev[i], roc_auc[i]))\n",
    "\n",
    "plt.plot(fpr[\"micro\"], tpr[\"micro\"],\n",
    "         label='micro-average ROC curve (area = {0:0.2f})'\n",
    "         ''.format(roc_auc[\"micro\"]),\n",
    "         color=cmap(n_classes), linestyle=':', linewidth=4)\n",
    "\n",
    "plt.plot([0, 1], [0, 1], 'k--', lw=lw)\n",
    "plt.xlim([0.0, 1.0])\n",
    "plt.ylim([0.0, 1.05])\n",
    "plt.xlabel('False Positive Rate')\n",
    "plt.ylabel('True Positive Rate')\n",
    "plt.title('ROC Curve')\n",
    "plt.legend(loc=\"lower right\")\n",
    "plt.show()\n"
   ]
  },
  {
   "cell_type": "markdown",
   "id": "fbe234ba",
   "metadata": {
    "papermill": {
     "duration": 0.046847,
     "end_time": "2023-04-08T17:44:30.737880",
     "exception": false,
     "start_time": "2023-04-08T17:44:30.691033",
     "status": "completed"
    },
    "tags": []
   },
   "source": [
    "# AUC"
   ]
  },
  {
   "cell_type": "code",
   "execution_count": 35,
   "id": "64703ace",
   "metadata": {
    "execution": {
     "iopub.execute_input": "2023-04-08T17:44:30.832884Z",
     "iopub.status.busy": "2023-04-08T17:44:30.832524Z",
     "iopub.status.idle": "2023-04-08T17:44:31.033913Z",
     "shell.execute_reply": "2023-04-08T17:44:31.032926Z"
    },
    "papermill": {
     "duration": 0.251696,
     "end_time": "2023-04-08T17:44:31.035989",
     "exception": false,
     "start_time": "2023-04-08T17:44:30.784293",
     "status": "completed"
    },
    "tags": []
   },
   "outputs": [
    {
     "data": {
      "image/png": "[encoded data removed]",
      "text/plain": [
       "<Figure size 432x288 with 1 Axes>"
      ]
     },
     "metadata": {
      "needs_background": "light"
     },
     "output_type": "display_data"
    }
   ],
   "source": [
    "from sklearn.metrics import roc_curve, auc\n",
    "import matplotlib.pyplot as plt\n",
    "\n",
    "y_true=y_test\n",
    "y_score=y_pred\n",
    "fpr, tpr, thresholds = roc_curve(y_test.ravel(), y_pred.ravel())\n",
    "roc_auc = auc(fpr, tpr)\n",
    "\n",
    "plt.figure()\n",
    "lw = 2\n",
    "plt.plot(fpr, tpr, color='darkorange',\n",
    "         lw=lw, label='ROC curve (area = %0.2f)' % roc_auc)\n",
    "plt.plot([0, 1], [0, 1], color='navy', lw=lw, linestyle='--')\n",
    "plt.xlim([0.0, 1.0])\n",
    "plt.ylim([0.0, 1.05])\n",
    "plt.xlabel('False Positive Rate')\n",
    "plt.ylabel('True Positive Rate')\n",
    "plt.title('AUC Curve')\n",
    "plt.legend(loc=\"lower right\")\n",
    "plt.show()"
   ]
  }
 ],
 "metadata": {
  "kernelspec": {
   "display_name": "Python 3",
   "language": "python",
   "name": "python3"
  },
  "language_info": {
   "codemirror_mode": {
    "name": "ipython",
    "version": 3
   },
   "file_extension": ".py",
   "mimetype": "text/x-python",
   "name": "python",
   "nbconvert_exporter": "python",
   "pygments_lexer": "ipython3",
   "version": "3.7.12"
  },
  "papermill": {
   "default_parameters": {},
   "duration": 2649.578893,
   "end_time": "2023-04-08T17:44:34.664172",
   "environment_variables": {},
   "exception": null,
   "input_path": "__notebook__.ipynb",
   "output_path": "__notebook__.ipynb",
   "parameters": {},
   "start_time": "2023-04-08T17:00:25.085279",
   "version": "2.3.4"
  }
 },
 "nbformat": 4,
 "nbformat_minor": 5
}
