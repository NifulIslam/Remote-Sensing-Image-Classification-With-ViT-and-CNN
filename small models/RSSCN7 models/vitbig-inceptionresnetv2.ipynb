{
 "cells": [
  {
   "cell_type": "markdown",
   "id": "2dcdc46e",
   "metadata": {
    "papermill": {
     "duration": 0.009849,
     "end_time": "2023-04-09T15:07:22.981212",
     "exception": false,
     "start_time": "2023-04-09T15:07:22.971363",
     "status": "completed"
    },
    "tags": []
   },
   "source": [
    "# basic imports"
   ]
  },
  {
   "cell_type": "code",
   "execution_count": 1,
   "id": "45584dcd",
   "metadata": {
    "_cell_guid": "b1076dfc-b9ad-4769-8c92-a6c4dae69d19",
    "_uuid": "8f2839f25d086af736a60e9eeb907d3b93b6e0e5",
    "execution": {
     "iopub.execute_input": "2023-04-09T15:07:23.000727Z",
     "iopub.status.busy": "2023-04-09T15:07:22.999891Z",
     "iopub.status.idle": "2023-04-09T15:07:40.726240Z",
     "shell.execute_reply": "2023-04-09T15:07:40.725135Z"
    },
    "papermill": {
     "duration": 17.73906,
     "end_time": "2023-04-09T15:07:40.728926",
     "exception": false,
     "start_time": "2023-04-09T15:07:22.989866",
     "status": "completed"
    },
    "tags": []
   },
   "outputs": [
    {
     "name": "stdout",
     "output_type": "stream",
     "text": [
      "\u001b[33mWARNING: Running pip as the 'root' user can result in broken permissions and conflicting behaviour with the system package manager. It is recommended to use a virtual environment instead: https://pip.pypa.io/warnings/venv\u001b[0m\u001b[33m\r\n",
      "\u001b[0m"
     ]
    }
   ],
   "source": [
    "import numpy as np \n",
    "import pandas as pd\n",
    "import os\n",
    "import cv2\n",
    "import tensorflow\n",
    "import glob\n",
    "from matplotlib import pyplot as plt\n",
    "from tensorflow.keras.layers import Input, Lambda, Dense, Flatten,Dropout\n",
    "from tensorflow.keras.models import Model\n",
    "from tensorflow.keras.applications.inception_v3 import InceptionV3\n",
    "from tensorflow.keras.preprocessing import image\n",
    "from tensorflow.keras.preprocessing.image import ImageDataGenerator\n",
    "from tensorflow.keras.models import Sequential\n",
    "from tensorflow.keras.applications.vgg16 import VGG16\n",
    "from tensorflow.keras.applications.vgg19 import VGG19\n",
    "from tensorflow.keras.applications import EfficientNetB0\n",
    "import tensorflow as tf \n",
    "from tensorflow.keras import layers\n",
    "!pip install --quiet vit-keras\n",
    "from vit_keras import vit\n",
    "from tensorflow.keras.applications.resnet50 import ResNet50"
   ]
  },
  {
   "cell_type": "markdown",
   "id": "e0af9f6a",
   "metadata": {
    "papermill": {
     "duration": 0.00823,
     "end_time": "2023-04-09T15:07:40.745918",
     "exception": false,
     "start_time": "2023-04-09T15:07:40.737688",
     "status": "completed"
    },
    "tags": []
   },
   "source": [
    "# Reading Data"
   ]
  },
  {
   "cell_type": "code",
   "execution_count": 2,
   "id": "cafae3f2",
   "metadata": {
    "execution": {
     "iopub.execute_input": "2023-04-09T15:07:40.767047Z",
     "iopub.status.busy": "2023-04-09T15:07:40.765299Z",
     "iopub.status.idle": "2023-04-09T15:07:40.770443Z",
     "shell.execute_reply": "2023-04-09T15:07:40.769576Z"
    },
    "papermill": {
     "duration": 0.016828,
     "end_time": "2023-04-09T15:07:40.772438",
     "exception": false,
     "start_time": "2023-04-09T15:07:40.755610",
     "status": "completed"
    },
    "tags": []
   },
   "outputs": [],
   "source": [
    "#ucm\n",
    "# train_data=pd.read_csv(\"/kaggle/input/satelite-csv/train.csv\")\n",
    "# train_data['File']=train_data['File'].apply(lambda x : '/kaggle/input/satelite-images/Images/'+x)\n",
    "# test_data=pd.read_csv(\"/kaggle/input/satelite-csv/test.csv\")\n",
    "# test_data['File']=test_data['File'].apply(lambda x : '/kaggle/input/satelite-images/Images/'+x)"
   ]
  },
  {
   "cell_type": "code",
   "execution_count": 3,
   "id": "6907b5a6",
   "metadata": {
    "execution": {
     "iopub.execute_input": "2023-04-09T15:07:40.790900Z",
     "iopub.status.busy": "2023-04-09T15:07:40.790099Z",
     "iopub.status.idle": "2023-04-09T15:07:40.834557Z",
     "shell.execute_reply": "2023-04-09T15:07:40.833674Z"
    },
    "papermill": {
     "duration": 0.055941,
     "end_time": "2023-04-09T15:07:40.836734",
     "exception": false,
     "start_time": "2023-04-09T15:07:40.780793",
     "status": "completed"
    },
    "tags": []
   },
   "outputs": [],
   "source": [
    "# rsscn7\n",
    "train_data=pd.read_csv(\"/kaggle/input/rsscn7-dataset/gamma-correct/train.csv\")\n",
    "train_data['File']=train_data['File'].apply(lambda x : '/kaggle/input/rsscn7-dataset/gamma-correct/'+x)\n",
    "test_data=pd.read_csv(\"/kaggle/input/rsscn7-dataset/gamma-correct/test.csv\")\n",
    "test_data['File']=test_data['File'].apply(lambda x : '/kaggle/input/rsscn7-dataset/gamma-correct/'+x)"
   ]
  },
  {
   "cell_type": "code",
   "execution_count": 4,
   "id": "3fd8d041",
   "metadata": {
    "execution": {
     "iopub.execute_input": "2023-04-09T15:07:40.861661Z",
     "iopub.status.busy": "2023-04-09T15:07:40.861356Z",
     "iopub.status.idle": "2023-04-09T15:07:40.886163Z",
     "shell.execute_reply": "2023-04-09T15:07:40.882393Z"
    },
    "papermill": {
     "duration": 0.038694,
     "end_time": "2023-04-09T15:07:40.890756",
     "exception": false,
     "start_time": "2023-04-09T15:07:40.852062",
     "status": "completed"
    },
    "tags": []
   },
   "outputs": [
    {
     "data": {
      "text/html": [
       "<div>\n",
       "<style scoped>\n",
       "    .dataframe tbody tr th:only-of-type {\n",
       "        vertical-align: middle;\n",
       "    }\n",
       "\n",
       "    .dataframe tbody tr th {\n",
       "        vertical-align: top;\n",
       "    }\n",
       "\n",
       "    .dataframe thead th {\n",
       "        text-align: right;\n",
       "    }\n",
       "</style>\n",
       "<table border=\"1\" class=\"dataframe\">\n",
       "  <thead>\n",
       "    <tr style=\"text-align: right;\">\n",
       "      <th></th>\n",
       "      <th>File</th>\n",
       "      <th>class_</th>\n",
       "    </tr>\n",
       "  </thead>\n",
       "  <tbody>\n",
       "    <tr>\n",
       "      <th>1513</th>\n",
       "      <td>/kaggle/input/rsscn7-dataset/gamma-correct/Riv...</td>\n",
       "      <td>River</td>\n",
       "    </tr>\n",
       "    <tr>\n",
       "      <th>1396</th>\n",
       "      <td>/kaggle/input/rsscn7-dataset/gamma-correct/Riv...</td>\n",
       "      <td>River</td>\n",
       "    </tr>\n",
       "    <tr>\n",
       "      <th>561</th>\n",
       "      <td>/kaggle/input/rsscn7-dataset/gamma-correct/Ind...</td>\n",
       "      <td>Industry</td>\n",
       "    </tr>\n",
       "    <tr>\n",
       "      <th>2146</th>\n",
       "      <td>/kaggle/input/rsscn7-dataset/gamma-correct/Gra...</td>\n",
       "      <td>Grass</td>\n",
       "    </tr>\n",
       "    <tr>\n",
       "      <th>1754</th>\n",
       "      <td>/kaggle/input/rsscn7-dataset/gamma-correct/Par...</td>\n",
       "      <td>Parking</td>\n",
       "    </tr>\n",
       "    <tr>\n",
       "      <th>...</th>\n",
       "      <td>...</td>\n",
       "      <td>...</td>\n",
       "    </tr>\n",
       "    <tr>\n",
       "      <th>152</th>\n",
       "      <td>/kaggle/input/rsscn7-dataset/gamma-correct/Res...</td>\n",
       "      <td>Resident</td>\n",
       "    </tr>\n",
       "    <tr>\n",
       "      <th>1055</th>\n",
       "      <td>/kaggle/input/rsscn7-dataset/gamma-correct/Gra...</td>\n",
       "      <td>Grass</td>\n",
       "    </tr>\n",
       "    <tr>\n",
       "      <th>1451</th>\n",
       "      <td>/kaggle/input/rsscn7-dataset/gamma-correct/For...</td>\n",
       "      <td>Forest</td>\n",
       "    </tr>\n",
       "    <tr>\n",
       "      <th>1884</th>\n",
       "      <td>/kaggle/input/rsscn7-dataset/gamma-correct/Res...</td>\n",
       "      <td>Resident</td>\n",
       "    </tr>\n",
       "    <tr>\n",
       "      <th>290</th>\n",
       "      <td>/kaggle/input/rsscn7-dataset/gamma-correct/Ind...</td>\n",
       "      <td>Industry</td>\n",
       "    </tr>\n",
       "  </tbody>\n",
       "</table>\n",
       "<p>2240 rows × 2 columns</p>\n",
       "</div>"
      ],
      "text/plain": [
       "                                                   File    class_\n",
       "1513  /kaggle/input/rsscn7-dataset/gamma-correct/Riv...     River\n",
       "1396  /kaggle/input/rsscn7-dataset/gamma-correct/Riv...     River\n",
       "561   /kaggle/input/rsscn7-dataset/gamma-correct/Ind...  Industry\n",
       "2146  /kaggle/input/rsscn7-dataset/gamma-correct/Gra...     Grass\n",
       "1754  /kaggle/input/rsscn7-dataset/gamma-correct/Par...   Parking\n",
       "...                                                 ...       ...\n",
       "152   /kaggle/input/rsscn7-dataset/gamma-correct/Res...  Resident\n",
       "1055  /kaggle/input/rsscn7-dataset/gamma-correct/Gra...     Grass\n",
       "1451  /kaggle/input/rsscn7-dataset/gamma-correct/For...    Forest\n",
       "1884  /kaggle/input/rsscn7-dataset/gamma-correct/Res...  Resident\n",
       "290   /kaggle/input/rsscn7-dataset/gamma-correct/Ind...  Industry\n",
       "\n",
       "[2240 rows x 2 columns]"
      ]
     },
     "execution_count": 4,
     "metadata": {},
     "output_type": "execute_result"
    }
   ],
   "source": [
    "train_data=train_data.sample(frac=1)\n",
    "train_data"
   ]
  },
  {
   "cell_type": "code",
   "execution_count": 5,
   "id": "70b229ba",
   "metadata": {
    "execution": {
     "iopub.execute_input": "2023-04-09T15:07:40.924302Z",
     "iopub.status.busy": "2023-04-09T15:07:40.923986Z",
     "iopub.status.idle": "2023-04-09T15:07:40.928365Z",
     "shell.execute_reply": "2023-04-09T15:07:40.927488Z"
    },
    "papermill": {
     "duration": 0.02365,
     "end_time": "2023-04-09T15:07:40.932286",
     "exception": false,
     "start_time": "2023-04-09T15:07:40.908636",
     "status": "completed"
    },
    "tags": []
   },
   "outputs": [],
   "source": [
    "SIZE=448\n",
    "size = [SIZE, SIZE ,3]"
   ]
  },
  {
   "cell_type": "code",
   "execution_count": 6,
   "id": "5a4e141b",
   "metadata": {
    "execution": {
     "iopub.execute_input": "2023-04-09T15:07:40.959562Z",
     "iopub.status.busy": "2023-04-09T15:07:40.959195Z",
     "iopub.status.idle": "2023-04-09T15:07:40.966061Z",
     "shell.execute_reply": "2023-04-09T15:07:40.965211Z"
    },
    "papermill": {
     "duration": 0.02351,
     "end_time": "2023-04-09T15:07:40.968610",
     "exception": false,
     "start_time": "2023-04-09T15:07:40.945100",
     "status": "completed"
    },
    "tags": []
   },
   "outputs": [],
   "source": [
    "train_datagen = ImageDataGenerator(\n",
    "    rescale=1.0 / 255,\n",
    "    rotation_range=40,\n",
    "    width_shift_range=0.2,\n",
    "    height_shift_range=0.2,\n",
    "    shear_range=0.2,\n",
    "    zoom_range=0.2,\n",
    "    horizontal_flip=True,\n",
    "    validation_split=.1,\n",
    "    fill_mode=\"nearest\",\n",
    ")\n",
    "batch_size=64"
   ]
  },
  {
   "cell_type": "code",
   "execution_count": 7,
   "id": "0e39b6be",
   "metadata": {
    "execution": {
     "iopub.execute_input": "2023-04-09T15:07:40.994398Z",
     "iopub.status.busy": "2023-04-09T15:07:40.993995Z",
     "iopub.status.idle": "2023-04-09T15:07:45.562575Z",
     "shell.execute_reply": "2023-04-09T15:07:45.560862Z"
    },
    "papermill": {
     "duration": 4.583697,
     "end_time": "2023-04-09T15:07:45.564727",
     "exception": false,
     "start_time": "2023-04-09T15:07:40.981030",
     "status": "completed"
    },
    "tags": []
   },
   "outputs": [
    {
     "name": "stdout",
     "output_type": "stream",
     "text": [
      "Found 2016 validated image filenames belonging to 7 classes.\n",
      "Found 224 validated image filenames belonging to 7 classes.\n"
     ]
    }
   ],
   "source": [
    "train_images = train_datagen.flow_from_dataframe(\n",
    "    dataframe=train_data,\n",
    "    x_col='File',\n",
    "    y_col='class_',\n",
    "    target_size=(SIZE, SIZE),\n",
    "    color_mode='rgb',\n",
    "    class_mode='categorical',\n",
    "    batch_size=batch_size,\n",
    "    shuffle=True,\n",
    "    seed=42,\n",
    "    subset='training'\n",
    ")\n",
    "valid_images = train_datagen.flow_from_dataframe(\n",
    "    dataframe=train_data,\n",
    "    x_col='File',\n",
    "    y_col='class_',\n",
    "    target_size=(SIZE, SIZE),\n",
    "    color_mode='rgb',\n",
    "    class_mode='categorical',\n",
    "    batch_size=batch_size,\n",
    "    shuffle=True,\n",
    "    seed=42,\n",
    "    subset='validation'\n",
    ")\n"
   ]
  },
  {
   "cell_type": "markdown",
   "id": "c07801c4",
   "metadata": {
    "papermill": {
     "duration": 0.008764,
     "end_time": "2023-04-09T15:07:45.582456",
     "exception": false,
     "start_time": "2023-04-09T15:07:45.573692",
     "status": "completed"
    },
    "tags": []
   },
   "source": [
    "# freezing nescessary pararametres"
   ]
  },
  {
   "cell_type": "code",
   "execution_count": 8,
   "id": "8006107c",
   "metadata": {
    "execution": {
     "iopub.execute_input": "2023-04-09T15:07:45.602531Z",
     "iopub.status.busy": "2023-04-09T15:07:45.600850Z",
     "iopub.status.idle": "2023-04-09T15:07:46.058101Z",
     "shell.execute_reply": "2023-04-09T15:07:46.057153Z"
    },
    "papermill": {
     "duration": 0.469344,
     "end_time": "2023-04-09T15:07:46.060488",
     "exception": false,
     "start_time": "2023-04-09T15:07:45.591144",
     "status": "completed"
    },
    "tags": []
   },
   "outputs": [],
   "source": [
    "import tensorflow_hub as hub"
   ]
  },
  {
   "cell_type": "code",
   "execution_count": 9,
   "id": "49b9a680",
   "metadata": {
    "execution": {
     "iopub.execute_input": "2023-04-09T15:07:46.080487Z",
     "iopub.status.busy": "2023-04-09T15:07:46.080168Z",
     "iopub.status.idle": "2023-04-09T15:07:46.085200Z",
     "shell.execute_reply": "2023-04-09T15:07:46.084201Z"
    },
    "papermill": {
     "duration": 0.01764,
     "end_time": "2023-04-09T15:07:46.087286",
     "exception": false,
     "start_time": "2023-04-09T15:07:46.069646",
     "status": "completed"
    },
    "tags": []
   },
   "outputs": [],
   "source": [
    "def get_from_hub(model_url):\n",
    "    inputs = tf.keras.Input((batch_size,SIZE, SIZE, 3))\n",
    "    hub_module = hub.KerasLayer(model_url,trainable=False)\n",
    "    outputs = hub_module(inputs)\n",
    "    return tf.keras.Model(inputs, outputs)"
   ]
  },
  {
   "cell_type": "code",
   "execution_count": 10,
   "id": "94feafb9",
   "metadata": {
    "execution": {
     "iopub.execute_input": "2023-04-09T15:07:46.106360Z",
     "iopub.status.busy": "2023-04-09T15:07:46.106064Z",
     "iopub.status.idle": "2023-04-09T15:07:46.111082Z",
     "shell.execute_reply": "2023-04-09T15:07:46.110060Z"
    },
    "papermill": {
     "duration": 0.016821,
     "end_time": "2023-04-09T15:07:46.113074",
     "exception": false,
     "start_time": "2023-04-09T15:07:46.096253",
     "status": "completed"
    },
    "tags": []
   },
   "outputs": [],
   "source": [
    "def name_and_freeze(model,name=\"\"):\n",
    "    for layer in model.layers[:]:\n",
    "      layer.trainable = False\n",
    "    for layer in model.layers:\n",
    "        layer._name = layer.name + str(name)\n",
    "    "
   ]
  },
  {
   "cell_type": "code",
   "execution_count": 11,
   "id": "c1940efc",
   "metadata": {
    "execution": {
     "iopub.execute_input": "2023-04-09T15:07:46.131894Z",
     "iopub.status.busy": "2023-04-09T15:07:46.131126Z",
     "iopub.status.idle": "2023-04-09T15:07:46.137269Z",
     "shell.execute_reply": "2023-04-09T15:07:46.136443Z"
    },
    "papermill": {
     "duration": 0.017415,
     "end_time": "2023-04-09T15:07:46.139174",
     "exception": false,
     "start_time": "2023-04-09T15:07:46.121759",
     "status": "completed"
    },
    "tags": []
   },
   "outputs": [],
   "source": [
    "def se_block(inputs):\n",
    "    input_channels = inputs.shape[-1]\n",
    "    x = tf.keras.layers.GlobalAveragePooling2D()(inputs)\n",
    "    x = tf.keras.layers.Dense(units=len(train_images.class_indices.keys()), activation=\"relu\")(x)    \n",
    "    x = tf.keras.layers.Dense(units=input_channels, activation=\"sigmoid\")(x)    \n",
    "    x = tf.reshape(x, [-1, 1, 1, input_channels])\n",
    "    x = inputs * x\n",
    "    return x"
   ]
  },
  {
   "cell_type": "code",
   "execution_count": 12,
   "id": "d615cbc0",
   "metadata": {
    "execution": {
     "iopub.execute_input": "2023-04-09T15:07:46.158032Z",
     "iopub.status.busy": "2023-04-09T15:07:46.157291Z",
     "iopub.status.idle": "2023-04-09T15:07:46.163460Z",
     "shell.execute_reply": "2023-04-09T15:07:46.162661Z"
    },
    "papermill": {
     "duration": 0.01746,
     "end_time": "2023-04-09T15:07:46.165346",
     "exception": false,
     "start_time": "2023-04-09T15:07:46.147886",
     "status": "completed"
    },
    "tags": []
   },
   "outputs": [],
   "source": [
    "def dilation_block(inputs,dilation_rates):\n",
    "    outputs = []\n",
    "    for dilation_rate in dilation_rates:\n",
    "        x = tf.keras.layers.Conv2D(filters=len(train_images.class_indices.keys()), kernel_size=3, strides=1, padding=\"same\", dilation_rate=dilation_rate)(inputs)\n",
    "        x = tf.keras.layers.BatchNormalization()(x)\n",
    "        x = tf.keras.layers.ReLU()(x)\n",
    "        outputs.append(x)\n",
    "    x = tf.keras.layers.Concatenate(axis=-1)(outputs)\n",
    "    return x"
   ]
  },
  {
   "cell_type": "markdown",
   "id": "cc04de15",
   "metadata": {
    "papermill": {
     "duration": 0.008425,
     "end_time": "2023-04-09T15:07:46.182384",
     "exception": false,
     "start_time": "2023-04-09T15:07:46.173959",
     "status": "completed"
    },
    "tags": []
   },
   "source": [
    "# Importing Vit"
   ]
  },
  {
   "cell_type": "code",
   "execution_count": 13,
   "id": "9b5613b2",
   "metadata": {
    "execution": {
     "iopub.execute_input": "2023-04-09T15:07:46.201257Z",
     "iopub.status.busy": "2023-04-09T15:07:46.200509Z",
     "iopub.status.idle": "2023-04-09T15:07:57.987125Z",
     "shell.execute_reply": "2023-04-09T15:07:57.985820Z"
    },
    "papermill": {
     "duration": 11.801804,
     "end_time": "2023-04-09T15:07:57.992975",
     "exception": false,
     "start_time": "2023-04-09T15:07:46.191171",
     "status": "completed"
    },
    "tags": []
   },
   "outputs": [
    {
     "name": "stdout",
     "output_type": "stream",
     "text": [
      "Downloading data from https://github.com/faustomorales/vit-keras/releases/download/dl/ViT-B_32_imagenet21k+imagenet2012.npz\n",
      "353255424/353253686 [==============================] - 6s 0us/step\n",
      "353263616/353253686 [==============================] - 6s 0us/step\n"
     ]
    },
    {
     "name": "stderr",
     "output_type": "stream",
     "text": [
      "/opt/conda/lib/python3.7/site-packages/vit_keras/utils.py:83: UserWarning: Resizing position embeddings from 12, 12 to 14, 14\n",
      "  UserWarning,\n"
     ]
    }
   ],
   "source": [
    "vit_big = vit.vit_b32(\n",
    "        image_size = SIZE,\n",
    "        activation = 'softmax',\n",
    "        pretrained = True,\n",
    "        include_top = False,\n",
    "        pretrained_top = False,\n",
    "        )"
   ]
  },
  {
   "cell_type": "code",
   "execution_count": 14,
   "id": "f1eabfe1",
   "metadata": {
    "execution": {
     "iopub.execute_input": "2023-04-09T15:07:58.030084Z",
     "iopub.status.busy": "2023-04-09T15:07:58.029736Z",
     "iopub.status.idle": "2023-04-09T15:07:58.033995Z",
     "shell.execute_reply": "2023-04-09T15:07:58.033065Z"
    },
    "papermill": {
     "duration": 0.022102,
     "end_time": "2023-04-09T15:07:58.035963",
     "exception": false,
     "start_time": "2023-04-09T15:07:58.013861",
     "status": "completed"
    },
    "tags": []
   },
   "outputs": [],
   "source": [
    "# vit_large = vit.vit_l32(\n",
    "#         image_size = SIZE,\n",
    "#         activation = 'softmax',\n",
    "#         pretrained = True,\n",
    "#         include_top = False,\n",
    "#         pretrained_top = False,\n",
    "#         )"
   ]
  },
  {
   "cell_type": "markdown",
   "id": "bc9e15ec",
   "metadata": {
    "papermill": {
     "duration": 0.014078,
     "end_time": "2023-04-09T15:07:58.064405",
     "exception": false,
     "start_time": "2023-04-09T15:07:58.050327",
     "status": "completed"
    },
    "tags": []
   },
   "source": [
    "#  Fine-tuning vit"
   ]
  },
  {
   "cell_type": "code",
   "execution_count": 15,
   "id": "7af4976c",
   "metadata": {
    "execution": {
     "iopub.execute_input": "2023-04-09T15:07:58.094747Z",
     "iopub.status.busy": "2023-04-09T15:07:58.094429Z",
     "iopub.status.idle": "2023-04-09T15:07:58.104897Z",
     "shell.execute_reply": "2023-04-09T15:07:58.103875Z"
    },
    "papermill": {
     "duration": 0.028158,
     "end_time": "2023-04-09T15:07:58.107007",
     "exception": false,
     "start_time": "2023-04-09T15:07:58.078849",
     "status": "completed"
    },
    "tags": []
   },
   "outputs": [],
   "source": [
    "# name_and_freeze(vit_large,'vit_large_')\n",
    "name_and_freeze(vit_big,'vit_big_')"
   ]
  },
  {
   "cell_type": "code",
   "execution_count": 16,
   "id": "c5f80fe5",
   "metadata": {
    "execution": {
     "iopub.execute_input": "2023-04-09T15:07:58.137611Z",
     "iopub.status.busy": "2023-04-09T15:07:58.137289Z",
     "iopub.status.idle": "2023-04-09T15:07:58.181242Z",
     "shell.execute_reply": "2023-04-09T15:07:58.180335Z"
    },
    "papermill": {
     "duration": 0.06203,
     "end_time": "2023-04-09T15:07:58.183685",
     "exception": false,
     "start_time": "2023-04-09T15:07:58.121655",
     "status": "completed"
    },
    "tags": []
   },
   "outputs": [],
   "source": [
    "from tensorflow.keras import regularizers\n",
    "x =vit_big.output\n",
    "x=tf.keras.layers.BatchNormalization(axis=-1, momentum=0.99, epsilon=0.001 )(x)\n",
    "x = Dense(512, kernel_regularizer = regularizers.l2(l = 0.016),activity_regularizer=regularizers.l1(0.006),\n",
    "                bias_regularizer=regularizers.l1(0.006) ,activation='relu')(x)\n",
    "x=Dense(256,activation='relu')(x)\n",
    "x_vit_big = Dense(128, activation='relu')(x)\n",
    "\n",
    "# x =vit_large.output\n",
    "# x=tf.keras.layers.BatchNormalization(axis=-1, momentum=0.99, epsilon=0.001 )(x)\n",
    "# x = Dense(32, kernel_regularizer = regularizers.l2(l = 0.016),activity_regularizer=regularizers.l1(0.006),\n",
    "#                 bias_regularizer=regularizers.l1(0.006) ,activation='relu')(x)\n",
    "# x=Dense(256,activation='relu')(x)\n",
    "# x_vit_large = Dense(128, activation='relu')(x)"
   ]
  },
  {
   "cell_type": "markdown",
   "id": "7d9e14ba",
   "metadata": {
    "papermill": {
     "duration": 0.014192,
     "end_time": "2023-04-09T15:07:58.213088",
     "exception": false,
     "start_time": "2023-04-09T15:07:58.198896",
     "status": "completed"
    },
    "tags": []
   },
   "source": [
    "# importing cnn models"
   ]
  },
  {
   "cell_type": "code",
   "execution_count": 17,
   "id": "5cdb938e",
   "metadata": {
    "execution": {
     "iopub.execute_input": "2023-04-09T15:07:58.245949Z",
     "iopub.status.busy": "2023-04-09T15:07:58.244318Z",
     "iopub.status.idle": "2023-04-09T15:08:04.106491Z",
     "shell.execute_reply": "2023-04-09T15:08:04.105527Z"
    },
    "papermill": {
     "duration": 5.8813,
     "end_time": "2023-04-09T15:08:04.108903",
     "exception": false,
     "start_time": "2023-04-09T15:07:58.227603",
     "status": "completed"
    },
    "tags": []
   },
   "outputs": [
    {
     "name": "stdout",
     "output_type": "stream",
     "text": [
      "Downloading data from https://storage.googleapis.com/tensorflow/keras-applications/inception_resnet_v2/inception_resnet_v2_weights_tf_dim_ordering_tf_kernels_notop.h5\n",
      "219062272/219055592 [==============================] - 1s 0us/step\n",
      "219070464/219055592 [==============================] - 1s 0us/step\n"
     ]
    }
   ],
   "source": [
    "# resnet152= tf.keras.applications.ResNet152V2(input_shape=size,include_top=False, weights='imagenet',)\n",
    "# mobilenet= tf.keras.applications.MobileNetV3Large(input_shape=size,include_top=False, weights='imagenet')\n",
    "# xception= tf.keras.applications.Xception(input_shape=size,include_top=False, weights='imagenet')\n",
    "# effecientnet= tf.keras.applications.EfficientNetB7(input_shape=size,include_top=False, weights='imagenet')\n",
    "# densenet=tf.keras.applications.DenseNet121(input_shape=size,include_top=False, weights='imagenet')\n",
    "incepresnet=tf.keras.applications.InceptionResNetV2(input_shape=size,include_top=False, weights='imagenet')"
   ]
  },
  {
   "cell_type": "code",
   "execution_count": 18,
   "id": "c0cb2731",
   "metadata": {
    "execution": {
     "iopub.execute_input": "2023-04-09T15:08:04.141896Z",
     "iopub.status.busy": "2023-04-09T15:08:04.141572Z",
     "iopub.status.idle": "2023-04-09T15:08:04.147680Z",
     "shell.execute_reply": "2023-04-09T15:08:04.146534Z"
    },
    "papermill": {
     "duration": 0.025036,
     "end_time": "2023-04-09T15:08:04.149849",
     "exception": false,
     "start_time": "2023-04-09T15:08:04.124813",
     "status": "completed"
    },
    "tags": []
   },
   "outputs": [
    {
     "name": "stdout",
     "output_type": "stream",
     "text": [
      "KerasTensor(type_spec=TensorSpec(shape=(None, 12, 12, 1536), dtype=tf.float32, name=None), name='conv_7b_ac/Relu:0', description=\"created by layer 'conv_7b_ac'\")\n"
     ]
    }
   ],
   "source": [
    "# print(xception.output)\n",
    "# print(resnet152.output)\n",
    "# print(mobilenet.output)\n",
    "# print(effecientnet.output)\n",
    "# print(densenet.output)\n",
    "print(incepresnet.output)"
   ]
  },
  {
   "cell_type": "code",
   "execution_count": 19,
   "id": "dea2a6fa",
   "metadata": {
    "execution": {
     "iopub.execute_input": "2023-04-09T15:08:04.182341Z",
     "iopub.status.busy": "2023-04-09T15:08:04.182060Z",
     "iopub.status.idle": "2023-04-09T15:08:04.223935Z",
     "shell.execute_reply": "2023-04-09T15:08:04.223059Z"
    },
    "papermill": {
     "duration": 0.060431,
     "end_time": "2023-04-09T15:08:04.225978",
     "exception": false,
     "start_time": "2023-04-09T15:08:04.165547",
     "status": "completed"
    },
    "tags": []
   },
   "outputs": [],
   "source": [
    "# name_and_freeze(resnet152,'resnet152_')\n",
    "# name_and_freeze(mobilenet,'mobilenet_')\n",
    "# name_and_freeze(xception,'xception_')\n",
    "# name_and_freeze(effecientnet,'effecientnet_')\n",
    "# name_and_freeze(densenet,'densenet_')\n",
    "name_and_freeze(incepresnet,'incepResnet_')"
   ]
  },
  {
   "cell_type": "code",
   "execution_count": 20,
   "id": "07490f3a",
   "metadata": {
    "execution": {
     "iopub.execute_input": "2023-04-09T15:08:04.258793Z",
     "iopub.status.busy": "2023-04-09T15:08:04.258497Z",
     "iopub.status.idle": "2023-04-09T15:08:04.264935Z",
     "shell.execute_reply": "2023-04-09T15:08:04.263931Z"
    },
    "papermill": {
     "duration": 0.024994,
     "end_time": "2023-04-09T15:08:04.266912",
     "exception": false,
     "start_time": "2023-04-09T15:08:04.241918",
     "status": "completed"
    },
    "tags": []
   },
   "outputs": [],
   "source": [
    "def get_model(base_model):\n",
    "    x = tf.keras.layers.GlobalAveragePooling2D()(se_block(dilation_block(base_model.output,[2,3,5,7])))\n",
    "    x=tf.keras.layers.BatchNormalization(axis=-1, momentum=0.99, epsilon=0.001 )(x)\n",
    "    x = Dense(512, kernel_regularizer = regularizers.l2(l = 0.016),activity_regularizer=regularizers.l1(0.006),\n",
    "                    bias_regularizer=regularizers.l1(0.006) ,activation='relu')(x)\n",
    "    x=Dense(256,activation='relu')(x)\n",
    "    return Dense(128,activation='relu')(x)"
   ]
  },
  {
   "cell_type": "markdown",
   "id": "9594190f",
   "metadata": {
    "papermill": {
     "duration": 0.01574,
     "end_time": "2023-04-09T15:08:04.302118",
     "exception": false,
     "start_time": "2023-04-09T15:08:04.286378",
     "status": "completed"
    },
    "tags": []
   },
   "source": [
    "# fine tuning CNN models"
   ]
  },
  {
   "cell_type": "code",
   "execution_count": 21,
   "id": "0235428b",
   "metadata": {
    "execution": {
     "iopub.execute_input": "2023-04-09T15:08:04.334480Z",
     "iopub.status.busy": "2023-04-09T15:08:04.334218Z",
     "iopub.status.idle": "2023-04-09T15:08:04.486308Z",
     "shell.execute_reply": "2023-04-09T15:08:04.485363Z"
    },
    "papermill": {
     "duration": 0.171058,
     "end_time": "2023-04-09T15:08:04.488988",
     "exception": false,
     "start_time": "2023-04-09T15:08:04.317930",
     "status": "completed"
    },
    "tags": []
   },
   "outputs": [],
   "source": [
    "# x_resnet152v2=get_model(resnet152)\n",
    "# x_xception=get_model(xception)\n",
    "# x_mobilenet=get_model(mobilenet)\n",
    "x_incepresnet=get_model(incepresnet)\n",
    "# x_effecientnet=get_model(effecientnet)\n",
    "# x_densenet=get_model(densenet)"
   ]
  },
  {
   "cell_type": "markdown",
   "id": "9dd6156c",
   "metadata": {
    "papermill": {
     "duration": 0.015507,
     "end_time": "2023-04-09T15:08:04.520916",
     "exception": false,
     "start_time": "2023-04-09T15:08:04.505409",
     "status": "completed"
    },
    "tags": []
   },
   "source": [
    "# constructing full model"
   ]
  },
  {
   "cell_type": "code",
   "execution_count": 22,
   "id": "d5bc8cd1",
   "metadata": {
    "execution": {
     "iopub.execute_input": "2023-04-09T15:08:04.553996Z",
     "iopub.status.busy": "2023-04-09T15:08:04.553645Z",
     "iopub.status.idle": "2023-04-09T15:08:04.612691Z",
     "shell.execute_reply": "2023-04-09T15:08:04.611752Z"
    },
    "papermill": {
     "duration": 0.078293,
     "end_time": "2023-04-09T15:08:04.615033",
     "exception": false,
     "start_time": "2023-04-09T15:08:04.536740",
     "status": "completed"
    },
    "tags": []
   },
   "outputs": [],
   "source": [
    "from tensorflow.keras.layers import concatenate\n",
    "concatenated = concatenate([x_incepresnet, x_vit_big])\n",
    "bigmodel_prediction = Dense(len(train_images.class_indices), activation='softmax')(concatenated)\n",
    "model = Model([incepresnet.input, vit_big.input], bigmodel_prediction) \n",
    "from tensorflow.keras.utils import plot_model"
   ]
  },
  {
   "cell_type": "code",
   "execution_count": 23,
   "id": "edb6a299",
   "metadata": {
    "execution": {
     "iopub.execute_input": "2023-04-09T15:08:04.649016Z",
     "iopub.status.busy": "2023-04-09T15:08:04.648713Z",
     "iopub.status.idle": "2023-04-09T15:08:05.083016Z",
     "shell.execute_reply": "2023-04-09T15:08:05.081250Z"
    },
    "papermill": {
     "duration": 0.453126,
     "end_time": "2023-04-09T15:08:05.085179",
     "exception": false,
     "start_time": "2023-04-09T15:08:04.632053",
     "status": "completed"
    },
    "tags": []
   },
   "outputs": [
    {
     "name": "stdout",
     "output_type": "stream",
     "text": [
      "trainable parametres: 1127998 non trainable parametres: 141906512\n"
     ]
    }
   ],
   "source": [
    "trainable_params = sum([v.numpy().size for v in model.trainable_variables])\n",
    "non_trainable_params = sum([v.numpy().size for v in model.non_trainable_variables])\n",
    "print(\"trainable parametres: \"+ str(trainable_params) + \" non trainable parametres: \"+ str(non_trainable_params))"
   ]
  },
  {
   "cell_type": "markdown",
   "id": "e999de0a",
   "metadata": {
    "papermill": {
     "duration": 0.015467,
     "end_time": "2023-04-09T15:08:05.116604",
     "exception": false,
     "start_time": "2023-04-09T15:08:05.101137",
     "status": "completed"
    },
    "tags": []
   },
   "source": [
    "# custom generator"
   ]
  },
  {
   "cell_type": "code",
   "execution_count": 24,
   "id": "d739564f",
   "metadata": {
    "execution": {
     "iopub.execute_input": "2023-04-09T15:08:05.150054Z",
     "iopub.status.busy": "2023-04-09T15:08:05.149170Z",
     "iopub.status.idle": "2023-04-09T15:08:05.154348Z",
     "shell.execute_reply": "2023-04-09T15:08:05.153485Z"
    },
    "papermill": {
     "duration": 0.024116,
     "end_time": "2023-04-09T15:08:05.156375",
     "exception": false,
     "start_time": "2023-04-09T15:08:05.132259",
     "status": "completed"
    },
    "tags": []
   },
   "outputs": [],
   "source": [
    "def generator_two_img(gen):\n",
    "    while True:\n",
    "        X1i = gen.next()\n",
    "        yield [X1i[0],X1i[0]], X1i[1]"
   ]
  },
  {
   "cell_type": "markdown",
   "id": "fbfc7efe",
   "metadata": {
    "papermill": {
     "duration": 0.015503,
     "end_time": "2023-04-09T15:08:05.187396",
     "exception": false,
     "start_time": "2023-04-09T15:08:05.171893",
     "status": "completed"
    },
    "tags": []
   },
   "source": [
    "# training model"
   ]
  },
  {
   "cell_type": "code",
   "execution_count": 25,
   "id": "8157f202",
   "metadata": {
    "execution": {
     "iopub.execute_input": "2023-04-09T15:08:05.220024Z",
     "iopub.status.busy": "2023-04-09T15:08:05.219703Z",
     "iopub.status.idle": "2023-04-09T15:08:05.244644Z",
     "shell.execute_reply": "2023-04-09T15:08:05.243740Z"
    },
    "papermill": {
     "duration": 0.043835,
     "end_time": "2023-04-09T15:08:05.246842",
     "exception": false,
     "start_time": "2023-04-09T15:08:05.203007",
     "status": "completed"
    },
    "tags": []
   },
   "outputs": [],
   "source": [
    "model.compile(loss=\"categorical_crossentropy\",optimizer=tf.optimizers.Adam(),metrics=['accuracy'])"
   ]
  },
  {
   "cell_type": "code",
   "execution_count": 26,
   "id": "e94de567",
   "metadata": {
    "execution": {
     "iopub.execute_input": "2023-04-09T15:08:05.290196Z",
     "iopub.status.busy": "2023-04-09T15:08:05.289794Z",
     "iopub.status.idle": "2023-04-09T15:49:51.326045Z",
     "shell.execute_reply": "2023-04-09T15:49:51.324992Z"
    },
    "papermill": {
     "duration": 2506.065809,
     "end_time": "2023-04-09T15:49:51.328632",
     "exception": false,
     "start_time": "2023-04-09T15:08:05.262823",
     "status": "completed"
    },
    "tags": []
   },
   "outputs": [
    {
     "name": "stdout",
     "output_type": "stream",
     "text": [
      "Epoch 1/20\n",
      "31/31 [==============================] - 165s 4s/step - loss: 9.6426 - accuracy: 0.7273 - val_loss: 6.2933 - val_accuracy: 0.7188\n",
      "Epoch 2/20\n",
      "31/31 [==============================] - 123s 4s/step - loss: 4.0438 - accuracy: 0.8888 - val_loss: 2.8483 - val_accuracy: 0.8490\n",
      "Epoch 3/20\n",
      "31/31 [==============================] - 121s 4s/step - loss: 1.8819 - accuracy: 0.8940 - val_loss: 1.6782 - val_accuracy: 0.7969\n",
      "Epoch 4/20\n",
      "31/31 [==============================] - 121s 4s/step - loss: 1.0927 - accuracy: 0.9093 - val_loss: 1.1427 - val_accuracy: 0.8594\n",
      "Epoch 5/20\n",
      "31/31 [==============================] - 127s 4s/step - loss: 0.7673 - accuracy: 0.9150 - val_loss: 0.8606 - val_accuracy: 0.8958\n",
      "Epoch 6/20\n",
      "31/31 [==============================] - 133s 4s/step - loss: 0.6531 - accuracy: 0.9068 - val_loss: 0.8545 - val_accuracy: 0.8646\n",
      "Epoch 7/20\n",
      "31/31 [==============================] - 125s 4s/step - loss: 0.5365 - accuracy: 0.9308 - val_loss: 0.7574 - val_accuracy: 0.8490\n",
      "Epoch 8/20\n",
      "31/31 [==============================] - 121s 4s/step - loss: 0.4306 - accuracy: 0.9447 - val_loss: 0.5946 - val_accuracy: 0.8802\n",
      "Epoch 9/20\n",
      "31/31 [==============================] - 121s 4s/step - loss: 0.4384 - accuracy: 0.9334 - val_loss: 0.5450 - val_accuracy: 0.8958\n",
      "Epoch 10/20\n",
      "31/31 [==============================] - 127s 4s/step - loss: 0.3914 - accuracy: 0.9421 - val_loss: 0.4793 - val_accuracy: 0.9062\n",
      "Epoch 11/20\n",
      "31/31 [==============================] - 124s 4s/step - loss: 0.3832 - accuracy: 0.9349 - val_loss: 0.5126 - val_accuracy: 0.8750\n",
      "Epoch 12/20\n",
      "31/31 [==============================] - 121s 4s/step - loss: 0.3926 - accuracy: 0.9283 - val_loss: 0.4910 - val_accuracy: 0.9167\n",
      "Epoch 13/20\n",
      "31/31 [==============================] - 121s 4s/step - loss: 0.3648 - accuracy: 0.9452 - val_loss: 0.4393 - val_accuracy: 0.8750\n",
      "Epoch 14/20\n",
      "31/31 [==============================] - 124s 4s/step - loss: 0.3169 - accuracy: 0.9508 - val_loss: 0.3961 - val_accuracy: 0.9219\n",
      "Epoch 15/20\n",
      "31/31 [==============================] - 123s 4s/step - loss: 0.3207 - accuracy: 0.9477 - val_loss: 0.4967 - val_accuracy: 0.8802\n",
      "Epoch 16/20\n",
      "31/31 [==============================] - 120s 4s/step - loss: 0.2970 - accuracy: 0.9518 - val_loss: 0.4528 - val_accuracy: 0.8958\n",
      "Epoch 17/20\n",
      "31/31 [==============================] - 119s 4s/step - loss: 0.3174 - accuracy: 0.9457 - val_loss: 0.4454 - val_accuracy: 0.8750\n",
      "Epoch 18/20\n",
      "31/31 [==============================] - 120s 4s/step - loss: 0.3118 - accuracy: 0.9529 - val_loss: 0.4676 - val_accuracy: 0.8854\n",
      "Epoch 19/20\n",
      "31/31 [==============================] - 119s 4s/step - loss: 0.2847 - accuracy: 0.9508 - val_loss: 0.4076 - val_accuracy: 0.9115\n",
      "Epoch 20/20\n",
      "31/31 [==============================] - 120s 4s/step - loss: 0.2687 - accuracy: 0.9544 - val_loss: 0.3811 - val_accuracy: 0.9010\n"
     ]
    }
   ],
   "source": [
    "batch_size=64\n",
    "history = model.fit(\n",
    "    generator_two_img(train_images),\n",
    "    validation_data=generator_two_img(valid_images),\n",
    "    validation_steps=valid_images.n//batch_size,\n",
    "    validation_batch_size=batch_size,\n",
    "    steps_per_epoch=train_images.n//batch_size,\n",
    "    batch_size=batch_size,\n",
    "    epochs=20,\n",
    ")\n"
   ]
  },
  {
   "cell_type": "code",
   "execution_count": 27,
   "id": "57bc16a6",
   "metadata": {
    "execution": {
     "iopub.execute_input": "2023-04-09T15:49:51.427318Z",
     "iopub.status.busy": "2023-04-09T15:49:51.426969Z",
     "iopub.status.idle": "2023-04-09T15:49:53.330758Z",
     "shell.execute_reply": "2023-04-09T15:49:53.329224Z"
    },
    "papermill": {
     "duration": 1.955857,
     "end_time": "2023-04-09T15:49:53.333410",
     "exception": false,
     "start_time": "2023-04-09T15:49:51.377553",
     "status": "completed"
    },
    "tags": []
   },
   "outputs": [],
   "source": [
    "model.save('1vit1cnniresnet.h5')"
   ]
  },
  {
   "cell_type": "markdown",
   "id": "918d189b",
   "metadata": {
    "papermill": {
     "duration": 0.048398,
     "end_time": "2023-04-09T15:49:53.431987",
     "exception": false,
     "start_time": "2023-04-09T15:49:53.383589",
     "status": "completed"
    },
    "tags": []
   },
   "source": [
    "# performance evaluation"
   ]
  },
  {
   "cell_type": "code",
   "execution_count": 28,
   "id": "0e77c896",
   "metadata": {
    "execution": {
     "iopub.execute_input": "2023-04-09T15:49:53.530484Z",
     "iopub.status.busy": "2023-04-09T15:49:53.528813Z",
     "iopub.status.idle": "2023-04-09T15:49:53.908674Z",
     "shell.execute_reply": "2023-04-09T15:49:53.907731Z"
    },
    "papermill": {
     "duration": 0.431059,
     "end_time": "2023-04-09T15:49:53.911135",
     "exception": false,
     "start_time": "2023-04-09T15:49:53.480076",
     "status": "completed"
    },
    "tags": []
   },
   "outputs": [
    {
     "name": "stderr",
     "output_type": "stream",
     "text": [
      "/opt/conda/lib/python3.7/site-packages/ipykernel_launcher.py:10: UserWarning: color is redundantly defined by the 'color' keyword argument and the fmt string \"go-\" (-> color='g'). The keyword argument will take precedence.\n",
      "  # Remove the CWD from sys.path while we load stuff.\n",
      "/opt/conda/lib/python3.7/site-packages/ipykernel_launcher.py:18: UserWarning: color is redundantly defined by the 'color' keyword argument and the fmt string \"g-o\" (-> color='g'). The keyword argument will take precedence.\n"
     ]
    },
    {
     "data": {
      "image/png": "[encoded data removed]",
      "text/plain": [
       "<Figure size 1440x720 with 2 Axes>"
      ]
     },
     "metadata": {
      "needs_background": "light"
     },
     "output_type": "display_data"
    }
   ],
   "source": [
    "epochs = list(range(len(history.history['accuracy'])))\n",
    "fig , ax = plt.subplots(1,2)\n",
    "train_acc = history.history['accuracy']\n",
    "train_loss = history.history['loss']\n",
    "val_acc = history.history['val_accuracy']\n",
    "val_loss = history.history['val_loss']\n",
    "\n",
    "fig.set_size_inches(20,10)\n",
    "\n",
    "ax[0].plot(epochs , train_acc , 'go-' ,color='r', label = 'Training Accuracy')\n",
    "ax[0].plot(epochs , val_acc , 'go-' , label = 'Validation Accuracy')\n",
    "ax[0].set_title('Training Accuracy')\n",
    "ax[0].legend()\n",
    "ax[0].set_xlabel(\"Epochs\")\n",
    "ax[0].set_ylabel(\"Accuracy\")\n",
    "\n",
    "\n",
    "ax[1].plot(epochs , train_loss , 'g-o' ,color='r', label = 'Training Loss')\n",
    "ax[1].plot(epochs , val_loss , 'go-' , label = 'Validation Loss')\n",
    "ax[1].set_title('Training Loss')\n",
    "ax[1].legend()\n",
    "ax[1].set_xlabel(\"Epochs\")\n",
    "ax[1].set_ylabel(\"Training Loss\")\n",
    "plt.show()"
   ]
  },
  {
   "cell_type": "code",
   "execution_count": 29,
   "id": "1ee29270",
   "metadata": {
    "execution": {
     "iopub.execute_input": "2023-04-09T15:49:54.011232Z",
     "iopub.status.busy": "2023-04-09T15:49:54.010932Z",
     "iopub.status.idle": "2023-04-09T15:49:55.901404Z",
     "shell.execute_reply": "2023-04-09T15:49:55.900184Z"
    },
    "papermill": {
     "duration": 1.942979,
     "end_time": "2023-04-09T15:49:55.903664",
     "exception": false,
     "start_time": "2023-04-09T15:49:53.960685",
     "status": "completed"
    },
    "tags": []
   },
   "outputs": [
    {
     "name": "stdout",
     "output_type": "stream",
     "text": [
      "Found 560 validated image filenames belonging to 7 classes.\n"
     ]
    }
   ],
   "source": [
    "test_generator = tf.keras.preprocessing.image.ImageDataGenerator(\n",
    "    rescale=1./255,\n",
    ")\n",
    "test_images = test_generator.flow_from_dataframe(\n",
    "    dataframe=test_data,\n",
    "    x_col='File',\n",
    "    y_col='class_',\n",
    "    target_size=(SIZE, SIZE),\n",
    "    color_mode='rgb',\n",
    "    class_mode='categorical',\n",
    "    batch_size=batch_size,\n",
    "    shuffle=False\n",
    ")"
   ]
  },
  {
   "cell_type": "code",
   "execution_count": 30,
   "id": "46ce149d",
   "metadata": {
    "execution": {
     "iopub.execute_input": "2023-04-09T15:49:56.005331Z",
     "iopub.status.busy": "2023-04-09T15:49:56.005006Z",
     "iopub.status.idle": "2023-04-09T15:49:56.009629Z",
     "shell.execute_reply": "2023-04-09T15:49:56.008452Z"
    },
    "papermill": {
     "duration": 0.058055,
     "end_time": "2023-04-09T15:49:56.011944",
     "exception": false,
     "start_time": "2023-04-09T15:49:55.953889",
     "status": "completed"
    },
    "tags": []
   },
   "outputs": [],
   "source": [
    "class_=train_images.class_indices.keys()"
   ]
  },
  {
   "cell_type": "code",
   "execution_count": 31,
   "id": "a225b87f",
   "metadata": {
    "execution": {
     "iopub.execute_input": "2023-04-09T15:49:56.112943Z",
     "iopub.status.busy": "2023-04-09T15:49:56.112414Z",
     "iopub.status.idle": "2023-04-09T15:49:56.117331Z",
     "shell.execute_reply": "2023-04-09T15:49:56.116429Z"
    },
    "papermill": {
     "duration": 0.057769,
     "end_time": "2023-04-09T15:49:56.119316",
     "exception": false,
     "start_time": "2023-04-09T15:49:56.061547",
     "status": "completed"
    },
    "tags": []
   },
   "outputs": [],
   "source": [
    "def prediction_generator(test_images):\n",
    "    k=0\n",
    "    for x in test_images:\n",
    "        k+=len(x[1])\n",
    "        yield [x[0],x[0]], x[1]\n",
    "        if(k>=test_images.n):\n",
    "            break"
   ]
  },
  {
   "cell_type": "code",
   "execution_count": 32,
   "id": "c68c4bc4",
   "metadata": {
    "execution": {
     "iopub.execute_input": "2023-04-09T15:49:56.221082Z",
     "iopub.status.busy": "2023-04-09T15:49:56.220788Z",
     "iopub.status.idle": "2023-04-09T15:50:17.089661Z",
     "shell.execute_reply": "2023-04-09T15:50:17.088674Z"
    },
    "papermill": {
     "duration": 20.921505,
     "end_time": "2023-04-09T15:50:17.091928",
     "exception": false,
     "start_time": "2023-04-09T15:49:56.170423",
     "status": "completed"
    },
    "tags": []
   },
   "outputs": [
    {
     "data": {
      "text/plain": [
       "0.8946428571428572"
      ]
     },
     "execution_count": 32,
     "metadata": {},
     "output_type": "execute_result"
    }
   ],
   "source": [
    "from sklearn.metrics import accuracy_score\n",
    "proba=model.predict(prediction_generator(test_images))\n",
    "predicted = np.argmax(proba,axis=1)\n",
    "true=test_images.labels\n",
    "accuracy_score(predicted, true)"
   ]
  },
  {
   "cell_type": "code",
   "execution_count": 33,
   "id": "3b9abb33",
   "metadata": {
    "execution": {
     "iopub.execute_input": "2023-04-09T15:50:17.192971Z",
     "iopub.status.busy": "2023-04-09T15:50:17.192207Z",
     "iopub.status.idle": "2023-04-09T15:50:18.089826Z",
     "shell.execute_reply": "2023-04-09T15:50:18.088120Z"
    },
    "papermill": {
     "duration": 0.950535,
     "end_time": "2023-04-09T15:50:18.092163",
     "exception": false,
     "start_time": "2023-04-09T15:50:17.141628",
     "status": "completed"
    },
    "tags": []
   },
   "outputs": [
    {
     "data": {
      "image/png": "[encoded data removed]",
      "text/plain": [
       "<Figure size 1152x1008 with 2 Axes>"
      ]
     },
     "metadata": {
      "needs_background": "light"
     },
     "output_type": "display_data"
    }
   ],
   "source": [
    "from sklearn.metrics import confusion_matrix\n",
    "import seaborn as sns\n",
    "class_=test_images.class_indices.keys()\n",
    "cm = confusion_matrix(true, predicted)\n",
    "fig = plt.figure(figsize=(16, 14))\n",
    "ax= plt.subplot()\n",
    "sns.heatmap(cm, annot=True, ax = ax,cmap=\"BuPu\"); \n",
    "ax.set_xlabel('Predicted', fontsize=20)\n",
    "ax.xaxis.set_label_position('bottom')\n",
    "plt.xticks(rotation=90)\n",
    "ax.xaxis.set_ticklabels(class_, fontsize = 10)\n",
    "ax.xaxis.tick_bottom()\n",
    "\n",
    "ax.set_ylabel('True', fontsize=20)\n",
    "ax.yaxis.set_ticklabels(class_, fontsize = 10)\n",
    "plt.yticks(rotation=0)\n",
    "\n",
    "plt.title('', fontsize=60)\n",
    "\n",
    "plt.savefig('ConMat24.png')\n",
    "plt.show()"
   ]
  },
  {
   "cell_type": "markdown",
   "id": "13ce778d",
   "metadata": {
    "papermill": {
     "duration": 0.058359,
     "end_time": "2023-04-09T15:50:18.209259",
     "exception": false,
     "start_time": "2023-04-09T15:50:18.150900",
     "status": "completed"
    },
    "tags": []
   },
   "source": [
    "# ROC"
   ]
  },
  {
   "cell_type": "code",
   "execution_count": 34,
   "id": "ec941dfd",
   "metadata": {
    "execution": {
     "iopub.execute_input": "2023-04-09T15:50:18.326997Z",
     "iopub.status.busy": "2023-04-09T15:50:18.326251Z",
     "iopub.status.idle": "2023-04-09T15:50:18.682531Z",
     "shell.execute_reply": "2023-04-09T15:50:18.681461Z"
    },
    "papermill": {
     "duration": 0.417811,
     "end_time": "2023-04-09T15:50:18.685029",
     "exception": false,
     "start_time": "2023-04-09T15:50:18.267218",
     "status": "completed"
    },
    "tags": []
   },
   "outputs": [
    {
     "data": {
      "image/png": "[encoded data removed]",
      "text/plain": [
       "<Figure size 720x1152 with 1 Axes>"
      ]
     },
     "metadata": {
      "needs_background": "light"
     },
     "output_type": "display_data"
    }
   ],
   "source": [
    "from sklearn.metrics import roc_curve, roc_auc_score\n",
    "from matplotlib import cm\n",
    "n=len(true)\n",
    "dim=max(true)+1\n",
    "result=[]\n",
    "for i in true:\n",
    "    result.append([0 for i in range(dim)])\n",
    "    result[len(result)-1][i]=1\n",
    "    \n",
    "    \n",
    "fpr = dict()\n",
    "tpr = dict()\n",
    "roc_auc = dict()\n",
    "n_classes =len(test_images.class_indices.keys())\n",
    "y_test=np.array(result)\n",
    "y_pred=np.array(proba)\n",
    "fpr = dict()\n",
    "tpr = dict()\n",
    "roc_auc = dict()\n",
    "\n",
    "rev={}\n",
    "for i in class_:\n",
    "    rev[train_images.class_indices[i]]=i\n",
    "\n",
    "\n",
    "for i in range(n_classes):\n",
    "    fpr[i], tpr[i], _ = roc_curve(y_test[:, i], y_pred[:, i])\n",
    "    roc_auc[i] = roc_auc_score(y_test[:, i], y_pred[:, i])\n",
    "\n",
    "\n",
    "fpr[\"micro\"], tpr[\"micro\"], _ = roc_curve(y_test.ravel(), y_pred.ravel())\n",
    "roc_auc[\"micro\"] = roc_auc_score(y_test, y_pred, multi_class='ovr')\n",
    "\n",
    "\n",
    "cmap = cm.get_cmap('tab10')\n",
    "\n",
    "# Plot the ROC curve for each class and micro-average with automatic color selection\n",
    "plt.figure(figsize=(10,16))\n",
    "lw = 2\n",
    "for i in range(n_classes):\n",
    "    color = cmap(i)\n",
    "    plt.plot(fpr[i], tpr[i], color=color, lw=lw,\n",
    "             label='ROC curve of class {0} (area = {1:0.2f})'\n",
    "             ''.format(rev[i], roc_auc[i]))\n",
    "\n",
    "plt.plot(fpr[\"micro\"], tpr[\"micro\"],\n",
    "         label='micro-average ROC curve (area = {0:0.2f})'\n",
    "         ''.format(roc_auc[\"micro\"]),\n",
    "         color=cmap(n_classes), linestyle=':', linewidth=4)\n",
    "\n",
    "plt.plot([0, 1], [0, 1], 'k--', lw=lw)\n",
    "plt.xlim([0.0, 1.0])\n",
    "plt.ylim([0.0, 1.05])\n",
    "plt.xlabel('False Positive Rate')\n",
    "plt.ylabel('True Positive Rate')\n",
    "plt.title('ROC Curve')\n",
    "plt.legend(loc=\"lower right\")\n",
    "plt.show()\n"
   ]
  },
  {
   "cell_type": "markdown",
   "id": "7e3fbc33",
   "metadata": {
    "papermill": {
     "duration": 0.056913,
     "end_time": "2023-04-09T15:50:18.800671",
     "exception": false,
     "start_time": "2023-04-09T15:50:18.743758",
     "status": "completed"
    },
    "tags": []
   },
   "source": [
    "# AUC"
   ]
  },
  {
   "cell_type": "code",
   "execution_count": 35,
   "id": "91a13173",
   "metadata": {
    "execution": {
     "iopub.execute_input": "2023-04-09T15:50:18.913028Z",
     "iopub.status.busy": "2023-04-09T15:50:18.912087Z",
     "iopub.status.idle": "2023-04-09T15:50:19.102484Z",
     "shell.execute_reply": "2023-04-09T15:50:19.101445Z"
    },
    "papermill": {
     "duration": 0.24737,
     "end_time": "2023-04-09T15:50:19.104772",
     "exception": false,
     "start_time": "2023-04-09T15:50:18.857402",
     "status": "completed"
    },
    "tags": []
   },
   "outputs": [
    {
     "data": {
      "image/png": "[encoded data removed]",
      "text/plain": [
       "<Figure size 432x288 with 1 Axes>"
      ]
     },
     "metadata": {
      "needs_background": "light"
     },
     "output_type": "display_data"
    }
   ],
   "source": [
    "from sklearn.metrics import roc_curve, auc\n",
    "import matplotlib.pyplot as plt\n",
    "\n",
    "y_true=y_test\n",
    "y_score=y_pred\n",
    "fpr, tpr, thresholds = roc_curve(y_test.ravel(), y_pred.ravel())\n",
    "roc_auc = auc(fpr, tpr)\n",
    "\n",
    "plt.figure()\n",
    "lw = 2\n",
    "plt.plot(fpr, tpr, color='darkorange',\n",
    "         lw=lw, label='ROC curve (area = %0.2f)' % roc_auc)\n",
    "plt.plot([0, 1], [0, 1], color='navy', lw=lw, linestyle='--')\n",
    "plt.xlim([0.0, 1.0])\n",
    "plt.ylim([0.0, 1.05])\n",
    "plt.xlabel('False Positive Rate')\n",
    "plt.ylabel('True Positive Rate')\n",
    "plt.title('AUC Curve')\n",
    "plt.legend(loc=\"lower right\")\n",
    "plt.show()"
   ]
  }
 ],
 "metadata": {
  "kernelspec": {
   "display_name": "Python 3",
   "language": "python",
   "name": "python3"
  },
  "language_info": {
   "codemirror_mode": {
    "name": "ipython",
    "version": 3
   },
   "file_extension": ".py",
   "mimetype": "text/x-python",
   "name": "python",
   "nbconvert_exporter": "python",
   "pygments_lexer": "ipython3",
   "version": "3.7.12"
  },
  "papermill": {
   "default_parameters": {},
   "duration": 2587.467051,
   "end_time": "2023-04-09T15:50:22.723999",
   "environment_variables": {},
   "exception": null,
   "input_path": "__notebook__.ipynb",
   "output_path": "__notebook__.ipynb",
   "parameters": {},
   "start_time": "2023-04-09T15:07:15.256948",
   "version": "2.3.4"
  }
 },
 "nbformat": 4,
 "nbformat_minor": 5
}
