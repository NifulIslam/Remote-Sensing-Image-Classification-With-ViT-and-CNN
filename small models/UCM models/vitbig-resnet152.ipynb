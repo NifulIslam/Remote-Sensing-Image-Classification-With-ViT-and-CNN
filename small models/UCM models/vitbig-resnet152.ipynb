{
 "cells": [
  {
   "cell_type": "markdown",
   "id": "54dbc691",
   "metadata": {
    "papermill": {
     "duration": 0.009604,
     "end_time": "2023-04-08T16:59:56.239079",
     "exception": false,
     "start_time": "2023-04-08T16:59:56.229475",
     "status": "completed"
    },
    "tags": []
   },
   "source": [
    "# basic imports"
   ]
  },
  {
   "cell_type": "code",
   "execution_count": 1,
   "id": "a41a6911",
   "metadata": {
    "_cell_guid": "b1076dfc-b9ad-4769-8c92-a6c4dae69d19",
    "_uuid": "8f2839f25d086af736a60e9eeb907d3b93b6e0e5",
    "execution": {
     "iopub.execute_input": "2023-04-08T16:59:56.257945Z",
     "iopub.status.busy": "2023-04-08T16:59:56.257438Z",
     "iopub.status.idle": "2023-04-08T17:00:14.034732Z",
     "shell.execute_reply": "2023-04-08T17:00:14.033635Z"
    },
    "papermill": {
     "duration": 17.78998,
     "end_time": "2023-04-08T17:00:14.037589",
     "exception": false,
     "start_time": "2023-04-08T16:59:56.247609",
     "status": "completed"
    },
    "tags": []
   },
   "outputs": [
    {
     "name": "stdout",
     "output_type": "stream",
     "text": [
      "\u001b[33mWARNING: Running pip as the 'root' user can result in broken permissions and conflicting behaviour with the system package manager. It is recommended to use a virtual environment instead: https://pip.pypa.io/warnings/venv\u001b[0m\u001b[33m\r\n",
      "\u001b[0m"
     ]
    }
   ],
   "source": [
    "import numpy as np \n",
    "import pandas as pd\n",
    "import os\n",
    "import cv2\n",
    "import tensorflow\n",
    "import glob\n",
    "from matplotlib import pyplot as plt\n",
    "from tensorflow.keras.layers import Input, Lambda, Dense, Flatten,Dropout\n",
    "from tensorflow.keras.models import Model\n",
    "from tensorflow.keras.applications.inception_v3 import InceptionV3\n",
    "from tensorflow.keras.preprocessing import image\n",
    "from tensorflow.keras.preprocessing.image import ImageDataGenerator\n",
    "from tensorflow.keras.models import Sequential\n",
    "from tensorflow.keras.applications.vgg16 import VGG16\n",
    "from tensorflow.keras.applications.vgg19 import VGG19\n",
    "from tensorflow.keras.applications import EfficientNetB0\n",
    "import tensorflow as tf \n",
    "from tensorflow.keras import layers\n",
    "!pip install --quiet vit-keras\n",
    "from vit_keras import vit\n",
    "from tensorflow.keras.applications.resnet50 import ResNet50"
   ]
  },
  {
   "cell_type": "markdown",
   "id": "51aa599c",
   "metadata": {
    "papermill": {
     "duration": 0.008614,
     "end_time": "2023-04-08T17:00:14.055320",
     "exception": false,
     "start_time": "2023-04-08T17:00:14.046706",
     "status": "completed"
    },
    "tags": []
   },
   "source": [
    "# Reading Data"
   ]
  },
  {
   "cell_type": "code",
   "execution_count": 2,
   "id": "f7a54a1a",
   "metadata": {
    "execution": {
     "iopub.execute_input": "2023-04-08T17:00:14.076584Z",
     "iopub.status.busy": "2023-04-08T17:00:14.075656Z",
     "iopub.status.idle": "2023-04-08T17:00:14.109160Z",
     "shell.execute_reply": "2023-04-08T17:00:14.108266Z"
    },
    "papermill": {
     "duration": 0.04622,
     "end_time": "2023-04-08T17:00:14.111436",
     "exception": false,
     "start_time": "2023-04-08T17:00:14.065216",
     "status": "completed"
    },
    "tags": []
   },
   "outputs": [],
   "source": [
    "#ucm\n",
    "train_data=pd.read_csv(\"/kaggle/input/satelite-csv/train.csv\")\n",
    "train_data['File']=train_data['File'].apply(lambda x : '/kaggle/input/satelite-images/Images/'+x)\n",
    "test_data=pd.read_csv(\"/kaggle/input/satelite-csv/test.csv\")\n",
    "test_data['File']=test_data['File'].apply(lambda x : '/kaggle/input/satelite-images/Images/'+x)"
   ]
  },
  {
   "cell_type": "code",
   "execution_count": 3,
   "id": "bc4e1a8f",
   "metadata": {
    "execution": {
     "iopub.execute_input": "2023-04-08T17:00:14.129802Z",
     "iopub.status.busy": "2023-04-08T17:00:14.129514Z",
     "iopub.status.idle": "2023-04-08T17:00:14.133624Z",
     "shell.execute_reply": "2023-04-08T17:00:14.132721Z"
    },
    "papermill": {
     "duration": 0.015631,
     "end_time": "2023-04-08T17:00:14.135578",
     "exception": false,
     "start_time": "2023-04-08T17:00:14.119947",
     "status": "completed"
    },
    "tags": []
   },
   "outputs": [],
   "source": [
    "# rsscn7\n",
    "# train_data=pd.read_csv(\"/kaggle/input/rsscn7-dataset/gamma-correct/train.csv\")\n",
    "# train_data['File']=train_data['File'].apply(lambda x : '/kaggle/input/rsscn7-dataset/gamma-correct/'+x)\n",
    "# test_data=pd.read_csv(\"/kaggle/input/rsscn7-dataset/gamma-correct/test.csv\")\n",
    "# test_data['File']=test_data['File'].apply(lambda x : '/kaggle/input/rsscn7-dataset/gamma-correct/'+x)"
   ]
  },
  {
   "cell_type": "code",
   "execution_count": 4,
   "id": "a066271b",
   "metadata": {
    "execution": {
     "iopub.execute_input": "2023-04-08T17:00:14.153957Z",
     "iopub.status.busy": "2023-04-08T17:00:14.153116Z",
     "iopub.status.idle": "2023-04-08T17:00:14.174654Z",
     "shell.execute_reply": "2023-04-08T17:00:14.173784Z"
    },
    "papermill": {
     "duration": 0.032796,
     "end_time": "2023-04-08T17:00:14.176697",
     "exception": false,
     "start_time": "2023-04-08T17:00:14.143901",
     "status": "completed"
    },
    "tags": []
   },
   "outputs": [
    {
     "data": {
      "text/html": [
       "<div>\n",
       "<style scoped>\n",
       "    .dataframe tbody tr th:only-of-type {\n",
       "        vertical-align: middle;\n",
       "    }\n",
       "\n",
       "    .dataframe tbody tr th {\n",
       "        vertical-align: top;\n",
       "    }\n",
       "\n",
       "    .dataframe thead th {\n",
       "        text-align: right;\n",
       "    }\n",
       "</style>\n",
       "<table border=\"1\" class=\"dataframe\">\n",
       "  <thead>\n",
       "    <tr style=\"text-align: right;\">\n",
       "      <th></th>\n",
       "      <th>File</th>\n",
       "      <th>class_</th>\n",
       "    </tr>\n",
       "  </thead>\n",
       "  <tbody>\n",
       "    <tr>\n",
       "      <th>878</th>\n",
       "      <td>/kaggle/input/satelite-images/Images/parkinglo...</td>\n",
       "      <td>parkinglot</td>\n",
       "    </tr>\n",
       "    <tr>\n",
       "      <th>4</th>\n",
       "      <td>/kaggle/input/satelite-images/Images/mediumres...</td>\n",
       "      <td>mediumresidential</td>\n",
       "    </tr>\n",
       "    <tr>\n",
       "      <th>1293</th>\n",
       "      <td>/kaggle/input/satelite-images/Images/buildings...</td>\n",
       "      <td>buildings</td>\n",
       "    </tr>\n",
       "    <tr>\n",
       "      <th>1594</th>\n",
       "      <td>/kaggle/input/satelite-images/Images/mobilehom...</td>\n",
       "      <td>mobilehomepark</td>\n",
       "    </tr>\n",
       "    <tr>\n",
       "      <th>848</th>\n",
       "      <td>/kaggle/input/satelite-images/Images/river/riv...</td>\n",
       "      <td>river</td>\n",
       "    </tr>\n",
       "    <tr>\n",
       "      <th>...</th>\n",
       "      <td>...</td>\n",
       "      <td>...</td>\n",
       "    </tr>\n",
       "    <tr>\n",
       "      <th>1442</th>\n",
       "      <td>/kaggle/input/satelite-images/Images/airplane/...</td>\n",
       "      <td>airplane</td>\n",
       "    </tr>\n",
       "    <tr>\n",
       "      <th>168</th>\n",
       "      <td>/kaggle/input/satelite-images/Images/sparseres...</td>\n",
       "      <td>sparseresidential</td>\n",
       "    </tr>\n",
       "    <tr>\n",
       "      <th>1372</th>\n",
       "      <td>/kaggle/input/satelite-images/Images/buildings...</td>\n",
       "      <td>buildings</td>\n",
       "    </tr>\n",
       "    <tr>\n",
       "      <th>1027</th>\n",
       "      <td>/kaggle/input/satelite-images/Images/baseballd...</td>\n",
       "      <td>baseballdiamond</td>\n",
       "    </tr>\n",
       "    <tr>\n",
       "      <th>353</th>\n",
       "      <td>/kaggle/input/satelite-images/Images/harbor/ha...</td>\n",
       "      <td>harbor</td>\n",
       "    </tr>\n",
       "  </tbody>\n",
       "</table>\n",
       "<p>1680 rows × 2 columns</p>\n",
       "</div>"
      ],
      "text/plain": [
       "                                                   File             class_\n",
       "878   /kaggle/input/satelite-images/Images/parkinglo...         parkinglot\n",
       "4     /kaggle/input/satelite-images/Images/mediumres...  mediumresidential\n",
       "1293  /kaggle/input/satelite-images/Images/buildings...          buildings\n",
       "1594  /kaggle/input/satelite-images/Images/mobilehom...     mobilehomepark\n",
       "848   /kaggle/input/satelite-images/Images/river/riv...              river\n",
       "...                                                 ...                ...\n",
       "1442  /kaggle/input/satelite-images/Images/airplane/...           airplane\n",
       "168   /kaggle/input/satelite-images/Images/sparseres...  sparseresidential\n",
       "1372  /kaggle/input/satelite-images/Images/buildings...          buildings\n",
       "1027  /kaggle/input/satelite-images/Images/baseballd...    baseballdiamond\n",
       "353   /kaggle/input/satelite-images/Images/harbor/ha...             harbor\n",
       "\n",
       "[1680 rows x 2 columns]"
      ]
     },
     "execution_count": 4,
     "metadata": {},
     "output_type": "execute_result"
    }
   ],
   "source": [
    "train_data=train_data.sample(frac=1)\n",
    "train_data"
   ]
  },
  {
   "cell_type": "code",
   "execution_count": 5,
   "id": "7ab0f5ad",
   "metadata": {
    "execution": {
     "iopub.execute_input": "2023-04-08T17:00:14.195477Z",
     "iopub.status.busy": "2023-04-08T17:00:14.195207Z",
     "iopub.status.idle": "2023-04-08T17:00:14.199042Z",
     "shell.execute_reply": "2023-04-08T17:00:14.198030Z"
    },
    "papermill": {
     "duration": 0.015634,
     "end_time": "2023-04-08T17:00:14.201063",
     "exception": false,
     "start_time": "2023-04-08T17:00:14.185429",
     "status": "completed"
    },
    "tags": []
   },
   "outputs": [],
   "source": [
    "SIZE=448\n",
    "size = [SIZE, SIZE ,3]"
   ]
  },
  {
   "cell_type": "code",
   "execution_count": 6,
   "id": "12b65f9a",
   "metadata": {
    "execution": {
     "iopub.execute_input": "2023-04-08T17:00:14.219554Z",
     "iopub.status.busy": "2023-04-08T17:00:14.219231Z",
     "iopub.status.idle": "2023-04-08T17:00:14.224228Z",
     "shell.execute_reply": "2023-04-08T17:00:14.223221Z"
    },
    "papermill": {
     "duration": 0.016638,
     "end_time": "2023-04-08T17:00:14.226192",
     "exception": false,
     "start_time": "2023-04-08T17:00:14.209554",
     "status": "completed"
    },
    "tags": []
   },
   "outputs": [],
   "source": [
    "train_datagen = ImageDataGenerator(\n",
    "    rescale=1.0 / 255,\n",
    "    rotation_range=40,\n",
    "    width_shift_range=0.2,\n",
    "    height_shift_range=0.2,\n",
    "    shear_range=0.2,\n",
    "    zoom_range=0.2,\n",
    "    horizontal_flip=True,\n",
    "    validation_split=.1,\n",
    "    fill_mode=\"nearest\",\n",
    ")\n",
    "batch_size=64"
   ]
  },
  {
   "cell_type": "code",
   "execution_count": 7,
   "id": "9772e9e7",
   "metadata": {
    "execution": {
     "iopub.execute_input": "2023-04-08T17:00:14.245280Z",
     "iopub.status.busy": "2023-04-08T17:00:14.244322Z",
     "iopub.status.idle": "2023-04-08T17:00:16.256053Z",
     "shell.execute_reply": "2023-04-08T17:00:16.255007Z"
    },
    "papermill": {
     "duration": 2.023526,
     "end_time": "2023-04-08T17:00:16.258148",
     "exception": false,
     "start_time": "2023-04-08T17:00:14.234622",
     "status": "completed"
    },
    "tags": []
   },
   "outputs": [
    {
     "name": "stdout",
     "output_type": "stream",
     "text": [
      "Found 1512 validated image filenames belonging to 21 classes.\n",
      "Found 168 validated image filenames belonging to 21 classes.\n"
     ]
    }
   ],
   "source": [
    "train_images = train_datagen.flow_from_dataframe(\n",
    "    dataframe=train_data,\n",
    "    x_col='File',\n",
    "    y_col='class_',\n",
    "    target_size=(SIZE, SIZE),\n",
    "    color_mode='rgb',\n",
    "    class_mode='categorical',\n",
    "    batch_size=batch_size,\n",
    "    shuffle=True,\n",
    "    seed=42,\n",
    "    subset='training'\n",
    ")\n",
    "valid_images = train_datagen.flow_from_dataframe(\n",
    "    dataframe=train_data,\n",
    "    x_col='File',\n",
    "    y_col='class_',\n",
    "    target_size=(SIZE, SIZE),\n",
    "    color_mode='rgb',\n",
    "    class_mode='categorical',\n",
    "    batch_size=batch_size,\n",
    "    shuffle=True,\n",
    "    seed=42,\n",
    "    subset='validation'\n",
    ")\n"
   ]
  },
  {
   "cell_type": "markdown",
   "id": "352a99a4",
   "metadata": {
    "papermill": {
     "duration": 0.00854,
     "end_time": "2023-04-08T17:00:16.275406",
     "exception": false,
     "start_time": "2023-04-08T17:00:16.266866",
     "status": "completed"
    },
    "tags": []
   },
   "source": [
    "# freezing nescessary pararametres"
   ]
  },
  {
   "cell_type": "code",
   "execution_count": 8,
   "id": "b1f5fc84",
   "metadata": {
    "execution": {
     "iopub.execute_input": "2023-04-08T17:00:16.294794Z",
     "iopub.status.busy": "2023-04-08T17:00:16.294137Z",
     "iopub.status.idle": "2023-04-08T17:00:16.752867Z",
     "shell.execute_reply": "2023-04-08T17:00:16.751911Z"
    },
    "papermill": {
     "duration": 0.471186,
     "end_time": "2023-04-08T17:00:16.755326",
     "exception": false,
     "start_time": "2023-04-08T17:00:16.284140",
     "status": "completed"
    },
    "tags": []
   },
   "outputs": [],
   "source": [
    "import tensorflow_hub as hub"
   ]
  },
  {
   "cell_type": "code",
   "execution_count": 9,
   "id": "45e7051c",
   "metadata": {
    "execution": {
     "iopub.execute_input": "2023-04-08T17:00:16.774682Z",
     "iopub.status.busy": "2023-04-08T17:00:16.774376Z",
     "iopub.status.idle": "2023-04-08T17:00:16.779800Z",
     "shell.execute_reply": "2023-04-08T17:00:16.778944Z"
    },
    "papermill": {
     "duration": 0.017806,
     "end_time": "2023-04-08T17:00:16.782057",
     "exception": false,
     "start_time": "2023-04-08T17:00:16.764251",
     "status": "completed"
    },
    "tags": []
   },
   "outputs": [],
   "source": [
    "def get_from_hub(model_url):\n",
    "    inputs = tf.keras.Input((batch_size,SIZE, SIZE, 3))\n",
    "    hub_module = hub.KerasLayer(model_url,trainable=False)\n",
    "    outputs = hub_module(inputs)\n",
    "    return tf.keras.Model(inputs, outputs)"
   ]
  },
  {
   "cell_type": "code",
   "execution_count": 10,
   "id": "c13f8fee",
   "metadata": {
    "execution": {
     "iopub.execute_input": "2023-04-08T17:00:16.801737Z",
     "iopub.status.busy": "2023-04-08T17:00:16.800858Z",
     "iopub.status.idle": "2023-04-08T17:00:16.806208Z",
     "shell.execute_reply": "2023-04-08T17:00:16.805382Z"
    },
    "papermill": {
     "duration": 0.017085,
     "end_time": "2023-04-08T17:00:16.808096",
     "exception": false,
     "start_time": "2023-04-08T17:00:16.791011",
     "status": "completed"
    },
    "tags": []
   },
   "outputs": [],
   "source": [
    "def name_and_freeze(model,name=\"\"):\n",
    "    for layer in model.layers[:]:\n",
    "      layer.trainable = False\n",
    "    for layer in model.layers:\n",
    "        layer._name = layer.name + str(name)\n",
    "    "
   ]
  },
  {
   "cell_type": "code",
   "execution_count": 11,
   "id": "26bfe83a",
   "metadata": {
    "execution": {
     "iopub.execute_input": "2023-04-08T17:00:16.827524Z",
     "iopub.status.busy": "2023-04-08T17:00:16.826102Z",
     "iopub.status.idle": "2023-04-08T17:00:16.832453Z",
     "shell.execute_reply": "2023-04-08T17:00:16.831598Z"
    },
    "papermill": {
     "duration": 0.017792,
     "end_time": "2023-04-08T17:00:16.834433",
     "exception": false,
     "start_time": "2023-04-08T17:00:16.816641",
     "status": "completed"
    },
    "tags": []
   },
   "outputs": [],
   "source": [
    "def se_block(inputs):\n",
    "    input_channels = inputs.shape[-1]\n",
    "    x = tf.keras.layers.GlobalAveragePooling2D()(inputs)\n",
    "    x = tf.keras.layers.Dense(units=len(train_images.class_indices.keys()), activation=\"relu\")(x)    \n",
    "    x = tf.keras.layers.Dense(units=input_channels, activation=\"sigmoid\")(x)    \n",
    "    x = tf.reshape(x, [-1, 1, 1, input_channels])\n",
    "    x = inputs * x\n",
    "    return x"
   ]
  },
  {
   "cell_type": "code",
   "execution_count": 12,
   "id": "1b90984c",
   "metadata": {
    "execution": {
     "iopub.execute_input": "2023-04-08T17:00:16.853141Z",
     "iopub.status.busy": "2023-04-08T17:00:16.852372Z",
     "iopub.status.idle": "2023-04-08T17:00:16.859097Z",
     "shell.execute_reply": "2023-04-08T17:00:16.857757Z"
    },
    "papermill": {
     "duration": 0.01817,
     "end_time": "2023-04-08T17:00:16.861086",
     "exception": false,
     "start_time": "2023-04-08T17:00:16.842916",
     "status": "completed"
    },
    "tags": []
   },
   "outputs": [],
   "source": [
    "def dilation_block(inputs,dilation_rates):\n",
    "    outputs = []\n",
    "    for dilation_rate in dilation_rates:\n",
    "        x = tf.keras.layers.Conv2D(filters=len(train_images.class_indices.keys()), kernel_size=3, strides=1, padding=\"same\", dilation_rate=dilation_rate)(inputs)\n",
    "        x = tf.keras.layers.BatchNormalization()(x)\n",
    "        x = tf.keras.layers.ReLU()(x)\n",
    "        outputs.append(x)\n",
    "    x = tf.keras.layers.Concatenate(axis=-1)(outputs)\n",
    "    return x"
   ]
  },
  {
   "cell_type": "markdown",
   "id": "c6758085",
   "metadata": {
    "papermill": {
     "duration": 0.008426,
     "end_time": "2023-04-08T17:00:16.878074",
     "exception": false,
     "start_time": "2023-04-08T17:00:16.869648",
     "status": "completed"
    },
    "tags": []
   },
   "source": [
    "# Importing Vit"
   ]
  },
  {
   "cell_type": "code",
   "execution_count": 13,
   "id": "3c412ab5",
   "metadata": {
    "execution": {
     "iopub.execute_input": "2023-04-08T17:00:16.897175Z",
     "iopub.status.busy": "2023-04-08T17:00:16.896430Z",
     "iopub.status.idle": "2023-04-08T17:00:28.616081Z",
     "shell.execute_reply": "2023-04-08T17:00:28.615109Z"
    },
    "papermill": {
     "duration": 11.731562,
     "end_time": "2023-04-08T17:00:28.618478",
     "exception": false,
     "start_time": "2023-04-08T17:00:16.886916",
     "status": "completed"
    },
    "tags": []
   },
   "outputs": [
    {
     "name": "stdout",
     "output_type": "stream",
     "text": [
      "Downloading data from https://github.com/faustomorales/vit-keras/releases/download/dl/ViT-B_32_imagenet21k+imagenet2012.npz\n",
      "353255424/353253686 [==============================] - 6s 0us/step\n",
      "353263616/353253686 [==============================] - 6s 0us/step\n"
     ]
    },
    {
     "name": "stderr",
     "output_type": "stream",
     "text": [
      "/opt/conda/lib/python3.7/site-packages/vit_keras/utils.py:83: UserWarning: Resizing position embeddings from 12, 12 to 14, 14\n",
      "  UserWarning,\n"
     ]
    }
   ],
   "source": [
    "vit_big = vit.vit_b32(\n",
    "        image_size = SIZE,\n",
    "        activation = 'softmax',\n",
    "        pretrained = True,\n",
    "        include_top = False,\n",
    "        pretrained_top = False,\n",
    "        )"
   ]
  },
  {
   "cell_type": "code",
   "execution_count": 14,
   "id": "2f37ca76",
   "metadata": {
    "execution": {
     "iopub.execute_input": "2023-04-08T17:00:28.647721Z",
     "iopub.status.busy": "2023-04-08T17:00:28.647385Z",
     "iopub.status.idle": "2023-04-08T17:00:28.651627Z",
     "shell.execute_reply": "2023-04-08T17:00:28.650603Z"
    },
    "papermill": {
     "duration": 0.021245,
     "end_time": "2023-04-08T17:00:28.654053",
     "exception": false,
     "start_time": "2023-04-08T17:00:28.632808",
     "status": "completed"
    },
    "tags": []
   },
   "outputs": [],
   "source": [
    "# vit_large = vit.vit_l32(\n",
    "#         image_size = SIZE,\n",
    "#         activation = 'softmax',\n",
    "#         pretrained = True,\n",
    "#         include_top = False,\n",
    "#         pretrained_top = False,\n",
    "#         )"
   ]
  },
  {
   "cell_type": "markdown",
   "id": "c85a8104",
   "metadata": {
    "papermill": {
     "duration": 0.01331,
     "end_time": "2023-04-08T17:00:28.680913",
     "exception": false,
     "start_time": "2023-04-08T17:00:28.667603",
     "status": "completed"
    },
    "tags": []
   },
   "source": [
    "#  Fine-tuning vit"
   ]
  },
  {
   "cell_type": "code",
   "execution_count": 15,
   "id": "b9e4fd54",
   "metadata": {
    "execution": {
     "iopub.execute_input": "2023-04-08T17:00:28.709259Z",
     "iopub.status.busy": "2023-04-08T17:00:28.708912Z",
     "iopub.status.idle": "2023-04-08T17:00:28.719410Z",
     "shell.execute_reply": "2023-04-08T17:00:28.718503Z"
    },
    "papermill": {
     "duration": 0.027084,
     "end_time": "2023-04-08T17:00:28.721409",
     "exception": false,
     "start_time": "2023-04-08T17:00:28.694325",
     "status": "completed"
    },
    "tags": []
   },
   "outputs": [],
   "source": [
    "# name_and_freeze(vit_large,'vit_large_')\n",
    "name_and_freeze(vit_big,'vit_big_')"
   ]
  },
  {
   "cell_type": "code",
   "execution_count": 16,
   "id": "eea32712",
   "metadata": {
    "execution": {
     "iopub.execute_input": "2023-04-08T17:00:28.749430Z",
     "iopub.status.busy": "2023-04-08T17:00:28.749172Z",
     "iopub.status.idle": "2023-04-08T17:00:28.792593Z",
     "shell.execute_reply": "2023-04-08T17:00:28.791698Z"
    },
    "papermill": {
     "duration": 0.060118,
     "end_time": "2023-04-08T17:00:28.794834",
     "exception": false,
     "start_time": "2023-04-08T17:00:28.734716",
     "status": "completed"
    },
    "tags": []
   },
   "outputs": [],
   "source": [
    "from tensorflow.keras import regularizers\n",
    "x =vit_big.output\n",
    "x=tf.keras.layers.BatchNormalization(axis=-1, momentum=0.99, epsilon=0.001 )(x)\n",
    "x = Dense(512, kernel_regularizer = regularizers.l2(l = 0.016),activity_regularizer=regularizers.l1(0.006),\n",
    "                bias_regularizer=regularizers.l1(0.006) ,activation='relu')(x)\n",
    "x=Dense(256,activation='relu')(x)\n",
    "x_vit_big = Dense(128, activation='relu')(x)\n",
    "\n",
    "# x =vit_large.output\n",
    "# x=tf.keras.layers.BatchNormalization(axis=-1, momentum=0.99, epsilon=0.001 )(x)\n",
    "# x = Dense(32, kernel_regularizer = regularizers.l2(l = 0.016),activity_regularizer=regularizers.l1(0.006),\n",
    "#                 bias_regularizer=regularizers.l1(0.006) ,activation='relu')(x)\n",
    "# x=Dense(256,activation='relu')(x)\n",
    "# x_vit_large = Dense(128, activation='relu')(x)"
   ]
  },
  {
   "cell_type": "markdown",
   "id": "e4cf558f",
   "metadata": {
    "papermill": {
     "duration": 0.014011,
     "end_time": "2023-04-08T17:00:28.822780",
     "exception": false,
     "start_time": "2023-04-08T17:00:28.808769",
     "status": "completed"
    },
    "tags": []
   },
   "source": [
    "# importing cnn models"
   ]
  },
  {
   "cell_type": "code",
   "execution_count": 17,
   "id": "d34f4c61",
   "metadata": {
    "execution": {
     "iopub.execute_input": "2023-04-08T17:00:28.853369Z",
     "iopub.status.busy": "2023-04-08T17:00:28.851403Z",
     "iopub.status.idle": "2023-04-08T17:00:34.571702Z",
     "shell.execute_reply": "2023-04-08T17:00:34.570694Z"
    },
    "papermill": {
     "duration": 5.738822,
     "end_time": "2023-04-08T17:00:34.575324",
     "exception": false,
     "start_time": "2023-04-08T17:00:28.836502",
     "status": "completed"
    },
    "tags": []
   },
   "outputs": [
    {
     "name": "stdout",
     "output_type": "stream",
     "text": [
      "Downloading data from https://storage.googleapis.com/tensorflow/keras-applications/resnet/resnet152v2_weights_tf_dim_ordering_tf_kernels_notop.h5\n",
      "234553344/234545216 [==============================] - 2s 0us/step\n",
      "234561536/234545216 [==============================] - 2s 0us/step\n"
     ]
    }
   ],
   "source": [
    "resnet152= tf.keras.applications.ResNet152V2(input_shape=size,include_top=False, weights='imagenet',)\n",
    "# mobilenet= tf.keras.applications.MobileNetV3Large(input_shape=size,include_top=False, weights='imagenet')\n",
    "# xception= tf.keras.applications.Xception(input_shape=size,include_top=False, weights='imagenet')\n",
    "# effecientnet= tf.keras.applications.EfficientNetB7(input_shape=size,include_top=False, weights='imagenet')\n",
    "# densenet=tf.keras.applications.DenseNet121(input_shape=size,include_top=False, weights='imagenet')\n",
    "# incepresnet=tf.keras.applications.InceptionResNetV2(input_shape=size,include_top=False, weights='imagenet')"
   ]
  },
  {
   "cell_type": "code",
   "execution_count": 18,
   "id": "bf4fd753",
   "metadata": {
    "execution": {
     "iopub.execute_input": "2023-04-08T17:00:34.609079Z",
     "iopub.status.busy": "2023-04-08T17:00:34.607529Z",
     "iopub.status.idle": "2023-04-08T17:00:34.613939Z",
     "shell.execute_reply": "2023-04-08T17:00:34.613008Z"
    },
    "papermill": {
     "duration": 0.024611,
     "end_time": "2023-04-08T17:00:34.616057",
     "exception": false,
     "start_time": "2023-04-08T17:00:34.591446",
     "status": "completed"
    },
    "tags": []
   },
   "outputs": [
    {
     "name": "stdout",
     "output_type": "stream",
     "text": [
      "KerasTensor(type_spec=TensorSpec(shape=(None, 14, 14, 2048), dtype=tf.float32, name=None), name='post_relu/Relu:0', description=\"created by layer 'post_relu'\")\n"
     ]
    }
   ],
   "source": [
    "# print(xception.output)\n",
    "print(resnet152.output)\n",
    "# print(mobilenet.output)\n",
    "# print(effecientnet.output)\n",
    "# print(densenet.output)\n",
    "# print(incepresnet.output)"
   ]
  },
  {
   "cell_type": "code",
   "execution_count": 19,
   "id": "86d8f179",
   "metadata": {
    "execution": {
     "iopub.execute_input": "2023-04-08T17:00:34.647838Z",
     "iopub.status.busy": "2023-04-08T17:00:34.647560Z",
     "iopub.status.idle": "2023-04-08T17:00:34.679229Z",
     "shell.execute_reply": "2023-04-08T17:00:34.678328Z"
    },
    "papermill": {
     "duration": 0.04974,
     "end_time": "2023-04-08T17:00:34.681236",
     "exception": false,
     "start_time": "2023-04-08T17:00:34.631496",
     "status": "completed"
    },
    "tags": []
   },
   "outputs": [],
   "source": [
    "name_and_freeze(resnet152,'resnet152_')\n",
    "# name_and_freeze(mobilenet,'mobilenet_')\n",
    "# name_and_freeze(xception,'xception_')\n",
    "# name_and_freeze(effecientnet,'effecientnet_')\n",
    "# name_and_freeze(densenet,'densenet_')\n",
    "# name_and_freeze(incepresnet,'incepResnet_')"
   ]
  },
  {
   "cell_type": "code",
   "execution_count": 20,
   "id": "f9977cc6",
   "metadata": {
    "execution": {
     "iopub.execute_input": "2023-04-08T17:00:34.713748Z",
     "iopub.status.busy": "2023-04-08T17:00:34.712271Z",
     "iopub.status.idle": "2023-04-08T17:00:34.720109Z",
     "shell.execute_reply": "2023-04-08T17:00:34.719254Z"
    },
    "papermill": {
     "duration": 0.025792,
     "end_time": "2023-04-08T17:00:34.722055",
     "exception": false,
     "start_time": "2023-04-08T17:00:34.696263",
     "status": "completed"
    },
    "tags": []
   },
   "outputs": [],
   "source": [
    "def get_model(base_model):\n",
    "    x = tf.keras.layers.GlobalAveragePooling2D()(se_block(dilation_block(base_model.output,[2,3,5,7])))\n",
    "    x=tf.keras.layers.BatchNormalization(axis=-1, momentum=0.99, epsilon=0.001 )(x)\n",
    "    x = Dense(512, kernel_regularizer = regularizers.l2(l = 0.016),activity_regularizer=regularizers.l1(0.006),\n",
    "                    bias_regularizer=regularizers.l1(0.006) ,activation='relu')(x)\n",
    "    x=Dense(256,activation='relu')(x)\n",
    "    return Dense(128,activation='relu')(x)"
   ]
  },
  {
   "cell_type": "markdown",
   "id": "15d7a36e",
   "metadata": {
    "papermill": {
     "duration": 0.014762,
     "end_time": "2023-04-08T17:00:34.751852",
     "exception": false,
     "start_time": "2023-04-08T17:00:34.737090",
     "status": "completed"
    },
    "tags": []
   },
   "source": [
    "# fine tuning CNN models"
   ]
  },
  {
   "cell_type": "code",
   "execution_count": 21,
   "id": "f84f2685",
   "metadata": {
    "execution": {
     "iopub.execute_input": "2023-04-08T17:00:34.785335Z",
     "iopub.status.busy": "2023-04-08T17:00:34.783666Z",
     "iopub.status.idle": "2023-04-08T17:00:34.945723Z",
     "shell.execute_reply": "2023-04-08T17:00:34.944782Z"
    },
    "papermill": {
     "duration": 0.181062,
     "end_time": "2023-04-08T17:00:34.948141",
     "exception": false,
     "start_time": "2023-04-08T17:00:34.767079",
     "status": "completed"
    },
    "tags": []
   },
   "outputs": [],
   "source": [
    "x_resnet152v2=get_model(resnet152)\n",
    "# x_xception=get_model(xception)\n",
    "# x_mobilenet=get_model(mobilenet)\n",
    "# # x_incepresnet=get_model(incepresnet)\n",
    "# x_effecientnet=get_model(effecientnet)\n",
    "# x_densenet=get_model(densenet)"
   ]
  },
  {
   "cell_type": "markdown",
   "id": "b64b7c83",
   "metadata": {
    "papermill": {
     "duration": 0.014837,
     "end_time": "2023-04-08T17:00:34.978608",
     "exception": false,
     "start_time": "2023-04-08T17:00:34.963771",
     "status": "completed"
    },
    "tags": []
   },
   "source": [
    "# constructing full model"
   ]
  },
  {
   "cell_type": "code",
   "execution_count": 22,
   "id": "3be5fd6f",
   "metadata": {
    "execution": {
     "iopub.execute_input": "2023-04-08T17:00:35.011006Z",
     "iopub.status.busy": "2023-04-08T17:00:35.010029Z",
     "iopub.status.idle": "2023-04-08T17:00:35.058411Z",
     "shell.execute_reply": "2023-04-08T17:00:35.057459Z"
    },
    "papermill": {
     "duration": 0.067123,
     "end_time": "2023-04-08T17:00:35.060791",
     "exception": false,
     "start_time": "2023-04-08T17:00:34.993668",
     "status": "completed"
    },
    "tags": []
   },
   "outputs": [],
   "source": [
    "from tensorflow.keras.layers import concatenate\n",
    "concatenated = concatenate([x_vit_big,x_resnet152v2])\n",
    "bigmodel_prediction = Dense(len(train_images.class_indices), activation='softmax')(concatenated)\n",
    "model = Model([resnet152.input,vit_big.input], bigmodel_prediction) \n",
    "from tensorflow.keras.utils import plot_model"
   ]
  },
  {
   "cell_type": "code",
   "execution_count": 23,
   "id": "f6a31025",
   "metadata": {
    "execution": {
     "iopub.execute_input": "2023-04-08T17:00:35.093137Z",
     "iopub.status.busy": "2023-04-08T17:00:35.092808Z",
     "iopub.status.idle": "2023-04-08T17:00:35.525310Z",
     "shell.execute_reply": "2023-04-08T17:00:35.524035Z"
    },
    "papermill": {
     "duration": 0.450994,
     "end_time": "2023-04-08T17:00:35.527538",
     "exception": false,
     "start_time": "2023-04-08T17:00:35.076544",
     "status": "completed"
    },
    "tags": []
   },
   "outputs": [
    {
     "name": "stdout",
     "output_type": "stream",
     "text": [
      "trainable parametres: 2324970 non trainable parametres: 145901648\n"
     ]
    }
   ],
   "source": [
    "trainable_params = sum([v.numpy().size for v in model.trainable_variables])\n",
    "non_trainable_params = sum([v.numpy().size for v in model.non_trainable_variables])\n",
    "print(\"trainable parametres: \"+ str(trainable_params) + \" non trainable parametres: \"+ str(non_trainable_params))"
   ]
  },
  {
   "cell_type": "markdown",
   "id": "15ee5335",
   "metadata": {
    "papermill": {
     "duration": 0.014972,
     "end_time": "2023-04-08T17:00:35.557750",
     "exception": false,
     "start_time": "2023-04-08T17:00:35.542778",
     "status": "completed"
    },
    "tags": []
   },
   "source": [
    "# custom generator"
   ]
  },
  {
   "cell_type": "code",
   "execution_count": 24,
   "id": "59534916",
   "metadata": {
    "execution": {
     "iopub.execute_input": "2023-04-08T17:00:35.591084Z",
     "iopub.status.busy": "2023-04-08T17:00:35.589420Z",
     "iopub.status.idle": "2023-04-08T17:00:35.596172Z",
     "shell.execute_reply": "2023-04-08T17:00:35.595308Z"
    },
    "papermill": {
     "duration": 0.025153,
     "end_time": "2023-04-08T17:00:35.598225",
     "exception": false,
     "start_time": "2023-04-08T17:00:35.573072",
     "status": "completed"
    },
    "tags": []
   },
   "outputs": [],
   "source": [
    "def generator_two_img(gen):\n",
    "    while True:\n",
    "        X1i = gen.next()\n",
    "        yield [X1i[0],X1i[0]], X1i[1]"
   ]
  },
  {
   "cell_type": "markdown",
   "id": "6f300e92",
   "metadata": {
    "papermill": {
     "duration": 0.015597,
     "end_time": "2023-04-08T17:00:35.629022",
     "exception": false,
     "start_time": "2023-04-08T17:00:35.613425",
     "status": "completed"
    },
    "tags": []
   },
   "source": [
    "# training model"
   ]
  },
  {
   "cell_type": "code",
   "execution_count": 25,
   "id": "a4d4f421",
   "metadata": {
    "execution": {
     "iopub.execute_input": "2023-04-08T17:00:35.661370Z",
     "iopub.status.busy": "2023-04-08T17:00:35.660496Z",
     "iopub.status.idle": "2023-04-08T17:00:35.682618Z",
     "shell.execute_reply": "2023-04-08T17:00:35.681772Z"
    },
    "papermill": {
     "duration": 0.040266,
     "end_time": "2023-04-08T17:00:35.684753",
     "exception": false,
     "start_time": "2023-04-08T17:00:35.644487",
     "status": "completed"
    },
    "tags": []
   },
   "outputs": [],
   "source": [
    "model.compile(loss=\"categorical_crossentropy\",optimizer=tf.optimizers.Adam(),metrics=['accuracy'])"
   ]
  },
  {
   "cell_type": "code",
   "execution_count": 26,
   "id": "0dc98227",
   "metadata": {
    "execution": {
     "iopub.execute_input": "2023-04-08T17:00:35.719746Z",
     "iopub.status.busy": "2023-04-08T17:00:35.719459Z",
     "iopub.status.idle": "2023-04-08T17:32:20.772935Z",
     "shell.execute_reply": "2023-04-08T17:32:20.771788Z"
    },
    "papermill": {
     "duration": 1905.076093,
     "end_time": "2023-04-08T17:32:20.776440",
     "exception": false,
     "start_time": "2023-04-08T17:00:35.700347",
     "status": "completed"
    },
    "tags": []
   },
   "outputs": [
    {
     "name": "stdout",
     "output_type": "stream",
     "text": [
      "Epoch 1/20\n",
      "23/23 [==============================] - 129s 5s/step - loss: 12.5489 - accuracy: 0.6583 - val_loss: 9.0521 - val_accuracy: 0.7031\n",
      "Epoch 2/20\n",
      "23/23 [==============================] - 92s 4s/step - loss: 6.3457 - accuracy: 0.9323 - val_loss: 4.9595 - val_accuracy: 0.7656\n",
      "Epoch 3/20\n",
      "23/23 [==============================] - 91s 4s/step - loss: 3.1650 - accuracy: 0.9593 - val_loss: 2.8076 - val_accuracy: 0.8828\n",
      "Epoch 4/20\n",
      "23/23 [==============================] - 90s 4s/step - loss: 1.6448 - accuracy: 0.9758 - val_loss: 1.8608 - val_accuracy: 0.8516\n",
      "Epoch 5/20\n",
      "23/23 [==============================] - 90s 4s/step - loss: 0.9898 - accuracy: 0.9606 - val_loss: 1.3420 - val_accuracy: 0.9219\n",
      "Epoch 6/20\n",
      "23/23 [==============================] - 90s 4s/step - loss: 0.6444 - accuracy: 0.9800 - val_loss: 1.1479 - val_accuracy: 0.9375\n",
      "Epoch 7/20\n",
      "23/23 [==============================] - 90s 4s/step - loss: 0.4782 - accuracy: 0.9807 - val_loss: 0.9491 - val_accuracy: 0.9141\n",
      "Epoch 8/20\n",
      "23/23 [==============================] - 90s 4s/step - loss: 0.4071 - accuracy: 0.9786 - val_loss: 0.8141 - val_accuracy: 0.9297\n",
      "Epoch 9/20\n",
      "23/23 [==============================] - 89s 4s/step - loss: 0.3599 - accuracy: 0.9751 - val_loss: 0.6685 - val_accuracy: 0.9531\n",
      "Epoch 10/20\n",
      "23/23 [==============================] - 91s 4s/step - loss: 0.3435 - accuracy: 0.9717 - val_loss: 0.7341 - val_accuracy: 0.8516\n",
      "Epoch 11/20\n",
      "23/23 [==============================] - 90s 4s/step - loss: 0.3616 - accuracy: 0.9682 - val_loss: 0.6055 - val_accuracy: 0.9141\n",
      "Epoch 12/20\n",
      "23/23 [==============================] - 91s 4s/step - loss: 0.3338 - accuracy: 0.9696 - val_loss: 0.5101 - val_accuracy: 0.9453\n",
      "Epoch 13/20\n",
      "23/23 [==============================] - 91s 4s/step - loss: 0.3001 - accuracy: 0.9772 - val_loss: 0.4491 - val_accuracy: 0.9609\n",
      "Epoch 14/20\n",
      "23/23 [==============================] - 92s 4s/step - loss: 0.2488 - accuracy: 0.9814 - val_loss: 0.4863 - val_accuracy: 0.8984\n",
      "Epoch 15/20\n",
      "23/23 [==============================] - 91s 4s/step - loss: 0.2395 - accuracy: 0.9800 - val_loss: 0.3748 - val_accuracy: 0.9219\n",
      "Epoch 16/20\n",
      "23/23 [==============================] - 92s 4s/step - loss: 0.2121 - accuracy: 0.9848 - val_loss: 0.4413 - val_accuracy: 0.9141\n",
      "Epoch 17/20\n",
      "23/23 [==============================] - 90s 4s/step - loss: 0.1911 - accuracy: 0.9862 - val_loss: 0.4357 - val_accuracy: 0.8906\n",
      "Epoch 18/20\n",
      "23/23 [==============================] - 90s 4s/step - loss: 0.1892 - accuracy: 0.9848 - val_loss: 0.3667 - val_accuracy: 0.9297\n",
      "Epoch 19/20\n",
      "23/23 [==============================] - 90s 4s/step - loss: 0.2256 - accuracy: 0.9717 - val_loss: 0.3025 - val_accuracy: 0.9531\n",
      "Epoch 20/20\n",
      "23/23 [==============================] - 90s 4s/step - loss: 0.2161 - accuracy: 0.9848 - val_loss: 0.4636 - val_accuracy: 0.9062\n"
     ]
    }
   ],
   "source": [
    "batch_size=64\n",
    "history = model.fit(\n",
    "    generator_two_img(train_images),\n",
    "    validation_data=generator_two_img(valid_images),\n",
    "    validation_steps=valid_images.n//batch_size,\n",
    "    validation_batch_size=batch_size,\n",
    "    steps_per_epoch=train_images.n//batch_size,\n",
    "    batch_size=batch_size,\n",
    "    epochs=20,\n",
    ")\n"
   ]
  },
  {
   "cell_type": "code",
   "execution_count": 27,
   "id": "bc85ca38",
   "metadata": {
    "execution": {
     "iopub.execute_input": "2023-04-08T17:32:20.936877Z",
     "iopub.status.busy": "2023-04-08T17:32:20.935843Z",
     "iopub.status.idle": "2023-04-08T17:32:22.760104Z",
     "shell.execute_reply": "2023-04-08T17:32:22.758847Z"
    },
    "papermill": {
     "duration": 1.939836,
     "end_time": "2023-04-08T17:32:22.762441",
     "exception": false,
     "start_time": "2023-04-08T17:32:20.822605",
     "status": "completed"
    },
    "tags": []
   },
   "outputs": [
    {
     "name": "stderr",
     "output_type": "stream",
     "text": [
      "/opt/conda/lib/python3.7/site-packages/keras/utils/generic_utils.py:497: CustomMaskWarning: Custom mask layers require a config and must override get_config. When loading, the custom mask layer must be passed to the custom_objects argument.\n",
      "  category=CustomMaskWarning)\n"
     ]
    }
   ],
   "source": [
    "model.save('1vit1cnn.h5')"
   ]
  },
  {
   "cell_type": "markdown",
   "id": "e6afbcef",
   "metadata": {
    "papermill": {
     "duration": 0.040678,
     "end_time": "2023-04-08T17:32:22.844245",
     "exception": false,
     "start_time": "2023-04-08T17:32:22.803567",
     "status": "completed"
    },
    "tags": []
   },
   "source": [
    "# performance evaluation"
   ]
  },
  {
   "cell_type": "code",
   "execution_count": 28,
   "id": "aa2835b8",
   "metadata": {
    "execution": {
     "iopub.execute_input": "2023-04-08T17:32:22.927664Z",
     "iopub.status.busy": "2023-04-08T17:32:22.927304Z",
     "iopub.status.idle": "2023-04-08T17:32:23.330813Z",
     "shell.execute_reply": "2023-04-08T17:32:23.329875Z"
    },
    "papermill": {
     "duration": 0.447767,
     "end_time": "2023-04-08T17:32:23.333078",
     "exception": false,
     "start_time": "2023-04-08T17:32:22.885311",
     "status": "completed"
    },
    "tags": []
   },
   "outputs": [
    {
     "name": "stderr",
     "output_type": "stream",
     "text": [
      "/opt/conda/lib/python3.7/site-packages/ipykernel_launcher.py:10: UserWarning: color is redundantly defined by the 'color' keyword argument and the fmt string \"go-\" (-> color='g'). The keyword argument will take precedence.\n",
      "  # Remove the CWD from sys.path while we load stuff.\n",
      "/opt/conda/lib/python3.7/site-packages/ipykernel_launcher.py:18: UserWarning: color is redundantly defined by the 'color' keyword argument and the fmt string \"g-o\" (-> color='g'). The keyword argument will take precedence.\n"
     ]
    },
    {
     "data": {
      "image/png": "[encoded data removed]",
      "text/plain": [
       "<Figure size 1440x720 with 2 Axes>"
      ]
     },
     "metadata": {
      "needs_background": "light"
     },
     "output_type": "display_data"
    }
   ],
   "source": [
    "epochs = list(range(len(history.history['accuracy'])))\n",
    "fig , ax = plt.subplots(1,2)\n",
    "train_acc = history.history['accuracy']\n",
    "train_loss = history.history['loss']\n",
    "val_acc = history.history['val_accuracy']\n",
    "val_loss = history.history['val_loss']\n",
    "\n",
    "fig.set_size_inches(20,10)\n",
    "\n",
    "ax[0].plot(epochs , train_acc , 'go-' ,color='r', label = 'Training Accuracy')\n",
    "ax[0].plot(epochs , val_acc , 'go-' , label = 'Validation Accuracy')\n",
    "ax[0].set_title('Training Accuracy')\n",
    "ax[0].legend()\n",
    "ax[0].set_xlabel(\"Epochs\")\n",
    "ax[0].set_ylabel(\"Accuracy\")\n",
    "\n",
    "\n",
    "ax[1].plot(epochs , train_loss , 'g-o' ,color='r', label = 'Training Loss')\n",
    "ax[1].plot(epochs , val_loss , 'go-' , label = 'Validation Loss')\n",
    "ax[1].set_title('Training Loss')\n",
    "ax[1].legend()\n",
    "ax[1].set_xlabel(\"Epochs\")\n",
    "ax[1].set_ylabel(\"Training Loss\")\n",
    "plt.show()"
   ]
  },
  {
   "cell_type": "code",
   "execution_count": 29,
   "id": "1005cd3b",
   "metadata": {
    "execution": {
     "iopub.execute_input": "2023-04-08T17:32:23.416156Z",
     "iopub.status.busy": "2023-04-08T17:32:23.415820Z",
     "iopub.status.idle": "2023-04-08T17:32:24.323029Z",
     "shell.execute_reply": "2023-04-08T17:32:24.321744Z"
    },
    "papermill": {
     "duration": 0.951344,
     "end_time": "2023-04-08T17:32:24.325295",
     "exception": false,
     "start_time": "2023-04-08T17:32:23.373951",
     "status": "completed"
    },
    "tags": []
   },
   "outputs": [
    {
     "name": "stdout",
     "output_type": "stream",
     "text": [
      "Found 420 validated image filenames belonging to 21 classes.\n"
     ]
    }
   ],
   "source": [
    "test_generator = tf.keras.preprocessing.image.ImageDataGenerator(\n",
    "    rescale=1./255,\n",
    ")\n",
    "test_images = test_generator.flow_from_dataframe(\n",
    "    dataframe=test_data,\n",
    "    x_col='File',\n",
    "    y_col='class_',\n",
    "    target_size=(SIZE, SIZE),\n",
    "    color_mode='rgb',\n",
    "    class_mode='categorical',\n",
    "    batch_size=batch_size,\n",
    "    shuffle=False\n",
    ")"
   ]
  },
  {
   "cell_type": "code",
   "execution_count": 30,
   "id": "87e5f3d1",
   "metadata": {
    "execution": {
     "iopub.execute_input": "2023-04-08T17:32:24.408793Z",
     "iopub.status.busy": "2023-04-08T17:32:24.408463Z",
     "iopub.status.idle": "2023-04-08T17:32:24.413266Z",
     "shell.execute_reply": "2023-04-08T17:32:24.412273Z"
    },
    "papermill": {
     "duration": 0.048913,
     "end_time": "2023-04-08T17:32:24.415408",
     "exception": false,
     "start_time": "2023-04-08T17:32:24.366495",
     "status": "completed"
    },
    "tags": []
   },
   "outputs": [],
   "source": [
    "class_=train_images.class_indices.keys()"
   ]
  },
  {
   "cell_type": "code",
   "execution_count": 31,
   "id": "0ae2cc2e",
   "metadata": {
    "execution": {
     "iopub.execute_input": "2023-04-08T17:32:24.499162Z",
     "iopub.status.busy": "2023-04-08T17:32:24.498810Z",
     "iopub.status.idle": "2023-04-08T17:32:24.504405Z",
     "shell.execute_reply": "2023-04-08T17:32:24.503305Z"
    },
    "papermill": {
     "duration": 0.050456,
     "end_time": "2023-04-08T17:32:24.506929",
     "exception": false,
     "start_time": "2023-04-08T17:32:24.456473",
     "status": "completed"
    },
    "tags": []
   },
   "outputs": [],
   "source": [
    "def prediction_generator(test_images):\n",
    "    k=0\n",
    "    for x in test_images:\n",
    "        k+=len(x[1])\n",
    "        yield [x[0],x[0]], x[1]\n",
    "        if(k>=test_images.n):\n",
    "            break"
   ]
  },
  {
   "cell_type": "code",
   "execution_count": 32,
   "id": "e1a8e1a2",
   "metadata": {
    "execution": {
     "iopub.execute_input": "2023-04-08T17:32:24.590406Z",
     "iopub.status.busy": "2023-04-08T17:32:24.589482Z",
     "iopub.status.idle": "2023-04-08T17:32:41.935805Z",
     "shell.execute_reply": "2023-04-08T17:32:41.934812Z"
    },
    "papermill": {
     "duration": 17.389991,
     "end_time": "2023-04-08T17:32:41.937874",
     "exception": false,
     "start_time": "2023-04-08T17:32:24.547883",
     "status": "completed"
    },
    "tags": []
   },
   "outputs": [
    {
     "data": {
      "text/plain": [
       "0.9238095238095239"
      ]
     },
     "execution_count": 32,
     "metadata": {},
     "output_type": "execute_result"
    }
   ],
   "source": [
    "from sklearn.metrics import accuracy_score\n",
    "proba=model.predict(prediction_generator(test_images))\n",
    "predicted = np.argmax(proba,axis=1)\n",
    "true=test_images.labels\n",
    "accuracy_score(predicted, true)"
   ]
  },
  {
   "cell_type": "code",
   "execution_count": 33,
   "id": "c381c9f7",
   "metadata": {
    "execution": {
     "iopub.execute_input": "2023-04-08T17:32:42.031524Z",
     "iopub.status.busy": "2023-04-08T17:32:42.030855Z",
     "iopub.status.idle": "2023-04-08T17:32:44.550588Z",
     "shell.execute_reply": "2023-04-08T17:32:44.549520Z"
    },
    "papermill": {
     "duration": 2.566542,
     "end_time": "2023-04-08T17:32:44.553216",
     "exception": false,
     "start_time": "2023-04-08T17:32:41.986674",
     "status": "completed"
    },
    "tags": []
   },
   "outputs": [
    {
     "data": {
      "image/png": "[encoded data removed]",
      "text/plain": [
       "<Figure size 1152x1008 with 2 Axes>"
      ]
     },
     "metadata": {
      "needs_background": "light"
     },
     "output_type": "display_data"
    }
   ],
   "source": [
    "from sklearn.metrics import confusion_matrix\n",
    "import seaborn as sns\n",
    "class_=test_images.class_indices.keys()\n",
    "cm = confusion_matrix(true, predicted)\n",
    "fig = plt.figure(figsize=(16, 14))\n",
    "ax= plt.subplot()\n",
    "sns.heatmap(cm, annot=True, ax = ax,cmap=\"BuPu\"); \n",
    "ax.set_xlabel('Predicted', fontsize=20)\n",
    "ax.xaxis.set_label_position('bottom')\n",
    "plt.xticks(rotation=90)\n",
    "ax.xaxis.set_ticklabels(class_, fontsize = 10)\n",
    "ax.xaxis.tick_bottom()\n",
    "\n",
    "ax.set_ylabel('True', fontsize=20)\n",
    "ax.yaxis.set_ticklabels(class_, fontsize = 10)\n",
    "plt.yticks(rotation=0)\n",
    "\n",
    "plt.title('', fontsize=60)\n",
    "\n",
    "plt.savefig('ConMat24.png')\n",
    "plt.show()"
   ]
  },
  {
   "cell_type": "markdown",
   "id": "66d3c165",
   "metadata": {
    "papermill": {
     "duration": 0.043071,
     "end_time": "2023-04-08T17:32:44.638780",
     "exception": false,
     "start_time": "2023-04-08T17:32:44.595709",
     "status": "completed"
    },
    "tags": []
   },
   "source": [
    "# ROC"
   ]
  },
  {
   "cell_type": "code",
   "execution_count": 34,
   "id": "65965e22",
   "metadata": {
    "execution": {
     "iopub.execute_input": "2023-04-08T17:32:44.724753Z",
     "iopub.status.busy": "2023-04-08T17:32:44.724395Z",
     "iopub.status.idle": "2023-04-08T17:32:45.397279Z",
     "shell.execute_reply": "2023-04-08T17:32:45.396351Z"
    },
    "papermill": {
     "duration": 0.719242,
     "end_time": "2023-04-08T17:32:45.400171",
     "exception": false,
     "start_time": "2023-04-08T17:32:44.680929",
     "status": "completed"
    },
    "tags": []
   },
   "outputs": [
    {
     "data": {
      "image/png": "[encoded data removed]",
      "text/plain": [
       "<Figure size 720x1152 with 1 Axes>"
      ]
     },
     "metadata": {
      "needs_background": "light"
     },
     "output_type": "display_data"
    }
   ],
   "source": [
    "from sklearn.metrics import roc_curve, roc_auc_score\n",
    "from matplotlib import cm\n",
    "n=len(true)\n",
    "dim=max(true)+1\n",
    "result=[]\n",
    "for i in true:\n",
    "    result.append([0 for i in range(dim)])\n",
    "    result[len(result)-1][i]=1\n",
    "    \n",
    "    \n",
    "fpr = dict()\n",
    "tpr = dict()\n",
    "roc_auc = dict()\n",
    "n_classes =len(test_images.class_indices.keys())\n",
    "y_test=np.array(result)\n",
    "y_pred=np.array(proba)\n",
    "fpr = dict()\n",
    "tpr = dict()\n",
    "roc_auc = dict()\n",
    "\n",
    "rev={}\n",
    "for i in class_:\n",
    "    rev[train_images.class_indices[i]]=i\n",
    "\n",
    "\n",
    "for i in range(n_classes):\n",
    "    fpr[i], tpr[i], _ = roc_curve(y_test[:, i], y_pred[:, i])\n",
    "    roc_auc[i] = roc_auc_score(y_test[:, i], y_pred[:, i])\n",
    "\n",
    "\n",
    "fpr[\"micro\"], tpr[\"micro\"], _ = roc_curve(y_test.ravel(), y_pred.ravel())\n",
    "roc_auc[\"micro\"] = roc_auc_score(y_test, y_pred, multi_class='ovr')\n",
    "\n",
    "\n",
    "cmap = cm.get_cmap('tab10')\n",
    "\n",
    "# Plot the ROC curve for each class and micro-average with automatic color selection\n",
    "plt.figure(figsize=(10,16))\n",
    "lw = 2\n",
    "for i in range(n_classes):\n",
    "    color = cmap(i)\n",
    "    plt.plot(fpr[i], tpr[i], color=color, lw=lw,\n",
    "             label='ROC curve of class {0} (area = {1:0.2f})'\n",
    "             ''.format(rev[i], roc_auc[i]))\n",
    "\n",
    "plt.plot(fpr[\"micro\"], tpr[\"micro\"],\n",
    "         label='micro-average ROC curve (area = {0:0.2f})'\n",
    "         ''.format(roc_auc[\"micro\"]),\n",
    "         color=cmap(n_classes), linestyle=':', linewidth=4)\n",
    "\n",
    "plt.plot([0, 1], [0, 1], 'k--', lw=lw)\n",
    "plt.xlim([0.0, 1.0])\n",
    "plt.ylim([0.0, 1.05])\n",
    "plt.xlabel('False Positive Rate')\n",
    "plt.ylabel('True Positive Rate')\n",
    "plt.title('ROC Curve')\n",
    "plt.legend(loc=\"lower right\")\n",
    "plt.show()\n"
   ]
  },
  {
   "cell_type": "markdown",
   "id": "0f1db992",
   "metadata": {
    "papermill": {
     "duration": 0.067157,
     "end_time": "2023-04-08T17:32:45.542880",
     "exception": false,
     "start_time": "2023-04-08T17:32:45.475723",
     "status": "completed"
    },
    "tags": []
   },
   "source": [
    "# AUC"
   ]
  },
  {
   "cell_type": "code",
   "execution_count": 35,
   "id": "582faf20",
   "metadata": {
    "execution": {
     "iopub.execute_input": "2023-04-08T17:32:45.680339Z",
     "iopub.status.busy": "2023-04-08T17:32:45.679860Z",
     "iopub.status.idle": "2023-04-08T17:32:45.913632Z",
     "shell.execute_reply": "2023-04-08T17:32:45.912613Z"
    },
    "papermill": {
     "duration": 0.30669,
     "end_time": "2023-04-08T17:32:45.916616",
     "exception": false,
     "start_time": "2023-04-08T17:32:45.609926",
     "status": "completed"
    },
    "tags": []
   },
   "outputs": [
    {
     "data": {
      "image/png": "[encoded data removed]",
      "text/plain": [
       "<Figure size 432x288 with 1 Axes>"
      ]
     },
     "metadata": {
      "needs_background": "light"
     },
     "output_type": "display_data"
    }
   ],
   "source": [
    "from sklearn.metrics import roc_curve, auc\n",
    "import matplotlib.pyplot as plt\n",
    "\n",
    "y_true=y_test\n",
    "y_score=y_pred\n",
    "fpr, tpr, thresholds = roc_curve(y_test.ravel(), y_pred.ravel())\n",
    "roc_auc = auc(fpr, tpr)\n",
    "\n",
    "plt.figure()\n",
    "lw = 2\n",
    "plt.plot(fpr, tpr, color='darkorange',\n",
    "         lw=lw, label='ROC curve (area = %0.2f)' % roc_auc)\n",
    "plt.plot([0, 1], [0, 1], color='navy', lw=lw, linestyle='--')\n",
    "plt.xlim([0.0, 1.0])\n",
    "plt.ylim([0.0, 1.05])\n",
    "plt.xlabel('False Positive Rate')\n",
    "plt.ylabel('True Positive Rate')\n",
    "plt.title('AUC Curve')\n",
    "plt.legend(loc=\"lower right\")\n",
    "plt.show()"
   ]
  }
 ],
 "metadata": {
  "kernelspec": {
   "display_name": "Python 3",
   "language": "python",
   "name": "python3"
  },
  "language_info": {
   "codemirror_mode": {
    "name": "ipython",
    "version": 3
   },
   "file_extension": ".py",
   "mimetype": "text/x-python",
   "name": "python",
   "nbconvert_exporter": "python",
   "pygments_lexer": "ipython3",
   "version": "3.7.12"
  },
  "papermill": {
   "default_parameters": {},
   "duration": 1981.246268,
   "end_time": "2023-04-08T17:32:49.638624",
   "environment_variables": {},
   "exception": null,
   "input_path": "__notebook__.ipynb",
   "output_path": "__notebook__.ipynb",
   "parameters": {},
   "start_time": "2023-04-08T16:59:48.392356",
   "version": "2.3.4"
  }
 },
 "nbformat": 4,
 "nbformat_minor": 5
}
