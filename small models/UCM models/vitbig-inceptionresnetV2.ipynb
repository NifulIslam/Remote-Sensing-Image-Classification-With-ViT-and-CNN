{
 "cells": [
  {
   "cell_type": "markdown",
   "id": "ea41c75e",
   "metadata": {
    "papermill": {
     "duration": 0.009733,
     "end_time": "2023-04-09T13:55:53.627321",
     "exception": false,
     "start_time": "2023-04-09T13:55:53.617588",
     "status": "completed"
    },
    "tags": []
   },
   "source": [
    "# basic imports"
   ]
  },
  {
   "cell_type": "code",
   "execution_count": 1,
   "id": "afd238ac",
   "metadata": {
    "_cell_guid": "b1076dfc-b9ad-4769-8c92-a6c4dae69d19",
    "_uuid": "8f2839f25d086af736a60e9eeb907d3b93b6e0e5",
    "execution": {
     "iopub.execute_input": "2023-04-09T13:55:53.648414Z",
     "iopub.status.busy": "2023-04-09T13:55:53.647480Z",
     "iopub.status.idle": "2023-04-09T13:56:10.690458Z",
     "shell.execute_reply": "2023-04-09T13:56:10.689317Z"
    },
    "papermill": {
     "duration": 17.057195,
     "end_time": "2023-04-09T13:56:10.693581",
     "exception": false,
     "start_time": "2023-04-09T13:55:53.636386",
     "status": "completed"
    },
    "tags": []
   },
   "outputs": [
    {
     "name": "stdout",
     "output_type": "stream",
     "text": [
      "\u001b[33mWARNING: Running pip as the 'root' user can result in broken permissions and conflicting behaviour with the system package manager. It is recommended to use a virtual environment instead: https://pip.pypa.io/warnings/venv\u001b[0m\u001b[33m\r\n",
      "\u001b[0m"
     ]
    }
   ],
   "source": [
    "import numpy as np \n",
    "import pandas as pd\n",
    "import os\n",
    "import cv2\n",
    "import tensorflow\n",
    "import glob\n",
    "from matplotlib import pyplot as plt\n",
    "from tensorflow.keras.layers import Input, Lambda, Dense, Flatten,Dropout\n",
    "from tensorflow.keras.models import Model\n",
    "from tensorflow.keras.applications.inception_v3 import InceptionV3\n",
    "from tensorflow.keras.preprocessing import image\n",
    "from tensorflow.keras.preprocessing.image import ImageDataGenerator\n",
    "from tensorflow.keras.models import Sequential\n",
    "from tensorflow.keras.applications.vgg16 import VGG16\n",
    "from tensorflow.keras.applications.vgg19 import VGG19\n",
    "from tensorflow.keras.applications import EfficientNetB0\n",
    "import tensorflow as tf \n",
    "from tensorflow.keras import layers\n",
    "!pip install --quiet vit-keras\n",
    "from vit_keras import vit\n",
    "from tensorflow.keras.applications.resnet50 import ResNet50"
   ]
  },
  {
   "cell_type": "markdown",
   "id": "6b808ea4",
   "metadata": {
    "papermill": {
     "duration": 0.008296,
     "end_time": "2023-04-09T13:56:10.710766",
     "exception": false,
     "start_time": "2023-04-09T13:56:10.702470",
     "status": "completed"
    },
    "tags": []
   },
   "source": [
    "# Reading Data"
   ]
  },
  {
   "cell_type": "code",
   "execution_count": 2,
   "id": "b95c133a",
   "metadata": {
    "execution": {
     "iopub.execute_input": "2023-04-09T13:56:10.731236Z",
     "iopub.status.busy": "2023-04-09T13:56:10.730204Z",
     "iopub.status.idle": "2023-04-09T13:56:10.761821Z",
     "shell.execute_reply": "2023-04-09T13:56:10.760864Z"
    },
    "papermill": {
     "duration": 0.043255,
     "end_time": "2023-04-09T13:56:10.763844",
     "exception": false,
     "start_time": "2023-04-09T13:56:10.720589",
     "status": "completed"
    },
    "tags": []
   },
   "outputs": [],
   "source": [
    "#ucm\n",
    "train_data=pd.read_csv(\"/kaggle/input/satelite-csv/train.csv\")\n",
    "train_data['File']=train_data['File'].apply(lambda x : '/kaggle/input/satelite-images/Images/'+x)\n",
    "test_data=pd.read_csv(\"/kaggle/input/satelite-csv/test.csv\")\n",
    "test_data['File']=test_data['File'].apply(lambda x : '/kaggle/input/satelite-images/Images/'+x)"
   ]
  },
  {
   "cell_type": "code",
   "execution_count": 3,
   "id": "fb1e5d1d",
   "metadata": {
    "execution": {
     "iopub.execute_input": "2023-04-09T13:56:10.782967Z",
     "iopub.status.busy": "2023-04-09T13:56:10.782674Z",
     "iopub.status.idle": "2023-04-09T13:56:10.786404Z",
     "shell.execute_reply": "2023-04-09T13:56:10.785441Z"
    },
    "papermill": {
     "duration": 0.015398,
     "end_time": "2023-04-09T13:56:10.788319",
     "exception": false,
     "start_time": "2023-04-09T13:56:10.772921",
     "status": "completed"
    },
    "tags": []
   },
   "outputs": [],
   "source": [
    "# rsscn7\n",
    "# train_data=pd.read_csv(\"/kaggle/input/rsscn7-dataset/gamma-correct/train.csv\")\n",
    "# train_data['File']=train_data['File'].apply(lambda x : '/kaggle/input/rsscn7-dataset/gamma-correct/'+x)\n",
    "# test_data=pd.read_csv(\"/kaggle/input/rsscn7-dataset/gamma-correct/test.csv\")\n",
    "# test_data['File']=test_data['File'].apply(lambda x : '/kaggle/input/rsscn7-dataset/gamma-correct/'+x)"
   ]
  },
  {
   "cell_type": "code",
   "execution_count": 4,
   "id": "a7cb872d",
   "metadata": {
    "execution": {
     "iopub.execute_input": "2023-04-09T13:56:10.806453Z",
     "iopub.status.busy": "2023-04-09T13:56:10.806181Z",
     "iopub.status.idle": "2023-04-09T13:56:10.825201Z",
     "shell.execute_reply": "2023-04-09T13:56:10.824315Z"
    },
    "papermill": {
     "duration": 0.030142,
     "end_time": "2023-04-09T13:56:10.827071",
     "exception": false,
     "start_time": "2023-04-09T13:56:10.796929",
     "status": "completed"
    },
    "tags": []
   },
   "outputs": [
    {
     "data": {
      "text/html": [
       "<div>\n",
       "<style scoped>\n",
       "    .dataframe tbody tr th:only-of-type {\n",
       "        vertical-align: middle;\n",
       "    }\n",
       "\n",
       "    .dataframe tbody tr th {\n",
       "        vertical-align: top;\n",
       "    }\n",
       "\n",
       "    .dataframe thead th {\n",
       "        text-align: right;\n",
       "    }\n",
       "</style>\n",
       "<table border=\"1\" class=\"dataframe\">\n",
       "  <thead>\n",
       "    <tr style=\"text-align: right;\">\n",
       "      <th></th>\n",
       "      <th>File</th>\n",
       "      <th>class_</th>\n",
       "    </tr>\n",
       "  </thead>\n",
       "  <tbody>\n",
       "    <tr>\n",
       "      <th>1328</th>\n",
       "      <td>/kaggle/input/satelite-images/Images/baseballd...</td>\n",
       "      <td>baseballdiamond</td>\n",
       "    </tr>\n",
       "    <tr>\n",
       "      <th>1580</th>\n",
       "      <td>/kaggle/input/satelite-images/Images/agricultu...</td>\n",
       "      <td>agricultural</td>\n",
       "    </tr>\n",
       "    <tr>\n",
       "      <th>633</th>\n",
       "      <td>/kaggle/input/satelite-images/Images/baseballd...</td>\n",
       "      <td>baseballdiamond</td>\n",
       "    </tr>\n",
       "    <tr>\n",
       "      <th>820</th>\n",
       "      <td>/kaggle/input/satelite-images/Images/runway/ru...</td>\n",
       "      <td>runway</td>\n",
       "    </tr>\n",
       "    <tr>\n",
       "      <th>39</th>\n",
       "      <td>/kaggle/input/satelite-images/Images/forest/fo...</td>\n",
       "      <td>forest</td>\n",
       "    </tr>\n",
       "    <tr>\n",
       "      <th>...</th>\n",
       "      <td>...</td>\n",
       "      <td>...</td>\n",
       "    </tr>\n",
       "    <tr>\n",
       "      <th>1045</th>\n",
       "      <td>/kaggle/input/satelite-images/Images/airplane/...</td>\n",
       "      <td>airplane</td>\n",
       "    </tr>\n",
       "    <tr>\n",
       "      <th>276</th>\n",
       "      <td>/kaggle/input/satelite-images/Images/freeway/f...</td>\n",
       "      <td>freeway</td>\n",
       "    </tr>\n",
       "    <tr>\n",
       "      <th>1254</th>\n",
       "      <td>/kaggle/input/satelite-images/Images/runway/ru...</td>\n",
       "      <td>runway</td>\n",
       "    </tr>\n",
       "    <tr>\n",
       "      <th>503</th>\n",
       "      <td>/kaggle/input/satelite-images/Images/tenniscou...</td>\n",
       "      <td>tenniscourt</td>\n",
       "    </tr>\n",
       "    <tr>\n",
       "      <th>1422</th>\n",
       "      <td>/kaggle/input/satelite-images/Images/denseresi...</td>\n",
       "      <td>denseresidential</td>\n",
       "    </tr>\n",
       "  </tbody>\n",
       "</table>\n",
       "<p>1680 rows × 2 columns</p>\n",
       "</div>"
      ],
      "text/plain": [
       "                                                   File            class_\n",
       "1328  /kaggle/input/satelite-images/Images/baseballd...   baseballdiamond\n",
       "1580  /kaggle/input/satelite-images/Images/agricultu...      agricultural\n",
       "633   /kaggle/input/satelite-images/Images/baseballd...   baseballdiamond\n",
       "820   /kaggle/input/satelite-images/Images/runway/ru...            runway\n",
       "39    /kaggle/input/satelite-images/Images/forest/fo...            forest\n",
       "...                                                 ...               ...\n",
       "1045  /kaggle/input/satelite-images/Images/airplane/...          airplane\n",
       "276   /kaggle/input/satelite-images/Images/freeway/f...           freeway\n",
       "1254  /kaggle/input/satelite-images/Images/runway/ru...            runway\n",
       "503   /kaggle/input/satelite-images/Images/tenniscou...       tenniscourt\n",
       "1422  /kaggle/input/satelite-images/Images/denseresi...  denseresidential\n",
       "\n",
       "[1680 rows x 2 columns]"
      ]
     },
     "execution_count": 4,
     "metadata": {},
     "output_type": "execute_result"
    }
   ],
   "source": [
    "train_data=train_data.sample(frac=1)\n",
    "train_data"
   ]
  },
  {
   "cell_type": "code",
   "execution_count": 5,
   "id": "62f36677",
   "metadata": {
    "execution": {
     "iopub.execute_input": "2023-04-09T13:56:10.846113Z",
     "iopub.status.busy": "2023-04-09T13:56:10.845288Z",
     "iopub.status.idle": "2023-04-09T13:56:10.849903Z",
     "shell.execute_reply": "2023-04-09T13:56:10.849097Z"
    },
    "papermill": {
     "duration": 0.016166,
     "end_time": "2023-04-09T13:56:10.852080",
     "exception": false,
     "start_time": "2023-04-09T13:56:10.835914",
     "status": "completed"
    },
    "tags": []
   },
   "outputs": [],
   "source": [
    "SIZE=448\n",
    "size = [SIZE, SIZE ,3]"
   ]
  },
  {
   "cell_type": "code",
   "execution_count": 6,
   "id": "6186d730",
   "metadata": {
    "execution": {
     "iopub.execute_input": "2023-04-09T13:56:10.870443Z",
     "iopub.status.busy": "2023-04-09T13:56:10.870184Z",
     "iopub.status.idle": "2023-04-09T13:56:10.875787Z",
     "shell.execute_reply": "2023-04-09T13:56:10.874728Z"
    },
    "papermill": {
     "duration": 0.017262,
     "end_time": "2023-04-09T13:56:10.877859",
     "exception": false,
     "start_time": "2023-04-09T13:56:10.860597",
     "status": "completed"
    },
    "tags": []
   },
   "outputs": [],
   "source": [
    "train_datagen = ImageDataGenerator(\n",
    "    rescale=1.0 / 255,\n",
    "    rotation_range=40,\n",
    "    width_shift_range=0.2,\n",
    "    height_shift_range=0.2,\n",
    "    shear_range=0.2,\n",
    "    zoom_range=0.2,\n",
    "    horizontal_flip=True,\n",
    "    validation_split=.1,\n",
    "    fill_mode=\"nearest\",\n",
    ")\n",
    "batch_size=64"
   ]
  },
  {
   "cell_type": "code",
   "execution_count": 7,
   "id": "27532a66",
   "metadata": {
    "execution": {
     "iopub.execute_input": "2023-04-09T13:56:10.896790Z",
     "iopub.status.busy": "2023-04-09T13:56:10.895942Z",
     "iopub.status.idle": "2023-04-09T13:56:13.217487Z",
     "shell.execute_reply": "2023-04-09T13:56:13.216204Z"
    },
    "papermill": {
     "duration": 2.333307,
     "end_time": "2023-04-09T13:56:13.219643",
     "exception": false,
     "start_time": "2023-04-09T13:56:10.886336",
     "status": "completed"
    },
    "tags": []
   },
   "outputs": [
    {
     "name": "stdout",
     "output_type": "stream",
     "text": [
      "Found 1512 validated image filenames belonging to 21 classes.\n",
      "Found 168 validated image filenames belonging to 21 classes.\n"
     ]
    }
   ],
   "source": [
    "train_images = train_datagen.flow_from_dataframe(\n",
    "    dataframe=train_data,\n",
    "    x_col='File',\n",
    "    y_col='class_',\n",
    "    target_size=(SIZE, SIZE),\n",
    "    color_mode='rgb',\n",
    "    class_mode='categorical',\n",
    "    batch_size=batch_size,\n",
    "    shuffle=True,\n",
    "    seed=42,\n",
    "    subset='training'\n",
    ")\n",
    "valid_images = train_datagen.flow_from_dataframe(\n",
    "    dataframe=train_data,\n",
    "    x_col='File',\n",
    "    y_col='class_',\n",
    "    target_size=(SIZE, SIZE),\n",
    "    color_mode='rgb',\n",
    "    class_mode='categorical',\n",
    "    batch_size=batch_size,\n",
    "    shuffle=True,\n",
    "    seed=42,\n",
    "    subset='validation'\n",
    ")\n"
   ]
  },
  {
   "cell_type": "markdown",
   "id": "d00029b9",
   "metadata": {
    "papermill": {
     "duration": 0.009063,
     "end_time": "2023-04-09T13:56:13.237738",
     "exception": false,
     "start_time": "2023-04-09T13:56:13.228675",
     "status": "completed"
    },
    "tags": []
   },
   "source": [
    "# freezing nescessary pararametres"
   ]
  },
  {
   "cell_type": "code",
   "execution_count": 8,
   "id": "0ba08d90",
   "metadata": {
    "execution": {
     "iopub.execute_input": "2023-04-09T13:56:13.256505Z",
     "iopub.status.busy": "2023-04-09T13:56:13.256179Z",
     "iopub.status.idle": "2023-04-09T13:56:13.714145Z",
     "shell.execute_reply": "2023-04-09T13:56:13.713007Z"
    },
    "papermill": {
     "duration": 0.470098,
     "end_time": "2023-04-09T13:56:13.716501",
     "exception": false,
     "start_time": "2023-04-09T13:56:13.246403",
     "status": "completed"
    },
    "tags": []
   },
   "outputs": [],
   "source": [
    "import tensorflow_hub as hub"
   ]
  },
  {
   "cell_type": "code",
   "execution_count": 9,
   "id": "9250897f",
   "metadata": {
    "execution": {
     "iopub.execute_input": "2023-04-09T13:56:13.736670Z",
     "iopub.status.busy": "2023-04-09T13:56:13.735823Z",
     "iopub.status.idle": "2023-04-09T13:56:13.741270Z",
     "shell.execute_reply": "2023-04-09T13:56:13.740341Z"
    },
    "papermill": {
     "duration": 0.017801,
     "end_time": "2023-04-09T13:56:13.743383",
     "exception": false,
     "start_time": "2023-04-09T13:56:13.725582",
     "status": "completed"
    },
    "tags": []
   },
   "outputs": [],
   "source": [
    "def get_from_hub(model_url):\n",
    "    inputs = tf.keras.Input((batch_size,SIZE, SIZE, 3))\n",
    "    hub_module = hub.KerasLayer(model_url,trainable=False)\n",
    "    outputs = hub_module(inputs)\n",
    "    return tf.keras.Model(inputs, outputs)"
   ]
  },
  {
   "cell_type": "code",
   "execution_count": 10,
   "id": "8ae838e9",
   "metadata": {
    "execution": {
     "iopub.execute_input": "2023-04-09T13:56:13.762741Z",
     "iopub.status.busy": "2023-04-09T13:56:13.761950Z",
     "iopub.status.idle": "2023-04-09T13:56:13.767309Z",
     "shell.execute_reply": "2023-04-09T13:56:13.766460Z"
    },
    "papermill": {
     "duration": 0.016832,
     "end_time": "2023-04-09T13:56:13.769212",
     "exception": false,
     "start_time": "2023-04-09T13:56:13.752380",
     "status": "completed"
    },
    "tags": []
   },
   "outputs": [],
   "source": [
    "def name_and_freeze(model,name=\"\"):\n",
    "    for layer in model.layers[:]:\n",
    "      layer.trainable = False\n",
    "    for layer in model.layers:\n",
    "        layer._name = layer.name + str(name)\n",
    "    "
   ]
  },
  {
   "cell_type": "code",
   "execution_count": 11,
   "id": "11057cfe",
   "metadata": {
    "execution": {
     "iopub.execute_input": "2023-04-09T13:56:13.788722Z",
     "iopub.status.busy": "2023-04-09T13:56:13.787941Z",
     "iopub.status.idle": "2023-04-09T13:56:13.794527Z",
     "shell.execute_reply": "2023-04-09T13:56:13.793714Z"
    },
    "papermill": {
     "duration": 0.018309,
     "end_time": "2023-04-09T13:56:13.796330",
     "exception": false,
     "start_time": "2023-04-09T13:56:13.778021",
     "status": "completed"
    },
    "tags": []
   },
   "outputs": [],
   "source": [
    "def se_block(inputs):\n",
    "    input_channels = inputs.shape[-1]\n",
    "    x = tf.keras.layers.GlobalAveragePooling2D()(inputs)\n",
    "    x = tf.keras.layers.Dense(units=len(train_images.class_indices.keys()), activation=\"relu\")(x)    \n",
    "    x = tf.keras.layers.Dense(units=input_channels, activation=\"sigmoid\")(x)    \n",
    "    x = tf.reshape(x, [-1, 1, 1, input_channels])\n",
    "    x = inputs * x\n",
    "    return x"
   ]
  },
  {
   "cell_type": "code",
   "execution_count": 12,
   "id": "83283128",
   "metadata": {
    "execution": {
     "iopub.execute_input": "2023-04-09T13:56:13.815363Z",
     "iopub.status.busy": "2023-04-09T13:56:13.814616Z",
     "iopub.status.idle": "2023-04-09T13:56:13.820793Z",
     "shell.execute_reply": "2023-04-09T13:56:13.819947Z"
    },
    "papermill": {
     "duration": 0.0177,
     "end_time": "2023-04-09T13:56:13.822794",
     "exception": false,
     "start_time": "2023-04-09T13:56:13.805094",
     "status": "completed"
    },
    "tags": []
   },
   "outputs": [],
   "source": [
    "def dilation_block(inputs,dilation_rates):\n",
    "    outputs = []\n",
    "    for dilation_rate in dilation_rates:\n",
    "        x = tf.keras.layers.Conv2D(filters=len(train_images.class_indices.keys()), kernel_size=3, strides=1, padding=\"same\", dilation_rate=dilation_rate)(inputs)\n",
    "        x = tf.keras.layers.BatchNormalization()(x)\n",
    "        x = tf.keras.layers.ReLU()(x)\n",
    "        outputs.append(x)\n",
    "    x = tf.keras.layers.Concatenate(axis=-1)(outputs)\n",
    "    return x"
   ]
  },
  {
   "cell_type": "markdown",
   "id": "18c49539",
   "metadata": {
    "papermill": {
     "duration": 0.008421,
     "end_time": "2023-04-09T13:56:13.840075",
     "exception": false,
     "start_time": "2023-04-09T13:56:13.831654",
     "status": "completed"
    },
    "tags": []
   },
   "source": [
    "# Importing Vit"
   ]
  },
  {
   "cell_type": "code",
   "execution_count": 13,
   "id": "b58c206e",
   "metadata": {
    "execution": {
     "iopub.execute_input": "2023-04-09T13:56:13.858820Z",
     "iopub.status.busy": "2023-04-09T13:56:13.858278Z",
     "iopub.status.idle": "2023-04-09T13:56:33.934443Z",
     "shell.execute_reply": "2023-04-09T13:56:33.933455Z"
    },
    "papermill": {
     "duration": 20.088243,
     "end_time": "2023-04-09T13:56:33.936862",
     "exception": false,
     "start_time": "2023-04-09T13:56:13.848619",
     "status": "completed"
    },
    "tags": []
   },
   "outputs": [
    {
     "name": "stdout",
     "output_type": "stream",
     "text": [
      "Downloading data from https://github.com/faustomorales/vit-keras/releases/download/dl/ViT-B_32_imagenet21k+imagenet2012.npz\n",
      "353255424/353253686 [==============================] - 14s 0us/step\n",
      "353263616/353253686 [==============================] - 14s 0us/step\n"
     ]
    },
    {
     "name": "stderr",
     "output_type": "stream",
     "text": [
      "/opt/conda/lib/python3.7/site-packages/vit_keras/utils.py:83: UserWarning: Resizing position embeddings from 12, 12 to 14, 14\n",
      "  UserWarning,\n"
     ]
    }
   ],
   "source": [
    "vit_big = vit.vit_b32(\n",
    "        image_size = SIZE,\n",
    "        activation = 'softmax',\n",
    "        pretrained = True,\n",
    "        include_top = False,\n",
    "        pretrained_top = False,\n",
    "        )"
   ]
  },
  {
   "cell_type": "code",
   "execution_count": 14,
   "id": "b7b48abb",
   "metadata": {
    "execution": {
     "iopub.execute_input": "2023-04-09T13:56:33.978673Z",
     "iopub.status.busy": "2023-04-09T13:56:33.977805Z",
     "iopub.status.idle": "2023-04-09T13:56:33.982338Z",
     "shell.execute_reply": "2023-04-09T13:56:33.981391Z"
    },
    "papermill": {
     "duration": 0.027091,
     "end_time": "2023-04-09T13:56:33.984264",
     "exception": false,
     "start_time": "2023-04-09T13:56:33.957173",
     "status": "completed"
    },
    "tags": []
   },
   "outputs": [],
   "source": [
    "# vit_large = vit.vit_l32(\n",
    "#         image_size = SIZE,\n",
    "#         activation = 'softmax',\n",
    "#         pretrained = True,\n",
    "#         include_top = False,\n",
    "#         pretrained_top = False,\n",
    "#         )"
   ]
  },
  {
   "cell_type": "markdown",
   "id": "03c6bb32",
   "metadata": {
    "papermill": {
     "duration": 0.01914,
     "end_time": "2023-04-09T13:56:34.022956",
     "exception": false,
     "start_time": "2023-04-09T13:56:34.003816",
     "status": "completed"
    },
    "tags": []
   },
   "source": [
    "#  Fine-tuning vit"
   ]
  },
  {
   "cell_type": "code",
   "execution_count": 15,
   "id": "a6a07e9b",
   "metadata": {
    "execution": {
     "iopub.execute_input": "2023-04-09T13:56:34.063754Z",
     "iopub.status.busy": "2023-04-09T13:56:34.063442Z",
     "iopub.status.idle": "2023-04-09T13:56:34.073642Z",
     "shell.execute_reply": "2023-04-09T13:56:34.072581Z"
    },
    "papermill": {
     "duration": 0.033455,
     "end_time": "2023-04-09T13:56:34.076042",
     "exception": false,
     "start_time": "2023-04-09T13:56:34.042587",
     "status": "completed"
    },
    "tags": []
   },
   "outputs": [],
   "source": [
    "# name_and_freeze(vit_large,'vit_large_')\n",
    "name_and_freeze(vit_big,'vit_big_')"
   ]
  },
  {
   "cell_type": "code",
   "execution_count": 16,
   "id": "161e90c8",
   "metadata": {
    "execution": {
     "iopub.execute_input": "2023-04-09T13:56:34.116002Z",
     "iopub.status.busy": "2023-04-09T13:56:34.115691Z",
     "iopub.status.idle": "2023-04-09T13:56:34.160047Z",
     "shell.execute_reply": "2023-04-09T13:56:34.159188Z"
    },
    "papermill": {
     "duration": 0.066978,
     "end_time": "2023-04-09T13:56:34.162230",
     "exception": false,
     "start_time": "2023-04-09T13:56:34.095252",
     "status": "completed"
    },
    "tags": []
   },
   "outputs": [],
   "source": [
    "from tensorflow.keras import regularizers\n",
    "x =vit_big.output\n",
    "x=tf.keras.layers.BatchNormalization(axis=-1, momentum=0.99, epsilon=0.001 )(x)\n",
    "x = Dense(512, kernel_regularizer = regularizers.l2(l = 0.016),activity_regularizer=regularizers.l1(0.006),\n",
    "                bias_regularizer=regularizers.l1(0.006) ,activation='relu')(x)\n",
    "x=Dense(256,activation='relu')(x)\n",
    "x_vit_big = Dense(128, activation='relu')(x)\n",
    "\n",
    "# x =vit_large.output\n",
    "# x=tf.keras.layers.BatchNormalization(axis=-1, momentum=0.99, epsilon=0.001 )(x)\n",
    "# x = Dense(32, kernel_regularizer = regularizers.l2(l = 0.016),activity_regularizer=regularizers.l1(0.006),\n",
    "#                 bias_regularizer=regularizers.l1(0.006) ,activation='relu')(x)\n",
    "# x=Dense(256,activation='relu')(x)\n",
    "# x_vit_large = Dense(128, activation='relu')(x)"
   ]
  },
  {
   "cell_type": "markdown",
   "id": "ce3479d6",
   "metadata": {
    "papermill": {
     "duration": 0.019481,
     "end_time": "2023-04-09T13:56:34.201362",
     "exception": false,
     "start_time": "2023-04-09T13:56:34.181881",
     "status": "completed"
    },
    "tags": []
   },
   "source": [
    "# importing cnn models"
   ]
  },
  {
   "cell_type": "code",
   "execution_count": 17,
   "id": "f2e8acb8",
   "metadata": {
    "execution": {
     "iopub.execute_input": "2023-04-09T13:56:34.241558Z",
     "iopub.status.busy": "2023-04-09T13:56:34.241240Z",
     "iopub.status.idle": "2023-04-09T13:56:47.302109Z",
     "shell.execute_reply": "2023-04-09T13:56:47.300987Z"
    },
    "papermill": {
     "duration": 13.083807,
     "end_time": "2023-04-09T13:56:47.304588",
     "exception": false,
     "start_time": "2023-04-09T13:56:34.220781",
     "status": "completed"
    },
    "tags": []
   },
   "outputs": [
    {
     "name": "stdout",
     "output_type": "stream",
     "text": [
      "Downloading data from https://storage.googleapis.com/tensorflow/keras-applications/inception_resnet_v2/inception_resnet_v2_weights_tf_dim_ordering_tf_kernels_notop.h5\n",
      "219062272/219055592 [==============================] - 8s 0us/step\n",
      "219070464/219055592 [==============================] - 8s 0us/step\n"
     ]
    }
   ],
   "source": [
    "# resnet152= tf.keras.applications.ResNet152V2(input_shape=size,include_top=False, weights='imagenet',)\n",
    "# mobilenet= tf.keras.applications.MobileNetV3Large(input_shape=size,include_top=False, weights='imagenet')\n",
    "# xception= tf.keras.applications.Xception(input_shape=size,include_top=False, weights='imagenet')\n",
    "# effecientnet= tf.keras.applications.EfficientNetB7(input_shape=size,include_top=False, weights='imagenet')\n",
    "# densenet=tf.keras.applications.DenseNet121(input_shape=size,include_top=False, weights='imagenet')\n",
    "incepresnet=tf.keras.applications.InceptionResNetV2(input_shape=size,include_top=False, weights='imagenet')"
   ]
  },
  {
   "cell_type": "code",
   "execution_count": 18,
   "id": "d7e9e547",
   "metadata": {
    "execution": {
     "iopub.execute_input": "2023-04-09T13:56:47.359941Z",
     "iopub.status.busy": "2023-04-09T13:56:47.359580Z",
     "iopub.status.idle": "2023-04-09T13:56:47.364980Z",
     "shell.execute_reply": "2023-04-09T13:56:47.364037Z"
    },
    "papermill": {
     "duration": 0.035467,
     "end_time": "2023-04-09T13:56:47.367195",
     "exception": false,
     "start_time": "2023-04-09T13:56:47.331728",
     "status": "completed"
    },
    "tags": []
   },
   "outputs": [
    {
     "name": "stdout",
     "output_type": "stream",
     "text": [
      "KerasTensor(type_spec=TensorSpec(shape=(None, 12, 12, 1536), dtype=tf.float32, name=None), name='conv_7b_ac/Relu:0', description=\"created by layer 'conv_7b_ac'\")\n"
     ]
    }
   ],
   "source": [
    "# print(xception.output)\n",
    "# print(resnet152.output)\n",
    "# print(mobilenet.output)\n",
    "# print(effecientnet.output)\n",
    "# print(densenet.output)\n",
    "print(incepresnet.output)"
   ]
  },
  {
   "cell_type": "code",
   "execution_count": 19,
   "id": "a80aa499",
   "metadata": {
    "execution": {
     "iopub.execute_input": "2023-04-09T13:56:47.421396Z",
     "iopub.status.busy": "2023-04-09T13:56:47.419737Z",
     "iopub.status.idle": "2023-04-09T13:56:47.460924Z",
     "shell.execute_reply": "2023-04-09T13:56:47.460040Z"
    },
    "papermill": {
     "duration": 0.0697,
     "end_time": "2023-04-09T13:56:47.463069",
     "exception": false,
     "start_time": "2023-04-09T13:56:47.393369",
     "status": "completed"
    },
    "tags": []
   },
   "outputs": [],
   "source": [
    "# name_and_freeze(resnet152,'resnet152_')\n",
    "# name_and_freeze(mobilenet,'mobilenet_')\n",
    "# name_and_freeze(xception,'xception_')\n",
    "# name_and_freeze(effecientnet,'effecientnet_')\n",
    "# name_and_freeze(densenet,'densenet_')\n",
    "name_and_freeze(incepresnet,'incepResnet_')"
   ]
  },
  {
   "cell_type": "code",
   "execution_count": 20,
   "id": "e88cadac",
   "metadata": {
    "execution": {
     "iopub.execute_input": "2023-04-09T13:56:47.515078Z",
     "iopub.status.busy": "2023-04-09T13:56:47.514768Z",
     "iopub.status.idle": "2023-04-09T13:56:47.521201Z",
     "shell.execute_reply": "2023-04-09T13:56:47.520203Z"
    },
    "papermill": {
     "duration": 0.034691,
     "end_time": "2023-04-09T13:56:47.523218",
     "exception": false,
     "start_time": "2023-04-09T13:56:47.488527",
     "status": "completed"
    },
    "tags": []
   },
   "outputs": [],
   "source": [
    "def get_model(base_model):\n",
    "    x = tf.keras.layers.GlobalAveragePooling2D()(se_block(dilation_block(base_model.output,[2,3,5,7])))\n",
    "    x=tf.keras.layers.BatchNormalization(axis=-1, momentum=0.99, epsilon=0.001 )(x)\n",
    "    x = Dense(512, kernel_regularizer = regularizers.l2(l = 0.016),activity_regularizer=regularizers.l1(0.006),\n",
    "                    bias_regularizer=regularizers.l1(0.006) ,activation='relu')(x)\n",
    "    x=Dense(256,activation='relu')(x)\n",
    "    return Dense(128,activation='relu')(x)"
   ]
  },
  {
   "cell_type": "markdown",
   "id": "0056ed9f",
   "metadata": {
    "papermill": {
     "duration": 0.024867,
     "end_time": "2023-04-09T13:56:47.573070",
     "exception": false,
     "start_time": "2023-04-09T13:56:47.548203",
     "status": "completed"
    },
    "tags": []
   },
   "source": [
    "# fine tuning CNN models"
   ]
  },
  {
   "cell_type": "code",
   "execution_count": 21,
   "id": "6f522efb",
   "metadata": {
    "execution": {
     "iopub.execute_input": "2023-04-09T13:56:47.626303Z",
     "iopub.status.busy": "2023-04-09T13:56:47.624721Z",
     "iopub.status.idle": "2023-04-09T13:56:47.783878Z",
     "shell.execute_reply": "2023-04-09T13:56:47.782841Z"
    },
    "papermill": {
     "duration": 0.18791,
     "end_time": "2023-04-09T13:56:47.786546",
     "exception": false,
     "start_time": "2023-04-09T13:56:47.598636",
     "status": "completed"
    },
    "tags": []
   },
   "outputs": [],
   "source": [
    "# x_resnet152v2=get_model(resnet152)\n",
    "# x_xception=get_model(xception)\n",
    "# x_mobilenet=get_model(mobilenet)\n",
    "x_incepresnet=get_model(incepresnet)\n",
    "# x_effecientnet=get_model(effecientnet)\n",
    "# x_densenet=get_model(densenet)"
   ]
  },
  {
   "cell_type": "markdown",
   "id": "9cda54b5",
   "metadata": {
    "papermill": {
     "duration": 0.025207,
     "end_time": "2023-04-09T13:56:47.838992",
     "exception": false,
     "start_time": "2023-04-09T13:56:47.813785",
     "status": "completed"
    },
    "tags": []
   },
   "source": [
    "# constructing full model"
   ]
  },
  {
   "cell_type": "code",
   "execution_count": 22,
   "id": "d9ee8e9e",
   "metadata": {
    "execution": {
     "iopub.execute_input": "2023-04-09T13:56:47.893170Z",
     "iopub.status.busy": "2023-04-09T13:56:47.891436Z",
     "iopub.status.idle": "2023-04-09T13:56:47.952206Z",
     "shell.execute_reply": "2023-04-09T13:56:47.951323Z"
    },
    "papermill": {
     "duration": 0.090029,
     "end_time": "2023-04-09T13:56:47.954340",
     "exception": false,
     "start_time": "2023-04-09T13:56:47.864311",
     "status": "completed"
    },
    "tags": []
   },
   "outputs": [],
   "source": [
    "from tensorflow.keras.layers import concatenate\n",
    "concatenated = concatenate([x_incepresnet, x_vit_big])\n",
    "bigmodel_prediction = Dense(len(train_images.class_indices), activation='softmax')(concatenated)\n",
    "model = Model([incepresnet.input, vit_big.input], bigmodel_prediction) \n",
    "from tensorflow.keras.utils import plot_model"
   ]
  },
  {
   "cell_type": "code",
   "execution_count": 23,
   "id": "5c35fde1",
   "metadata": {
    "execution": {
     "iopub.execute_input": "2023-04-09T13:56:48.007713Z",
     "iopub.status.busy": "2023-04-09T13:56:48.006751Z",
     "iopub.status.idle": "2023-04-09T13:56:48.435059Z",
     "shell.execute_reply": "2023-04-09T13:56:48.433975Z"
    },
    "papermill": {
     "duration": 0.45775,
     "end_time": "2023-04-09T13:56:48.437683",
     "exception": false,
     "start_time": "2023-04-09T13:56:47.979933",
     "status": "completed"
    },
    "tags": []
   },
   "outputs": [
    {
     "name": "stdout",
     "output_type": "stream",
     "text": [
      "trainable parametres: 1937898 non trainable parametres: 141906736\n"
     ]
    }
   ],
   "source": [
    "trainable_params = sum([v.numpy().size for v in model.trainable_variables])\n",
    "non_trainable_params = sum([v.numpy().size for v in model.non_trainable_variables])\n",
    "print(\"trainable parametres: \"+ str(trainable_params) + \" non trainable parametres: \"+ str(non_trainable_params))"
   ]
  },
  {
   "cell_type": "markdown",
   "id": "4932e316",
   "metadata": {
    "papermill": {
     "duration": 0.025093,
     "end_time": "2023-04-09T13:56:48.490016",
     "exception": false,
     "start_time": "2023-04-09T13:56:48.464923",
     "status": "completed"
    },
    "tags": []
   },
   "source": [
    "# custom generator"
   ]
  },
  {
   "cell_type": "code",
   "execution_count": 24,
   "id": "548d2cce",
   "metadata": {
    "execution": {
     "iopub.execute_input": "2023-04-09T13:56:48.542988Z",
     "iopub.status.busy": "2023-04-09T13:56:48.542067Z",
     "iopub.status.idle": "2023-04-09T13:56:48.547702Z",
     "shell.execute_reply": "2023-04-09T13:56:48.546737Z"
    },
    "papermill": {
     "duration": 0.034269,
     "end_time": "2023-04-09T13:56:48.549859",
     "exception": false,
     "start_time": "2023-04-09T13:56:48.515590",
     "status": "completed"
    },
    "tags": []
   },
   "outputs": [],
   "source": [
    "def generator_two_img(gen):\n",
    "    while True:\n",
    "        X1i = gen.next()\n",
    "        yield [X1i[0],X1i[0]], X1i[1]"
   ]
  },
  {
   "cell_type": "markdown",
   "id": "2f9f1bfa",
   "metadata": {
    "papermill": {
     "duration": 0.024962,
     "end_time": "2023-04-09T13:56:48.600218",
     "exception": false,
     "start_time": "2023-04-09T13:56:48.575256",
     "status": "completed"
    },
    "tags": []
   },
   "source": [
    "# training model"
   ]
  },
  {
   "cell_type": "code",
   "execution_count": 25,
   "id": "7fd6105b",
   "metadata": {
    "execution": {
     "iopub.execute_input": "2023-04-09T13:56:48.652481Z",
     "iopub.status.busy": "2023-04-09T13:56:48.651604Z",
     "iopub.status.idle": "2023-04-09T13:56:48.676935Z",
     "shell.execute_reply": "2023-04-09T13:56:48.676015Z"
    },
    "papermill": {
     "duration": 0.053473,
     "end_time": "2023-04-09T13:56:48.678970",
     "exception": false,
     "start_time": "2023-04-09T13:56:48.625497",
     "status": "completed"
    },
    "tags": []
   },
   "outputs": [],
   "source": [
    "model.compile(loss=\"categorical_crossentropy\",optimizer=tf.optimizers.Adam(),metrics=['accuracy'])"
   ]
  },
  {
   "cell_type": "code",
   "execution_count": 26,
   "id": "47f3bb6c",
   "metadata": {
    "execution": {
     "iopub.execute_input": "2023-04-09T13:56:48.738030Z",
     "iopub.status.busy": "2023-04-09T13:56:48.737717Z",
     "iopub.status.idle": "2023-04-09T14:27:35.033679Z",
     "shell.execute_reply": "2023-04-09T14:27:35.032556Z"
    },
    "papermill": {
     "duration": 1846.325316,
     "end_time": "2023-04-09T14:27:35.036447",
     "exception": false,
     "start_time": "2023-04-09T13:56:48.711131",
     "status": "completed"
    },
    "tags": []
   },
   "outputs": [
    {
     "name": "stdout",
     "output_type": "stream",
     "text": [
      "Epoch 1/20\n",
      "23/23 [==============================] - 127s 4s/step - loss: 12.6337 - accuracy: 0.6501 - val_loss: 9.2897 - val_accuracy: 0.6875\n",
      "Epoch 2/20\n",
      "23/23 [==============================] - 90s 4s/step - loss: 6.6247 - accuracy: 0.9040 - val_loss: 5.1200 - val_accuracy: 0.8281\n",
      "Epoch 3/20\n",
      "23/23 [==============================] - 89s 4s/step - loss: 3.4930 - accuracy: 0.9392 - val_loss: 2.8870 - val_accuracy: 0.8672\n",
      "Epoch 4/20\n",
      "23/23 [==============================] - 89s 4s/step - loss: 1.9402 - accuracy: 0.9523 - val_loss: 1.9790 - val_accuracy: 0.8125\n",
      "Epoch 5/20\n",
      "23/23 [==============================] - 90s 4s/step - loss: 1.2033 - accuracy: 0.9593 - val_loss: 1.3685 - val_accuracy: 0.9141\n",
      "Epoch 6/20\n",
      "23/23 [==============================] - 89s 4s/step - loss: 0.8191 - accuracy: 0.9613 - val_loss: 1.1396 - val_accuracy: 0.8750\n",
      "Epoch 7/20\n",
      "23/23 [==============================] - 88s 4s/step - loss: 0.6262 - accuracy: 0.9731 - val_loss: 0.8316 - val_accuracy: 0.9219\n",
      "Epoch 8/20\n",
      "23/23 [==============================] - 89s 4s/step - loss: 0.5294 - accuracy: 0.9655 - val_loss: 0.8614 - val_accuracy: 0.8984\n",
      "Epoch 9/20\n",
      "23/23 [==============================] - 89s 4s/step - loss: 0.4979 - accuracy: 0.9627 - val_loss: 0.7836 - val_accuracy: 0.9219\n",
      "Epoch 10/20\n",
      "23/23 [==============================] - 89s 4s/step - loss: 0.4822 - accuracy: 0.9606 - val_loss: 0.6261 - val_accuracy: 0.9062\n",
      "Epoch 11/20\n",
      "23/23 [==============================] - 91s 4s/step - loss: 0.5017 - accuracy: 0.9496 - val_loss: 0.7368 - val_accuracy: 0.8672\n",
      "Epoch 12/20\n",
      "23/23 [==============================] - 89s 4s/step - loss: 0.5183 - accuracy: 0.9496 - val_loss: 0.7684 - val_accuracy: 0.8516\n",
      "Epoch 13/20\n",
      "23/23 [==============================] - 88s 4s/step - loss: 0.4972 - accuracy: 0.9489 - val_loss: 0.6130 - val_accuracy: 0.9062\n",
      "Epoch 14/20\n",
      "23/23 [==============================] - 89s 4s/step - loss: 0.4382 - accuracy: 0.9627 - val_loss: 0.7364 - val_accuracy: 0.8828\n",
      "Epoch 15/20\n",
      "23/23 [==============================] - 89s 4s/step - loss: 0.3457 - accuracy: 0.9765 - val_loss: 0.6039 - val_accuracy: 0.8750\n",
      "Epoch 16/20\n",
      "23/23 [==============================] - 88s 4s/step - loss: 0.2929 - accuracy: 0.9827 - val_loss: 0.4279 - val_accuracy: 0.9375\n",
      "Epoch 17/20\n",
      "23/23 [==============================] - 88s 4s/step - loss: 0.2583 - accuracy: 0.9834 - val_loss: 0.3770 - val_accuracy: 0.9609\n",
      "Epoch 18/20\n",
      "23/23 [==============================] - 89s 4s/step - loss: 0.2592 - accuracy: 0.9751 - val_loss: 0.4104 - val_accuracy: 0.9062\n",
      "Epoch 19/20\n",
      "23/23 [==============================] - 90s 4s/step - loss: 0.2561 - accuracy: 0.9765 - val_loss: 0.4193 - val_accuracy: 0.9375\n",
      "Epoch 20/20\n",
      "23/23 [==============================] - 89s 4s/step - loss: 0.2451 - accuracy: 0.9834 - val_loss: 0.2572 - val_accuracy: 0.9922\n"
     ]
    }
   ],
   "source": [
    "batch_size=64\n",
    "history = model.fit(\n",
    "    generator_two_img(train_images),\n",
    "    validation_data=generator_two_img(valid_images),\n",
    "    validation_steps=valid_images.n//batch_size,\n",
    "    validation_batch_size=batch_size,\n",
    "    steps_per_epoch=train_images.n//batch_size,\n",
    "    batch_size=batch_size,\n",
    "    epochs=20,\n",
    ")\n"
   ]
  },
  {
   "cell_type": "code",
   "execution_count": 27,
   "id": "78649cec",
   "metadata": {
    "execution": {
     "iopub.execute_input": "2023-04-09T14:27:35.144854Z",
     "iopub.status.busy": "2023-04-09T14:27:35.143821Z",
     "iopub.status.idle": "2023-04-09T14:27:37.090344Z",
     "shell.execute_reply": "2023-04-09T14:27:37.088803Z"
    },
    "papermill": {
     "duration": 2.00352,
     "end_time": "2023-04-09T14:27:37.093013",
     "exception": false,
     "start_time": "2023-04-09T14:27:35.089493",
     "status": "completed"
    },
    "tags": []
   },
   "outputs": [],
   "source": [
    "model.save('1vit1cnniresnet.h5')"
   ]
  },
  {
   "cell_type": "markdown",
   "id": "e3d5142f",
   "metadata": {
    "papermill": {
     "duration": 0.05304,
     "end_time": "2023-04-09T14:27:37.197980",
     "exception": false,
     "start_time": "2023-04-09T14:27:37.144940",
     "status": "completed"
    },
    "tags": []
   },
   "source": [
    "# performance evaluation"
   ]
  },
  {
   "cell_type": "code",
   "execution_count": 28,
   "id": "810c8b66",
   "metadata": {
    "execution": {
     "iopub.execute_input": "2023-04-09T14:27:37.304981Z",
     "iopub.status.busy": "2023-04-09T14:27:37.303969Z",
     "iopub.status.idle": "2023-04-09T14:27:37.708497Z",
     "shell.execute_reply": "2023-04-09T14:27:37.707550Z"
    },
    "papermill": {
     "duration": 0.460669,
     "end_time": "2023-04-09T14:27:37.711227",
     "exception": false,
     "start_time": "2023-04-09T14:27:37.250558",
     "status": "completed"
    },
    "tags": []
   },
   "outputs": [
    {
     "name": "stderr",
     "output_type": "stream",
     "text": [
      "/opt/conda/lib/python3.7/site-packages/ipykernel_launcher.py:10: UserWarning: color is redundantly defined by the 'color' keyword argument and the fmt string \"go-\" (-> color='g'). The keyword argument will take precedence.\n",
      "  # Remove the CWD from sys.path while we load stuff.\n",
      "/opt/conda/lib/python3.7/site-packages/ipykernel_launcher.py:18: UserWarning: color is redundantly defined by the 'color' keyword argument and the fmt string \"g-o\" (-> color='g'). The keyword argument will take precedence.\n"
     ]
    },
    {
     "data": {
      "image/png": "[encoded data removed]",
      "text/plain": [
       "<Figure size 1440x720 with 2 Axes>"
      ]
     },
     "metadata": {
      "needs_background": "light"
     },
     "output_type": "display_data"
    }
   ],
   "source": [
    "epochs = list(range(len(history.history['accuracy'])))\n",
    "fig , ax = plt.subplots(1,2)\n",
    "train_acc = history.history['accuracy']\n",
    "train_loss = history.history['loss']\n",
    "val_acc = history.history['val_accuracy']\n",
    "val_loss = history.history['val_loss']\n",
    "\n",
    "fig.set_size_inches(20,10)\n",
    "\n",
    "ax[0].plot(epochs , train_acc , 'go-' ,color='r', label = 'Training Accuracy')\n",
    "ax[0].plot(epochs , val_acc , 'go-' , label = 'Validation Accuracy')\n",
    "ax[0].set_title('Training Accuracy')\n",
    "ax[0].legend()\n",
    "ax[0].set_xlabel(\"Epochs\")\n",
    "ax[0].set_ylabel(\"Accuracy\")\n",
    "\n",
    "\n",
    "ax[1].plot(epochs , train_loss , 'g-o' ,color='r', label = 'Training Loss')\n",
    "ax[1].plot(epochs , val_loss , 'go-' , label = 'Validation Loss')\n",
    "ax[1].set_title('Training Loss')\n",
    "ax[1].legend()\n",
    "ax[1].set_xlabel(\"Epochs\")\n",
    "ax[1].set_ylabel(\"Training Loss\")\n",
    "plt.show()"
   ]
  },
  {
   "cell_type": "code",
   "execution_count": 29,
   "id": "1914fb2c",
   "metadata": {
    "execution": {
     "iopub.execute_input": "2023-04-09T14:27:37.815004Z",
     "iopub.status.busy": "2023-04-09T14:27:37.814615Z",
     "iopub.status.idle": "2023-04-09T14:27:38.592419Z",
     "shell.execute_reply": "2023-04-09T14:27:38.591288Z"
    },
    "papermill": {
     "duration": 0.8317,
     "end_time": "2023-04-09T14:27:38.594641",
     "exception": false,
     "start_time": "2023-04-09T14:27:37.762941",
     "status": "completed"
    },
    "tags": []
   },
   "outputs": [
    {
     "name": "stdout",
     "output_type": "stream",
     "text": [
      "Found 420 validated image filenames belonging to 21 classes.\n"
     ]
    }
   ],
   "source": [
    "test_generator = tf.keras.preprocessing.image.ImageDataGenerator(\n",
    "    rescale=1./255,\n",
    ")\n",
    "test_images = test_generator.flow_from_dataframe(\n",
    "    dataframe=test_data,\n",
    "    x_col='File',\n",
    "    y_col='class_',\n",
    "    target_size=(SIZE, SIZE),\n",
    "    color_mode='rgb',\n",
    "    class_mode='categorical',\n",
    "    batch_size=batch_size,\n",
    "    shuffle=False\n",
    ")"
   ]
  },
  {
   "cell_type": "code",
   "execution_count": 30,
   "id": "6344ba13",
   "metadata": {
    "execution": {
     "iopub.execute_input": "2023-04-09T14:27:38.700488Z",
     "iopub.status.busy": "2023-04-09T14:27:38.699413Z",
     "iopub.status.idle": "2023-04-09T14:27:38.704792Z",
     "shell.execute_reply": "2023-04-09T14:27:38.703675Z"
    },
    "papermill": {
     "duration": 0.060865,
     "end_time": "2023-04-09T14:27:38.707069",
     "exception": false,
     "start_time": "2023-04-09T14:27:38.646204",
     "status": "completed"
    },
    "tags": []
   },
   "outputs": [],
   "source": [
    "class_=train_images.class_indices.keys()"
   ]
  },
  {
   "cell_type": "code",
   "execution_count": 31,
   "id": "40e380e6",
   "metadata": {
    "execution": {
     "iopub.execute_input": "2023-04-09T14:27:38.811910Z",
     "iopub.status.busy": "2023-04-09T14:27:38.811561Z",
     "iopub.status.idle": "2023-04-09T14:27:38.817292Z",
     "shell.execute_reply": "2023-04-09T14:27:38.816133Z"
    },
    "papermill": {
     "duration": 0.060426,
     "end_time": "2023-04-09T14:27:38.819695",
     "exception": false,
     "start_time": "2023-04-09T14:27:38.759269",
     "status": "completed"
    },
    "tags": []
   },
   "outputs": [],
   "source": [
    "def prediction_generator(test_images):\n",
    "    k=0\n",
    "    for x in test_images:\n",
    "        k+=len(x[1])\n",
    "        yield [x[0],x[0]], x[1]\n",
    "        if(k>=test_images.n):\n",
    "            break"
   ]
  },
  {
   "cell_type": "code",
   "execution_count": 32,
   "id": "5444d033",
   "metadata": {
    "execution": {
     "iopub.execute_input": "2023-04-09T14:27:38.923828Z",
     "iopub.status.busy": "2023-04-09T14:27:38.923524Z",
     "iopub.status.idle": "2023-04-09T14:27:56.134871Z",
     "shell.execute_reply": "2023-04-09T14:27:56.133871Z"
    },
    "papermill": {
     "duration": 17.265193,
     "end_time": "2023-04-09T14:27:56.137125",
     "exception": false,
     "start_time": "2023-04-09T14:27:38.871932",
     "status": "completed"
    },
    "tags": []
   },
   "outputs": [
    {
     "data": {
      "text/plain": [
       "0.9285714285714286"
      ]
     },
     "execution_count": 32,
     "metadata": {},
     "output_type": "execute_result"
    }
   ],
   "source": [
    "from sklearn.metrics import accuracy_score\n",
    "proba=model.predict(prediction_generator(test_images))\n",
    "predicted = np.argmax(proba,axis=1)\n",
    "true=test_images.labels\n",
    "accuracy_score(predicted, true)"
   ]
  },
  {
   "cell_type": "code",
   "execution_count": 33,
   "id": "1e36052f",
   "metadata": {
    "execution": {
     "iopub.execute_input": "2023-04-09T14:27:56.247762Z",
     "iopub.status.busy": "2023-04-09T14:27:56.246668Z",
     "iopub.status.idle": "2023-04-09T14:27:58.772037Z",
     "shell.execute_reply": "2023-04-09T14:27:58.771104Z"
    },
    "papermill": {
     "duration": 2.582405,
     "end_time": "2023-04-09T14:27:58.774222",
     "exception": false,
     "start_time": "2023-04-09T14:27:56.191817",
     "status": "completed"
    },
    "tags": []
   },
   "outputs": [
    {
     "data": {
      "image/png": "[encoded data removed]",
      "text/plain": [
       "<Figure size 1152x1008 with 2 Axes>"
      ]
     },
     "metadata": {
      "needs_background": "light"
     },
     "output_type": "display_data"
    }
   ],
   "source": [
    "from sklearn.metrics import confusion_matrix\n",
    "import seaborn as sns\n",
    "class_=test_images.class_indices.keys()\n",
    "cm = confusion_matrix(true, predicted)\n",
    "fig = plt.figure(figsize=(16, 14))\n",
    "ax= plt.subplot()\n",
    "sns.heatmap(cm, annot=True, ax = ax,cmap=\"BuPu\"); \n",
    "ax.set_xlabel('Predicted', fontsize=20)\n",
    "ax.xaxis.set_label_position('bottom')\n",
    "plt.xticks(rotation=90)\n",
    "ax.xaxis.set_ticklabels(class_, fontsize = 10)\n",
    "ax.xaxis.tick_bottom()\n",
    "\n",
    "ax.set_ylabel('True', fontsize=20)\n",
    "ax.yaxis.set_ticklabels(class_, fontsize = 10)\n",
    "plt.yticks(rotation=0)\n",
    "\n",
    "plt.title('', fontsize=60)\n",
    "\n",
    "plt.savefig('ConMat24.png')\n",
    "plt.show()"
   ]
  },
  {
   "cell_type": "markdown",
   "id": "20aa772d",
   "metadata": {
    "papermill": {
     "duration": 0.052387,
     "end_time": "2023-04-09T14:27:58.879277",
     "exception": false,
     "start_time": "2023-04-09T14:27:58.826890",
     "status": "completed"
    },
    "tags": []
   },
   "source": [
    "# ROC"
   ]
  },
  {
   "cell_type": "code",
   "execution_count": 34,
   "id": "5fd50199",
   "metadata": {
    "execution": {
     "iopub.execute_input": "2023-04-09T14:27:58.987310Z",
     "iopub.status.busy": "2023-04-09T14:27:58.986926Z",
     "iopub.status.idle": "2023-04-09T14:27:59.433952Z",
     "shell.execute_reply": "2023-04-09T14:27:59.433071Z"
    },
    "papermill": {
     "duration": 0.503889,
     "end_time": "2023-04-09T14:27:59.436140",
     "exception": false,
     "start_time": "2023-04-09T14:27:58.932251",
     "status": "completed"
    },
    "tags": []
   },
   "outputs": [
    {
     "data": {
      "image/png": "[encoded data removed]",
      "text/plain": [
       "<Figure size 720x1152 with 1 Axes>"
      ]
     },
     "metadata": {
      "needs_background": "light"
     },
     "output_type": "display_data"
    }
   ],
   "source": [
    "from sklearn.metrics import roc_curve, roc_auc_score\n",
    "from matplotlib import cm\n",
    "n=len(true)\n",
    "dim=max(true)+1\n",
    "result=[]\n",
    "for i in true:\n",
    "    result.append([0 for i in range(dim)])\n",
    "    result[len(result)-1][i]=1\n",
    "    \n",
    "    \n",
    "fpr = dict()\n",
    "tpr = dict()\n",
    "roc_auc = dict()\n",
    "n_classes =len(test_images.class_indices.keys())\n",
    "y_test=np.array(result)\n",
    "y_pred=np.array(proba)\n",
    "fpr = dict()\n",
    "tpr = dict()\n",
    "roc_auc = dict()\n",
    "\n",
    "rev={}\n",
    "for i in class_:\n",
    "    rev[train_images.class_indices[i]]=i\n",
    "\n",
    "\n",
    "for i in range(n_classes):\n",
    "    fpr[i], tpr[i], _ = roc_curve(y_test[:, i], y_pred[:, i])\n",
    "    roc_auc[i] = roc_auc_score(y_test[:, i], y_pred[:, i])\n",
    "\n",
    "\n",
    "fpr[\"micro\"], tpr[\"micro\"], _ = roc_curve(y_test.ravel(), y_pred.ravel())\n",
    "roc_auc[\"micro\"] = roc_auc_score(y_test, y_pred, multi_class='ovr')\n",
    "\n",
    "\n",
    "cmap = cm.get_cmap('tab10')\n",
    "\n",
    "# Plot the ROC curve for each class and micro-average with automatic color selection\n",
    "plt.figure(figsize=(10,16))\n",
    "lw = 2\n",
    "for i in range(n_classes):\n",
    "    color = cmap(i)\n",
    "    plt.plot(fpr[i], tpr[i], color=color, lw=lw,\n",
    "             label='ROC curve of class {0} (area = {1:0.2f})'\n",
    "             ''.format(rev[i], roc_auc[i]))\n",
    "\n",
    "plt.plot(fpr[\"micro\"], tpr[\"micro\"],\n",
    "         label='micro-average ROC curve (area = {0:0.2f})'\n",
    "         ''.format(roc_auc[\"micro\"]),\n",
    "         color=cmap(n_classes), linestyle=':', linewidth=4)\n",
    "\n",
    "plt.plot([0, 1], [0, 1], 'k--', lw=lw)\n",
    "plt.xlim([0.0, 1.0])\n",
    "plt.ylim([0.0, 1.05])\n",
    "plt.xlabel('False Positive Rate')\n",
    "plt.ylabel('True Positive Rate')\n",
    "plt.title('ROC Curve')\n",
    "plt.legend(loc=\"lower right\")\n",
    "plt.show()\n"
   ]
  },
  {
   "cell_type": "markdown",
   "id": "83b6c5c3",
   "metadata": {
    "papermill": {
     "duration": 0.053063,
     "end_time": "2023-04-09T14:27:59.543825",
     "exception": false,
     "start_time": "2023-04-09T14:27:59.490762",
     "status": "completed"
    },
    "tags": []
   },
   "source": [
    "# AUC"
   ]
  },
  {
   "cell_type": "code",
   "execution_count": 35,
   "id": "99f6923b",
   "metadata": {
    "execution": {
     "iopub.execute_input": "2023-04-09T14:27:59.651237Z",
     "iopub.status.busy": "2023-04-09T14:27:59.650553Z",
     "iopub.status.idle": "2023-04-09T14:27:59.843088Z",
     "shell.execute_reply": "2023-04-09T14:27:59.842059Z"
    },
    "papermill": {
     "duration": 0.248887,
     "end_time": "2023-04-09T14:27:59.845226",
     "exception": false,
     "start_time": "2023-04-09T14:27:59.596339",
     "status": "completed"
    },
    "tags": []
   },
   "outputs": [
    {
     "data": {
      "image/png": "[encoded data removed]",
      "text/plain": [
       "<Figure size 432x288 with 1 Axes>"
      ]
     },
     "metadata": {
      "needs_background": "light"
     },
     "output_type": "display_data"
    }
   ],
   "source": [
    "from sklearn.metrics import roc_curve, auc\n",
    "import matplotlib.pyplot as plt\n",
    "\n",
    "y_true=y_test\n",
    "y_score=y_pred\n",
    "fpr, tpr, thresholds = roc_curve(y_test.ravel(), y_pred.ravel())\n",
    "roc_auc = auc(fpr, tpr)\n",
    "\n",
    "plt.figure()\n",
    "lw = 2\n",
    "plt.plot(fpr, tpr, color='darkorange',\n",
    "         lw=lw, label='ROC curve (area = %0.2f)' % roc_auc)\n",
    "plt.plot([0, 1], [0, 1], color='navy', lw=lw, linestyle='--')\n",
    "plt.xlim([0.0, 1.0])\n",
    "plt.ylim([0.0, 1.05])\n",
    "plt.xlabel('False Positive Rate')\n",
    "plt.ylabel('True Positive Rate')\n",
    "plt.title('AUC Curve')\n",
    "plt.legend(loc=\"lower right\")\n",
    "plt.show()"
   ]
  }
 ],
 "metadata": {
  "kernelspec": {
   "display_name": "Python 3",
   "language": "python",
   "name": "python3"
  },
  "language_info": {
   "codemirror_mode": {
    "name": "ipython",
    "version": 3
   },
   "file_extension": ".py",
   "mimetype": "text/x-python",
   "name": "python",
   "nbconvert_exporter": "python",
   "pygments_lexer": "ipython3",
   "version": "3.7.12"
  },
  "papermill": {
   "default_parameters": {},
   "duration": 1938.186464,
   "end_time": "2023-04-09T14:28:03.828759",
   "environment_variables": {},
   "exception": null,
   "input_path": "__notebook__.ipynb",
   "output_path": "__notebook__.ipynb",
   "parameters": {},
   "start_time": "2023-04-09T13:55:45.642295",
   "version": "2.3.4"
  }
 },
 "nbformat": 4,
 "nbformat_minor": 5
}
